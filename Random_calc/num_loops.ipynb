{
 "cells": [
  {
   "cell_type": "code",
   "execution_count": 8,
   "id": "ead7dab7",
   "metadata": {},
   "outputs": [
    {
     "name": "stdout",
     "output_type": "stream",
     "text": [
      "      loops =2940      time_loop =61740      time =17.15      \n"
     ]
    }
   ],
   "source": [
    "nc = 1\n",
    "n4 = 3\n",
    "n8 = 2\n",
    "train_mask = 7\n",
    "test_mask = 7\n",
    "skips = 2 \n",
    "k = 5\n",
    "\n",
    "mean_loop = 21\n",
    "hour = 3600\n",
    "loops = nc * n4 * n8 * train_mask * test_mask * skips * k\n",
    "time_loop = loops * mean_loop\n",
    "time = time_loop / hour\n",
    "\n",
    "print(f'      {loops =}      {time_loop =}      {time =}      ')"
   ]
  }
 ],
 "metadata": {
  "kernelspec": {
   "display_name": "Experiments",
   "language": "python",
   "name": "python3"
  },
  "language_info": {
   "codemirror_mode": {
    "name": "ipython",
    "version": 3
   },
   "file_extension": ".py",
   "mimetype": "text/x-python",
   "name": "python",
   "nbconvert_exporter": "python",
   "pygments_lexer": "ipython3",
   "version": "3.10.16"
  }
 },
 "nbformat": 4,
 "nbformat_minor": 5
}
