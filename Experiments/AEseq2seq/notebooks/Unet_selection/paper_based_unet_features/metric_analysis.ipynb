{
 "cells": [
  {
   "cell_type": "code",
   "execution_count": 2,
   "metadata": {},
   "outputs": [],
   "source": [
    "import pandas as pd\n",
    "import matplotlib.pyplot as plt\n",
    "import seaborn as sns"
   ]
  },
  {
   "cell_type": "code",
   "execution_count": 3,
   "metadata": {},
   "outputs": [
    {
     "name": "stdout",
     "output_type": "stream",
     "text": [
      "(80, 20)\n",
      "Index(['run_name', 'test_file', 'arc_num_params', 'arc_features',\n",
      "       'arc_encoder_blocks', 'arc_latent_volume', 'arc_skip', 'arc_num_conv',\n",
      "       'train_loss', 'valid_loss', 'test_loss', 'valid_F1', 'train_F1',\n",
      "       'test_F1', 'train_Accuracy', 'valid_Accuracy', 'test_Accuracy',\n",
      "       'train_Accuracy_seq', 'valid_Accuracy_seq', 'test_Accuracy_seq'],\n",
      "      dtype='object')\n"
     ]
    },
    {
     "data": {
      "text/html": [
       "<div>\n",
       "<style scoped>\n",
       "    .dataframe tbody tr th:only-of-type {\n",
       "        vertical-align: middle;\n",
       "    }\n",
       "\n",
       "    .dataframe tbody tr th {\n",
       "        vertical-align: top;\n",
       "    }\n",
       "\n",
       "    .dataframe thead th {\n",
       "        text-align: right;\n",
       "    }\n",
       "</style>\n",
       "<table border=\"1\" class=\"dataframe\">\n",
       "  <thead>\n",
       "    <tr style=\"text-align: right;\">\n",
       "      <th></th>\n",
       "      <th>run_name</th>\n",
       "      <th>test_file</th>\n",
       "      <th>arc_num_params</th>\n",
       "      <th>arc_features</th>\n",
       "      <th>arc_encoder_blocks</th>\n",
       "      <th>arc_latent_volume</th>\n",
       "      <th>arc_skip</th>\n",
       "      <th>arc_num_conv</th>\n",
       "      <th>train_loss</th>\n",
       "      <th>valid_loss</th>\n",
       "      <th>test_loss</th>\n",
       "      <th>valid_F1</th>\n",
       "      <th>train_F1</th>\n",
       "      <th>test_F1</th>\n",
       "      <th>train_Accuracy</th>\n",
       "      <th>valid_Accuracy</th>\n",
       "      <th>test_Accuracy</th>\n",
       "      <th>train_Accuracy_seq</th>\n",
       "      <th>valid_Accuracy_seq</th>\n",
       "      <th>test_Accuracy_seq</th>\n",
       "    </tr>\n",
       "  </thead>\n",
       "  <tbody>\n",
       "    <tr>\n",
       "      <th>6</th>\n",
       "      <td>paper_based_unet_features-n8-4-n16-0-pool-max-...</td>\n",
       "      <td>test_0.csv</td>\n",
       "      <td>3860</td>\n",
       "      <td>[4, 8, 8, 8, 8]</td>\n",
       "      <td>4</td>\n",
       "      <td>64.0</td>\n",
       "      <td>1</td>\n",
       "      <td>2</td>\n",
       "      <td>0.001014</td>\n",
       "      <td>0.000357</td>\n",
       "      <td>0.000197</td>\n",
       "      <td>0.999880</td>\n",
       "      <td>0.999895</td>\n",
       "      <td>0.999924</td>\n",
       "      <td>0.999895</td>\n",
       "      <td>0.999880</td>\n",
       "      <td>0.999924</td>\n",
       "      <td>0.946203</td>\n",
       "      <td>0.938776</td>\n",
       "      <td>0.961207</td>\n",
       "    </tr>\n",
       "    <tr>\n",
       "      <th>23</th>\n",
       "      <td>paper_based_unet_features-n8-2-n16-0-pool-max-...</td>\n",
       "      <td>test_0.csv</td>\n",
       "      <td>1508</td>\n",
       "      <td>[4, 8, 8]</td>\n",
       "      <td>2</td>\n",
       "      <td>256.0</td>\n",
       "      <td>0</td>\n",
       "      <td>2</td>\n",
       "      <td>0.102401</td>\n",
       "      <td>0.099154</td>\n",
       "      <td>0.106160</td>\n",
       "      <td>0.838579</td>\n",
       "      <td>0.835238</td>\n",
       "      <td>0.825114</td>\n",
       "      <td>0.856319</td>\n",
       "      <td>0.861388</td>\n",
       "      <td>0.851394</td>\n",
       "      <td>0.000000</td>\n",
       "      <td>0.000000</td>\n",
       "      <td>0.000000</td>\n",
       "    </tr>\n",
       "  </tbody>\n",
       "</table>\n",
       "</div>"
      ],
      "text/plain": [
       "                                             run_name   test_file  \\\n",
       "6   paper_based_unet_features-n8-4-n16-0-pool-max-...  test_0.csv   \n",
       "23  paper_based_unet_features-n8-2-n16-0-pool-max-...  test_0.csv   \n",
       "\n",
       "    arc_num_params     arc_features  arc_encoder_blocks  arc_latent_volume  \\\n",
       "6             3860  [4, 8, 8, 8, 8]                   4               64.0   \n",
       "23            1508        [4, 8, 8]                   2              256.0   \n",
       "\n",
       "    arc_skip  arc_num_conv  train_loss  valid_loss  test_loss  valid_F1  \\\n",
       "6          1             2    0.001014    0.000357   0.000197  0.999880   \n",
       "23         0             2    0.102401    0.099154   0.106160  0.838579   \n",
       "\n",
       "    train_F1   test_F1  train_Accuracy  valid_Accuracy  test_Accuracy  \\\n",
       "6   0.999895  0.999924        0.999895        0.999880       0.999924   \n",
       "23  0.835238  0.825114        0.856319        0.861388       0.851394   \n",
       "\n",
       "    train_Accuracy_seq  valid_Accuracy_seq  test_Accuracy_seq  \n",
       "6             0.946203            0.938776           0.961207  \n",
       "23            0.000000            0.000000           0.000000  "
      ]
     },
     "execution_count": 3,
     "metadata": {},
     "output_type": "execute_result"
    }
   ],
   "source": [
    "df_nc1 = pd.read_csv(\"metrics_nc1.csv\")\n",
    "df_nc2 = pd.read_csv(\"metrics_nc2.csv\")\n",
    "df = pd.concat([df_nc1, df_nc2])\n",
    "\n",
    "\n",
    "print(df.shape)\n",
    "print(df.columns)\n",
    "df.sample(2)"
   ]
  },
  {
   "cell_type": "code",
   "execution_count": 4,
   "metadata": {},
   "outputs": [
    {
     "data": {
      "application/vnd.plotly.v1+json": {
       "config": {
        "plotlyServerURL": "https://plot.ly"
       },
       "data": [
        {
         "customdata": [
          [
           "test_0.csv",
           5708,
           "[4, 8, 8, 8, 8, 16, 16, 16]",
           16,
           0,
           1
          ],
          [
           "test_0.csv",
           4076,
           "[4, 8, 8, 8, 8, 16, 16]",
           32,
           0,
           1
          ],
          [
           "test_0.csv",
           2444,
           "[4, 8, 8, 8, 8, 16]",
           64,
           0,
           1
          ],
          [
           "test_0.csv",
           1604,
           "[4, 8, 8, 8, 8]",
           64,
           0,
           1
          ],
          [
           "test_0.csv",
           5276,
           "[4, 8, 8, 8, 16, 16, 16]",
           32,
           0,
           1
          ],
          [
           "test_0.csv",
           3644,
           "[4, 8, 8, 8, 16, 16]",
           64,
           0,
           1
          ],
          [
           "test_0.csv",
           2012,
           "[4, 8, 8, 8, 16]",
           128,
           0,
           1
          ],
          [
           "test_0.csv",
           1172,
           "[4, 8, 8, 8]",
           128,
           0,
           1
          ],
          [
           "test_0.csv",
           4844,
           "[4, 8, 8, 16, 16, 16]",
           64,
           0,
           1
          ],
          [
           "test_0.csv",
           3212,
           "[4, 8, 8, 16, 16]",
           128,
           0,
           1
          ],
          [
           "test_0.csv",
           1580,
           "[4, 8, 8, 16]",
           256,
           0,
           1
          ],
          [
           "test_0.csv",
           740,
           "[4, 8, 8]",
           256,
           0,
           1
          ],
          [
           "test_0.csv",
           4412,
           "[4, 8, 16, 16, 16]",
           128,
           0,
           1
          ],
          [
           "test_0.csv",
           2780,
           "[4, 8, 16, 16]",
           256,
           0,
           1
          ],
          [
           "test_0.csv",
           1148,
           "[4, 8, 16]",
           512,
           0,
           1
          ],
          [
           "test_0.csv",
           308,
           "[4, 8]",
           512,
           0,
           1
          ],
          [
           "test_0.csv",
           3788,
           "[4, 16, 16, 16]",
           256,
           0,
           1
          ],
          [
           "test_0.csv",
           2156,
           "[4, 16, 16]",
           512,
           0,
           1
          ],
          [
           "test_0.csv",
           524,
           "[4, 16]",
           1024,
           0,
           1
          ],
          [
           "test_0.csv",
           80,
           "[4]",
           512,
           0,
           1
          ],
          [
           "test_0.csv",
           11636,
           "[4, 8, 8, 8, 8, 16, 16, 16]",
           16,
           0,
           2
          ],
          [
           "test_0.csv",
           8372,
           "[4, 8, 8, 8, 8, 16, 16]",
           32,
           0,
           2
          ],
          [
           "test_0.csv",
           5108,
           "[4, 8, 8, 8, 8, 16]",
           64,
           0,
           2
          ],
          [
           "test_0.csv",
           3236,
           "[4, 8, 8, 8, 8]",
           64,
           0,
           2
          ],
          [
           "test_0.csv",
           10772,
           "[4, 8, 8, 8, 16, 16, 16]",
           32,
           0,
           2
          ],
          [
           "test_0.csv",
           7508,
           "[4, 8, 8, 8, 16, 16]",
           64,
           0,
           2
          ],
          [
           "test_0.csv",
           4244,
           "[4, 8, 8, 8, 16]",
           128,
           0,
           2
          ],
          [
           "test_0.csv",
           2372,
           "[4, 8, 8, 8]",
           128,
           0,
           2
          ],
          [
           "test_0.csv",
           9908,
           "[4, 8, 8, 16, 16, 16]",
           64,
           0,
           2
          ],
          [
           "test_0.csv",
           6644,
           "[4, 8, 8, 16, 16]",
           128,
           0,
           2
          ],
          [
           "test_0.csv",
           3380,
           "[4, 8, 8, 16]",
           256,
           0,
           2
          ],
          [
           "test_0.csv",
           1508,
           "[4, 8, 8]",
           256,
           0,
           2
          ],
          [
           "test_0.csv",
           9044,
           "[4, 8, 16, 16, 16]",
           128,
           0,
           2
          ],
          [
           "test_0.csv",
           5780,
           "[4, 8, 16, 16]",
           256,
           0,
           2
          ],
          [
           "test_0.csv",
           2516,
           "[4, 8, 16]",
           512,
           0,
           2
          ],
          [
           "test_0.csv",
           644,
           "[4, 8]",
           512,
           0,
           2
          ],
          [
           "test_0.csv",
           7988,
           "[4, 16, 16, 16]",
           256,
           0,
           2
          ],
          [
           "test_0.csv",
           4724,
           "[4, 16, 16]",
           512,
           0,
           2
          ],
          [
           "test_0.csv",
           1460,
           "[4, 16]",
           1024,
           0,
           2
          ],
          [
           "test_0.csv",
           140,
           "[4]",
           512,
           0,
           2
          ]
         ],
         "hovertemplate": "arc_encoder_blocks=%{x}<br>test_Accuracy=%{y}<br>test_file=%{customdata[0]}<br>arc_num_params=%{customdata[1]}<br>arc_features=%{customdata[2]}<br>arc_latent_volume=%{marker.color}<br>arc_skip=%{customdata[4]}<br>arc_num_conv=%{customdata[5]}<extra></extra>",
         "legendgroup": "",
         "marker": {
          "color": [
           16,
           32,
           64,
           64,
           32,
           64,
           128,
           128,
           64,
           128,
           256,
           256,
           128,
           256,
           512,
           512,
           256,
           512,
           1024,
           512,
           16,
           32,
           64,
           64,
           32,
           64,
           128,
           128,
           64,
           128,
           256,
           256,
           128,
           256,
           512,
           512,
           256,
           512,
           1024,
           512
          ],
          "coloraxis": "coloraxis",
          "symbol": "circle"
         },
         "mode": "markers",
         "name": "",
         "orientation": "v",
         "showlegend": false,
         "type": "scatter",
         "x": [
          7,
          6,
          5,
          4,
          6,
          5,
          4,
          3,
          5,
          4,
          3,
          2,
          4,
          3,
          2,
          1,
          3,
          2,
          1,
          0,
          7,
          6,
          5,
          4,
          6,
          5,
          4,
          3,
          5,
          4,
          3,
          2,
          4,
          3,
          2,
          1,
          3,
          2,
          1,
          0
         ],
         "xaxis": "x",
         "y": [
          0.8015978582974138,
          0.8081475619612069,
          0.8057229929956896,
          0.8008317618534483,
          0.8051673626077587,
          0.8056808997844828,
          0.8070783943965517,
          0.8087789601293104,
          0.8096292429956896,
          0.8120874865301724,
          0.815741177262931,
          0.8466712688577587,
          0.8122306034482759,
          0.8234273976293104,
          0.8504680765086207,
          0.9177582839439656,
          0.832275390625,
          0.886297817887931,
          0.9362203663793104,
          1,
          0.8020356276939655,
          0.8049400592672413,
          0.8074909078663793,
          0.8024733970905172,
          0.8114055765086207,
          0.8079370959051724,
          0.8094945447198276,
          0.816473599137931,
          0.8097639412715517,
          0.8175764412715517,
          0.8106899919181034,
          0.8513941271551724,
          0.8169955549568966,
          0.8234021417025862,
          0.8514109644396551,
          0.9383839574353448,
          0.8210870150862069,
          0.8722218480603449,
          0.972925646551724,
          0.9997642780172412
         ],
         "yaxis": "y"
        },
        {
         "customdata": [
          [
           "test_0.csv",
           8060,
           "[4, 8, 8, 8, 8, 16, 16, 16]",
           16,
           1,
           1
          ],
          [
           "test_0.csv",
           5660,
           "[4, 8, 8, 8, 8, 16, 16]",
           32,
           1,
           1
          ],
          [
           "test_0.csv",
           3260,
           "[4, 8, 8, 8, 8, 16]",
           64,
           1,
           1
          ],
          [
           "test_0.csv",
           2228,
           "[4, 8, 8, 8, 8]",
           64,
           1,
           1
          ],
          [
           "test_0.csv",
           7436,
           "[4, 8, 8, 8, 16, 16, 16]",
           32,
           1,
           1
          ],
          [
           "test_0.csv",
           5036,
           "[4, 8, 8, 8, 16, 16]",
           64,
           1,
           1
          ],
          [
           "test_0.csv",
           2636,
           "[4, 8, 8, 8, 16]",
           128,
           1,
           1
          ],
          [
           "test_0.csv",
           1604,
           "[4, 8, 8, 8]",
           128,
           1,
           1
          ],
          [
           "test_0.csv",
           6812,
           "[4, 8, 8, 16, 16, 16]",
           64,
           1,
           1
          ],
          [
           "test_0.csv",
           4412,
           "[4, 8, 8, 16, 16]",
           128,
           1,
           1
          ],
          [
           "test_0.csv",
           2012,
           "[4, 8, 8, 16]",
           256,
           1,
           1
          ],
          [
           "test_0.csv",
           980,
           "[4, 8, 8]",
           256,
           1,
           1
          ],
          [
           "test_0.csv",
           6188,
           "[4, 8, 16, 16, 16]",
           128,
           1,
           1
          ],
          [
           "test_0.csv",
           3788,
           "[4, 8, 16, 16]",
           256,
           1,
           1
          ],
          [
           "test_0.csv",
           1388,
           "[4, 8, 16]",
           512,
           1,
           1
          ],
          [
           "test_0.csv",
           356,
           "[4, 8]",
           512,
           1,
           1
          ],
          [
           "test_0.csv",
           5372,
           "[4, 16, 16, 16]",
           256,
           1,
           1
          ],
          [
           "test_0.csv",
           2972,
           "[4, 16, 16]",
           512,
           1,
           1
          ],
          [
           "test_0.csv",
           572,
           "[4, 16]",
           1024,
           1,
           1
          ],
          [
           "test_0.csv",
           80,
           "[4]",
           512,
           1,
           1
          ],
          [
           "test_0.csv",
           13988,
           "[4, 8, 8, 8, 8, 16, 16, 16]",
           16,
           1,
           2
          ],
          [
           "test_0.csv",
           9956,
           "[4, 8, 8, 8, 8, 16, 16]",
           32,
           1,
           2
          ],
          [
           "test_0.csv",
           5924,
           "[4, 8, 8, 8, 8, 16]",
           64,
           1,
           2
          ],
          [
           "test_0.csv",
           3860,
           "[4, 8, 8, 8, 8]",
           64,
           1,
           2
          ],
          [
           "test_0.csv",
           12932,
           "[4, 8, 8, 8, 16, 16, 16]",
           32,
           1,
           2
          ],
          [
           "test_0.csv",
           8900,
           "[4, 8, 8, 8, 16, 16]",
           64,
           1,
           2
          ],
          [
           "test_0.csv",
           4868,
           "[4, 8, 8, 8, 16]",
           128,
           1,
           2
          ],
          [
           "test_0.csv",
           2804,
           "[4, 8, 8, 8]",
           128,
           1,
           2
          ],
          [
           "test_0.csv",
           11876,
           "[4, 8, 8, 16, 16, 16]",
           64,
           1,
           2
          ],
          [
           "test_0.csv",
           7844,
           "[4, 8, 8, 16, 16]",
           128,
           1,
           2
          ],
          [
           "test_0.csv",
           3812,
           "[4, 8, 8, 16]",
           256,
           1,
           2
          ],
          [
           "test_0.csv",
           1748,
           "[4, 8, 8]",
           256,
           1,
           2
          ],
          [
           "test_0.csv",
           10820,
           "[4, 8, 16, 16, 16]",
           128,
           1,
           2
          ],
          [
           "test_0.csv",
           6788,
           "[4, 8, 16, 16]",
           256,
           1,
           2
          ],
          [
           "test_0.csv",
           2756,
           "[4, 8, 16]",
           512,
           1,
           2
          ],
          [
           "test_0.csv",
           692,
           "[4, 8]",
           512,
           1,
           2
          ],
          [
           "test_0.csv",
           9572,
           "[4, 16, 16, 16]",
           256,
           1,
           2
          ],
          [
           "test_0.csv",
           5540,
           "[4, 16, 16]",
           512,
           1,
           2
          ],
          [
           "test_0.csv",
           1508,
           "[4, 16]",
           1024,
           1,
           2
          ],
          [
           "test_0.csv",
           140,
           "[4]",
           512,
           1,
           2
          ]
         ],
         "hovertemplate": "arc_encoder_blocks=%{x}<br>test_Accuracy=%{y}<br>test_file=%{customdata[0]}<br>arc_num_params=%{customdata[1]}<br>arc_features=%{customdata[2]}<br>arc_latent_volume=%{marker.color}<br>arc_skip=%{customdata[4]}<br>arc_num_conv=%{customdata[5]}<extra></extra>",
         "legendgroup": "",
         "marker": {
          "color": [
           16,
           32,
           64,
           64,
           32,
           64,
           128,
           128,
           64,
           128,
           256,
           256,
           128,
           256,
           512,
           512,
           256,
           512,
           1024,
           512,
           16,
           32,
           64,
           64,
           32,
           64,
           128,
           128,
           64,
           128,
           256,
           256,
           128,
           256,
           512,
           512,
           256,
           512,
           1024,
           512
          ],
          "coloraxis": "coloraxis",
          "symbol": "circle"
         },
         "mode": "markers",
         "name": "",
         "orientation": "v",
         "showlegend": false,
         "type": "scatter",
         "x": [
          7,
          6,
          5,
          4,
          6,
          5,
          4,
          3,
          5,
          4,
          3,
          2,
          4,
          3,
          2,
          1,
          3,
          2,
          1,
          0,
          7,
          6,
          5,
          4,
          6,
          5,
          4,
          3,
          5,
          4,
          3,
          2,
          4,
          3,
          2,
          1,
          3,
          2,
          1,
          0
         ],
         "xaxis": "x2",
         "y": [
          1,
          1,
          1,
          1,
          0.9999915813577588,
          1,
          1,
          1,
          0.9999831627155172,
          0.999200228987069,
          1,
          0.9997642780172412,
          1,
          1,
          0.999242322198276,
          1,
          0.9995033001077588,
          1,
          1,
          1,
          0.9999915813577588,
          1,
          1,
          0.9999242322198276,
          0.999242322198276,
          0.9985772494612069,
          0.9991160425646552,
          1,
          1,
          1,
          1,
          1,
          1,
          1,
          0.9998400457974138,
          1,
          1,
          1,
          1,
          0.9997642780172412
         ],
         "yaxis": "y2"
        }
       ],
       "layout": {
        "annotations": [
         {
          "font": {
           "size": 16
          },
          "showarrow": false,
          "text": "arc_skip == 0",
          "x": 0.225,
          "xanchor": "center",
          "xref": "paper",
          "y": 1,
          "yanchor": "bottom",
          "yref": "paper"
         },
         {
          "font": {
           "size": 16
          },
          "showarrow": false,
          "text": "arc_skip == 1",
          "x": 0.775,
          "xanchor": "center",
          "xref": "paper",
          "y": 1,
          "yanchor": "bottom",
          "yref": "paper"
         }
        ],
        "height": 500,
        "legend": {
         "title": {
          "text": "Num Params"
         }
        },
        "showlegend": true,
        "template": {
         "data": {
          "bar": [
           {
            "error_x": {
             "color": "#2a3f5f"
            },
            "error_y": {
             "color": "#2a3f5f"
            },
            "marker": {
             "line": {
              "color": "#E5ECF6",
              "width": 0.5
             },
             "pattern": {
              "fillmode": "overlay",
              "size": 10,
              "solidity": 0.2
             }
            },
            "type": "bar"
           }
          ],
          "barpolar": [
           {
            "marker": {
             "line": {
              "color": "#E5ECF6",
              "width": 0.5
             },
             "pattern": {
              "fillmode": "overlay",
              "size": 10,
              "solidity": 0.2
             }
            },
            "type": "barpolar"
           }
          ],
          "carpet": [
           {
            "aaxis": {
             "endlinecolor": "#2a3f5f",
             "gridcolor": "white",
             "linecolor": "white",
             "minorgridcolor": "white",
             "startlinecolor": "#2a3f5f"
            },
            "baxis": {
             "endlinecolor": "#2a3f5f",
             "gridcolor": "white",
             "linecolor": "white",
             "minorgridcolor": "white",
             "startlinecolor": "#2a3f5f"
            },
            "type": "carpet"
           }
          ],
          "choropleth": [
           {
            "colorbar": {
             "outlinewidth": 0,
             "ticks": ""
            },
            "type": "choropleth"
           }
          ],
          "contour": [
           {
            "colorbar": {
             "outlinewidth": 0,
             "ticks": ""
            },
            "colorscale": [
             [
              0,
              "#0d0887"
             ],
             [
              0.1111111111111111,
              "#46039f"
             ],
             [
              0.2222222222222222,
              "#7201a8"
             ],
             [
              0.3333333333333333,
              "#9c179e"
             ],
             [
              0.4444444444444444,
              "#bd3786"
             ],
             [
              0.5555555555555556,
              "#d8576b"
             ],
             [
              0.6666666666666666,
              "#ed7953"
             ],
             [
              0.7777777777777778,
              "#fb9f3a"
             ],
             [
              0.8888888888888888,
              "#fdca26"
             ],
             [
              1,
              "#f0f921"
             ]
            ],
            "type": "contour"
           }
          ],
          "contourcarpet": [
           {
            "colorbar": {
             "outlinewidth": 0,
             "ticks": ""
            },
            "type": "contourcarpet"
           }
          ],
          "heatmap": [
           {
            "colorbar": {
             "outlinewidth": 0,
             "ticks": ""
            },
            "colorscale": [
             [
              0,
              "#0d0887"
             ],
             [
              0.1111111111111111,
              "#46039f"
             ],
             [
              0.2222222222222222,
              "#7201a8"
             ],
             [
              0.3333333333333333,
              "#9c179e"
             ],
             [
              0.4444444444444444,
              "#bd3786"
             ],
             [
              0.5555555555555556,
              "#d8576b"
             ],
             [
              0.6666666666666666,
              "#ed7953"
             ],
             [
              0.7777777777777778,
              "#fb9f3a"
             ],
             [
              0.8888888888888888,
              "#fdca26"
             ],
             [
              1,
              "#f0f921"
             ]
            ],
            "type": "heatmap"
           }
          ],
          "heatmapgl": [
           {
            "colorbar": {
             "outlinewidth": 0,
             "ticks": ""
            },
            "colorscale": [
             [
              0,
              "#0d0887"
             ],
             [
              0.1111111111111111,
              "#46039f"
             ],
             [
              0.2222222222222222,
              "#7201a8"
             ],
             [
              0.3333333333333333,
              "#9c179e"
             ],
             [
              0.4444444444444444,
              "#bd3786"
             ],
             [
              0.5555555555555556,
              "#d8576b"
             ],
             [
              0.6666666666666666,
              "#ed7953"
             ],
             [
              0.7777777777777778,
              "#fb9f3a"
             ],
             [
              0.8888888888888888,
              "#fdca26"
             ],
             [
              1,
              "#f0f921"
             ]
            ],
            "type": "heatmapgl"
           }
          ],
          "histogram": [
           {
            "marker": {
             "pattern": {
              "fillmode": "overlay",
              "size": 10,
              "solidity": 0.2
             }
            },
            "type": "histogram"
           }
          ],
          "histogram2d": [
           {
            "colorbar": {
             "outlinewidth": 0,
             "ticks": ""
            },
            "colorscale": [
             [
              0,
              "#0d0887"
             ],
             [
              0.1111111111111111,
              "#46039f"
             ],
             [
              0.2222222222222222,
              "#7201a8"
             ],
             [
              0.3333333333333333,
              "#9c179e"
             ],
             [
              0.4444444444444444,
              "#bd3786"
             ],
             [
              0.5555555555555556,
              "#d8576b"
             ],
             [
              0.6666666666666666,
              "#ed7953"
             ],
             [
              0.7777777777777778,
              "#fb9f3a"
             ],
             [
              0.8888888888888888,
              "#fdca26"
             ],
             [
              1,
              "#f0f921"
             ]
            ],
            "type": "histogram2d"
           }
          ],
          "histogram2dcontour": [
           {
            "colorbar": {
             "outlinewidth": 0,
             "ticks": ""
            },
            "colorscale": [
             [
              0,
              "#0d0887"
             ],
             [
              0.1111111111111111,
              "#46039f"
             ],
             [
              0.2222222222222222,
              "#7201a8"
             ],
             [
              0.3333333333333333,
              "#9c179e"
             ],
             [
              0.4444444444444444,
              "#bd3786"
             ],
             [
              0.5555555555555556,
              "#d8576b"
             ],
             [
              0.6666666666666666,
              "#ed7953"
             ],
             [
              0.7777777777777778,
              "#fb9f3a"
             ],
             [
              0.8888888888888888,
              "#fdca26"
             ],
             [
              1,
              "#f0f921"
             ]
            ],
            "type": "histogram2dcontour"
           }
          ],
          "mesh3d": [
           {
            "colorbar": {
             "outlinewidth": 0,
             "ticks": ""
            },
            "type": "mesh3d"
           }
          ],
          "parcoords": [
           {
            "line": {
             "colorbar": {
              "outlinewidth": 0,
              "ticks": ""
             }
            },
            "type": "parcoords"
           }
          ],
          "pie": [
           {
            "automargin": true,
            "type": "pie"
           }
          ],
          "scatter": [
           {
            "fillpattern": {
             "fillmode": "overlay",
             "size": 10,
             "solidity": 0.2
            },
            "type": "scatter"
           }
          ],
          "scatter3d": [
           {
            "line": {
             "colorbar": {
              "outlinewidth": 0,
              "ticks": ""
             }
            },
            "marker": {
             "colorbar": {
              "outlinewidth": 0,
              "ticks": ""
             }
            },
            "type": "scatter3d"
           }
          ],
          "scattercarpet": [
           {
            "marker": {
             "colorbar": {
              "outlinewidth": 0,
              "ticks": ""
             }
            },
            "type": "scattercarpet"
           }
          ],
          "scattergeo": [
           {
            "marker": {
             "colorbar": {
              "outlinewidth": 0,
              "ticks": ""
             }
            },
            "type": "scattergeo"
           }
          ],
          "scattergl": [
           {
            "marker": {
             "colorbar": {
              "outlinewidth": 0,
              "ticks": ""
             }
            },
            "type": "scattergl"
           }
          ],
          "scattermapbox": [
           {
            "marker": {
             "colorbar": {
              "outlinewidth": 0,
              "ticks": ""
             }
            },
            "type": "scattermapbox"
           }
          ],
          "scatterpolar": [
           {
            "marker": {
             "colorbar": {
              "outlinewidth": 0,
              "ticks": ""
             }
            },
            "type": "scatterpolar"
           }
          ],
          "scatterpolargl": [
           {
            "marker": {
             "colorbar": {
              "outlinewidth": 0,
              "ticks": ""
             }
            },
            "type": "scatterpolargl"
           }
          ],
          "scatterternary": [
           {
            "marker": {
             "colorbar": {
              "outlinewidth": 0,
              "ticks": ""
             }
            },
            "type": "scatterternary"
           }
          ],
          "surface": [
           {
            "colorbar": {
             "outlinewidth": 0,
             "ticks": ""
            },
            "colorscale": [
             [
              0,
              "#0d0887"
             ],
             [
              0.1111111111111111,
              "#46039f"
             ],
             [
              0.2222222222222222,
              "#7201a8"
             ],
             [
              0.3333333333333333,
              "#9c179e"
             ],
             [
              0.4444444444444444,
              "#bd3786"
             ],
             [
              0.5555555555555556,
              "#d8576b"
             ],
             [
              0.6666666666666666,
              "#ed7953"
             ],
             [
              0.7777777777777778,
              "#fb9f3a"
             ],
             [
              0.8888888888888888,
              "#fdca26"
             ],
             [
              1,
              "#f0f921"
             ]
            ],
            "type": "surface"
           }
          ],
          "table": [
           {
            "cells": {
             "fill": {
              "color": "#EBF0F8"
             },
             "line": {
              "color": "white"
             }
            },
            "header": {
             "fill": {
              "color": "#C8D4E3"
             },
             "line": {
              "color": "white"
             }
            },
            "type": "table"
           }
          ]
         },
         "layout": {
          "annotationdefaults": {
           "arrowcolor": "#2a3f5f",
           "arrowhead": 0,
           "arrowwidth": 1
          },
          "autotypenumbers": "strict",
          "coloraxis": {
           "colorbar": {
            "outlinewidth": 0,
            "ticks": ""
           }
          },
          "colorscale": {
           "diverging": [
            [
             0,
             "#8e0152"
            ],
            [
             0.1,
             "#c51b7d"
            ],
            [
             0.2,
             "#de77ae"
            ],
            [
             0.3,
             "#f1b6da"
            ],
            [
             0.4,
             "#fde0ef"
            ],
            [
             0.5,
             "#f7f7f7"
            ],
            [
             0.6,
             "#e6f5d0"
            ],
            [
             0.7,
             "#b8e186"
            ],
            [
             0.8,
             "#7fbc41"
            ],
            [
             0.9,
             "#4d9221"
            ],
            [
             1,
             "#276419"
            ]
           ],
           "sequential": [
            [
             0,
             "#0d0887"
            ],
            [
             0.1111111111111111,
             "#46039f"
            ],
            [
             0.2222222222222222,
             "#7201a8"
            ],
            [
             0.3333333333333333,
             "#9c179e"
            ],
            [
             0.4444444444444444,
             "#bd3786"
            ],
            [
             0.5555555555555556,
             "#d8576b"
            ],
            [
             0.6666666666666666,
             "#ed7953"
            ],
            [
             0.7777777777777778,
             "#fb9f3a"
            ],
            [
             0.8888888888888888,
             "#fdca26"
            ],
            [
             1,
             "#f0f921"
            ]
           ],
           "sequentialminus": [
            [
             0,
             "#0d0887"
            ],
            [
             0.1111111111111111,
             "#46039f"
            ],
            [
             0.2222222222222222,
             "#7201a8"
            ],
            [
             0.3333333333333333,
             "#9c179e"
            ],
            [
             0.4444444444444444,
             "#bd3786"
            ],
            [
             0.5555555555555556,
             "#d8576b"
            ],
            [
             0.6666666666666666,
             "#ed7953"
            ],
            [
             0.7777777777777778,
             "#fb9f3a"
            ],
            [
             0.8888888888888888,
             "#fdca26"
            ],
            [
             1,
             "#f0f921"
            ]
           ]
          },
          "colorway": [
           "#636efa",
           "#EF553B",
           "#00cc96",
           "#ab63fa",
           "#FFA15A",
           "#19d3f3",
           "#FF6692",
           "#B6E880",
           "#FF97FF",
           "#FECB52"
          ],
          "font": {
           "color": "#2a3f5f"
          },
          "geo": {
           "bgcolor": "white",
           "lakecolor": "white",
           "landcolor": "#E5ECF6",
           "showlakes": true,
           "showland": true,
           "subunitcolor": "white"
          },
          "hoverlabel": {
           "align": "left"
          },
          "hovermode": "closest",
          "mapbox": {
           "style": "light"
          },
          "paper_bgcolor": "white",
          "plot_bgcolor": "#E5ECF6",
          "polar": {
           "angularaxis": {
            "gridcolor": "white",
            "linecolor": "white",
            "ticks": ""
           },
           "bgcolor": "#E5ECF6",
           "radialaxis": {
            "gridcolor": "white",
            "linecolor": "white",
            "ticks": ""
           }
          },
          "scene": {
           "xaxis": {
            "backgroundcolor": "#E5ECF6",
            "gridcolor": "white",
            "gridwidth": 2,
            "linecolor": "white",
            "showbackground": true,
            "ticks": "",
            "zerolinecolor": "white"
           },
           "yaxis": {
            "backgroundcolor": "#E5ECF6",
            "gridcolor": "white",
            "gridwidth": 2,
            "linecolor": "white",
            "showbackground": true,
            "ticks": "",
            "zerolinecolor": "white"
           },
           "zaxis": {
            "backgroundcolor": "#E5ECF6",
            "gridcolor": "white",
            "gridwidth": 2,
            "linecolor": "white",
            "showbackground": true,
            "ticks": "",
            "zerolinecolor": "white"
           }
          },
          "shapedefaults": {
           "line": {
            "color": "#2a3f5f"
           }
          },
          "ternary": {
           "aaxis": {
            "gridcolor": "white",
            "linecolor": "white",
            "ticks": ""
           },
           "baxis": {
            "gridcolor": "white",
            "linecolor": "white",
            "ticks": ""
           },
           "bgcolor": "#E5ECF6",
           "caxis": {
            "gridcolor": "white",
            "linecolor": "white",
            "ticks": ""
           }
          },
          "title": {
           "x": 0.05
          },
          "xaxis": {
           "automargin": true,
           "gridcolor": "white",
           "linecolor": "white",
           "ticks": "",
           "title": {
            "standoff": 15
           },
           "zerolinecolor": "white",
           "zerolinewidth": 2
          },
          "yaxis": {
           "automargin": true,
           "gridcolor": "white",
           "linecolor": "white",
           "ticks": "",
           "title": {
            "standoff": 15
           },
           "zerolinecolor": "white",
           "zerolinewidth": 2
          }
         }
        },
        "width": 900,
        "xaxis": {
         "anchor": "y",
         "domain": [
          0,
          0.45
         ]
        },
        "xaxis2": {
         "anchor": "y2",
         "domain": [
          0.55,
          1
         ]
        },
        "yaxis": {
         "anchor": "x",
         "domain": [
          0,
          1
         ]
        },
        "yaxis2": {
         "anchor": "x2",
         "domain": [
          0,
          1
         ]
        }
       }
      }
     },
     "metadata": {},
     "output_type": "display_data"
    }
   ],
   "source": [
    "import plotly.express as px\n",
    "import pandas as pd\n",
    "\n",
    "from plotly.subplots import make_subplots\n",
    "import plotly.graph_objects as go\n",
    "\n",
    "\n",
    "hue = \"arc_latent_volume\"\n",
    "xplot = \"arc_encoder_blocks\"\n",
    "yplot = \"test_Accuracy\"\n",
    "\n",
    "extra_info = [\n",
    "    \"test_file\",\n",
    "    \"arc_num_params\",\n",
    "    \"arc_features\",\n",
    "    \"arc_encoder_blocks\",\n",
    "    \"arc_latent_volume\",\n",
    "    \"arc_skip\",\n",
    "    \"arc_num_conv\",\n",
    "]\n",
    "\n",
    "df0 = df.query(\"arc_skip == 0\")\n",
    "df1 = df.query(\"arc_skip == 1\")\n",
    "\n",
    "fig0 = px.scatter(\n",
    "    df0, x=xplot, y=yplot, color=hue, title=\"No skip\", hover_data=extra_info\n",
    ")\n",
    "fig1 = px.scatter(df1, x=xplot, y=yplot, color=hue, title=\"Skip\", hover_data=extra_info)\n",
    "\n",
    "fig0.update_layout(showlegend=False)  # Oculta la leyenda en el primer gráfico\n",
    "\n",
    "fig = make_subplots(rows=1, cols=2, subplot_titles=[\"arc_skip == 0\", \"arc_skip == 1\"])\n",
    "\n",
    "for trace in fig0.data:\n",
    "    fig.add_trace(trace, row=1, col=1)\n",
    "\n",
    "for trace in fig1.data:\n",
    "    fig.add_trace(trace, row=1, col=2)\n",
    "\n",
    "fig.update_layout(width=900, height=500, legend_title=\"Num Params\", showlegend=True)\n",
    "\n",
    "fig.show()"
   ]
  },
  {
   "cell_type": "code",
   "execution_count": 15,
   "metadata": {},
   "outputs": [
    {
     "data": {
      "image/png": "[encoded data removed]",
      "text/plain": [
       "<Figure size 1200x600 with 2 Axes>"
      ]
     },
     "metadata": {},
     "output_type": "display_data"
    }
   ],
   "source": [
    "import matplotlib.pyplot as plt\n",
    "import seaborn as sns\n",
    "\n",
    "fig, ax = plt.subplots(1, 2, figsize=(12, 6))\n",
    "\n",
    "xplot = \"arc_encoder_blocks\"\n",
    "yplot = \"test_Accuracy\"\n",
    "# hue = \"arc_latent_volume\"\n",
    "# size = \"arc_num_conv\"\n",
    "size = None\n",
    "hue = \"arc_num_conv\"\n",
    "style = None\n",
    "extra_info = [\n",
    "    \"test_file\",\n",
    "    \"arc_num_params\",\n",
    "    \"arc_features\",\n",
    "    \"arc_encoder_blocks\",\n",
    "    \"arc_latent_volume\",\n",
    "    \"arc_num_conv\",\n",
    "    \"arc_skip\",\n",
    "]\n",
    "\n",
    "df0 = df.query(\"arc_skip == 0\")\n",
    "df1 = df.query(\"arc_skip == 1\")\n",
    "\n",
    "sns.scatterplot(\n",
    "    data=df0, x=xplot, y=yplot, hue=hue, style=style, ax=ax[0], size=size, legend=False\n",
    ")\n",
    "sns.scatterplot(data=df1, x=xplot, y=yplot, hue=hue, style=style, size=size, ax=ax[1])\n",
    "\n",
    "for a in ax:\n",
    "    a.grid()\n",
    "    a.set_xlabel(a.get_xlabel(), fontsize=14)\n",
    "    a.set_ylabel(a.get_ylabel(), fontsize=14)\n",
    "    a.tick_params(axis=\"both\", which=\"major\", labelsize=12)\n",
    "\n",
    "ax[1].legend(\n",
    "    bbox_to_anchor=(1.01, 1),\n",
    "    loc=2,\n",
    "    borderaxespad=0.0,\n",
    "    fontsize=12,\n",
    "    title_fontsize=14,\n",
    ")\n",
    "fig.suptitle(\"Test Accuracy vs # Params\", fontsize=16)\n",
    "ax[0].set_title(\"No skip\", fontsize=14)\n",
    "ax[1].set_title(\"Skip\", fontsize=14)\n",
    "\n",
    "fig.tight_layout()\n",
    "plt.show()"
   ]
  },
  {
   "cell_type": "code",
   "execution_count": 6,
   "metadata": {},
   "outputs": [
    {
     "data": {
      "text/html": [
       "<div>\n",
       "<style scoped>\n",
       "    .dataframe tbody tr th:only-of-type {\n",
       "        vertical-align: middle;\n",
       "    }\n",
       "\n",
       "    .dataframe tbody tr th {\n",
       "        vertical-align: top;\n",
       "    }\n",
       "\n",
       "    .dataframe thead th {\n",
       "        text-align: right;\n",
       "    }\n",
       "</style>\n",
       "<table border=\"1\" class=\"dataframe\">\n",
       "  <thead>\n",
       "    <tr style=\"text-align: right;\">\n",
       "      <th></th>\n",
       "      <th>run_name</th>\n",
       "      <th>test_file</th>\n",
       "      <th>arc_num_params</th>\n",
       "      <th>arc_features</th>\n",
       "      <th>arc_encoder_blocks</th>\n",
       "      <th>arc_latent_volume</th>\n",
       "      <th>arc_skip</th>\n",
       "      <th>arc_num_conv</th>\n",
       "      <th>train_loss</th>\n",
       "      <th>valid_loss</th>\n",
       "      <th>test_loss</th>\n",
       "      <th>valid_F1</th>\n",
       "      <th>train_F1</th>\n",
       "      <th>test_F1</th>\n",
       "      <th>train_Accuracy</th>\n",
       "      <th>valid_Accuracy</th>\n",
       "      <th>test_Accuracy</th>\n",
       "      <th>train_Accuracy_seq</th>\n",
       "      <th>valid_Accuracy_seq</th>\n",
       "      <th>test_Accuracy_seq</th>\n",
       "    </tr>\n",
       "  </thead>\n",
       "  <tbody>\n",
       "    <tr>\n",
       "      <th>36</th>\n",
       "      <td>paper_based_unet_features-n8-0-n16-1-pool-max-...</td>\n",
       "      <td>test_0.csv</td>\n",
       "      <td>572</td>\n",
       "      <td>[4, 16]</td>\n",
       "      <td>1</td>\n",
       "      <td>1024.0</td>\n",
       "      <td>1</td>\n",
       "      <td>1</td>\n",
       "      <td>0.001046</td>\n",
       "      <td>0.000372</td>\n",
       "      <td>0.000217</td>\n",
       "      <td>1.000000</td>\n",
       "      <td>0.999996</td>\n",
       "      <td>1.000000</td>\n",
       "      <td>0.999996</td>\n",
       "      <td>1.000000</td>\n",
       "      <td>1.000000</td>\n",
       "      <td>0.997890</td>\n",
       "      <td>1.0</td>\n",
       "      <td>1.00000</td>\n",
       "    </tr>\n",
       "    <tr>\n",
       "      <th>37</th>\n",
       "      <td>paper_based_unet_features-n8-0-n16-1-pool-max-...</td>\n",
       "      <td>test_0.csv</td>\n",
       "      <td>524</td>\n",
       "      <td>[4, 16]</td>\n",
       "      <td>1</td>\n",
       "      <td>1024.0</td>\n",
       "      <td>0</td>\n",
       "      <td>1</td>\n",
       "      <td>0.050898</td>\n",
       "      <td>0.047711</td>\n",
       "      <td>0.048645</td>\n",
       "      <td>0.937847</td>\n",
       "      <td>0.933415</td>\n",
       "      <td>0.935927</td>\n",
       "      <td>0.933535</td>\n",
       "      <td>0.937679</td>\n",
       "      <td>0.936220</td>\n",
       "      <td>0.000000</td>\n",
       "      <td>0.0</td>\n",
       "      <td>0.00000</td>\n",
       "    </tr>\n",
       "    <tr>\n",
       "      <th>36</th>\n",
       "      <td>paper_based_unet_features-n8-0-n16-1-pool-max-...</td>\n",
       "      <td>test_0.csv</td>\n",
       "      <td>1508</td>\n",
       "      <td>[4, 16]</td>\n",
       "      <td>1</td>\n",
       "      <td>1024.0</td>\n",
       "      <td>1</td>\n",
       "      <td>2</td>\n",
       "      <td>0.000509</td>\n",
       "      <td>0.000060</td>\n",
       "      <td>0.000047</td>\n",
       "      <td>1.000000</td>\n",
       "      <td>0.999996</td>\n",
       "      <td>1.000000</td>\n",
       "      <td>0.999996</td>\n",
       "      <td>1.000000</td>\n",
       "      <td>1.000000</td>\n",
       "      <td>0.997890</td>\n",
       "      <td>1.0</td>\n",
       "      <td>1.00000</td>\n",
       "    </tr>\n",
       "    <tr>\n",
       "      <th>37</th>\n",
       "      <td>paper_based_unet_features-n8-0-n16-1-pool-max-...</td>\n",
       "      <td>test_0.csv</td>\n",
       "      <td>1460</td>\n",
       "      <td>[4, 16]</td>\n",
       "      <td>1</td>\n",
       "      <td>1024.0</td>\n",
       "      <td>0</td>\n",
       "      <td>2</td>\n",
       "      <td>0.023104</td>\n",
       "      <td>0.022995</td>\n",
       "      <td>0.025494</td>\n",
       "      <td>0.974640</td>\n",
       "      <td>0.976037</td>\n",
       "      <td>0.972747</td>\n",
       "      <td>0.976179</td>\n",
       "      <td>0.974849</td>\n",
       "      <td>0.972926</td>\n",
       "      <td>0.004747</td>\n",
       "      <td>0.0</td>\n",
       "      <td>0.00431</td>\n",
       "    </tr>\n",
       "  </tbody>\n",
       "</table>\n",
       "</div>"
      ],
      "text/plain": [
       "                                             run_name   test_file  \\\n",
       "36  paper_based_unet_features-n8-0-n16-1-pool-max-...  test_0.csv   \n",
       "37  paper_based_unet_features-n8-0-n16-1-pool-max-...  test_0.csv   \n",
       "36  paper_based_unet_features-n8-0-n16-1-pool-max-...  test_0.csv   \n",
       "37  paper_based_unet_features-n8-0-n16-1-pool-max-...  test_0.csv   \n",
       "\n",
       "    arc_num_params arc_features  arc_encoder_blocks  arc_latent_volume  \\\n",
       "36             572      [4, 16]                   1             1024.0   \n",
       "37             524      [4, 16]                   1             1024.0   \n",
       "36            1508      [4, 16]                   1             1024.0   \n",
       "37            1460      [4, 16]                   1             1024.0   \n",
       "\n",
       "    arc_skip  arc_num_conv  train_loss  valid_loss  test_loss  valid_F1  \\\n",
       "36         1             1    0.001046    0.000372   0.000217  1.000000   \n",
       "37         0             1    0.050898    0.047711   0.048645  0.937847   \n",
       "36         1             2    0.000509    0.000060   0.000047  1.000000   \n",
       "37         0             2    0.023104    0.022995   0.025494  0.974640   \n",
       "\n",
       "    train_F1   test_F1  train_Accuracy  valid_Accuracy  test_Accuracy  \\\n",
       "36  0.999996  1.000000        0.999996        1.000000       1.000000   \n",
       "37  0.933415  0.935927        0.933535        0.937679       0.936220   \n",
       "36  0.999996  1.000000        0.999996        1.000000       1.000000   \n",
       "37  0.976037  0.972747        0.976179        0.974849       0.972926   \n",
       "\n",
       "    train_Accuracy_seq  valid_Accuracy_seq  test_Accuracy_seq  \n",
       "36            0.997890                 1.0            1.00000  \n",
       "37            0.000000                 0.0            0.00000  \n",
       "36            0.997890                 1.0            1.00000  \n",
       "37            0.004747                 0.0            0.00431  "
      ]
     },
     "execution_count": 6,
     "metadata": {},
     "output_type": "execute_result"
    }
   ],
   "source": [
    "df.query(\"arc_latent_volume == 1024.0\")"
   ]
  },
  {
   "cell_type": "code",
   "execution_count": null,
   "metadata": {},
   "outputs": [
    {
     "data": {
      "text/plain": [
       "Index(['run_name', 'train_file', 'arc_features', 'arc_num_params',\n",
       "       'arc_latent_volume', 'arc_skip', 'train_loss', 'valid_loss',\n",
       "       'test_loss', 'valid_F1', 'train_F1', 'test_F1', 'train_Accuracy',\n",
       "       'valid_Accuracy', 'test_Accuracy', 'train_Accuracy_seq',\n",
       "       'valid_Accuracy_seq', 'test_Accuracy_seq'],\n",
       "      dtype='object')"
      ]
     },
     "execution_count": 19,
     "metadata": {},
     "output_type": "execute_result"
    }
   ],
   "source": [
    "df.columns"
   ]
  },
  {
   "cell_type": "code",
   "execution_count": 16,
   "metadata": {},
   "outputs": [
    {
     "data": {
      "image/png": "[encoded data removed]",
      "text/plain": [
       "<Figure size 1200x600 with 2 Axes>"
      ]
     },
     "metadata": {},
     "output_type": "display_data"
    }
   ],
   "source": [
    "import matplotlib.pyplot as plt\n",
    "import seaborn as sns\n",
    "\n",
    "fig, ax = plt.subplots(1, 2, figsize=(12, 6))\n",
    "\n",
    "xplot = \"arc_encoder_blocks\"\n",
    "yplot = \"test_Accuracy\"\n",
    "# hue = \"arc_latent_volume\"\n",
    "# size = \"arc_num_conv\"\n",
    "size = None\n",
    "hue = \"arc_num_conv\"\n",
    "style = None\n",
    "extra_info = [\n",
    "    \"test_file\",\n",
    "    \"arc_num_params\",\n",
    "    \"arc_features\",\n",
    "    \"arc_encoder_blocks\",\n",
    "    \"arc_latent_volume\",\n",
    "    \"arc_num_conv\",\n",
    "    \"arc_skip\",\n",
    "]\n",
    "\n",
    "df0 = df.query(\"arc_skip == 0\")\n",
    "df1 = df.query(\"arc_skip == 1\")\n",
    "\n",
    "sns.boxplot(data=df0, x=xplot, y=yplot, hue=hue, ax=ax[0], legend=False)\n",
    "sns.boxplot(data=df1, x=xplot, y=yplot, hue=hue, ax=ax[1])\n",
    "\n",
    "for a in ax:\n",
    "    a.grid()\n",
    "    a.set_xlabel(a.get_xlabel(), fontsize=14)\n",
    "    a.set_ylabel(a.get_ylabel(), fontsize=14)\n",
    "    a.tick_params(axis=\"both\", which=\"major\", labelsize=12)\n",
    "\n",
    "ax[1].legend(\n",
    "    bbox_to_anchor=(1.01, 1),\n",
    "    loc=2,\n",
    "    borderaxespad=0.0,\n",
    "    fontsize=12,\n",
    "    title_fontsize=14,\n",
    ")\n",
    "fig.suptitle(\"Test Accuracy vs # Params\", fontsize=16)\n",
    "ax[0].set_title(\"No skip\", fontsize=14)\n",
    "ax[1].set_title(\"Skip\", fontsize=14)\n",
    "\n",
    "fig.tight_layout()\n",
    "plt.show()"
   ]
  },
  {
   "cell_type": "code",
   "execution_count": 35,
   "metadata": {},
   "outputs": [
    {
     "name": "stderr",
     "output_type": "stream",
     "text": [
      "/tmp/ipykernel_873760/1253617345.py:38: UserWarning:\n",
      "\n",
      "set_ticklabels() should only be used with a fixed number of ticks, i.e. after set_ticks() or using a FixedLocator.\n",
      "\n",
      "/tmp/ipykernel_873760/1253617345.py:38: UserWarning:\n",
      "\n",
      "set_ticklabels() should only be used with a fixed number of ticks, i.e. after set_ticks() or using a FixedLocator.\n",
      "\n"
     ]
    },
    {
     "data": {
      "image/png": "[encoded data removed]",
      "text/plain": [
       "<Figure size 1200x600 with 2 Axes>"
      ]
     },
     "metadata": {},
     "output_type": "display_data"
    }
   ],
   "source": [
    "import matplotlib.pyplot as plt\n",
    "import seaborn as sns\n",
    "\n",
    "fig, ax = plt.subplots(1, 2, figsize=(12, 6), sharey=True)\n",
    "\n",
    "yplot = \"arc_features\"\n",
    "xplot = \"test_Accuracy\"\n",
    "hue = \"arc_num_conv\"\n",
    "# size = \"arc_num_conv\"\n",
    "extra_info = [\n",
    "    \"test_file\",\n",
    "    \"arc_num_params\",\n",
    "    \"arc_features\",\n",
    "    \"arc_encoder_blocks\",\n",
    "    \"arc_latent_volume\",\n",
    "    \"arc_num_conv\",\n",
    "    \"arc_skip\",\n",
    "]\n",
    "\n",
    "df0 = df.query(\"arc_skip == 0\")\n",
    "df1 = df.query(\"arc_skip == 1\")\n",
    "\n",
    "sns.scatterplot(\n",
    "    data=df0.sort_values(by=\"test_Accuracy\", ascending=False),\n",
    "    x=xplot,\n",
    "    y=yplot,\n",
    "    hue=hue,\n",
    "    ax=ax[0],\n",
    "    legend=False,\n",
    ")\n",
    "sns.scatterplot(data=df1, x=xplot, y=yplot, hue=hue, ax=ax[1])\n",
    "\n",
    "for a in ax:\n",
    "    a.grid()\n",
    "    a.set_xlabel(a.get_xlabel(), fontsize=14)\n",
    "    a.set_ylabel(a.get_ylabel(), fontsize=14)\n",
    "    a.tick_params(axis=\"both\", which=\"major\", labelsize=12)\n",
    "    a.set_xticklabels(a.get_xticklabels(), rotation=45)\n",
    "\n",
    "ax[1].legend(\n",
    "    bbox_to_anchor=(1.01, 1),\n",
    "    loc=2,\n",
    "    borderaxespad=0.0,\n",
    "    fontsize=12,\n",
    "    title_fontsize=14,\n",
    ")\n",
    "fig.suptitle(\"Features vs Test Accuracy\", fontsize=16)\n",
    "ax[0].set_title(\"No skip\", fontsize=14)\n",
    "ax[1].set_title(\"Skip\", fontsize=14)\n",
    "\n",
    "fig.tight_layout()\n",
    "plt.show()"
   ]
  },
  {
   "cell_type": "code",
   "execution_count": 40,
   "metadata": {},
   "outputs": [
    {
     "name": "stderr",
     "output_type": "stream",
     "text": [
      "/tmp/ipykernel_873760/3115665747.py:38: UserWarning:\n",
      "\n",
      "set_ticklabels() should only be used with a fixed number of ticks, i.e. after set_ticks() or using a FixedLocator.\n",
      "\n",
      "/tmp/ipykernel_873760/3115665747.py:38: UserWarning:\n",
      "\n",
      "set_ticklabels() should only be used with a fixed number of ticks, i.e. after set_ticks() or using a FixedLocator.\n",
      "\n"
     ]
    },
    {
     "data": {
      "image/png": "[encoded data removed]",
      "text/plain": [
       "<Figure size 1600x600 with 2 Axes>"
      ]
     },
     "metadata": {},
     "output_type": "display_data"
    }
   ],
   "source": [
    "import matplotlib.pyplot as plt\n",
    "import seaborn as sns\n",
    "\n",
    "fig, ax = plt.subplots(1, 2, figsize=(16, 6))\n",
    "\n",
    "xplot = \"arc_latent_volume\"\n",
    "yplot = \"test_Accuracy\"\n",
    "hue = \"arc_num_conv\"\n",
    "# size = \"arc_num_conv\"\n",
    "extra_info = [\n",
    "    \"test_file\",\n",
    "    \"arc_num_params\",\n",
    "    \"arc_features\",\n",
    "    \"arc_encoder_blocks\",\n",
    "    \"arc_latent_volume\",\n",
    "    \"arc_num_conv\",\n",
    "    \"arc_skip\",\n",
    "]\n",
    "\n",
    "df0 = df.query(\"arc_skip == 0\")\n",
    "df1 = df.query(\"arc_skip == 1\")\n",
    "\n",
    "sns.boxplot(\n",
    "    data=df0.sort_values(by=\"test_Accuracy\"),\n",
    "    x=xplot,\n",
    "    y=yplot,\n",
    "    hue=hue,\n",
    "    ax=ax[0],\n",
    "    legend=False,\n",
    ")\n",
    "sns.boxplot(data=df1, x=xplot, y=yplot, hue=hue, ax=ax[1])\n",
    "\n",
    "for a in ax:\n",
    "    a.grid()\n",
    "    a.set_xlabel(a.get_xlabel(), fontsize=14)\n",
    "    a.set_ylabel(a.get_ylabel(), fontsize=14)\n",
    "    a.tick_params(axis=\"both\", which=\"major\", labelsize=12)\n",
    "    a.set_xticklabels(a.get_xticklabels(), rotation=90)\n",
    "\n",
    "ax[1].legend(\n",
    "    bbox_to_anchor=(1.01, 1),\n",
    "    loc=2,\n",
    "    borderaxespad=0.0,\n",
    "    fontsize=12,\n",
    "    title_fontsize=14,\n",
    ")\n",
    "fig.suptitle(\"Test Accuracy vs # Params\", fontsize=16)\n",
    "ax[0].set_title(\"No skip\", fontsize=14)\n",
    "ax[1].set_title(\"Skip\", fontsize=14)\n",
    "\n",
    "fig.tight_layout()\n",
    "plt.show()"
   ]
  },
  {
   "cell_type": "code",
   "execution_count": null,
   "metadata": {},
   "outputs": [],
   "source": []
  }
 ],
 "metadata": {
  "kernelspec": {
   "display_name": "EDA",
   "language": "python",
   "name": "python3"
  },
  "language_info": {
   "codemirror_mode": {
    "name": "ipython",
    "version": 3
   },
   "file_extension": ".py",
   "mimetype": "text/x-python",
   "name": "python",
   "nbconvert_exporter": "python",
   "pygments_lexer": "ipython3",
   "version": "3.11.9"
  }
 },
 "nbformat": 4,
 "nbformat_minor": 2
}
