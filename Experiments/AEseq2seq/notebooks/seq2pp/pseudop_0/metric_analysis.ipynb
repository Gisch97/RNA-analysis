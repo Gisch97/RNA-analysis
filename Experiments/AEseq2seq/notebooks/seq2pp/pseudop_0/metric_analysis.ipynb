{
 "cells": [
  {
   "cell_type": "code",
   "execution_count": 1,
   "metadata": {},
   "outputs": [],
   "source": [
    "import pandas as pd\n",
    "import matplotlib.pyplot as plt\n",
    "\n",
    "import seaborn as sns"
   ]
  },
  {
   "cell_type": "code",
   "execution_count": 2,
   "metadata": {},
   "outputs": [
    {
     "name": "stdout",
     "output_type": "stream",
     "text": [
      "(60, 19)\n",
      "Index(['run_name', 'arc_features', 'arc_encoder_blocks', 'arc_num_params',\n",
      "       'arc_latent_volume', 'arc_num_conv', 'arc_skip', 'train_loss',\n",
      "       'valid_loss', 'test_loss', 'valid_F1', 'train_F1', 'test_F1',\n",
      "       'train_Accuracy', 'valid_Accuracy', 'test_Accuracy',\n",
      "       'train_Accuracy_seq', 'valid_Accuracy_seq', 'test_Accuracy_seq'],\n",
      "      dtype='object')\n"
     ]
    },
    {
     "data": {
      "text/html": [
       "<div>\n",
       "<style scoped>\n",
       "    .dataframe tbody tr th:only-of-type {\n",
       "        vertical-align: middle;\n",
       "    }\n",
       "\n",
       "    .dataframe tbody tr th {\n",
       "        vertical-align: top;\n",
       "    }\n",
       "\n",
       "    .dataframe thead th {\n",
       "        text-align: right;\n",
       "    }\n",
       "</style>\n",
       "<table border=\"1\" class=\"dataframe\">\n",
       "  <thead>\n",
       "    <tr style=\"text-align: right;\">\n",
       "      <th></th>\n",
       "      <th>run_name</th>\n",
       "      <th>arc_features</th>\n",
       "      <th>arc_encoder_blocks</th>\n",
       "      <th>arc_num_params</th>\n",
       "      <th>arc_latent_volume</th>\n",
       "      <th>arc_num_conv</th>\n",
       "      <th>arc_skip</th>\n",
       "      <th>train_loss</th>\n",
       "      <th>valid_loss</th>\n",
       "      <th>test_loss</th>\n",
       "      <th>valid_F1</th>\n",
       "      <th>train_F1</th>\n",
       "      <th>test_F1</th>\n",
       "      <th>train_Accuracy</th>\n",
       "      <th>valid_Accuracy</th>\n",
       "      <th>test_Accuracy</th>\n",
       "      <th>train_Accuracy_seq</th>\n",
       "      <th>valid_Accuracy_seq</th>\n",
       "      <th>test_Accuracy_seq</th>\n",
       "    </tr>\n",
       "  </thead>\n",
       "  <tbody>\n",
       "    <tr>\n",
       "      <th>25</th>\n",
       "      <td>pseudop_baseline_nc1_skip0</td>\n",
       "      <td>[4, 8, 16, 32, 64]</td>\n",
       "      <td>4</td>\n",
       "      <td>16925</td>\n",
       "      <td>512.0</td>\n",
       "      <td>1</td>\n",
       "      <td>0</td>\n",
       "      <td>0.065498</td>\n",
       "      <td>0.144827</td>\n",
       "      <td>0.103052</td>\n",
       "      <td>0.750848</td>\n",
       "      <td>0.901979</td>\n",
       "      <td>0.840445</td>\n",
       "      <td>0.882997</td>\n",
       "      <td>0.732103</td>\n",
       "      <td>0.809972</td>\n",
       "      <td>0.0</td>\n",
       "      <td>0.0</td>\n",
       "      <td>0.0</td>\n",
       "    </tr>\n",
       "    <tr>\n",
       "      <th>43</th>\n",
       "      <td>pseudop_nc_2_n4_0_n8_0_skip0</td>\n",
       "      <td>[4]</td>\n",
       "      <td>0</td>\n",
       "      <td>125</td>\n",
       "      <td>512.0</td>\n",
       "      <td>2</td>\n",
       "      <td>0</td>\n",
       "      <td>0.157223</td>\n",
       "      <td>0.170766</td>\n",
       "      <td>0.170921</td>\n",
       "      <td>0.673847</td>\n",
       "      <td>0.757239</td>\n",
       "      <td>0.688289</td>\n",
       "      <td>0.716411</td>\n",
       "      <td>0.660512</td>\n",
       "      <td>0.652342</td>\n",
       "      <td>0.0</td>\n",
       "      <td>0.0</td>\n",
       "      <td>0.0</td>\n",
       "    </tr>\n",
       "  </tbody>\n",
       "</table>\n",
       "</div>"
      ],
      "text/plain": [
       "                        run_name        arc_features  arc_encoder_blocks  \\\n",
       "25    pseudop_baseline_nc1_skip0  [4, 8, 16, 32, 64]                   4   \n",
       "43  pseudop_nc_2_n4_0_n8_0_skip0                 [4]                   0   \n",
       "\n",
       "    arc_num_params  arc_latent_volume  arc_num_conv  arc_skip  train_loss  \\\n",
       "25           16925              512.0             1         0    0.065498   \n",
       "43             125              512.0             2         0    0.157223   \n",
       "\n",
       "    valid_loss  test_loss  valid_F1  train_F1   test_F1  train_Accuracy  \\\n",
       "25    0.144827   0.103052  0.750848  0.901979  0.840445        0.882997   \n",
       "43    0.170766   0.170921  0.673847  0.757239  0.688289        0.716411   \n",
       "\n",
       "    valid_Accuracy  test_Accuracy  train_Accuracy_seq  valid_Accuracy_seq  \\\n",
       "25        0.732103       0.809972                 0.0                 0.0   \n",
       "43        0.660512       0.652342                 0.0                 0.0   \n",
       "\n",
       "    test_Accuracy_seq  \n",
       "25                0.0  \n",
       "43                0.0  "
      ]
     },
     "execution_count": 2,
     "metadata": {},
     "output_type": "execute_result"
    }
   ],
   "source": [
    "df = pd.read_csv(\"metrics.csv\") \n",
    "\n",
    "\n",
    "print(df.shape)\n",
    "print(df.columns)\n",
    "df.sample(2)"
   ]
  },
  {
   "cell_type": "code",
   "execution_count": 3,
   "metadata": {},
   "outputs": [
    {
     "data": {
      "application/vnd.plotly.v1+json": {
       "config": {
        "plotlyServerURL": "https://plot.ly"
       },
       "data": [
        {
         "customdata": [
          [
           2837,
           "[4, 4, 4, 8, 8, 8]",
           32,
           0
          ],
          [
           2597,
           "[4, 4, 8, 8, 8]",
           64,
           0
          ],
          [
           2357,
           "[4, 8, 8, 8]",
           128,
           0
          ],
          [
           1973,
           "[4, 4, 4, 8, 8]",
           64,
           0
          ],
          [
           1733,
           "[4, 4, 8, 8]",
           128,
           0
          ],
          [
           1493,
           "[4, 8, 8]",
           256,
           0
          ],
          [
           1397,
           "[4, 4, 4, 8, 8, 8]",
           32,
           0
          ],
          [
           1277,
           "[4, 4, 8, 8, 8]",
           64,
           0
          ],
          [
           1157,
           "[4, 8, 8, 8]",
           128,
           0
          ],
          [
           965,
           "[4, 4, 4, 8, 8]",
           64,
           0
          ],
          [
           845,
           "[4, 4, 8, 8]",
           128,
           0
          ],
          [
           725,
           "[4, 8, 8]",
           256,
           0
          ],
          [
           16925,
           "[4, 8, 16, 32, 64]",
           512,
           0
          ],
          [
           37925,
           "[4, 8, 16, 32, 64]",
           512,
           0
          ],
          [
           1349,
           "[4, 4, 4, 4, 8]",
           64,
           0
          ],
          [
           1109,
           "[4, 4, 4, 8]",
           128,
           0
          ],
          [
           869,
           "[4, 4, 8]",
           256,
           0
          ],
          [
           629,
           "[4, 8]",
           512,
           0
          ],
          [
           845,
           "[4, 4, 4, 4]",
           64,
           0
          ],
          [
           605,
           "[4, 4, 4]",
           128,
           0
          ],
          [
           365,
           "[4, 4]",
           256,
           0
          ],
          [
           125,
           "[4]",
           512,
           0
          ],
          [
           653,
           "[4, 4, 4, 4, 8]",
           64,
           0
          ],
          [
           533,
           "[4, 4, 4, 8]",
           128,
           0
          ],
          [
           413,
           "[4, 4, 8]",
           256,
           0
          ],
          [
           293,
           "[4, 8]",
           512,
           0
          ],
          [
           425,
           "[4, 4, 4, 4]",
           64,
           0
          ],
          [
           305,
           "[4, 4, 4]",
           128,
           0
          ],
          [
           185,
           "[4, 4]",
           256,
           0
          ],
          [
           65,
           "[4]",
           512,
           0
          ]
         ],
         "hovertemplate": "arc_encoder_blocks=%{x}<br>test_Accuracy=%{y}<br>arc_num_params=%{customdata[0]}<br>arc_features=%{customdata[1]}<br>arc_latent_volume=%{marker.color}<br>arc_skip=%{customdata[3]}<extra></extra>",
         "legendgroup": "",
         "marker": {
          "color": {
           "bdata": "AAAAAAAAQEAAAAAAAABQQAAAAAAAAGBAAAAAAAAAUEAAAAAAAABgQAAAAAAAAHBAAAAAAAAAQEAAAAAAAABQQAAAAAAAAGBAAAAAAAAAUEAAAAAAAABgQAAAAAAAAHBAAAAAAAAAgEAAAAAAAACAQAAAAAAAAFBAAAAAAAAAYEAAAAAAAABwQAAAAAAAAIBAAAAAAAAAUEAAAAAAAABgQAAAAAAAAHBAAAAAAAAAgEAAAAAAAABQQAAAAAAAAGBAAAAAAAAAcEAAAAAAAACAQAAAAAAAAFBAAAAAAAAAYEAAAAAAAABwQAAAAAAAAIBA",
           "dtype": "f8"
          },
          "coloraxis": "coloraxis",
          "symbol": "circle"
         },
         "mode": "markers",
         "name": "",
         "orientation": "v",
         "showlegend": false,
         "type": "scatter",
         "x": {
          "bdata": "BQQDBAMCBQQDBAMCBAQEAwIBAwIBAAQDAgEDAgEA",
          "dtype": "i1"
         },
         "xaxis": "x",
         "y": {
          "bdata": "RZoF7eBy6D+NLY0POwPoPzZaO7bZBOc/5APrJgEF6D/IKbCZrNfjP1wy/f6/COc/YNbOt5ba5z/nWKYdvBTpP+07GRCD7+Y/lMYvc3DN5z8ANRkFtzjlPw1EB4HvgeY/HHjbiEnr6T88/58oFyDrP/WtE+LvnOg/fYK1qSDB5z+CQ+E0A3PmP+BeUVaxPuc/JIMsIZUh5T+M57bz27blP32MUMofS+Y/zRwxcvzf5D/Mau1UAcbnPxy/hUdcTuU/KGrh4uTz5j9gYlpBel/mP2khpblW4eQ/0Ma/2UkB5z+BQBrREcLmP+pW/q8dAOU/",
          "dtype": "f8"
         },
         "yaxis": "y"
        },
        {
         "customdata": [
          [
           3365,
           "[4, 4, 4, 8, 8, 8]",
           32,
           1
          ],
          [
           3077,
           "[4, 4, 8, 8, 8]",
           64,
           1
          ],
          [
           2789,
           "[4, 8, 8, 8]",
           128,
           1
          ],
          [
           2309,
           "[4, 4, 4, 8, 8]",
           64,
           1
          ],
          [
           2021,
           "[4, 4, 8, 8]",
           128,
           1
          ],
          [
           1733,
           "[4, 8, 8]",
           256,
           1
          ],
          [
           1925,
           "[4, 4, 4, 8, 8, 8]",
           32,
           1
          ],
          [
           1757,
           "[4, 4, 8, 8, 8]",
           64,
           1
          ],
          [
           1589,
           "[4, 8, 8, 8]",
           128,
           1
          ],
          [
           1301,
           "[4, 4, 4, 8, 8]",
           64,
           1
          ],
          [
           1133,
           "[4, 4, 8, 8]",
           128,
           1
          ],
          [
           965,
           "[4, 8, 8]",
           256,
           1
          ],
          [
           21005,
           "[4, 8, 16, 32, 64]",
           512,
           1
          ],
          [
           42005,
           "[4, 8, 16, 32, 64]",
           512,
           1
          ],
          [
           1541,
           "[4, 4, 4, 4, 8]",
           64,
           1
          ],
          [
           1253,
           "[4, 4, 4, 8]",
           128,
           1
          ],
          [
           965,
           "[4, 4, 8]",
           256,
           1
          ],
          [
           677,
           "[4, 8]",
           512,
           1
          ],
          [
           989,
           "[4, 4, 4, 4]",
           64,
           1
          ],
          [
           701,
           "[4, 4, 4]",
           128,
           1
          ],
          [
           413,
           "[4, 4]",
           256,
           1
          ],
          [
           125,
           "[4]",
           512,
           1
          ],
          [
           845,
           "[4, 4, 4, 4, 8]",
           64,
           1
          ],
          [
           677,
           "[4, 4, 4, 8]",
           128,
           1
          ],
          [
           509,
           "[4, 4, 8]",
           256,
           1
          ],
          [
           341,
           "[4, 8]",
           512,
           1
          ],
          [
           569,
           "[4, 4, 4, 4]",
           64,
           1
          ],
          [
           401,
           "[4, 4, 4]",
           128,
           1
          ],
          [
           233,
           "[4, 4]",
           256,
           1
          ],
          [
           65,
           "[4]",
           512,
           1
          ]
         ],
         "hovertemplate": "arc_encoder_blocks=%{x}<br>test_Accuracy=%{y}<br>arc_num_params=%{customdata[0]}<br>arc_features=%{customdata[1]}<br>arc_latent_volume=%{marker.color}<br>arc_skip=%{customdata[3]}<extra></extra>",
         "legendgroup": "",
         "marker": {
          "color": {
           "bdata": "AAAAAAAAQEAAAAAAAABQQAAAAAAAAGBAAAAAAAAAUEAAAAAAAABgQAAAAAAAAHBAAAAAAAAAQEAAAAAAAABQQAAAAAAAAGBAAAAAAAAAUEAAAAAAAABgQAAAAAAAAHBAAAAAAAAAgEAAAAAAAACAQAAAAAAAAFBAAAAAAAAAYEAAAAAAAABwQAAAAAAAAIBAAAAAAAAAUEAAAAAAAABgQAAAAAAAAHBAAAAAAAAAgEAAAAAAAABQQAAAAAAAAGBAAAAAAAAAcEAAAAAAAACAQAAAAAAAAFBAAAAAAAAAYEAAAAAAAABwQAAAAAAAAIBA",
           "dtype": "f8"
          },
          "coloraxis": "coloraxis",
          "symbol": "circle"
         },
         "mode": "markers",
         "name": "",
         "orientation": "v",
         "showlegend": false,
         "type": "scatter",
         "x": {
          "bdata": "BQQDBAMCBQQDBAMCBAQEAwIBAwIBAAQDAgEDAgEA",
          "dtype": "i1"
         },
         "xaxis": "x2",
         "y": {
          "bdata": "MgwpfNrI6j/6GiP6xHrqP1ZLnv6CuOg/VEV2YCEv6j+LEa3JkijpPya086cIr+g/EMaviGiv6T9XgP+bmvnpP0c9YHvSveg/16De6Uay6T8NAq8AgCPoPwS8SwMvGOg/axvjFLsi6j9qGvk5T6rpP/GBYqS4suk/cF6EoHgU6T/8nL+ZF4fnP/a7EV5Pyec/yyCATdKK6D9eyn95R0zoPxIXZrC99+Y/zRwxcvzf5D+NTPQKZx7pP43suhDdSec/prWEiOua5z8OUG8JPA3lP2LIyUoBWOg/6/J03WRg5z9sOoIXtibnP+pW/q8dAOU/",
          "dtype": "f8"
         },
         "yaxis": "y2"
        }
       ],
       "layout": {
        "annotations": [
         {
          "font": {
           "size": 16
          },
          "showarrow": false,
          "text": "arc_skip == 0",
          "x": 0.225,
          "xanchor": "center",
          "xref": "paper",
          "y": 1,
          "yanchor": "bottom",
          "yref": "paper"
         },
         {
          "font": {
           "size": 16
          },
          "showarrow": false,
          "text": "arc_skip == 1",
          "x": 0.775,
          "xanchor": "center",
          "xref": "paper",
          "y": 1,
          "yanchor": "bottom",
          "yref": "paper"
         }
        ],
        "height": 500,
        "legend": {
         "title": {
          "text": "Num Params"
         }
        },
        "showlegend": true,
        "template": {
         "data": {
          "bar": [
           {
            "error_x": {
             "color": "#2a3f5f"
            },
            "error_y": {
             "color": "#2a3f5f"
            },
            "marker": {
             "line": {
              "color": "#E5ECF6",
              "width": 0.5
             },
             "pattern": {
              "fillmode": "overlay",
              "size": 10,
              "solidity": 0.2
             }
            },
            "type": "bar"
           }
          ],
          "barpolar": [
           {
            "marker": {
             "line": {
              "color": "#E5ECF6",
              "width": 0.5
             },
             "pattern": {
              "fillmode": "overlay",
              "size": 10,
              "solidity": 0.2
             }
            },
            "type": "barpolar"
           }
          ],
          "carpet": [
           {
            "aaxis": {
             "endlinecolor": "#2a3f5f",
             "gridcolor": "white",
             "linecolor": "white",
             "minorgridcolor": "white",
             "startlinecolor": "#2a3f5f"
            },
            "baxis": {
             "endlinecolor": "#2a3f5f",
             "gridcolor": "white",
             "linecolor": "white",
             "minorgridcolor": "white",
             "startlinecolor": "#2a3f5f"
            },
            "type": "carpet"
           }
          ],
          "choropleth": [
           {
            "colorbar": {
             "outlinewidth": 0,
             "ticks": ""
            },
            "type": "choropleth"
           }
          ],
          "contour": [
           {
            "colorbar": {
             "outlinewidth": 0,
             "ticks": ""
            },
            "colorscale": [
             [
              0,
              "#0d0887"
             ],
             [
              0.1111111111111111,
              "#46039f"
             ],
             [
              0.2222222222222222,
              "#7201a8"
             ],
             [
              0.3333333333333333,
              "#9c179e"
             ],
             [
              0.4444444444444444,
              "#bd3786"
             ],
             [
              0.5555555555555556,
              "#d8576b"
             ],
             [
              0.6666666666666666,
              "#ed7953"
             ],
             [
              0.7777777777777778,
              "#fb9f3a"
             ],
             [
              0.8888888888888888,
              "#fdca26"
             ],
             [
              1,
              "#f0f921"
             ]
            ],
            "type": "contour"
           }
          ],
          "contourcarpet": [
           {
            "colorbar": {
             "outlinewidth": 0,
             "ticks": ""
            },
            "type": "contourcarpet"
           }
          ],
          "heatmap": [
           {
            "colorbar": {
             "outlinewidth": 0,
             "ticks": ""
            },
            "colorscale": [
             [
              0,
              "#0d0887"
             ],
             [
              0.1111111111111111,
              "#46039f"
             ],
             [
              0.2222222222222222,
              "#7201a8"
             ],
             [
              0.3333333333333333,
              "#9c179e"
             ],
             [
              0.4444444444444444,
              "#bd3786"
             ],
             [
              0.5555555555555556,
              "#d8576b"
             ],
             [
              0.6666666666666666,
              "#ed7953"
             ],
             [
              0.7777777777777778,
              "#fb9f3a"
             ],
             [
              0.8888888888888888,
              "#fdca26"
             ],
             [
              1,
              "#f0f921"
             ]
            ],
            "type": "heatmap"
           }
          ],
          "histogram": [
           {
            "marker": {
             "pattern": {
              "fillmode": "overlay",
              "size": 10,
              "solidity": 0.2
             }
            },
            "type": "histogram"
           }
          ],
          "histogram2d": [
           {
            "colorbar": {
             "outlinewidth": 0,
             "ticks": ""
            },
            "colorscale": [
             [
              0,
              "#0d0887"
             ],
             [
              0.1111111111111111,
              "#46039f"
             ],
             [
              0.2222222222222222,
              "#7201a8"
             ],
             [
              0.3333333333333333,
              "#9c179e"
             ],
             [
              0.4444444444444444,
              "#bd3786"
             ],
             [
              0.5555555555555556,
              "#d8576b"
             ],
             [
              0.6666666666666666,
              "#ed7953"
             ],
             [
              0.7777777777777778,
              "#fb9f3a"
             ],
             [
              0.8888888888888888,
              "#fdca26"
             ],
             [
              1,
              "#f0f921"
             ]
            ],
            "type": "histogram2d"
           }
          ],
          "histogram2dcontour": [
           {
            "colorbar": {
             "outlinewidth": 0,
             "ticks": ""
            },
            "colorscale": [
             [
              0,
              "#0d0887"
             ],
             [
              0.1111111111111111,
              "#46039f"
             ],
             [
              0.2222222222222222,
              "#7201a8"
             ],
             [
              0.3333333333333333,
              "#9c179e"
             ],
             [
              0.4444444444444444,
              "#bd3786"
             ],
             [
              0.5555555555555556,
              "#d8576b"
             ],
             [
              0.6666666666666666,
              "#ed7953"
             ],
             [
              0.7777777777777778,
              "#fb9f3a"
             ],
             [
              0.8888888888888888,
              "#fdca26"
             ],
             [
              1,
              "#f0f921"
             ]
            ],
            "type": "histogram2dcontour"
           }
          ],
          "mesh3d": [
           {
            "colorbar": {
             "outlinewidth": 0,
             "ticks": ""
            },
            "type": "mesh3d"
           }
          ],
          "parcoords": [
           {
            "line": {
             "colorbar": {
              "outlinewidth": 0,
              "ticks": ""
             }
            },
            "type": "parcoords"
           }
          ],
          "pie": [
           {
            "automargin": true,
            "type": "pie"
           }
          ],
          "scatter": [
           {
            "fillpattern": {
             "fillmode": "overlay",
             "size": 10,
             "solidity": 0.2
            },
            "type": "scatter"
           }
          ],
          "scatter3d": [
           {
            "line": {
             "colorbar": {
              "outlinewidth": 0,
              "ticks": ""
             }
            },
            "marker": {
             "colorbar": {
              "outlinewidth": 0,
              "ticks": ""
             }
            },
            "type": "scatter3d"
           }
          ],
          "scattercarpet": [
           {
            "marker": {
             "colorbar": {
              "outlinewidth": 0,
              "ticks": ""
             }
            },
            "type": "scattercarpet"
           }
          ],
          "scattergeo": [
           {
            "marker": {
             "colorbar": {
              "outlinewidth": 0,
              "ticks": ""
             }
            },
            "type": "scattergeo"
           }
          ],
          "scattergl": [
           {
            "marker": {
             "colorbar": {
              "outlinewidth": 0,
              "ticks": ""
             }
            },
            "type": "scattergl"
           }
          ],
          "scattermap": [
           {
            "marker": {
             "colorbar": {
              "outlinewidth": 0,
              "ticks": ""
             }
            },
            "type": "scattermap"
           }
          ],
          "scattermapbox": [
           {
            "marker": {
             "colorbar": {
              "outlinewidth": 0,
              "ticks": ""
             }
            },
            "type": "scattermapbox"
           }
          ],
          "scatterpolar": [
           {
            "marker": {
             "colorbar": {
              "outlinewidth": 0,
              "ticks": ""
             }
            },
            "type": "scatterpolar"
           }
          ],
          "scatterpolargl": [
           {
            "marker": {
             "colorbar": {
              "outlinewidth": 0,
              "ticks": ""
             }
            },
            "type": "scatterpolargl"
           }
          ],
          "scatterternary": [
           {
            "marker": {
             "colorbar": {
              "outlinewidth": 0,
              "ticks": ""
             }
            },
            "type": "scatterternary"
           }
          ],
          "surface": [
           {
            "colorbar": {
             "outlinewidth": 0,
             "ticks": ""
            },
            "colorscale": [
             [
              0,
              "#0d0887"
             ],
             [
              0.1111111111111111,
              "#46039f"
             ],
             [
              0.2222222222222222,
              "#7201a8"
             ],
             [
              0.3333333333333333,
              "#9c179e"
             ],
             [
              0.4444444444444444,
              "#bd3786"
             ],
             [
              0.5555555555555556,
              "#d8576b"
             ],
             [
              0.6666666666666666,
              "#ed7953"
             ],
             [
              0.7777777777777778,
              "#fb9f3a"
             ],
             [
              0.8888888888888888,
              "#fdca26"
             ],
             [
              1,
              "#f0f921"
             ]
            ],
            "type": "surface"
           }
          ],
          "table": [
           {
            "cells": {
             "fill": {
              "color": "#EBF0F8"
             },
             "line": {
              "color": "white"
             }
            },
            "header": {
             "fill": {
              "color": "#C8D4E3"
             },
             "line": {
              "color": "white"
             }
            },
            "type": "table"
           }
          ]
         },
         "layout": {
          "annotationdefaults": {
           "arrowcolor": "#2a3f5f",
           "arrowhead": 0,
           "arrowwidth": 1
          },
          "autotypenumbers": "strict",
          "coloraxis": {
           "colorbar": {
            "outlinewidth": 0,
            "ticks": ""
           }
          },
          "colorscale": {
           "diverging": [
            [
             0,
             "#8e0152"
            ],
            [
             0.1,
             "#c51b7d"
            ],
            [
             0.2,
             "#de77ae"
            ],
            [
             0.3,
             "#f1b6da"
            ],
            [
             0.4,
             "#fde0ef"
            ],
            [
             0.5,
             "#f7f7f7"
            ],
            [
             0.6,
             "#e6f5d0"
            ],
            [
             0.7,
             "#b8e186"
            ],
            [
             0.8,
             "#7fbc41"
            ],
            [
             0.9,
             "#4d9221"
            ],
            [
             1,
             "#276419"
            ]
           ],
           "sequential": [
            [
             0,
             "#0d0887"
            ],
            [
             0.1111111111111111,
             "#46039f"
            ],
            [
             0.2222222222222222,
             "#7201a8"
            ],
            [
             0.3333333333333333,
             "#9c179e"
            ],
            [
             0.4444444444444444,
             "#bd3786"
            ],
            [
             0.5555555555555556,
             "#d8576b"
            ],
            [
             0.6666666666666666,
             "#ed7953"
            ],
            [
             0.7777777777777778,
             "#fb9f3a"
            ],
            [
             0.8888888888888888,
             "#fdca26"
            ],
            [
             1,
             "#f0f921"
            ]
           ],
           "sequentialminus": [
            [
             0,
             "#0d0887"
            ],
            [
             0.1111111111111111,
             "#46039f"
            ],
            [
             0.2222222222222222,
             "#7201a8"
            ],
            [
             0.3333333333333333,
             "#9c179e"
            ],
            [
             0.4444444444444444,
             "#bd3786"
            ],
            [
             0.5555555555555556,
             "#d8576b"
            ],
            [
             0.6666666666666666,
             "#ed7953"
            ],
            [
             0.7777777777777778,
             "#fb9f3a"
            ],
            [
             0.8888888888888888,
             "#fdca26"
            ],
            [
             1,
             "#f0f921"
            ]
           ]
          },
          "colorway": [
           "#636efa",
           "#EF553B",
           "#00cc96",
           "#ab63fa",
           "#FFA15A",
           "#19d3f3",
           "#FF6692",
           "#B6E880",
           "#FF97FF",
           "#FECB52"
          ],
          "font": {
           "color": "#2a3f5f"
          },
          "geo": {
           "bgcolor": "white",
           "lakecolor": "white",
           "landcolor": "#E5ECF6",
           "showlakes": true,
           "showland": true,
           "subunitcolor": "white"
          },
          "hoverlabel": {
           "align": "left"
          },
          "hovermode": "closest",
          "mapbox": {
           "style": "light"
          },
          "paper_bgcolor": "white",
          "plot_bgcolor": "#E5ECF6",
          "polar": {
           "angularaxis": {
            "gridcolor": "white",
            "linecolor": "white",
            "ticks": ""
           },
           "bgcolor": "#E5ECF6",
           "radialaxis": {
            "gridcolor": "white",
            "linecolor": "white",
            "ticks": ""
           }
          },
          "scene": {
           "xaxis": {
            "backgroundcolor": "#E5ECF6",
            "gridcolor": "white",
            "gridwidth": 2,
            "linecolor": "white",
            "showbackground": true,
            "ticks": "",
            "zerolinecolor": "white"
           },
           "yaxis": {
            "backgroundcolor": "#E5ECF6",
            "gridcolor": "white",
            "gridwidth": 2,
            "linecolor": "white",
            "showbackground": true,
            "ticks": "",
            "zerolinecolor": "white"
           },
           "zaxis": {
            "backgroundcolor": "#E5ECF6",
            "gridcolor": "white",
            "gridwidth": 2,
            "linecolor": "white",
            "showbackground": true,
            "ticks": "",
            "zerolinecolor": "white"
           }
          },
          "shapedefaults": {
           "line": {
            "color": "#2a3f5f"
           }
          },
          "ternary": {
           "aaxis": {
            "gridcolor": "white",
            "linecolor": "white",
            "ticks": ""
           },
           "baxis": {
            "gridcolor": "white",
            "linecolor": "white",
            "ticks": ""
           },
           "bgcolor": "#E5ECF6",
           "caxis": {
            "gridcolor": "white",
            "linecolor": "white",
            "ticks": ""
           }
          },
          "title": {
           "x": 0.05
          },
          "xaxis": {
           "automargin": true,
           "gridcolor": "white",
           "linecolor": "white",
           "ticks": "",
           "title": {
            "standoff": 15
           },
           "zerolinecolor": "white",
           "zerolinewidth": 2
          },
          "yaxis": {
           "automargin": true,
           "gridcolor": "white",
           "linecolor": "white",
           "ticks": "",
           "title": {
            "standoff": 15
           },
           "zerolinecolor": "white",
           "zerolinewidth": 2
          }
         }
        },
        "width": 900,
        "xaxis": {
         "anchor": "y",
         "domain": [
          0,
          0.45
         ]
        },
        "xaxis2": {
         "anchor": "y2",
         "domain": [
          0.55,
          1
         ]
        },
        "yaxis": {
         "anchor": "x",
         "domain": [
          0,
          1
         ]
        },
        "yaxis2": {
         "anchor": "x2",
         "domain": [
          0,
          1
         ]
        }
       }
      }
     },
     "metadata": {},
     "output_type": "display_data"
    }
   ],
   "source": [
    "import plotly.express as px\n",
    "import pandas as pd\n",
    "\n",
    "from plotly.subplots import make_subplots\n",
    "import plotly.graph_objects as go\n",
    "\n",
    "\n",
    "hue = \"arc_latent_volume\"\n",
    "xplot = \"arc_encoder_blocks\"\n",
    "yplot = \"test_Accuracy\"\n",
    "\n",
    "extra_info = [\n",
    "    \"arc_num_params\",\n",
    "    \"arc_features\",\n",
    "    \"arc_encoder_blocks\",\n",
    "    \"arc_latent_volume\",\n",
    "    \"arc_skip\",\n",
    "]\n",
    "\n",
    "df0 = df.query(\"arc_skip == 0\")\n",
    "df1 = df.query(\"arc_skip == 1\")\n",
    "\n",
    "fig0 = px.scatter(\n",
    "    df0, x=xplot, y=yplot, color=hue, title=\"No skip\", hover_data=extra_info\n",
    ")\n",
    "fig1 = px.scatter(df1, x=xplot, y=yplot, color=hue, title=\"Skip\", hover_data=extra_info)\n",
    "\n",
    "fig0.update_layout(showlegend=False)  # Oculta la leyenda en el primer gráfico\n",
    "\n",
    "fig = make_subplots(rows=1, cols=2, subplot_titles=[\"arc_skip == 0\", \"arc_skip == 1\"])\n",
    "\n",
    "for trace in fig0.data:\n",
    "    fig.add_trace(trace, row=1, col=1)\n",
    "\n",
    "for trace in fig1.data:\n",
    "    fig.add_trace(trace, row=1, col=2)\n",
    "\n",
    "fig.update_layout(width=900, height=500, legend_title=\"Num Params\", showlegend=True)\n",
    "\n",
    "fig.show()"
   ]
  },
  {
   "cell_type": "code",
   "execution_count": 4,
   "metadata": {},
   "outputs": [
    {
     "data": {
      "text/html": [
       "<div>\n",
       "<style scoped>\n",
       "    .dataframe tbody tr th:only-of-type {\n",
       "        vertical-align: middle;\n",
       "    }\n",
       "\n",
       "    .dataframe tbody tr th {\n",
       "        vertical-align: top;\n",
       "    }\n",
       "\n",
       "    .dataframe thead th {\n",
       "        text-align: right;\n",
       "    }\n",
       "</style>\n",
       "<table border=\"1\" class=\"dataframe\">\n",
       "  <thead>\n",
       "    <tr style=\"text-align: right;\">\n",
       "      <th></th>\n",
       "      <th>run_name</th>\n",
       "      <th>arc_features</th>\n",
       "      <th>arc_encoder_blocks</th>\n",
       "      <th>arc_num_params</th>\n",
       "      <th>arc_latent_volume</th>\n",
       "      <th>arc_num_conv</th>\n",
       "      <th>arc_skip</th>\n",
       "      <th>train_loss</th>\n",
       "      <th>valid_loss</th>\n",
       "      <th>test_loss</th>\n",
       "      <th>valid_F1</th>\n",
       "      <th>train_F1</th>\n",
       "      <th>test_F1</th>\n",
       "      <th>train_Accuracy</th>\n",
       "      <th>valid_Accuracy</th>\n",
       "      <th>test_Accuracy</th>\n",
       "      <th>train_Accuracy_seq</th>\n",
       "      <th>valid_Accuracy_seq</th>\n",
       "      <th>test_Accuracy_seq</th>\n",
       "    </tr>\n",
       "  </thead>\n",
       "  <tbody>\n",
       "    <tr>\n",
       "      <th>0</th>\n",
       "      <td>pseudop_nc_2_n4_2_n8_3_skip1</td>\n",
       "      <td>[4, 4, 4, 8, 8, 8]</td>\n",
       "      <td>5</td>\n",
       "      <td>3365</td>\n",
       "      <td>32.0</td>\n",
       "      <td>2</td>\n",
       "      <td>1</td>\n",
       "      <td>0.069459</td>\n",
       "      <td>0.134253</td>\n",
       "      <td>0.097258</td>\n",
       "      <td>0.782064</td>\n",
       "      <td>0.905778</td>\n",
       "      <td>0.854052</td>\n",
       "      <td>0.892329</td>\n",
       "      <td>0.778942</td>\n",
       "      <td>0.837018</td>\n",
       "      <td>0.0</td>\n",
       "      <td>0.0</td>\n",
       "      <td>0.0</td>\n",
       "    </tr>\n",
       "    <tr>\n",
       "      <th>1</th>\n",
       "      <td>pseudop_nc_2_n4_2_n8_3_skip0</td>\n",
       "      <td>[4, 4, 4, 8, 8, 8]</td>\n",
       "      <td>5</td>\n",
       "      <td>2837</td>\n",
       "      <td>32.0</td>\n",
       "      <td>2</td>\n",
       "      <td>0</td>\n",
       "      <td>0.115530</td>\n",
       "      <td>0.166482</td>\n",
       "      <td>0.132903</td>\n",
       "      <td>0.703011</td>\n",
       "      <td>0.834870</td>\n",
       "      <td>0.791122</td>\n",
       "      <td>0.809308</td>\n",
       "      <td>0.689626</td>\n",
       "      <td>0.764023</td>\n",
       "      <td>0.0</td>\n",
       "      <td>0.0</td>\n",
       "      <td>0.0</td>\n",
       "    </tr>\n",
       "    <tr>\n",
       "      <th>2</th>\n",
       "      <td>pseudop_nc_2_n4_1_n8_3_skip1</td>\n",
       "      <td>[4, 4, 8, 8, 8]</td>\n",
       "      <td>4</td>\n",
       "      <td>3077</td>\n",
       "      <td>64.0</td>\n",
       "      <td>2</td>\n",
       "      <td>1</td>\n",
       "      <td>0.067616</td>\n",
       "      <td>0.130532</td>\n",
       "      <td>0.107241</td>\n",
       "      <td>0.780147</td>\n",
       "      <td>0.907849</td>\n",
       "      <td>0.846803</td>\n",
       "      <td>0.895061</td>\n",
       "      <td>0.776407</td>\n",
       "      <td>0.827487</td>\n",
       "      <td>0.0</td>\n",
       "      <td>0.0</td>\n",
       "      <td>0.0</td>\n",
       "    </tr>\n",
       "    <tr>\n",
       "      <th>3</th>\n",
       "      <td>pseudop_nc_2_n4_1_n8_3_skip0</td>\n",
       "      <td>[4, 4, 8, 8, 8]</td>\n",
       "      <td>4</td>\n",
       "      <td>2597</td>\n",
       "      <td>64.0</td>\n",
       "      <td>2</td>\n",
       "      <td>0</td>\n",
       "      <td>0.089217</td>\n",
       "      <td>0.148442</td>\n",
       "      <td>0.128384</td>\n",
       "      <td>0.722358</td>\n",
       "      <td>0.867274</td>\n",
       "      <td>0.787349</td>\n",
       "      <td>0.847348</td>\n",
       "      <td>0.719001</td>\n",
       "      <td>0.750394</td>\n",
       "      <td>0.0</td>\n",
       "      <td>0.0</td>\n",
       "      <td>0.0</td>\n",
       "    </tr>\n",
       "    <tr>\n",
       "      <th>4</th>\n",
       "      <td>pseudop_nc_2_n4_0_n8_3_skip1</td>\n",
       "      <td>[4, 8, 8, 8]</td>\n",
       "      <td>3</td>\n",
       "      <td>2789</td>\n",
       "      <td>128.0</td>\n",
       "      <td>2</td>\n",
       "      <td>1</td>\n",
       "      <td>0.109258</td>\n",
       "      <td>0.185096</td>\n",
       "      <td>0.152056</td>\n",
       "      <td>0.722014</td>\n",
       "      <td>0.882278</td>\n",
       "      <td>0.785474</td>\n",
       "      <td>0.869981</td>\n",
       "      <td>0.722602</td>\n",
       "      <td>0.772523</td>\n",
       "      <td>0.0</td>\n",
       "      <td>0.0</td>\n",
       "      <td>0.0</td>\n",
       "    </tr>\n",
       "    <tr>\n",
       "      <th>5</th>\n",
       "      <td>pseudop_nc_2_n4_0_n8_3_skip0</td>\n",
       "      <td>[4, 8, 8, 8]</td>\n",
       "      <td>3</td>\n",
       "      <td>2357</td>\n",
       "      <td>128.0</td>\n",
       "      <td>2</td>\n",
       "      <td>0</td>\n",
       "      <td>0.104709</td>\n",
       "      <td>0.164641</td>\n",
       "      <td>0.135636</td>\n",
       "      <td>0.689020</td>\n",
       "      <td>0.839752</td>\n",
       "      <td>0.745876</td>\n",
       "      <td>0.815795</td>\n",
       "      <td>0.676482</td>\n",
       "      <td>0.719342</td>\n",
       "      <td>0.0</td>\n",
       "      <td>0.0</td>\n",
       "      <td>0.0</td>\n",
       "    </tr>\n",
       "    <tr>\n",
       "      <th>6</th>\n",
       "      <td>pseudop_nc_2_n4_2_n8_2_skip1</td>\n",
       "      <td>[4, 4, 4, 8, 8]</td>\n",
       "      <td>4</td>\n",
       "      <td>2309</td>\n",
       "      <td>64.0</td>\n",
       "      <td>2</td>\n",
       "      <td>1</td>\n",
       "      <td>0.075142</td>\n",
       "      <td>0.132582</td>\n",
       "      <td>0.106952</td>\n",
       "      <td>0.784020</td>\n",
       "      <td>0.897085</td>\n",
       "      <td>0.838055</td>\n",
       "      <td>0.882701</td>\n",
       "      <td>0.778451</td>\n",
       "      <td>0.818253</td>\n",
       "      <td>0.0</td>\n",
       "      <td>0.0</td>\n",
       "      <td>0.0</td>\n",
       "    </tr>\n",
       "    <tr>\n",
       "      <th>7</th>\n",
       "      <td>pseudop_nc_2_n4_2_n8_2_skip0</td>\n",
       "      <td>[4, 4, 4, 8, 8]</td>\n",
       "      <td>4</td>\n",
       "      <td>1973</td>\n",
       "      <td>64.0</td>\n",
       "      <td>2</td>\n",
       "      <td>0</td>\n",
       "      <td>0.112562</td>\n",
       "      <td>0.159287</td>\n",
       "      <td>0.137723</td>\n",
       "      <td>0.718247</td>\n",
       "      <td>0.839050</td>\n",
       "      <td>0.785691</td>\n",
       "      <td>0.812580</td>\n",
       "      <td>0.699202</td>\n",
       "      <td>0.750611</td>\n",
       "      <td>0.0</td>\n",
       "      <td>0.0</td>\n",
       "      <td>0.0</td>\n",
       "    </tr>\n",
       "    <tr>\n",
       "      <th>8</th>\n",
       "      <td>pseudop_nc_2_n4_1_n8_2_skip1</td>\n",
       "      <td>[4, 4, 8, 8]</td>\n",
       "      <td>3</td>\n",
       "      <td>2021</td>\n",
       "      <td>128.0</td>\n",
       "      <td>2</td>\n",
       "      <td>1</td>\n",
       "      <td>0.083152</td>\n",
       "      <td>0.147333</td>\n",
       "      <td>0.123243</td>\n",
       "      <td>0.753271</td>\n",
       "      <td>0.884549</td>\n",
       "      <td>0.812757</td>\n",
       "      <td>0.866957</td>\n",
       "      <td>0.741780</td>\n",
       "      <td>0.786203</td>\n",
       "      <td>0.0</td>\n",
       "      <td>0.0</td>\n",
       "      <td>0.0</td>\n",
       "    </tr>\n",
       "    <tr>\n",
       "      <th>9</th>\n",
       "      <td>pseudop_nc_2_n4_1_n8_2_skip0</td>\n",
       "      <td>[4, 4, 8, 8]</td>\n",
       "      <td>3</td>\n",
       "      <td>1733</td>\n",
       "      <td>128.0</td>\n",
       "      <td>2</td>\n",
       "      <td>0</td>\n",
       "      <td>0.116346</td>\n",
       "      <td>0.190391</td>\n",
       "      <td>0.201936</td>\n",
       "      <td>0.661258</td>\n",
       "      <td>0.837821</td>\n",
       "      <td>0.649878</td>\n",
       "      <td>0.813801</td>\n",
       "      <td>0.651063</td>\n",
       "      <td>0.620077</td>\n",
       "      <td>0.0</td>\n",
       "      <td>0.0</td>\n",
       "      <td>0.0</td>\n",
       "    </tr>\n",
       "    <tr>\n",
       "      <th>10</th>\n",
       "      <td>pseudop_nc_2_n4_0_n8_2_skip1</td>\n",
       "      <td>[4, 8, 8]</td>\n",
       "      <td>2</td>\n",
       "      <td>1733</td>\n",
       "      <td>256.0</td>\n",
       "      <td>2</td>\n",
       "      <td>1</td>\n",
       "      <td>0.085772</td>\n",
       "      <td>0.153929</td>\n",
       "      <td>0.128147</td>\n",
       "      <td>0.746923</td>\n",
       "      <td>0.880446</td>\n",
       "      <td>0.800817</td>\n",
       "      <td>0.862800</td>\n",
       "      <td>0.735624</td>\n",
       "      <td>0.771366</td>\n",
       "      <td>0.0</td>\n",
       "      <td>0.0</td>\n",
       "      <td>0.0</td>\n",
       "    </tr>\n",
       "    <tr>\n",
       "      <th>11</th>\n",
       "      <td>pseudop_nc_2_n4_0_n8_2_skip0</td>\n",
       "      <td>[4, 8, 8]</td>\n",
       "      <td>2</td>\n",
       "      <td>1493</td>\n",
       "      <td>256.0</td>\n",
       "      <td>2</td>\n",
       "      <td>0</td>\n",
       "      <td>0.110605</td>\n",
       "      <td>0.159149</td>\n",
       "      <td>0.143569</td>\n",
       "      <td>0.708114</td>\n",
       "      <td>0.826949</td>\n",
       "      <td>0.751222</td>\n",
       "      <td>0.801989</td>\n",
       "      <td>0.698262</td>\n",
       "      <td>0.719818</td>\n",
       "      <td>0.0</td>\n",
       "      <td>0.0</td>\n",
       "      <td>0.0</td>\n",
       "    </tr>\n",
       "    <tr>\n",
       "      <th>12</th>\n",
       "      <td>pseudop_nc_1_n4_2_n8_3_skip1</td>\n",
       "      <td>[4, 4, 4, 8, 8, 8]</td>\n",
       "      <td>5</td>\n",
       "      <td>1925</td>\n",
       "      <td>32.0</td>\n",
       "      <td>1</td>\n",
       "      <td>1</td>\n",
       "      <td>0.074812</td>\n",
       "      <td>0.124553</td>\n",
       "      <td>0.113999</td>\n",
       "      <td>0.777741</td>\n",
       "      <td>0.897260</td>\n",
       "      <td>0.826088</td>\n",
       "      <td>0.882155</td>\n",
       "      <td>0.771572</td>\n",
       "      <td>0.802662</td>\n",
       "      <td>0.0</td>\n",
       "      <td>0.0</td>\n",
       "      <td>0.0</td>\n",
       "    </tr>\n",
       "    <tr>\n",
       "      <th>13</th>\n",
       "      <td>pseudop_nc_1_n4_2_n8_3_skip0</td>\n",
       "      <td>[4, 4, 4, 8, 8, 8]</td>\n",
       "      <td>5</td>\n",
       "      <td>1397</td>\n",
       "      <td>32.0</td>\n",
       "      <td>1</td>\n",
       "      <td>0</td>\n",
       "      <td>0.139474</td>\n",
       "      <td>0.169179</td>\n",
       "      <td>0.133936</td>\n",
       "      <td>0.647012</td>\n",
       "      <td>0.754443</td>\n",
       "      <td>0.762790</td>\n",
       "      <td>0.735192</td>\n",
       "      <td>0.653767</td>\n",
       "      <td>0.745433</td>\n",
       "      <td>0.0</td>\n",
       "      <td>0.0</td>\n",
       "      <td>0.0</td>\n",
       "    </tr>\n",
       "    <tr>\n",
       "      <th>14</th>\n",
       "      <td>pseudop_nc_1_n4_1_n8_3_skip1</td>\n",
       "      <td>[4, 4, 8, 8, 8]</td>\n",
       "      <td>4</td>\n",
       "      <td>1757</td>\n",
       "      <td>64.0</td>\n",
       "      <td>1</td>\n",
       "      <td>1</td>\n",
       "      <td>0.081657</td>\n",
       "      <td>0.131046</td>\n",
       "      <td>0.106647</td>\n",
       "      <td>0.766712</td>\n",
       "      <td>0.884655</td>\n",
       "      <td>0.832769</td>\n",
       "      <td>0.867791</td>\n",
       "      <td>0.762045</td>\n",
       "      <td>0.811719</td>\n",
       "      <td>0.0</td>\n",
       "      <td>0.0</td>\n",
       "      <td>0.0</td>\n",
       "    </tr>\n",
       "    <tr>\n",
       "      <th>15</th>\n",
       "      <td>pseudop_nc_1_n4_1_n8_3_skip0</td>\n",
       "      <td>[4, 4, 8, 8, 8]</td>\n",
       "      <td>4</td>\n",
       "      <td>1277</td>\n",
       "      <td>64.0</td>\n",
       "      <td>1</td>\n",
       "      <td>0</td>\n",
       "      <td>0.109042</td>\n",
       "      <td>0.157974</td>\n",
       "      <td>0.120638</td>\n",
       "      <td>0.713044</td>\n",
       "      <td>0.835088</td>\n",
       "      <td>0.813679</td>\n",
       "      <td>0.809055</td>\n",
       "      <td>0.710045</td>\n",
       "      <td>0.783781</td>\n",
       "      <td>0.0</td>\n",
       "      <td>0.0</td>\n",
       "      <td>0.0</td>\n",
       "    </tr>\n",
       "    <tr>\n",
       "      <th>16</th>\n",
       "      <td>pseudop_nc_1_n4_0_n8_3_skip1</td>\n",
       "      <td>[4, 8, 8, 8]</td>\n",
       "      <td>3</td>\n",
       "      <td>1589</td>\n",
       "      <td>128.0</td>\n",
       "      <td>1</td>\n",
       "      <td>1</td>\n",
       "      <td>0.084120</td>\n",
       "      <td>0.149904</td>\n",
       "      <td>0.129912</td>\n",
       "      <td>0.744164</td>\n",
       "      <td>0.882495</td>\n",
       "      <td>0.799618</td>\n",
       "      <td>0.865180</td>\n",
       "      <td>0.735136</td>\n",
       "      <td>0.773172</td>\n",
       "      <td>0.0</td>\n",
       "      <td>0.0</td>\n",
       "      <td>0.0</td>\n",
       "    </tr>\n",
       "    <tr>\n",
       "      <th>17</th>\n",
       "      <td>pseudop_nc_1_n4_0_n8_3_skip0</td>\n",
       "      <td>[4, 8, 8, 8]</td>\n",
       "      <td>3</td>\n",
       "      <td>1157</td>\n",
       "      <td>128.0</td>\n",
       "      <td>1</td>\n",
       "      <td>0</td>\n",
       "      <td>0.116824</td>\n",
       "      <td>0.164053</td>\n",
       "      <td>0.145806</td>\n",
       "      <td>0.692915</td>\n",
       "      <td>0.818786</td>\n",
       "      <td>0.756246</td>\n",
       "      <td>0.787952</td>\n",
       "      <td>0.665609</td>\n",
       "      <td>0.716737</td>\n",
       "      <td>0.0</td>\n",
       "      <td>0.0</td>\n",
       "      <td>0.0</td>\n",
       "    </tr>\n",
       "    <tr>\n",
       "      <th>18</th>\n",
       "      <td>pseudop_nc_1_n4_2_n8_2_skip1</td>\n",
       "      <td>[4, 4, 4, 8, 8]</td>\n",
       "      <td>4</td>\n",
       "      <td>1301</td>\n",
       "      <td>64.0</td>\n",
       "      <td>1</td>\n",
       "      <td>1</td>\n",
       "      <td>0.092047</td>\n",
       "      <td>0.143828</td>\n",
       "      <td>0.114302</td>\n",
       "      <td>0.761228</td>\n",
       "      <td>0.869423</td>\n",
       "      <td>0.826019</td>\n",
       "      <td>0.849645</td>\n",
       "      <td>0.748465</td>\n",
       "      <td>0.803012</td>\n",
       "      <td>0.0</td>\n",
       "      <td>0.0</td>\n",
       "      <td>0.0</td>\n",
       "    </tr>\n",
       "    <tr>\n",
       "      <th>19</th>\n",
       "      <td>pseudop_nc_1_n4_2_n8_2_skip0</td>\n",
       "      <td>[4, 4, 4, 8, 8]</td>\n",
       "      <td>4</td>\n",
       "      <td>965</td>\n",
       "      <td>64.0</td>\n",
       "      <td>1</td>\n",
       "      <td>0</td>\n",
       "      <td>0.124122</td>\n",
       "      <td>0.152851</td>\n",
       "      <td>0.135238</td>\n",
       "      <td>0.706426</td>\n",
       "      <td>0.812121</td>\n",
       "      <td>0.779707</td>\n",
       "      <td>0.777691</td>\n",
       "      <td>0.691523</td>\n",
       "      <td>0.743828</td>\n",
       "      <td>0.0</td>\n",
       "      <td>0.0</td>\n",
       "      <td>0.0</td>\n",
       "    </tr>\n",
       "    <tr>\n",
       "      <th>20</th>\n",
       "      <td>pseudop_nc_1_n4_1_n8_2_skip1</td>\n",
       "      <td>[4, 4, 8, 8]</td>\n",
       "      <td>3</td>\n",
       "      <td>1133</td>\n",
       "      <td>128.0</td>\n",
       "      <td>1</td>\n",
       "      <td>1</td>\n",
       "      <td>0.091885</td>\n",
       "      <td>0.155121</td>\n",
       "      <td>0.136982</td>\n",
       "      <td>0.734305</td>\n",
       "      <td>0.869236</td>\n",
       "      <td>0.779428</td>\n",
       "      <td>0.849714</td>\n",
       "      <td>0.725626</td>\n",
       "      <td>0.754333</td>\n",
       "      <td>0.0</td>\n",
       "      <td>0.0</td>\n",
       "      <td>0.0</td>\n",
       "    </tr>\n",
       "    <tr>\n",
       "      <th>21</th>\n",
       "      <td>pseudop_nc_1_n4_1_n8_2_skip0</td>\n",
       "      <td>[4, 4, 8, 8]</td>\n",
       "      <td>3</td>\n",
       "      <td>845</td>\n",
       "      <td>128.0</td>\n",
       "      <td>1</td>\n",
       "      <td>0</td>\n",
       "      <td>0.132332</td>\n",
       "      <td>0.182968</td>\n",
       "      <td>0.161765</td>\n",
       "      <td>0.651934</td>\n",
       "      <td>0.777675</td>\n",
       "      <td>0.687891</td>\n",
       "      <td>0.749255</td>\n",
       "      <td>0.623871</td>\n",
       "      <td>0.663173</td>\n",
       "      <td>0.0</td>\n",
       "      <td>0.0</td>\n",
       "      <td>0.0</td>\n",
       "    </tr>\n",
       "    <tr>\n",
       "      <th>22</th>\n",
       "      <td>pseudop_nc_1_n4_0_n8_2_skip1</td>\n",
       "      <td>[4, 8, 8]</td>\n",
       "      <td>2</td>\n",
       "      <td>965</td>\n",
       "      <td>256.0</td>\n",
       "      <td>1</td>\n",
       "      <td>1</td>\n",
       "      <td>0.100722</td>\n",
       "      <td>0.148497</td>\n",
       "      <td>0.136237</td>\n",
       "      <td>0.735451</td>\n",
       "      <td>0.864524</td>\n",
       "      <td>0.783060</td>\n",
       "      <td>0.841532</td>\n",
       "      <td>0.718564</td>\n",
       "      <td>0.752952</td>\n",
       "      <td>0.0</td>\n",
       "      <td>0.0</td>\n",
       "      <td>0.0</td>\n",
       "    </tr>\n",
       "    <tr>\n",
       "      <th>23</th>\n",
       "      <td>pseudop_nc_1_n4_0_n8_2_skip0</td>\n",
       "      <td>[4, 8, 8]</td>\n",
       "      <td>2</td>\n",
       "      <td>725</td>\n",
       "      <td>256.0</td>\n",
       "      <td>1</td>\n",
       "      <td>0</td>\n",
       "      <td>0.122953</td>\n",
       "      <td>0.162128</td>\n",
       "      <td>0.161903</td>\n",
       "      <td>0.696663</td>\n",
       "      <td>0.816662</td>\n",
       "      <td>0.737142</td>\n",
       "      <td>0.785288</td>\n",
       "      <td>0.684383</td>\n",
       "      <td>0.703361</td>\n",
       "      <td>0.0</td>\n",
       "      <td>0.0</td>\n",
       "      <td>0.0</td>\n",
       "    </tr>\n",
       "    <tr>\n",
       "      <th>24</th>\n",
       "      <td>pseudop_baseline_nc1_skip1</td>\n",
       "      <td>[4, 8, 16, 32, 64]</td>\n",
       "      <td>4</td>\n",
       "      <td>21005</td>\n",
       "      <td>512.0</td>\n",
       "      <td>1</td>\n",
       "      <td>1</td>\n",
       "      <td>0.035829</td>\n",
       "      <td>0.148649</td>\n",
       "      <td>0.107297</td>\n",
       "      <td>0.770757</td>\n",
       "      <td>0.955780</td>\n",
       "      <td>0.838581</td>\n",
       "      <td>0.949588</td>\n",
       "      <td>0.760644</td>\n",
       "      <td>0.816740</td>\n",
       "      <td>0.0</td>\n",
       "      <td>0.0</td>\n",
       "      <td>0.0</td>\n",
       "    </tr>\n",
       "    <tr>\n",
       "      <th>25</th>\n",
       "      <td>pseudop_baseline_nc1_skip0</td>\n",
       "      <td>[4, 8, 16, 32, 64]</td>\n",
       "      <td>4</td>\n",
       "      <td>16925</td>\n",
       "      <td>512.0</td>\n",
       "      <td>1</td>\n",
       "      <td>0</td>\n",
       "      <td>0.065498</td>\n",
       "      <td>0.144827</td>\n",
       "      <td>0.103052</td>\n",
       "      <td>0.750848</td>\n",
       "      <td>0.901979</td>\n",
       "      <td>0.840445</td>\n",
       "      <td>0.882997</td>\n",
       "      <td>0.732103</td>\n",
       "      <td>0.809972</td>\n",
       "      <td>0.0</td>\n",
       "      <td>0.0</td>\n",
       "      <td>0.0</td>\n",
       "    </tr>\n",
       "    <tr>\n",
       "      <th>26</th>\n",
       "      <td>pseudop_baseline_skip0</td>\n",
       "      <td>[4, 8, 16, 32, 64]</td>\n",
       "      <td>4</td>\n",
       "      <td>37925</td>\n",
       "      <td>512.0</td>\n",
       "      <td>2</td>\n",
       "      <td>0</td>\n",
       "      <td>0.037428</td>\n",
       "      <td>0.146767</td>\n",
       "      <td>0.094325</td>\n",
       "      <td>0.761337</td>\n",
       "      <td>0.950362</td>\n",
       "      <td>0.866501</td>\n",
       "      <td>0.943391</td>\n",
       "      <td>0.750553</td>\n",
       "      <td>0.847667</td>\n",
       "      <td>0.0</td>\n",
       "      <td>0.0</td>\n",
       "      <td>0.0</td>\n",
       "    </tr>\n",
       "    <tr>\n",
       "      <th>27</th>\n",
       "      <td>pseudop_baseline_skip1</td>\n",
       "      <td>[4, 8, 16, 32, 64]</td>\n",
       "      <td>4</td>\n",
       "      <td>42005</td>\n",
       "      <td>512.0</td>\n",
       "      <td>2</td>\n",
       "      <td>1</td>\n",
       "      <td>0.029704</td>\n",
       "      <td>0.132846</td>\n",
       "      <td>0.119006</td>\n",
       "      <td>0.788644</td>\n",
       "      <td>0.962390</td>\n",
       "      <td>0.821333</td>\n",
       "      <td>0.957515</td>\n",
       "      <td>0.788486</td>\n",
       "      <td>0.802040</td>\n",
       "      <td>0.0</td>\n",
       "      <td>0.0</td>\n",
       "      <td>0.0</td>\n",
       "    </tr>\n",
       "    <tr>\n",
       "      <th>28</th>\n",
       "      <td>pseudop_nc_2_n4_3_n8_1_skip1</td>\n",
       "      <td>[4, 4, 4, 4, 8]</td>\n",
       "      <td>4</td>\n",
       "      <td>1541</td>\n",
       "      <td>64.0</td>\n",
       "      <td>2</td>\n",
       "      <td>1</td>\n",
       "      <td>0.085496</td>\n",
       "      <td>0.147072</td>\n",
       "      <td>0.113398</td>\n",
       "      <td>0.754134</td>\n",
       "      <td>0.880091</td>\n",
       "      <td>0.825332</td>\n",
       "      <td>0.863383</td>\n",
       "      <td>0.746415</td>\n",
       "      <td>0.803067</td>\n",
       "      <td>0.0</td>\n",
       "      <td>0.0</td>\n",
       "      <td>0.0</td>\n",
       "    </tr>\n",
       "    <tr>\n",
       "      <th>29</th>\n",
       "      <td>pseudop_nc_2_n4_3_n8_1_skip0</td>\n",
       "      <td>[4, 4, 4, 4, 8]</td>\n",
       "      <td>4</td>\n",
       "      <td>1349</td>\n",
       "      <td>64.0</td>\n",
       "      <td>2</td>\n",
       "      <td>0</td>\n",
       "      <td>0.111417</td>\n",
       "      <td>0.141640</td>\n",
       "      <td>0.127828</td>\n",
       "      <td>0.733566</td>\n",
       "      <td>0.836417</td>\n",
       "      <td>0.802643</td>\n",
       "      <td>0.807260</td>\n",
       "      <td>0.719466</td>\n",
       "      <td>0.769157</td>\n",
       "      <td>0.0</td>\n",
       "      <td>0.0</td>\n",
       "      <td>0.0</td>\n",
       "    </tr>\n",
       "    <tr>\n",
       "      <th>30</th>\n",
       "      <td>pseudop_nc_2_n4_2_n8_1_skip1</td>\n",
       "      <td>[4, 4, 4, 8]</td>\n",
       "      <td>3</td>\n",
       "      <td>1253</td>\n",
       "      <td>128.0</td>\n",
       "      <td>2</td>\n",
       "      <td>1</td>\n",
       "      <td>0.096678</td>\n",
       "      <td>0.144384</td>\n",
       "      <td>0.127436</td>\n",
       "      <td>0.751854</td>\n",
       "      <td>0.870896</td>\n",
       "      <td>0.815810</td>\n",
       "      <td>0.848840</td>\n",
       "      <td>0.732590</td>\n",
       "      <td>0.783749</td>\n",
       "      <td>0.0</td>\n",
       "      <td>0.0</td>\n",
       "      <td>0.0</td>\n",
       "    </tr>\n",
       "    <tr>\n",
       "      <th>31</th>\n",
       "      <td>pseudop_nc_2_n4_2_n8_1_skip0</td>\n",
       "      <td>[4, 4, 4, 8]</td>\n",
       "      <td>3</td>\n",
       "      <td>1109</td>\n",
       "      <td>128.0</td>\n",
       "      <td>2</td>\n",
       "      <td>0</td>\n",
       "      <td>0.125475</td>\n",
       "      <td>0.166314</td>\n",
       "      <td>0.135850</td>\n",
       "      <td>0.682603</td>\n",
       "      <td>0.801452</td>\n",
       "      <td>0.777750</td>\n",
       "      <td>0.770064</td>\n",
       "      <td>0.665017</td>\n",
       "      <td>0.742325</td>\n",
       "      <td>0.0</td>\n",
       "      <td>0.0</td>\n",
       "      <td>0.0</td>\n",
       "    </tr>\n",
       "    <tr>\n",
       "      <th>32</th>\n",
       "      <td>pseudop_nc_2_n4_1_n8_1_skip1</td>\n",
       "      <td>[4, 4, 8]</td>\n",
       "      <td>2</td>\n",
       "      <td>965</td>\n",
       "      <td>256.0</td>\n",
       "      <td>2</td>\n",
       "      <td>1</td>\n",
       "      <td>0.101631</td>\n",
       "      <td>0.158398</td>\n",
       "      <td>0.144170</td>\n",
       "      <td>0.717515</td>\n",
       "      <td>0.854521</td>\n",
       "      <td>0.767065</td>\n",
       "      <td>0.832279</td>\n",
       "      <td>0.701187</td>\n",
       "      <td>0.735241</td>\n",
       "      <td>0.0</td>\n",
       "      <td>0.0</td>\n",
       "      <td>0.0</td>\n",
       "    </tr>\n",
       "    <tr>\n",
       "      <th>33</th>\n",
       "      <td>pseudop_nc_2_n4_1_n8_1_skip0</td>\n",
       "      <td>[4, 4, 8]</td>\n",
       "      <td>2</td>\n",
       "      <td>869</td>\n",
       "      <td>256.0</td>\n",
       "      <td>2</td>\n",
       "      <td>0</td>\n",
       "      <td>0.120821</td>\n",
       "      <td>0.167547</td>\n",
       "      <td>0.154563</td>\n",
       "      <td>0.698948</td>\n",
       "      <td>0.820674</td>\n",
       "      <td>0.750911</td>\n",
       "      <td>0.788516</td>\n",
       "      <td>0.675622</td>\n",
       "      <td>0.701540</td>\n",
       "      <td>0.0</td>\n",
       "      <td>0.0</td>\n",
       "      <td>0.0</td>\n",
       "    </tr>\n",
       "    <tr>\n",
       "      <th>34</th>\n",
       "      <td>pseudop_nc_2_n4_0_n8_1_skip1</td>\n",
       "      <td>[4, 8]</td>\n",
       "      <td>1</td>\n",
       "      <td>677</td>\n",
       "      <td>512.0</td>\n",
       "      <td>2</td>\n",
       "      <td>1</td>\n",
       "      <td>0.113579</td>\n",
       "      <td>0.159512</td>\n",
       "      <td>0.142412</td>\n",
       "      <td>0.721491</td>\n",
       "      <td>0.836262</td>\n",
       "      <td>0.780040</td>\n",
       "      <td>0.808372</td>\n",
       "      <td>0.695145</td>\n",
       "      <td>0.743324</td>\n",
       "      <td>0.0</td>\n",
       "      <td>0.0</td>\n",
       "      <td>0.0</td>\n",
       "    </tr>\n",
       "    <tr>\n",
       "      <th>35</th>\n",
       "      <td>pseudop_nc_2_n4_0_n8_1_skip0</td>\n",
       "      <td>[4, 8]</td>\n",
       "      <td>1</td>\n",
       "      <td>629</td>\n",
       "      <td>512.0</td>\n",
       "      <td>2</td>\n",
       "      <td>0</td>\n",
       "      <td>0.118822</td>\n",
       "      <td>0.156760</td>\n",
       "      <td>0.150625</td>\n",
       "      <td>0.729092</td>\n",
       "      <td>0.830046</td>\n",
       "      <td>0.771085</td>\n",
       "      <td>0.799140</td>\n",
       "      <td>0.708670</td>\n",
       "      <td>0.726403</td>\n",
       "      <td>0.0</td>\n",
       "      <td>0.0</td>\n",
       "      <td>0.0</td>\n",
       "    </tr>\n",
       "    <tr>\n",
       "      <th>36</th>\n",
       "      <td>pseudop_nc_2_n4_3_n8_0_skip1</td>\n",
       "      <td>[4, 4, 4, 4]</td>\n",
       "      <td>3</td>\n",
       "      <td>989</td>\n",
       "      <td>64.0</td>\n",
       "      <td>2</td>\n",
       "      <td>1</td>\n",
       "      <td>0.098352</td>\n",
       "      <td>0.146095</td>\n",
       "      <td>0.129906</td>\n",
       "      <td>0.744471</td>\n",
       "      <td>0.859497</td>\n",
       "      <td>0.798789</td>\n",
       "      <td>0.837009</td>\n",
       "      <td>0.729025</td>\n",
       "      <td>0.766946</td>\n",
       "      <td>0.0</td>\n",
       "      <td>0.0</td>\n",
       "      <td>0.0</td>\n",
       "    </tr>\n",
       "    <tr>\n",
       "      <th>37</th>\n",
       "      <td>pseudop_nc_2_n4_3_n8_0_skip0</td>\n",
       "      <td>[4, 4, 4, 4]</td>\n",
       "      <td>3</td>\n",
       "      <td>845</td>\n",
       "      <td>64.0</td>\n",
       "      <td>2</td>\n",
       "      <td>0</td>\n",
       "      <td>0.142128</td>\n",
       "      <td>0.171519</td>\n",
       "      <td>0.167095</td>\n",
       "      <td>0.658456</td>\n",
       "      <td>0.776799</td>\n",
       "      <td>0.717684</td>\n",
       "      <td>0.733616</td>\n",
       "      <td>0.625057</td>\n",
       "      <td>0.660349</td>\n",
       "      <td>0.0</td>\n",
       "      <td>0.0</td>\n",
       "      <td>0.0</td>\n",
       "    </tr>\n",
       "    <tr>\n",
       "      <th>38</th>\n",
       "      <td>pseudop_nc_2_n4_2_n8_0_skip1</td>\n",
       "      <td>[4, 4, 4]</td>\n",
       "      <td>2</td>\n",
       "      <td>701</td>\n",
       "      <td>128.0</td>\n",
       "      <td>2</td>\n",
       "      <td>1</td>\n",
       "      <td>0.103084</td>\n",
       "      <td>0.148946</td>\n",
       "      <td>0.131570</td>\n",
       "      <td>0.740159</td>\n",
       "      <td>0.853005</td>\n",
       "      <td>0.784498</td>\n",
       "      <td>0.829153</td>\n",
       "      <td>0.726477</td>\n",
       "      <td>0.759311</td>\n",
       "      <td>0.0</td>\n",
       "      <td>0.0</td>\n",
       "      <td>0.0</td>\n",
       "    </tr>\n",
       "    <tr>\n",
       "      <th>39</th>\n",
       "      <td>pseudop_nc_2_n4_2_n8_0_skip0</td>\n",
       "      <td>[4, 4, 4]</td>\n",
       "      <td>2</td>\n",
       "      <td>605</td>\n",
       "      <td>128.0</td>\n",
       "      <td>2</td>\n",
       "      <td>0</td>\n",
       "      <td>0.133628</td>\n",
       "      <td>0.169431</td>\n",
       "      <td>0.165996</td>\n",
       "      <td>0.693663</td>\n",
       "      <td>0.797455</td>\n",
       "      <td>0.722758</td>\n",
       "      <td>0.761347</td>\n",
       "      <td>0.670608</td>\n",
       "      <td>0.678572</td>\n",
       "      <td>0.0</td>\n",
       "      <td>0.0</td>\n",
       "      <td>0.0</td>\n",
       "    </tr>\n",
       "    <tr>\n",
       "      <th>40</th>\n",
       "      <td>pseudop_nc_2_n4_1_n8_0_skip1</td>\n",
       "      <td>[4, 4]</td>\n",
       "      <td>1</td>\n",
       "      <td>413</td>\n",
       "      <td>256.0</td>\n",
       "      <td>2</td>\n",
       "      <td>1</td>\n",
       "      <td>0.124643</td>\n",
       "      <td>0.161182</td>\n",
       "      <td>0.148875</td>\n",
       "      <td>0.714961</td>\n",
       "      <td>0.820313</td>\n",
       "      <td>0.757323</td>\n",
       "      <td>0.787518</td>\n",
       "      <td>0.691374</td>\n",
       "      <td>0.717742</td>\n",
       "      <td>0.0</td>\n",
       "      <td>0.0</td>\n",
       "      <td>0.0</td>\n",
       "    </tr>\n",
       "    <tr>\n",
       "      <th>41</th>\n",
       "      <td>pseudop_nc_2_n4_1_n8_0_skip0</td>\n",
       "      <td>[4, 4]</td>\n",
       "      <td>1</td>\n",
       "      <td>365</td>\n",
       "      <td>256.0</td>\n",
       "      <td>2</td>\n",
       "      <td>0</td>\n",
       "      <td>0.141296</td>\n",
       "      <td>0.165677</td>\n",
       "      <td>0.160083</td>\n",
       "      <td>0.696880</td>\n",
       "      <td>0.788949</td>\n",
       "      <td>0.737609</td>\n",
       "      <td>0.752223</td>\n",
       "      <td>0.672757</td>\n",
       "      <td>0.696670</td>\n",
       "      <td>0.0</td>\n",
       "      <td>0.0</td>\n",
       "      <td>0.0</td>\n",
       "    </tr>\n",
       "    <tr>\n",
       "      <th>42</th>\n",
       "      <td>pseudop_nc_2_n4_0_n8_0_skip1</td>\n",
       "      <td>[4]</td>\n",
       "      <td>0</td>\n",
       "      <td>125</td>\n",
       "      <td>512.0</td>\n",
       "      <td>2</td>\n",
       "      <td>1</td>\n",
       "      <td>0.157223</td>\n",
       "      <td>0.170766</td>\n",
       "      <td>0.170921</td>\n",
       "      <td>0.673847</td>\n",
       "      <td>0.757239</td>\n",
       "      <td>0.688289</td>\n",
       "      <td>0.716411</td>\n",
       "      <td>0.660512</td>\n",
       "      <td>0.652342</td>\n",
       "      <td>0.0</td>\n",
       "      <td>0.0</td>\n",
       "      <td>0.0</td>\n",
       "    </tr>\n",
       "    <tr>\n",
       "      <th>43</th>\n",
       "      <td>pseudop_nc_2_n4_0_n8_0_skip0</td>\n",
       "      <td>[4]</td>\n",
       "      <td>0</td>\n",
       "      <td>125</td>\n",
       "      <td>512.0</td>\n",
       "      <td>2</td>\n",
       "      <td>0</td>\n",
       "      <td>0.157223</td>\n",
       "      <td>0.170766</td>\n",
       "      <td>0.170921</td>\n",
       "      <td>0.673847</td>\n",
       "      <td>0.757239</td>\n",
       "      <td>0.688289</td>\n",
       "      <td>0.716411</td>\n",
       "      <td>0.660512</td>\n",
       "      <td>0.652342</td>\n",
       "      <td>0.0</td>\n",
       "      <td>0.0</td>\n",
       "      <td>0.0</td>\n",
       "    </tr>\n",
       "    <tr>\n",
       "      <th>44</th>\n",
       "      <td>pseudop_nc_1_n4_3_n8_1_skip1</td>\n",
       "      <td>[4, 4, 4, 4, 8]</td>\n",
       "      <td>4</td>\n",
       "      <td>845</td>\n",
       "      <td>64.0</td>\n",
       "      <td>1</td>\n",
       "      <td>1</td>\n",
       "      <td>0.116522</td>\n",
       "      <td>0.149622</td>\n",
       "      <td>0.134189</td>\n",
       "      <td>0.735280</td>\n",
       "      <td>0.858051</td>\n",
       "      <td>0.815254</td>\n",
       "      <td>0.830700</td>\n",
       "      <td>0.710988</td>\n",
       "      <td>0.784961</td>\n",
       "      <td>0.0</td>\n",
       "      <td>0.0</td>\n",
       "      <td>0.0</td>\n",
       "    </tr>\n",
       "    <tr>\n",
       "      <th>45</th>\n",
       "      <td>pseudop_nc_1_n4_3_n8_1_skip0</td>\n",
       "      <td>[4, 4, 4, 4, 8]</td>\n",
       "      <td>4</td>\n",
       "      <td>653</td>\n",
       "      <td>64.0</td>\n",
       "      <td>1</td>\n",
       "      <td>0</td>\n",
       "      <td>0.150788</td>\n",
       "      <td>0.166054</td>\n",
       "      <td>0.146705</td>\n",
       "      <td>0.698553</td>\n",
       "      <td>0.789803</td>\n",
       "      <td>0.796662</td>\n",
       "      <td>0.733567</td>\n",
       "      <td>0.646391</td>\n",
       "      <td>0.742921</td>\n",
       "      <td>0.0</td>\n",
       "      <td>0.0</td>\n",
       "      <td>0.0</td>\n",
       "    </tr>\n",
       "    <tr>\n",
       "      <th>46</th>\n",
       "      <td>pseudop_nc_1_n4_2_n8_1_skip1</td>\n",
       "      <td>[4, 4, 4, 8]</td>\n",
       "      <td>3</td>\n",
       "      <td>677</td>\n",
       "      <td>128.0</td>\n",
       "      <td>1</td>\n",
       "      <td>1</td>\n",
       "      <td>0.102875</td>\n",
       "      <td>0.152303</td>\n",
       "      <td>0.153623</td>\n",
       "      <td>0.726870</td>\n",
       "      <td>0.852884</td>\n",
       "      <td>0.750085</td>\n",
       "      <td>0.831132</td>\n",
       "      <td>0.723353</td>\n",
       "      <td>0.727767</td>\n",
       "      <td>0.0</td>\n",
       "      <td>0.0</td>\n",
       "      <td>0.0</td>\n",
       "    </tr>\n",
       "    <tr>\n",
       "      <th>47</th>\n",
       "      <td>pseudop_nc_1_n4_2_n8_1_skip0</td>\n",
       "      <td>[4, 4, 4, 8]</td>\n",
       "      <td>3</td>\n",
       "      <td>533</td>\n",
       "      <td>128.0</td>\n",
       "      <td>1</td>\n",
       "      <td>0</td>\n",
       "      <td>0.145620</td>\n",
       "      <td>0.178843</td>\n",
       "      <td>0.166309</td>\n",
       "      <td>0.660654</td>\n",
       "      <td>0.771605</td>\n",
       "      <td>0.734240</td>\n",
       "      <td>0.718893</td>\n",
       "      <td>0.610554</td>\n",
       "      <td>0.665815</td>\n",
       "      <td>0.0</td>\n",
       "      <td>0.0</td>\n",
       "      <td>0.0</td>\n",
       "    </tr>\n",
       "    <tr>\n",
       "      <th>48</th>\n",
       "      <td>pseudop_nc_1_n4_1_n8_1_skip1</td>\n",
       "      <td>[4, 4, 8]</td>\n",
       "      <td>2</td>\n",
       "      <td>509</td>\n",
       "      <td>256.0</td>\n",
       "      <td>1</td>\n",
       "      <td>1</td>\n",
       "      <td>0.114749</td>\n",
       "      <td>0.157533</td>\n",
       "      <td>0.142253</td>\n",
       "      <td>0.712365</td>\n",
       "      <td>0.831804</td>\n",
       "      <td>0.772222</td>\n",
       "      <td>0.804677</td>\n",
       "      <td>0.697494</td>\n",
       "      <td>0.737661</td>\n",
       "      <td>0.0</td>\n",
       "      <td>0.0</td>\n",
       "      <td>0.0</td>\n",
       "    </tr>\n",
       "    <tr>\n",
       "      <th>49</th>\n",
       "      <td>pseudop_nc_1_n4_1_n8_1_skip0</td>\n",
       "      <td>[4, 4, 8]</td>\n",
       "      <td>2</td>\n",
       "      <td>413</td>\n",
       "      <td>256.0</td>\n",
       "      <td>1</td>\n",
       "      <td>0</td>\n",
       "      <td>0.135491</td>\n",
       "      <td>0.164502</td>\n",
       "      <td>0.150335</td>\n",
       "      <td>0.708726</td>\n",
       "      <td>0.792028</td>\n",
       "      <td>0.749402</td>\n",
       "      <td>0.754674</td>\n",
       "      <td>0.679560</td>\n",
       "      <td>0.717272</td>\n",
       "      <td>0.0</td>\n",
       "      <td>0.0</td>\n",
       "      <td>0.0</td>\n",
       "    </tr>\n",
       "    <tr>\n",
       "      <th>50</th>\n",
       "      <td>pseudop_nc_1_n4_0_n8_1_skip1</td>\n",
       "      <td>[4, 8]</td>\n",
       "      <td>1</td>\n",
       "      <td>341</td>\n",
       "      <td>512.0</td>\n",
       "      <td>1</td>\n",
       "      <td>1</td>\n",
       "      <td>0.133015</td>\n",
       "      <td>0.173571</td>\n",
       "      <td>0.166273</td>\n",
       "      <td>0.697189</td>\n",
       "      <td>0.801518</td>\n",
       "      <td>0.691266</td>\n",
       "      <td>0.769445</td>\n",
       "      <td>0.675286</td>\n",
       "      <td>0.657866</td>\n",
       "      <td>0.0</td>\n",
       "      <td>0.0</td>\n",
       "      <td>0.0</td>\n",
       "    </tr>\n",
       "    <tr>\n",
       "      <th>51</th>\n",
       "      <td>pseudop_nc_1_n4_0_n8_1_skip0</td>\n",
       "      <td>[4, 8]</td>\n",
       "      <td>1</td>\n",
       "      <td>293</td>\n",
       "      <td>512.0</td>\n",
       "      <td>1</td>\n",
       "      <td>0</td>\n",
       "      <td>0.137333</td>\n",
       "      <td>0.171898</td>\n",
       "      <td>0.156034</td>\n",
       "      <td>0.688503</td>\n",
       "      <td>0.796744</td>\n",
       "      <td>0.739439</td>\n",
       "      <td>0.759915</td>\n",
       "      <td>0.658918</td>\n",
       "      <td>0.699155</td>\n",
       "      <td>0.0</td>\n",
       "      <td>0.0</td>\n",
       "      <td>0.0</td>\n",
       "    </tr>\n",
       "    <tr>\n",
       "      <th>52</th>\n",
       "      <td>pseudop_nc_1_n4_3_n8_0_skip1</td>\n",
       "      <td>[4, 4, 4, 4]</td>\n",
       "      <td>3</td>\n",
       "      <td>569</td>\n",
       "      <td>64.0</td>\n",
       "      <td>1</td>\n",
       "      <td>1</td>\n",
       "      <td>0.107322</td>\n",
       "      <td>0.147089</td>\n",
       "      <td>0.132060</td>\n",
       "      <td>0.736898</td>\n",
       "      <td>0.844295</td>\n",
       "      <td>0.788571</td>\n",
       "      <td>0.818408</td>\n",
       "      <td>0.720364</td>\n",
       "      <td>0.760743</td>\n",
       "      <td>0.0</td>\n",
       "      <td>0.0</td>\n",
       "      <td>0.0</td>\n",
       "    </tr>\n",
       "    <tr>\n",
       "      <th>53</th>\n",
       "      <td>pseudop_nc_1_n4_3_n8_0_skip0</td>\n",
       "      <td>[4, 4, 4, 4]</td>\n",
       "      <td>3</td>\n",
       "      <td>425</td>\n",
       "      <td>64.0</td>\n",
       "      <td>1</td>\n",
       "      <td>0</td>\n",
       "      <td>0.153328</td>\n",
       "      <td>0.181610</td>\n",
       "      <td>0.169531</td>\n",
       "      <td>0.675735</td>\n",
       "      <td>0.757163</td>\n",
       "      <td>0.696069</td>\n",
       "      <td>0.708216</td>\n",
       "      <td>0.617316</td>\n",
       "      <td>0.652507</td>\n",
       "      <td>0.0</td>\n",
       "      <td>0.0</td>\n",
       "      <td>0.0</td>\n",
       "    </tr>\n",
       "    <tr>\n",
       "      <th>54</th>\n",
       "      <td>pseudop_nc_1_n4_2_n8_0_skip1</td>\n",
       "      <td>[4, 4, 4]</td>\n",
       "      <td>2</td>\n",
       "      <td>401</td>\n",
       "      <td>128.0</td>\n",
       "      <td>1</td>\n",
       "      <td>1</td>\n",
       "      <td>0.120653</td>\n",
       "      <td>0.151841</td>\n",
       "      <td>0.148079</td>\n",
       "      <td>0.725537</td>\n",
       "      <td>0.821548</td>\n",
       "      <td>0.764497</td>\n",
       "      <td>0.792769</td>\n",
       "      <td>0.709482</td>\n",
       "      <td>0.730517</td>\n",
       "      <td>0.0</td>\n",
       "      <td>0.0</td>\n",
       "      <td>0.0</td>\n",
       "    </tr>\n",
       "    <tr>\n",
       "      <th>55</th>\n",
       "      <td>pseudop_nc_1_n4_2_n8_0_skip0</td>\n",
       "      <td>[4, 4, 4]</td>\n",
       "      <td>2</td>\n",
       "      <td>305</td>\n",
       "      <td>128.0</td>\n",
       "      <td>1</td>\n",
       "      <td>0</td>\n",
       "      <td>0.137094</td>\n",
       "      <td>0.168491</td>\n",
       "      <td>0.148730</td>\n",
       "      <td>0.688796</td>\n",
       "      <td>0.786304</td>\n",
       "      <td>0.753893</td>\n",
       "      <td>0.749901</td>\n",
       "      <td>0.669144</td>\n",
       "      <td>0.718907</td>\n",
       "      <td>0.0</td>\n",
       "      <td>0.0</td>\n",
       "      <td>0.0</td>\n",
       "    </tr>\n",
       "    <tr>\n",
       "      <th>56</th>\n",
       "      <td>pseudop_nc_1_n4_1_n8_0_skip1</td>\n",
       "      <td>[4, 4]</td>\n",
       "      <td>1</td>\n",
       "      <td>233</td>\n",
       "      <td>256.0</td>\n",
       "      <td>1</td>\n",
       "      <td>1</td>\n",
       "      <td>0.142329</td>\n",
       "      <td>0.164061</td>\n",
       "      <td>0.154109</td>\n",
       "      <td>0.713623</td>\n",
       "      <td>0.799411</td>\n",
       "      <td>0.764523</td>\n",
       "      <td>0.759053</td>\n",
       "      <td>0.675993</td>\n",
       "      <td>0.723476</td>\n",
       "      <td>0.0</td>\n",
       "      <td>0.0</td>\n",
       "      <td>0.0</td>\n",
       "    </tr>\n",
       "    <tr>\n",
       "      <th>57</th>\n",
       "      <td>pseudop_nc_1_n4_1_n8_0_skip0</td>\n",
       "      <td>[4, 4]</td>\n",
       "      <td>1</td>\n",
       "      <td>185</td>\n",
       "      <td>256.0</td>\n",
       "      <td>1</td>\n",
       "      <td>0</td>\n",
       "      <td>0.147457</td>\n",
       "      <td>0.169682</td>\n",
       "      <td>0.154445</td>\n",
       "      <td>0.703734</td>\n",
       "      <td>0.780267</td>\n",
       "      <td>0.750339</td>\n",
       "      <td>0.735585</td>\n",
       "      <td>0.665581</td>\n",
       "      <td>0.711190</td>\n",
       "      <td>0.0</td>\n",
       "      <td>0.0</td>\n",
       "      <td>0.0</td>\n",
       "    </tr>\n",
       "    <tr>\n",
       "      <th>58</th>\n",
       "      <td>pseudop_nc_1_n4_0_n8_0_skip1</td>\n",
       "      <td>[4]</td>\n",
       "      <td>0</td>\n",
       "      <td>65</td>\n",
       "      <td>512.0</td>\n",
       "      <td>1</td>\n",
       "      <td>1</td>\n",
       "      <td>0.169559</td>\n",
       "      <td>0.175586</td>\n",
       "      <td>0.175899</td>\n",
       "      <td>0.662685</td>\n",
       "      <td>0.737261</td>\n",
       "      <td>0.700356</td>\n",
       "      <td>0.682347</td>\n",
       "      <td>0.630577</td>\n",
       "      <td>0.656264</td>\n",
       "      <td>0.0</td>\n",
       "      <td>0.0</td>\n",
       "      <td>0.0</td>\n",
       "    </tr>\n",
       "    <tr>\n",
       "      <th>59</th>\n",
       "      <td>pseudop_nc_1_n4_0_n8_0_skip0</td>\n",
       "      <td>[4]</td>\n",
       "      <td>0</td>\n",
       "      <td>65</td>\n",
       "      <td>512.0</td>\n",
       "      <td>1</td>\n",
       "      <td>0</td>\n",
       "      <td>0.169559</td>\n",
       "      <td>0.175586</td>\n",
       "      <td>0.175899</td>\n",
       "      <td>0.662685</td>\n",
       "      <td>0.737261</td>\n",
       "      <td>0.700356</td>\n",
       "      <td>0.682347</td>\n",
       "      <td>0.630577</td>\n",
       "      <td>0.656264</td>\n",
       "      <td>0.0</td>\n",
       "      <td>0.0</td>\n",
       "      <td>0.0</td>\n",
       "    </tr>\n",
       "  </tbody>\n",
       "</table>\n",
       "</div>"
      ],
      "text/plain": [
       "                        run_name        arc_features  arc_encoder_blocks  \\\n",
       "0   pseudop_nc_2_n4_2_n8_3_skip1  [4, 4, 4, 8, 8, 8]                   5   \n",
       "1   pseudop_nc_2_n4_2_n8_3_skip0  [4, 4, 4, 8, 8, 8]                   5   \n",
       "2   pseudop_nc_2_n4_1_n8_3_skip1     [4, 4, 8, 8, 8]                   4   \n",
       "3   pseudop_nc_2_n4_1_n8_3_skip0     [4, 4, 8, 8, 8]                   4   \n",
       "4   pseudop_nc_2_n4_0_n8_3_skip1        [4, 8, 8, 8]                   3   \n",
       "5   pseudop_nc_2_n4_0_n8_3_skip0        [4, 8, 8, 8]                   3   \n",
       "6   pseudop_nc_2_n4_2_n8_2_skip1     [4, 4, 4, 8, 8]                   4   \n",
       "7   pseudop_nc_2_n4_2_n8_2_skip0     [4, 4, 4, 8, 8]                   4   \n",
       "8   pseudop_nc_2_n4_1_n8_2_skip1        [4, 4, 8, 8]                   3   \n",
       "9   pseudop_nc_2_n4_1_n8_2_skip0        [4, 4, 8, 8]                   3   \n",
       "10  pseudop_nc_2_n4_0_n8_2_skip1           [4, 8, 8]                   2   \n",
       "11  pseudop_nc_2_n4_0_n8_2_skip0           [4, 8, 8]                   2   \n",
       "12  pseudop_nc_1_n4_2_n8_3_skip1  [4, 4, 4, 8, 8, 8]                   5   \n",
       "13  pseudop_nc_1_n4_2_n8_3_skip0  [4, 4, 4, 8, 8, 8]                   5   \n",
       "14  pseudop_nc_1_n4_1_n8_3_skip1     [4, 4, 8, 8, 8]                   4   \n",
       "15  pseudop_nc_1_n4_1_n8_3_skip0     [4, 4, 8, 8, 8]                   4   \n",
       "16  pseudop_nc_1_n4_0_n8_3_skip1        [4, 8, 8, 8]                   3   \n",
       "17  pseudop_nc_1_n4_0_n8_3_skip0        [4, 8, 8, 8]                   3   \n",
       "18  pseudop_nc_1_n4_2_n8_2_skip1     [4, 4, 4, 8, 8]                   4   \n",
       "19  pseudop_nc_1_n4_2_n8_2_skip0     [4, 4, 4, 8, 8]                   4   \n",
       "20  pseudop_nc_1_n4_1_n8_2_skip1        [4, 4, 8, 8]                   3   \n",
       "21  pseudop_nc_1_n4_1_n8_2_skip0        [4, 4, 8, 8]                   3   \n",
       "22  pseudop_nc_1_n4_0_n8_2_skip1           [4, 8, 8]                   2   \n",
       "23  pseudop_nc_1_n4_0_n8_2_skip0           [4, 8, 8]                   2   \n",
       "24    pseudop_baseline_nc1_skip1  [4, 8, 16, 32, 64]                   4   \n",
       "25    pseudop_baseline_nc1_skip0  [4, 8, 16, 32, 64]                   4   \n",
       "26        pseudop_baseline_skip0  [4, 8, 16, 32, 64]                   4   \n",
       "27        pseudop_baseline_skip1  [4, 8, 16, 32, 64]                   4   \n",
       "28  pseudop_nc_2_n4_3_n8_1_skip1     [4, 4, 4, 4, 8]                   4   \n",
       "29  pseudop_nc_2_n4_3_n8_1_skip0     [4, 4, 4, 4, 8]                   4   \n",
       "30  pseudop_nc_2_n4_2_n8_1_skip1        [4, 4, 4, 8]                   3   \n",
       "31  pseudop_nc_2_n4_2_n8_1_skip0        [4, 4, 4, 8]                   3   \n",
       "32  pseudop_nc_2_n4_1_n8_1_skip1           [4, 4, 8]                   2   \n",
       "33  pseudop_nc_2_n4_1_n8_1_skip0           [4, 4, 8]                   2   \n",
       "34  pseudop_nc_2_n4_0_n8_1_skip1              [4, 8]                   1   \n",
       "35  pseudop_nc_2_n4_0_n8_1_skip0              [4, 8]                   1   \n",
       "36  pseudop_nc_2_n4_3_n8_0_skip1        [4, 4, 4, 4]                   3   \n",
       "37  pseudop_nc_2_n4_3_n8_0_skip0        [4, 4, 4, 4]                   3   \n",
       "38  pseudop_nc_2_n4_2_n8_0_skip1           [4, 4, 4]                   2   \n",
       "39  pseudop_nc_2_n4_2_n8_0_skip0           [4, 4, 4]                   2   \n",
       "40  pseudop_nc_2_n4_1_n8_0_skip1              [4, 4]                   1   \n",
       "41  pseudop_nc_2_n4_1_n8_0_skip0              [4, 4]                   1   \n",
       "42  pseudop_nc_2_n4_0_n8_0_skip1                 [4]                   0   \n",
       "43  pseudop_nc_2_n4_0_n8_0_skip0                 [4]                   0   \n",
       "44  pseudop_nc_1_n4_3_n8_1_skip1     [4, 4, 4, 4, 8]                   4   \n",
       "45  pseudop_nc_1_n4_3_n8_1_skip0     [4, 4, 4, 4, 8]                   4   \n",
       "46  pseudop_nc_1_n4_2_n8_1_skip1        [4, 4, 4, 8]                   3   \n",
       "47  pseudop_nc_1_n4_2_n8_1_skip0        [4, 4, 4, 8]                   3   \n",
       "48  pseudop_nc_1_n4_1_n8_1_skip1           [4, 4, 8]                   2   \n",
       "49  pseudop_nc_1_n4_1_n8_1_skip0           [4, 4, 8]                   2   \n",
       "50  pseudop_nc_1_n4_0_n8_1_skip1              [4, 8]                   1   \n",
       "51  pseudop_nc_1_n4_0_n8_1_skip0              [4, 8]                   1   \n",
       "52  pseudop_nc_1_n4_3_n8_0_skip1        [4, 4, 4, 4]                   3   \n",
       "53  pseudop_nc_1_n4_3_n8_0_skip0        [4, 4, 4, 4]                   3   \n",
       "54  pseudop_nc_1_n4_2_n8_0_skip1           [4, 4, 4]                   2   \n",
       "55  pseudop_nc_1_n4_2_n8_0_skip0           [4, 4, 4]                   2   \n",
       "56  pseudop_nc_1_n4_1_n8_0_skip1              [4, 4]                   1   \n",
       "57  pseudop_nc_1_n4_1_n8_0_skip0              [4, 4]                   1   \n",
       "58  pseudop_nc_1_n4_0_n8_0_skip1                 [4]                   0   \n",
       "59  pseudop_nc_1_n4_0_n8_0_skip0                 [4]                   0   \n",
       "\n",
       "    arc_num_params  arc_latent_volume  arc_num_conv  arc_skip  train_loss  \\\n",
       "0             3365               32.0             2         1    0.069459   \n",
       "1             2837               32.0             2         0    0.115530   \n",
       "2             3077               64.0             2         1    0.067616   \n",
       "3             2597               64.0             2         0    0.089217   \n",
       "4             2789              128.0             2         1    0.109258   \n",
       "5             2357              128.0             2         0    0.104709   \n",
       "6             2309               64.0             2         1    0.075142   \n",
       "7             1973               64.0             2         0    0.112562   \n",
       "8             2021              128.0             2         1    0.083152   \n",
       "9             1733              128.0             2         0    0.116346   \n",
       "10            1733              256.0             2         1    0.085772   \n",
       "11            1493              256.0             2         0    0.110605   \n",
       "12            1925               32.0             1         1    0.074812   \n",
       "13            1397               32.0             1         0    0.139474   \n",
       "14            1757               64.0             1         1    0.081657   \n",
       "15            1277               64.0             1         0    0.109042   \n",
       "16            1589              128.0             1         1    0.084120   \n",
       "17            1157              128.0             1         0    0.116824   \n",
       "18            1301               64.0             1         1    0.092047   \n",
       "19             965               64.0             1         0    0.124122   \n",
       "20            1133              128.0             1         1    0.091885   \n",
       "21             845              128.0             1         0    0.132332   \n",
       "22             965              256.0             1         1    0.100722   \n",
       "23             725              256.0             1         0    0.122953   \n",
       "24           21005              512.0             1         1    0.035829   \n",
       "25           16925              512.0             1         0    0.065498   \n",
       "26           37925              512.0             2         0    0.037428   \n",
       "27           42005              512.0             2         1    0.029704   \n",
       "28            1541               64.0             2         1    0.085496   \n",
       "29            1349               64.0             2         0    0.111417   \n",
       "30            1253              128.0             2         1    0.096678   \n",
       "31            1109              128.0             2         0    0.125475   \n",
       "32             965              256.0             2         1    0.101631   \n",
       "33             869              256.0             2         0    0.120821   \n",
       "34             677              512.0             2         1    0.113579   \n",
       "35             629              512.0             2         0    0.118822   \n",
       "36             989               64.0             2         1    0.098352   \n",
       "37             845               64.0             2         0    0.142128   \n",
       "38             701              128.0             2         1    0.103084   \n",
       "39             605              128.0             2         0    0.133628   \n",
       "40             413              256.0             2         1    0.124643   \n",
       "41             365              256.0             2         0    0.141296   \n",
       "42             125              512.0             2         1    0.157223   \n",
       "43             125              512.0             2         0    0.157223   \n",
       "44             845               64.0             1         1    0.116522   \n",
       "45             653               64.0             1         0    0.150788   \n",
       "46             677              128.0             1         1    0.102875   \n",
       "47             533              128.0             1         0    0.145620   \n",
       "48             509              256.0             1         1    0.114749   \n",
       "49             413              256.0             1         0    0.135491   \n",
       "50             341              512.0             1         1    0.133015   \n",
       "51             293              512.0             1         0    0.137333   \n",
       "52             569               64.0             1         1    0.107322   \n",
       "53             425               64.0             1         0    0.153328   \n",
       "54             401              128.0             1         1    0.120653   \n",
       "55             305              128.0             1         0    0.137094   \n",
       "56             233              256.0             1         1    0.142329   \n",
       "57             185              256.0             1         0    0.147457   \n",
       "58              65              512.0             1         1    0.169559   \n",
       "59              65              512.0             1         0    0.169559   \n",
       "\n",
       "    valid_loss  test_loss  valid_F1  train_F1   test_F1  train_Accuracy  \\\n",
       "0     0.134253   0.097258  0.782064  0.905778  0.854052        0.892329   \n",
       "1     0.166482   0.132903  0.703011  0.834870  0.791122        0.809308   \n",
       "2     0.130532   0.107241  0.780147  0.907849  0.846803        0.895061   \n",
       "3     0.148442   0.128384  0.722358  0.867274  0.787349        0.847348   \n",
       "4     0.185096   0.152056  0.722014  0.882278  0.785474        0.869981   \n",
       "5     0.164641   0.135636  0.689020  0.839752  0.745876        0.815795   \n",
       "6     0.132582   0.106952  0.784020  0.897085  0.838055        0.882701   \n",
       "7     0.159287   0.137723  0.718247  0.839050  0.785691        0.812580   \n",
       "8     0.147333   0.123243  0.753271  0.884549  0.812757        0.866957   \n",
       "9     0.190391   0.201936  0.661258  0.837821  0.649878        0.813801   \n",
       "10    0.153929   0.128147  0.746923  0.880446  0.800817        0.862800   \n",
       "11    0.159149   0.143569  0.708114  0.826949  0.751222        0.801989   \n",
       "12    0.124553   0.113999  0.777741  0.897260  0.826088        0.882155   \n",
       "13    0.169179   0.133936  0.647012  0.754443  0.762790        0.735192   \n",
       "14    0.131046   0.106647  0.766712  0.884655  0.832769        0.867791   \n",
       "15    0.157974   0.120638  0.713044  0.835088  0.813679        0.809055   \n",
       "16    0.149904   0.129912  0.744164  0.882495  0.799618        0.865180   \n",
       "17    0.164053   0.145806  0.692915  0.818786  0.756246        0.787952   \n",
       "18    0.143828   0.114302  0.761228  0.869423  0.826019        0.849645   \n",
       "19    0.152851   0.135238  0.706426  0.812121  0.779707        0.777691   \n",
       "20    0.155121   0.136982  0.734305  0.869236  0.779428        0.849714   \n",
       "21    0.182968   0.161765  0.651934  0.777675  0.687891        0.749255   \n",
       "22    0.148497   0.136237  0.735451  0.864524  0.783060        0.841532   \n",
       "23    0.162128   0.161903  0.696663  0.816662  0.737142        0.785288   \n",
       "24    0.148649   0.107297  0.770757  0.955780  0.838581        0.949588   \n",
       "25    0.144827   0.103052  0.750848  0.901979  0.840445        0.882997   \n",
       "26    0.146767   0.094325  0.761337  0.950362  0.866501        0.943391   \n",
       "27    0.132846   0.119006  0.788644  0.962390  0.821333        0.957515   \n",
       "28    0.147072   0.113398  0.754134  0.880091  0.825332        0.863383   \n",
       "29    0.141640   0.127828  0.733566  0.836417  0.802643        0.807260   \n",
       "30    0.144384   0.127436  0.751854  0.870896  0.815810        0.848840   \n",
       "31    0.166314   0.135850  0.682603  0.801452  0.777750        0.770064   \n",
       "32    0.158398   0.144170  0.717515  0.854521  0.767065        0.832279   \n",
       "33    0.167547   0.154563  0.698948  0.820674  0.750911        0.788516   \n",
       "34    0.159512   0.142412  0.721491  0.836262  0.780040        0.808372   \n",
       "35    0.156760   0.150625  0.729092  0.830046  0.771085        0.799140   \n",
       "36    0.146095   0.129906  0.744471  0.859497  0.798789        0.837009   \n",
       "37    0.171519   0.167095  0.658456  0.776799  0.717684        0.733616   \n",
       "38    0.148946   0.131570  0.740159  0.853005  0.784498        0.829153   \n",
       "39    0.169431   0.165996  0.693663  0.797455  0.722758        0.761347   \n",
       "40    0.161182   0.148875  0.714961  0.820313  0.757323        0.787518   \n",
       "41    0.165677   0.160083  0.696880  0.788949  0.737609        0.752223   \n",
       "42    0.170766   0.170921  0.673847  0.757239  0.688289        0.716411   \n",
       "43    0.170766   0.170921  0.673847  0.757239  0.688289        0.716411   \n",
       "44    0.149622   0.134189  0.735280  0.858051  0.815254        0.830700   \n",
       "45    0.166054   0.146705  0.698553  0.789803  0.796662        0.733567   \n",
       "46    0.152303   0.153623  0.726870  0.852884  0.750085        0.831132   \n",
       "47    0.178843   0.166309  0.660654  0.771605  0.734240        0.718893   \n",
       "48    0.157533   0.142253  0.712365  0.831804  0.772222        0.804677   \n",
       "49    0.164502   0.150335  0.708726  0.792028  0.749402        0.754674   \n",
       "50    0.173571   0.166273  0.697189  0.801518  0.691266        0.769445   \n",
       "51    0.171898   0.156034  0.688503  0.796744  0.739439        0.759915   \n",
       "52    0.147089   0.132060  0.736898  0.844295  0.788571        0.818408   \n",
       "53    0.181610   0.169531  0.675735  0.757163  0.696069        0.708216   \n",
       "54    0.151841   0.148079  0.725537  0.821548  0.764497        0.792769   \n",
       "55    0.168491   0.148730  0.688796  0.786304  0.753893        0.749901   \n",
       "56    0.164061   0.154109  0.713623  0.799411  0.764523        0.759053   \n",
       "57    0.169682   0.154445  0.703734  0.780267  0.750339        0.735585   \n",
       "58    0.175586   0.175899  0.662685  0.737261  0.700356        0.682347   \n",
       "59    0.175586   0.175899  0.662685  0.737261  0.700356        0.682347   \n",
       "\n",
       "    valid_Accuracy  test_Accuracy  train_Accuracy_seq  valid_Accuracy_seq  \\\n",
       "0         0.778942       0.837018                 0.0                 0.0   \n",
       "1         0.689626       0.764023                 0.0                 0.0   \n",
       "2         0.776407       0.827487                 0.0                 0.0   \n",
       "3         0.719001       0.750394                 0.0                 0.0   \n",
       "4         0.722602       0.772523                 0.0                 0.0   \n",
       "5         0.676482       0.719342                 0.0                 0.0   \n",
       "6         0.778451       0.818253                 0.0                 0.0   \n",
       "7         0.699202       0.750611                 0.0                 0.0   \n",
       "8         0.741780       0.786203                 0.0                 0.0   \n",
       "9         0.651063       0.620077                 0.0                 0.0   \n",
       "10        0.735624       0.771366                 0.0                 0.0   \n",
       "11        0.698262       0.719818                 0.0                 0.0   \n",
       "12        0.771572       0.802662                 0.0                 0.0   \n",
       "13        0.653767       0.745433                 0.0                 0.0   \n",
       "14        0.762045       0.811719                 0.0                 0.0   \n",
       "15        0.710045       0.783781                 0.0                 0.0   \n",
       "16        0.735136       0.773172                 0.0                 0.0   \n",
       "17        0.665609       0.716737                 0.0                 0.0   \n",
       "18        0.748465       0.803012                 0.0                 0.0   \n",
       "19        0.691523       0.743828                 0.0                 0.0   \n",
       "20        0.725626       0.754333                 0.0                 0.0   \n",
       "21        0.623871       0.663173                 0.0                 0.0   \n",
       "22        0.718564       0.752952                 0.0                 0.0   \n",
       "23        0.684383       0.703361                 0.0                 0.0   \n",
       "24        0.760644       0.816740                 0.0                 0.0   \n",
       "25        0.732103       0.809972                 0.0                 0.0   \n",
       "26        0.750553       0.847667                 0.0                 0.0   \n",
       "27        0.788486       0.802040                 0.0                 0.0   \n",
       "28        0.746415       0.803067                 0.0                 0.0   \n",
       "29        0.719466       0.769157                 0.0                 0.0   \n",
       "30        0.732590       0.783749                 0.0                 0.0   \n",
       "31        0.665017       0.742325                 0.0                 0.0   \n",
       "32        0.701187       0.735241                 0.0                 0.0   \n",
       "33        0.675622       0.701540                 0.0                 0.0   \n",
       "34        0.695145       0.743324                 0.0                 0.0   \n",
       "35        0.708670       0.726403                 0.0                 0.0   \n",
       "36        0.729025       0.766946                 0.0                 0.0   \n",
       "37        0.625057       0.660349                 0.0                 0.0   \n",
       "38        0.726477       0.759311                 0.0                 0.0   \n",
       "39        0.670608       0.678572                 0.0                 0.0   \n",
       "40        0.691374       0.717742                 0.0                 0.0   \n",
       "41        0.672757       0.696670                 0.0                 0.0   \n",
       "42        0.660512       0.652342                 0.0                 0.0   \n",
       "43        0.660512       0.652342                 0.0                 0.0   \n",
       "44        0.710988       0.784961                 0.0                 0.0   \n",
       "45        0.646391       0.742921                 0.0                 0.0   \n",
       "46        0.723353       0.727767                 0.0                 0.0   \n",
       "47        0.610554       0.665815                 0.0                 0.0   \n",
       "48        0.697494       0.737661                 0.0                 0.0   \n",
       "49        0.679560       0.717272                 0.0                 0.0   \n",
       "50        0.675286       0.657866                 0.0                 0.0   \n",
       "51        0.658918       0.699155                 0.0                 0.0   \n",
       "52        0.720364       0.760743                 0.0                 0.0   \n",
       "53        0.617316       0.652507                 0.0                 0.0   \n",
       "54        0.709482       0.730517                 0.0                 0.0   \n",
       "55        0.669144       0.718907                 0.0                 0.0   \n",
       "56        0.675993       0.723476                 0.0                 0.0   \n",
       "57        0.665581       0.711190                 0.0                 0.0   \n",
       "58        0.630577       0.656264                 0.0                 0.0   \n",
       "59        0.630577       0.656264                 0.0                 0.0   \n",
       "\n",
       "    test_Accuracy_seq  \n",
       "0                 0.0  \n",
       "1                 0.0  \n",
       "2                 0.0  \n",
       "3                 0.0  \n",
       "4                 0.0  \n",
       "5                 0.0  \n",
       "6                 0.0  \n",
       "7                 0.0  \n",
       "8                 0.0  \n",
       "9                 0.0  \n",
       "10                0.0  \n",
       "11                0.0  \n",
       "12                0.0  \n",
       "13                0.0  \n",
       "14                0.0  \n",
       "15                0.0  \n",
       "16                0.0  \n",
       "17                0.0  \n",
       "18                0.0  \n",
       "19                0.0  \n",
       "20                0.0  \n",
       "21                0.0  \n",
       "22                0.0  \n",
       "23                0.0  \n",
       "24                0.0  \n",
       "25                0.0  \n",
       "26                0.0  \n",
       "27                0.0  \n",
       "28                0.0  \n",
       "29                0.0  \n",
       "30                0.0  \n",
       "31                0.0  \n",
       "32                0.0  \n",
       "33                0.0  \n",
       "34                0.0  \n",
       "35                0.0  \n",
       "36                0.0  \n",
       "37                0.0  \n",
       "38                0.0  \n",
       "39                0.0  \n",
       "40                0.0  \n",
       "41                0.0  \n",
       "42                0.0  \n",
       "43                0.0  \n",
       "44                0.0  \n",
       "45                0.0  \n",
       "46                0.0  \n",
       "47                0.0  \n",
       "48                0.0  \n",
       "49                0.0  \n",
       "50                0.0  \n",
       "51                0.0  \n",
       "52                0.0  \n",
       "53                0.0  \n",
       "54                0.0  \n",
       "55                0.0  \n",
       "56                0.0  \n",
       "57                0.0  \n",
       "58                0.0  \n",
       "59                0.0  "
      ]
     },
     "execution_count": 4,
     "metadata": {},
     "output_type": "execute_result"
    }
   ],
   "source": [
    "df"
   ]
  },
  {
   "cell_type": "code",
   "execution_count": 5,
   "metadata": {},
   "outputs": [
    {
     "data": {
      "text/plain": [
       "Text(0.5, 1.0, '')"
      ]
     },
     "execution_count": 5,
     "metadata": {},
     "output_type": "execute_result"
    },
    {
     "data": {
      "image/png": "[encoded data removed]",
      "text/plain": [
       "<Figure size 640x480 with 1 Axes>"
      ]
     },
     "metadata": {},
     "output_type": "display_data"
    }
   ],
   "source": [
    "import plotly.express as px\n",
    "import pandas as pd\n",
    "\n",
    "from plotly.subplots import make_subplots\n",
    "import plotly.graph_objects as go\n",
    "\n",
    "\n",
    "hue = \"arc_latent_volume\"\n",
    "xplot = \"arc_encoder_blocks\"\n",
    "yplot = \"test_Accuracy\"\n",
    "\n",
    "extra_info = [\n",
    "    \"arc_num_params\",\n",
    "    \"arc_features\",\n",
    "    \"arc_encoder_blocks\",\n",
    "    \"arc_latent_volume\",\n",
    "    \"arc_skip\",\n",
    "]\n",
    "\n",
    "f = sns.boxplot(df, x='arc_features', y = 'test_Accuracy', hue='arc_skip')\n",
    "f.grid()\n",
    "f.set_title('')"
   ]
  },
  {
   "cell_type": "code",
   "execution_count": 6,
   "metadata": {},
   "outputs": [
    {
     "data": {
      "image/png": "[encoded data removed]",
      "text/plain": [
       "<Figure size 1200x600 with 2 Axes>"
      ]
     },
     "metadata": {},
     "output_type": "display_data"
    }
   ],
   "source": [
    "import matplotlib.pyplot as plt\n",
    "import seaborn as sns\n",
    "\n",
    "fig, ax = plt.subplots(1, 2, figsize=(12, 6))\n",
    "\n",
    "xplot = \"arc_latent_volume\"\n",
    "yplot = \"test_Accuracy\"\n",
    "# hue = \"arc_latent_volume\"\n",
    "# size = \"arc_num_conv\"\n",
    "size = None\n",
    "hue = \"arc_features\"\n",
    "style = None\n",
    "extra_info = [\n",
    "    \"test_file\",\n",
    "    \"arc_num_params\",\n",
    "    \"arc_features\",\n",
    "    \"arc_encoder_blocks\",\n",
    "    \"arc_latent_volume\", \n",
    "    \"arc_skip\",\n",
    "]\n",
    "\n",
    "df0 = df.query(\"arc_skip == 0\")\n",
    "df1 = df.query(\"arc_skip == 1\")\n",
    "\n",
    "sns.scatterplot(\n",
    "    data=df0, x=xplot, y=yplot, hue=hue, style=style, ax=ax[0], size=size, legend=False\n",
    ")\n",
    "sns.scatterplot(data=df1, x=xplot, y=yplot, hue=hue, style=style, size=size, ax=ax[1])\n",
    "\n",
    "for a in ax:\n",
    "    a.grid()\n",
    "    a.set_xlabel(a.get_xlabel(), fontsize=14)\n",
    "    a.set_ylabel(a.get_ylabel(), fontsize=14)\n",
    "    a.tick_params(axis=\"both\", which=\"major\", labelsize=12)\n",
    "\n",
    "ax[1].legend(\n",
    "    bbox_to_anchor=(1.01, 1),\n",
    "    loc=2,\n",
    "    borderaxespad=0.0,\n",
    "    fontsize=12,\n",
    "    title_fontsize=14,\n",
    ")\n",
    "fig.suptitle(\"Test Accuracy vs # Params\", fontsize=16)\n",
    "ax[0].set_title(\"No skip\", fontsize=14)\n",
    "ax[1].set_title(\"Skip\", fontsize=14)\n",
    "\n",
    "fig.tight_layout()\n",
    "plt.show()"
   ]
  },
  {
   "cell_type": "code",
   "execution_count": 7,
   "metadata": {},
   "outputs": [
    {
     "data": {
      "text/html": [
       "<div>\n",
       "<style scoped>\n",
       "    .dataframe tbody tr th:only-of-type {\n",
       "        vertical-align: middle;\n",
       "    }\n",
       "\n",
       "    .dataframe tbody tr th {\n",
       "        vertical-align: top;\n",
       "    }\n",
       "\n",
       "    .dataframe thead th {\n",
       "        text-align: right;\n",
       "    }\n",
       "</style>\n",
       "<table border=\"1\" class=\"dataframe\">\n",
       "  <thead>\n",
       "    <tr style=\"text-align: right;\">\n",
       "      <th></th>\n",
       "      <th>run_name</th>\n",
       "      <th>arc_features</th>\n",
       "      <th>arc_encoder_blocks</th>\n",
       "      <th>arc_num_params</th>\n",
       "      <th>arc_latent_volume</th>\n",
       "      <th>arc_num_conv</th>\n",
       "      <th>arc_skip</th>\n",
       "      <th>train_loss</th>\n",
       "      <th>valid_loss</th>\n",
       "      <th>test_loss</th>\n",
       "      <th>valid_F1</th>\n",
       "      <th>train_F1</th>\n",
       "      <th>test_F1</th>\n",
       "      <th>train_Accuracy</th>\n",
       "      <th>valid_Accuracy</th>\n",
       "      <th>test_Accuracy</th>\n",
       "      <th>train_Accuracy_seq</th>\n",
       "      <th>valid_Accuracy_seq</th>\n",
       "      <th>test_Accuracy_seq</th>\n",
       "    </tr>\n",
       "  </thead>\n",
       "  <tbody>\n",
       "  </tbody>\n",
       "</table>\n",
       "</div>"
      ],
      "text/plain": [
       "Empty DataFrame\n",
       "Columns: [run_name, arc_features, arc_encoder_blocks, arc_num_params, arc_latent_volume, arc_num_conv, arc_skip, train_loss, valid_loss, test_loss, valid_F1, train_F1, test_F1, train_Accuracy, valid_Accuracy, test_Accuracy, train_Accuracy_seq, valid_Accuracy_seq, test_Accuracy_seq]\n",
       "Index: []"
      ]
     },
     "execution_count": 7,
     "metadata": {},
     "output_type": "execute_result"
    }
   ],
   "source": [
    "df.query(\"arc_latent_volume == 1024.0\")"
   ]
  },
  {
   "cell_type": "code",
   "execution_count": 8,
   "metadata": {},
   "outputs": [
    {
     "data": {
      "text/plain": [
       "Index(['run_name', 'arc_features', 'arc_encoder_blocks', 'arc_num_params',\n",
       "       'arc_latent_volume', 'arc_num_conv', 'arc_skip', 'train_loss',\n",
       "       'valid_loss', 'test_loss', 'valid_F1', 'train_F1', 'test_F1',\n",
       "       'train_Accuracy', 'valid_Accuracy', 'test_Accuracy',\n",
       "       'train_Accuracy_seq', 'valid_Accuracy_seq', 'test_Accuracy_seq'],\n",
       "      dtype='object')"
      ]
     },
     "execution_count": 8,
     "metadata": {},
     "output_type": "execute_result"
    }
   ],
   "source": [
    "df.columns"
   ]
  },
  {
   "cell_type": "code",
   "execution_count": 9,
   "metadata": {},
   "outputs": [
    {
     "name": "stderr",
     "output_type": "stream",
     "text": [
      "/tmp/ipykernel_3534415/848854718.py:34: UserWarning:\n",
      "\n",
      "No artists with labels found to put in legend.  Note that artists whose label start with an underscore are ignored when legend() is called with no argument.\n",
      "\n"
     ]
    },
    {
     "data": {
      "image/png": "[encoded data removed]",
      "text/plain": [
       "<Figure size 1200x600 with 2 Axes>"
      ]
     },
     "metadata": {},
     "output_type": "display_data"
    }
   ],
   "source": [
    "import matplotlib.pyplot as plt\n",
    "import seaborn as sns\n",
    "\n",
    "fig, ax = plt.subplots(1, 2, figsize=(12, 6), sharey=True)\n",
    "\n",
    "yplot = \"arc_features\"\n",
    "xplot = \"test_Accuracy\"\n",
    "# hue = \"arc_latent_volume\"\n",
    "# size = \"arc_num_conv\"\n",
    "size = None\n",
    "hue = None\n",
    "style = None\n",
    "extra_info = [\n",
    "    \"test_file\",\n",
    "    \"arc_num_params\",\n",
    "    \"arc_features\",\n",
    "    \"arc_encoder_blocks\",\n",
    "    \"arc_latent_volume\", \n",
    "    \"arc_skip\",\n",
    "]\n",
    "\n",
    "df0 = df.query(\"arc_skip == 0\")\n",
    "df1 = df.query(\"arc_skip == 1\")\n",
    "\n",
    "sns.boxplot(data=df0, x=xplot, y=yplot, hue=hue, ax=ax[0], legend=False)\n",
    "sns.boxplot(data=df1, x=xplot, y=yplot, hue=hue, ax=ax[1])\n",
    "\n",
    "for a in ax:\n",
    "    a.grid()\n",
    "    a.set_xlabel(a.get_xlabel(), fontsize=14)\n",
    "    a.set_ylabel(a.get_ylabel(), fontsize=14)\n",
    "    a.tick_params(axis=\"both\", which=\"major\", labelsize=12)\n",
    "\n",
    "ax[1].legend(\n",
    "    bbox_to_anchor=(1.01, 1),\n",
    "    loc=2,\n",
    "    borderaxespad=0.0,\n",
    "    fontsize=12,\n",
    "    title_fontsize=14,\n",
    ")\n",
    "fig.suptitle(\"Test Accuracy vs Channels\", fontsize=16)\n",
    "ax[0].set_title(\"No skip\", fontsize=14)\n",
    "ax[1].set_title(\"Skip\", fontsize=14)\n",
    "\n",
    "fig.tight_layout()\n",
    "plt.show()"
   ]
  },
  {
   "cell_type": "code",
   "execution_count": 12,
   "metadata": {},
   "outputs": [
    {
     "name": "stderr",
     "output_type": "stream",
     "text": [
      "/tmp/ipykernel_3534415/2032442897.py:34: UserWarning:\n",
      "\n",
      "No artists with labels found to put in legend.  Note that artists whose label start with an underscore are ignored when legend() is called with no argument.\n",
      "\n"
     ]
    },
    {
     "data": {
      "image/png": "[encoded data removed]",
      "text/plain": [
       "<Figure size 1200x600 with 2 Axes>"
      ]
     },
     "metadata": {},
     "output_type": "display_data"
    }
   ],
   "source": [
    "import matplotlib.pyplot as plt\n",
    "import seaborn as sns\n",
    "\n",
    "fig, ax = plt.subplots(1, 2, figsize=(12, 6), sharey=True)\n",
    "\n",
    "yplot = \"arc_features\"\n",
    "xplot = \"train_Accuracy\"\n",
    "# hue = \"arc_latent_volume\"\n",
    "# size = \"arc_num_conv\"\n",
    "size = None\n",
    "hue = None\n",
    "style = None\n",
    "extra_info = [\n",
    "    \"test_file\",\n",
    "    \"arc_num_params\",\n",
    "    \"arc_features\",\n",
    "    \"arc_encoder_blocks\",\n",
    "    \"arc_latent_volume\", \n",
    "    \"arc_skip\",\n",
    "]\n",
    "\n",
    "df0 = df.query(\"arc_skip == 0\")\n",
    "df1 = df.query(\"arc_skip == 1\")\n",
    "\n",
    "sns.boxplot(data=df0, x=xplot, y=yplot, hue=hue, ax=ax[0], legend=False)\n",
    "sns.boxplot(data=df1, x=xplot, y=yplot, hue=hue, ax=ax[1])\n",
    "\n",
    "for a in ax:\n",
    "    a.grid()\n",
    "    a.set_xlabel(a.get_xlabel(), fontsize=14)\n",
    "    a.set_ylabel(a.get_ylabel(), fontsize=14)\n",
    "    a.tick_params(axis=\"both\", which=\"major\", labelsize=12)\n",
    "\n",
    "ax[1].legend(\n",
    "    bbox_to_anchor=(1.01, 1),\n",
    "    loc=2,\n",
    "    borderaxespad=0.0,\n",
    "    fontsize=12,\n",
    "    title_fontsize=14,\n",
    ")\n",
    "fig.suptitle(\"Test Accuracy vs Channels\", fontsize=16)\n",
    "ax[0].set_title(\"No skip\", fontsize=14)\n",
    "ax[1].set_title(\"Skip\", fontsize=14)\n",
    "\n",
    "fig.tight_layout()\n",
    "plt.show()"
   ]
  },
  {
   "cell_type": "code",
   "execution_count": 10,
   "metadata": {},
   "outputs": [
    {
     "name": "stderr",
     "output_type": "stream",
     "text": [
      "/tmp/ipykernel_3534415/2238669742.py:37: UserWarning:\n",
      "\n",
      "set_ticklabels() should only be used with a fixed number of ticks, i.e. after set_ticks() or using a FixedLocator.\n",
      "\n",
      "/tmp/ipykernel_3534415/2238669742.py:37: UserWarning:\n",
      "\n",
      "set_ticklabels() should only be used with a fixed number of ticks, i.e. after set_ticks() or using a FixedLocator.\n",
      "\n"
     ]
    },
    {
     "data": {
      "image/png": "[encoded data removed]",
      "text/plain": [
       "<Figure size 1200x600 with 2 Axes>"
      ]
     },
     "metadata": {},
     "output_type": "display_data"
    }
   ],
   "source": [
    "import matplotlib.pyplot as plt\n",
    "import seaborn as sns\n",
    "\n",
    "fig, ax = plt.subplots(1, 2, figsize=(12, 6), sharey=True)\n",
    "\n",
    "xplot = \"arc_num_params\"\n",
    "yplot = \"test_Accuracy\"\n",
    "hue = \"arc_latent_volume\"\n",
    "extra_info = [\n",
    "    \"test_file\",\n",
    "    \"arc_num_params\",\n",
    "    \"arc_features\",\n",
    "    \"arc_encoder_blocks\",\n",
    "    \"arc_latent_volume\",\n",
    "    \"arc_num_conv\",\n",
    "    \"arc_skip\",\n",
    "]\n",
    "\n",
    "df0 = df.query(\"arc_skip == 0 and arc_num_params < 30000\")\n",
    "df1 = df.query(\"arc_skip == 1 and arc_num_params < 30000\")\n",
    "\n",
    "sns.scatterplot(\n",
    "    data=df0.sort_values(by=\"test_Accuracy\", ascending=False),\n",
    "    x=xplot,\n",
    "    y=yplot,\n",
    "    hue=hue,\n",
    "    ax=ax[0],\n",
    "    legend=False,\n",
    ")\n",
    "sns.scatterplot(data=df1, x=xplot, y=yplot, hue=hue, ax=ax[1])\n",
    "\n",
    "for a in ax:\n",
    "    a.grid()\n",
    "    a.set_xlabel(a.get_xlabel(), fontsize=14)\n",
    "    a.set_ylabel(a.get_ylabel(), fontsize=14)\n",
    "    a.tick_params(axis=\"both\", which=\"major\", labelsize=12)\n",
    "    a.set_xticklabels(a.get_xticklabels(), rotation=45)\n",
    "\n",
    "ax[1].legend(\n",
    "    bbox_to_anchor=(1.01, 1),\n",
    "    loc=2,\n",
    "    borderaxespad=0.0,\n",
    "    fontsize=12,\n",
    "    title_fontsize=14,\n",
    ")\n",
    "fig.suptitle(\"Features vs Test Accuracy\", fontsize=16)\n",
    "ax[0].set_title(\"No skip\", fontsize=14)\n",
    "ax[1].set_title(\"Skip\", fontsize=14)\n",
    "\n",
    "fig.tight_layout()\n",
    "plt.show()"
   ]
  },
  {
   "cell_type": "code",
   "execution_count": 11,
   "metadata": {},
   "outputs": [
    {
     "name": "stderr",
     "output_type": "stream",
     "text": [
      "/tmp/ipykernel_3534415/3437632385.py:36: UserWarning:\n",
      "\n",
      "set_ticklabels() should only be used with a fixed number of ticks, i.e. after set_ticks() or using a FixedLocator.\n",
      "\n",
      "/tmp/ipykernel_3534415/3437632385.py:36: UserWarning:\n",
      "\n",
      "set_ticklabels() should only be used with a fixed number of ticks, i.e. after set_ticks() or using a FixedLocator.\n",
      "\n",
      "/tmp/ipykernel_3534415/3437632385.py:38: UserWarning:\n",
      "\n",
      "No artists with labels found to put in legend.  Note that artists whose label start with an underscore are ignored when legend() is called with no argument.\n",
      "\n"
     ]
    },
    {
     "data": {
      "image/png": "[encoded data removed]",
      "text/plain": [
       "<Figure size 1600x600 with 2 Axes>"
      ]
     },
     "metadata": {},
     "output_type": "display_data"
    }
   ],
   "source": [
    "import matplotlib.pyplot as plt\n",
    "import seaborn as sns\n",
    "\n",
    "fig, ax = plt.subplots(1, 2, figsize=(16, 6), sharey=True)\n",
    "\n",
    "xplot = \"arc_latent_volume\"\n",
    "yplot = \"test_Accuracy\"\n",
    "hue = None\n",
    "extra_info = [\n",
    "    \"test_file\",\n",
    "    \"arc_num_params\",\n",
    "    \"arc_features\",\n",
    "    \"arc_encoder_blocks\",\n",
    "    \"arc_latent_volume\",\n",
    "    \"arc_skip\",\n",
    "]\n",
    "\n",
    "df0 = df.query(\"arc_skip == 0\")\n",
    "df1 = df.query(\"arc_skip == 1\")\n",
    "\n",
    "sns.boxplot(\n",
    "    data=df0.sort_values(by=\"test_Accuracy\"),\n",
    "    x=xplot,\n",
    "    y=yplot,\n",
    "    hue=hue,\n",
    "    ax=ax[0],\n",
    "    legend=False,\n",
    ")\n",
    "sns.boxplot(data=df1, x=xplot, y=yplot, hue=hue, ax=ax[1])\n",
    "\n",
    "for a in ax:\n",
    "    a.grid()\n",
    "    a.set_xlabel(a.get_xlabel(), fontsize=14)\n",
    "    a.set_ylabel(a.get_ylabel(), fontsize=14)\n",
    "    a.tick_params(axis=\"both\", which=\"major\", labelsize=12)\n",
    "    a.set_xticklabels(a.get_xticklabels(), rotation=90)\n",
    "\n",
    "ax[1].legend(\n",
    "    bbox_to_anchor=(1.01, 1),\n",
    "    loc=2,\n",
    "    borderaxespad=0.0,\n",
    "    fontsize=12,\n",
    "    title_fontsize=14,\n",
    ")\n",
    "fig.suptitle(\"Test Accuracy vs Latent dim\", fontsize=16)\n",
    "ax[0].set_title(\"No skip\", fontsize=14)\n",
    "ax[1].set_title(\"Skip\", fontsize=14)\n",
    "\n",
    "fig.tight_layout()\n",
    "plt.show()"
   ]
  },
  {
   "cell_type": "code",
   "execution_count": null,
   "metadata": {},
   "outputs": [],
   "source": []
  },
  {
   "cell_type": "code",
   "execution_count": null,
   "metadata": {},
   "outputs": [],
   "source": []
  }
 ],
 "metadata": {
  "kernelspec": {
   "display_name": "Experiments",
   "language": "python",
   "name": "python3"
  },
  "language_info": {
   "codemirror_mode": {
    "name": "ipython",
    "version": 3
   },
   "file_extension": ".py",
   "mimetype": "text/x-python",
   "name": "python",
   "nbconvert_exporter": "python",
   "pygments_lexer": "ipython3",
   "version": "3.10.16"
  }
 },
 "nbformat": 4,
 "nbformat_minor": 2
}
