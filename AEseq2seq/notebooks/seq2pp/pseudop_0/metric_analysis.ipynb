{
 "cells": [
  {
   "cell_type": "code",
   "execution_count": 1,
   "metadata": {},
   "outputs": [],
   "source": [
    "import pandas as pd\n",
    "import matplotlib.pyplot as plt\n",
    "\n",
    "import seaborn as sns"
   ]
  },
  {
   "cell_type": "code",
   "execution_count": 2,
   "metadata": {},
   "outputs": [
    {
     "name": "stdout",
     "output_type": "stream",
     "text": [
      "(32, 19)\n",
      "Index(['run_name', 'arc_features', 'arc_encoder_blocks', 'arc_num_params',\n",
      "       'arc_latent_volume', 'arc_num_conv', 'arc_skip', 'train_loss',\n",
      "       'valid_loss', 'test_loss', 'valid_F1', 'train_F1', 'test_F1',\n",
      "       'train_Accuracy', 'valid_Accuracy', 'test_Accuracy',\n",
      "       'train_Accuracy_seq', 'valid_Accuracy_seq', 'test_Accuracy_seq'],\n",
      "      dtype='object')\n"
     ]
    },
    {
     "data": {
      "text/html": [
       "<div>\n",
       "<style scoped>\n",
       "    .dataframe tbody tr th:only-of-type {\n",
       "        vertical-align: middle;\n",
       "    }\n",
       "\n",
       "    .dataframe tbody tr th {\n",
       "        vertical-align: top;\n",
       "    }\n",
       "\n",
       "    .dataframe thead th {\n",
       "        text-align: right;\n",
       "    }\n",
       "</style>\n",
       "<table border=\"1\" class=\"dataframe\">\n",
       "  <thead>\n",
       "    <tr style=\"text-align: right;\">\n",
       "      <th></th>\n",
       "      <th>run_name</th>\n",
       "      <th>arc_features</th>\n",
       "      <th>arc_encoder_blocks</th>\n",
       "      <th>arc_num_params</th>\n",
       "      <th>arc_latent_volume</th>\n",
       "      <th>arc_num_conv</th>\n",
       "      <th>arc_skip</th>\n",
       "      <th>train_loss</th>\n",
       "      <th>valid_loss</th>\n",
       "      <th>test_loss</th>\n",
       "      <th>valid_F1</th>\n",
       "      <th>train_F1</th>\n",
       "      <th>test_F1</th>\n",
       "      <th>train_Accuracy</th>\n",
       "      <th>valid_Accuracy</th>\n",
       "      <th>test_Accuracy</th>\n",
       "      <th>train_Accuracy_seq</th>\n",
       "      <th>valid_Accuracy_seq</th>\n",
       "      <th>test_Accuracy_seq</th>\n",
       "    </tr>\n",
       "  </thead>\n",
       "  <tbody>\n",
       "    <tr>\n",
       "      <th>15</th>\n",
       "      <td>pseudop_nc_2_n4_0_n8_0_skip0</td>\n",
       "      <td>[4]</td>\n",
       "      <td>0</td>\n",
       "      <td>125</td>\n",
       "      <td>512.0</td>\n",
       "      <td>2</td>\n",
       "      <td>0</td>\n",
       "      <td>0.157223</td>\n",
       "      <td>0.170766</td>\n",
       "      <td>0.170921</td>\n",
       "      <td>0.673847</td>\n",
       "      <td>0.757239</td>\n",
       "      <td>0.688289</td>\n",
       "      <td>0.716411</td>\n",
       "      <td>0.660512</td>\n",
       "      <td>0.652342</td>\n",
       "      <td>0.0</td>\n",
       "      <td>0.0</td>\n",
       "      <td>0.0</td>\n",
       "    </tr>\n",
       "    <tr>\n",
       "      <th>8</th>\n",
       "      <td>pseudop_nc_2_n4_3_n8_0_skip1</td>\n",
       "      <td>[4, 4, 4, 4]</td>\n",
       "      <td>3</td>\n",
       "      <td>989</td>\n",
       "      <td>64.0</td>\n",
       "      <td>2</td>\n",
       "      <td>1</td>\n",
       "      <td>0.098352</td>\n",
       "      <td>0.146095</td>\n",
       "      <td>0.129906</td>\n",
       "      <td>0.744471</td>\n",
       "      <td>0.859497</td>\n",
       "      <td>0.798789</td>\n",
       "      <td>0.837009</td>\n",
       "      <td>0.729025</td>\n",
       "      <td>0.766946</td>\n",
       "      <td>0.0</td>\n",
       "      <td>0.0</td>\n",
       "      <td>0.0</td>\n",
       "    </tr>\n",
       "  </tbody>\n",
       "</table>\n",
       "</div>"
      ],
      "text/plain": [
       "                        run_name  arc_features  arc_encoder_blocks  \\\n",
       "15  pseudop_nc_2_n4_0_n8_0_skip0           [4]                   0   \n",
       "8   pseudop_nc_2_n4_3_n8_0_skip1  [4, 4, 4, 4]                   3   \n",
       "\n",
       "    arc_num_params  arc_latent_volume  arc_num_conv  arc_skip  train_loss  \\\n",
       "15             125              512.0             2         0    0.157223   \n",
       "8              989               64.0             2         1    0.098352   \n",
       "\n",
       "    valid_loss  test_loss  valid_F1  train_F1   test_F1  train_Accuracy  \\\n",
       "15    0.170766   0.170921  0.673847  0.757239  0.688289        0.716411   \n",
       "8     0.146095   0.129906  0.744471  0.859497  0.798789        0.837009   \n",
       "\n",
       "    valid_Accuracy  test_Accuracy  train_Accuracy_seq  valid_Accuracy_seq  \\\n",
       "15        0.660512       0.652342                 0.0                 0.0   \n",
       "8         0.729025       0.766946                 0.0                 0.0   \n",
       "\n",
       "    test_Accuracy_seq  \n",
       "15                0.0  \n",
       "8                 0.0  "
      ]
     },
     "execution_count": 2,
     "metadata": {},
     "output_type": "execute_result"
    }
   ],
   "source": [
    "df = pd.read_csv(\"metrics.csv\") \n",
    "\n",
    "\n",
    "print(df.shape)\n",
    "print(df.columns)\n",
    "df.sample(2)"
   ]
  },
  {
   "cell_type": "code",
   "execution_count": 3,
   "metadata": {},
   "outputs": [
    {
     "data": {
      "application/vnd.plotly.v1+json": {
       "config": {
        "plotlyServerURL": "https://plot.ly"
       },
       "data": [
        {
         "customdata": [
          [
           1349,
           "[4, 4, 4, 4, 8]",
           64,
           0
          ],
          [
           1109,
           "[4, 4, 4, 8]",
           128,
           0
          ],
          [
           869,
           "[4, 4, 8]",
           256,
           0
          ],
          [
           629,
           "[4, 8]",
           512,
           0
          ],
          [
           845,
           "[4, 4, 4, 4]",
           64,
           0
          ],
          [
           605,
           "[4, 4, 4]",
           128,
           0
          ],
          [
           365,
           "[4, 4]",
           256,
           0
          ],
          [
           125,
           "[4]",
           512,
           0
          ],
          [
           653,
           "[4, 4, 4, 4, 8]",
           64,
           0
          ],
          [
           533,
           "[4, 4, 4, 8]",
           128,
           0
          ],
          [
           413,
           "[4, 4, 8]",
           256,
           0
          ],
          [
           293,
           "[4, 8]",
           512,
           0
          ],
          [
           425,
           "[4, 4, 4, 4]",
           64,
           0
          ],
          [
           305,
           "[4, 4, 4]",
           128,
           0
          ],
          [
           185,
           "[4, 4]",
           256,
           0
          ],
          [
           65,
           "[4]",
           512,
           0
          ]
         ],
         "hovertemplate": "arc_encoder_blocks=%{x}<br>test_Accuracy=%{y}<br>arc_num_params=%{customdata[0]}<br>arc_features=%{customdata[1]}<br>arc_latent_volume=%{marker.color}<br>arc_skip=%{customdata[3]}<extra></extra>",
         "legendgroup": "",
         "marker": {
          "color": {
           "bdata": "AAAAAAAAUEAAAAAAAABgQAAAAAAAAHBAAAAAAAAAgEAAAAAAAABQQAAAAAAAAGBAAAAAAAAAcEAAAAAAAACAQAAAAAAAAFBAAAAAAAAAYEAAAAAAAABwQAAAAAAAAIBAAAAAAAAAUEAAAAAAAABgQAAAAAAAAHBAAAAAAAAAgEA=",
           "dtype": "f8"
          },
          "coloraxis": "coloraxis",
          "symbol": "circle"
         },
         "mode": "markers",
         "name": "",
         "orientation": "v",
         "showlegend": false,
         "type": "scatter",
         "x": {
          "bdata": "BAMCAQMCAQAEAwIBAwIBAA==",
          "dtype": "i1"
         },
         "xaxis": "x",
         "y": {
          "bdata": "9a0T4u+c6D99grWpIMHnP4JD4TQDc+Y/4F5RVrE+5z8kgywhlSHlP4zntvPbtuU/fYxQyh9L5j/NHDFy/N/kP8xq7VQBxuc/HL+FR1xO5T8oauHi5PPmP2BiWkF6X+Y/aSGluVbh5D/Qxr/ZSQHnP4FAGtERwuY/6lb+rx0A5T8=",
          "dtype": "f8"
         },
         "yaxis": "y"
        },
        {
         "customdata": [
          [
           1541,
           "[4, 4, 4, 4, 8]",
           64,
           1
          ],
          [
           1253,
           "[4, 4, 4, 8]",
           128,
           1
          ],
          [
           965,
           "[4, 4, 8]",
           256,
           1
          ],
          [
           677,
           "[4, 8]",
           512,
           1
          ],
          [
           989,
           "[4, 4, 4, 4]",
           64,
           1
          ],
          [
           701,
           "[4, 4, 4]",
           128,
           1
          ],
          [
           413,
           "[4, 4]",
           256,
           1
          ],
          [
           125,
           "[4]",
           512,
           1
          ],
          [
           845,
           "[4, 4, 4, 4, 8]",
           64,
           1
          ],
          [
           677,
           "[4, 4, 4, 8]",
           128,
           1
          ],
          [
           509,
           "[4, 4, 8]",
           256,
           1
          ],
          [
           341,
           "[4, 8]",
           512,
           1
          ],
          [
           569,
           "[4, 4, 4, 4]",
           64,
           1
          ],
          [
           401,
           "[4, 4, 4]",
           128,
           1
          ],
          [
           233,
           "[4, 4]",
           256,
           1
          ],
          [
           65,
           "[4]",
           512,
           1
          ]
         ],
         "hovertemplate": "arc_encoder_blocks=%{x}<br>test_Accuracy=%{y}<br>arc_num_params=%{customdata[0]}<br>arc_features=%{customdata[1]}<br>arc_latent_volume=%{marker.color}<br>arc_skip=%{customdata[3]}<extra></extra>",
         "legendgroup": "",
         "marker": {
          "color": {
           "bdata": "AAAAAAAAUEAAAAAAAABgQAAAAAAAAHBAAAAAAAAAgEAAAAAAAABQQAAAAAAAAGBAAAAAAAAAcEAAAAAAAACAQAAAAAAAAFBAAAAAAAAAYEAAAAAAAABwQAAAAAAAAIBAAAAAAAAAUEAAAAAAAABgQAAAAAAAAHBAAAAAAAAAgEA=",
           "dtype": "f8"
          },
          "coloraxis": "coloraxis",
          "symbol": "circle"
         },
         "mode": "markers",
         "name": "",
         "orientation": "v",
         "showlegend": false,
         "type": "scatter",
         "x": {
          "bdata": "BAMCAQMCAQAEAwIBAwIBAA==",
          "dtype": "i1"
         },
         "xaxis": "x2",
         "y": {
          "bdata": "8YFipLiy6T9wXoSgeBTpP/ycv5kXh+c/9rsRXk/J5z/LIIBN0oroP17Kf3lHTOg/EhdmsL335j/NHDFy/N/kP41M9ApnHuk/jey6EN1J5z+mtYSI65rnPw5Qbwk8DeU/YsjJSgFY6D/r8nTdZGDnP2w6ghe2Juc/6lb+rx0A5T8=",
          "dtype": "f8"
         },
         "yaxis": "y2"
        }
       ],
       "layout": {
        "annotations": [
         {
          "font": {
           "size": 16
          },
          "showarrow": false,
          "text": "arc_skip == 0",
          "x": 0.225,
          "xanchor": "center",
          "xref": "paper",
          "y": 1,
          "yanchor": "bottom",
          "yref": "paper"
         },
         {
          "font": {
           "size": 16
          },
          "showarrow": false,
          "text": "arc_skip == 1",
          "x": 0.775,
          "xanchor": "center",
          "xref": "paper",
          "y": 1,
          "yanchor": "bottom",
          "yref": "paper"
         }
        ],
        "height": 500,
        "legend": {
         "title": {
          "text": "Num Params"
         }
        },
        "showlegend": true,
        "template": {
         "data": {
          "bar": [
           {
            "error_x": {
             "color": "#2a3f5f"
            },
            "error_y": {
             "color": "#2a3f5f"
            },
            "marker": {
             "line": {
              "color": "#E5ECF6",
              "width": 0.5
             },
             "pattern": {
              "fillmode": "overlay",
              "size": 10,
              "solidity": 0.2
             }
            },
            "type": "bar"
           }
          ],
          "barpolar": [
           {
            "marker": {
             "line": {
              "color": "#E5ECF6",
              "width": 0.5
             },
             "pattern": {
              "fillmode": "overlay",
              "size": 10,
              "solidity": 0.2
             }
            },
            "type": "barpolar"
           }
          ],
          "carpet": [
           {
            "aaxis": {
             "endlinecolor": "#2a3f5f",
             "gridcolor": "white",
             "linecolor": "white",
             "minorgridcolor": "white",
             "startlinecolor": "#2a3f5f"
            },
            "baxis": {
             "endlinecolor": "#2a3f5f",
             "gridcolor": "white",
             "linecolor": "white",
             "minorgridcolor": "white",
             "startlinecolor": "#2a3f5f"
            },
            "type": "carpet"
           }
          ],
          "choropleth": [
           {
            "colorbar": {
             "outlinewidth": 0,
             "ticks": ""
            },
            "type": "choropleth"
           }
          ],
          "contour": [
           {
            "colorbar": {
             "outlinewidth": 0,
             "ticks": ""
            },
            "colorscale": [
             [
              0,
              "#0d0887"
             ],
             [
              0.1111111111111111,
              "#46039f"
             ],
             [
              0.2222222222222222,
              "#7201a8"
             ],
             [
              0.3333333333333333,
              "#9c179e"
             ],
             [
              0.4444444444444444,
              "#bd3786"
             ],
             [
              0.5555555555555556,
              "#d8576b"
             ],
             [
              0.6666666666666666,
              "#ed7953"
             ],
             [
              0.7777777777777778,
              "#fb9f3a"
             ],
             [
              0.8888888888888888,
              "#fdca26"
             ],
             [
              1,
              "#f0f921"
             ]
            ],
            "type": "contour"
           }
          ],
          "contourcarpet": [
           {
            "colorbar": {
             "outlinewidth": 0,
             "ticks": ""
            },
            "type": "contourcarpet"
           }
          ],
          "heatmap": [
           {
            "colorbar": {
             "outlinewidth": 0,
             "ticks": ""
            },
            "colorscale": [
             [
              0,
              "#0d0887"
             ],
             [
              0.1111111111111111,
              "#46039f"
             ],
             [
              0.2222222222222222,
              "#7201a8"
             ],
             [
              0.3333333333333333,
              "#9c179e"
             ],
             [
              0.4444444444444444,
              "#bd3786"
             ],
             [
              0.5555555555555556,
              "#d8576b"
             ],
             [
              0.6666666666666666,
              "#ed7953"
             ],
             [
              0.7777777777777778,
              "#fb9f3a"
             ],
             [
              0.8888888888888888,
              "#fdca26"
             ],
             [
              1,
              "#f0f921"
             ]
            ],
            "type": "heatmap"
           }
          ],
          "histogram": [
           {
            "marker": {
             "pattern": {
              "fillmode": "overlay",
              "size": 10,
              "solidity": 0.2
             }
            },
            "type": "histogram"
           }
          ],
          "histogram2d": [
           {
            "colorbar": {
             "outlinewidth": 0,
             "ticks": ""
            },
            "colorscale": [
             [
              0,
              "#0d0887"
             ],
             [
              0.1111111111111111,
              "#46039f"
             ],
             [
              0.2222222222222222,
              "#7201a8"
             ],
             [
              0.3333333333333333,
              "#9c179e"
             ],
             [
              0.4444444444444444,
              "#bd3786"
             ],
             [
              0.5555555555555556,
              "#d8576b"
             ],
             [
              0.6666666666666666,
              "#ed7953"
             ],
             [
              0.7777777777777778,
              "#fb9f3a"
             ],
             [
              0.8888888888888888,
              "#fdca26"
             ],
             [
              1,
              "#f0f921"
             ]
            ],
            "type": "histogram2d"
           }
          ],
          "histogram2dcontour": [
           {
            "colorbar": {
             "outlinewidth": 0,
             "ticks": ""
            },
            "colorscale": [
             [
              0,
              "#0d0887"
             ],
             [
              0.1111111111111111,
              "#46039f"
             ],
             [
              0.2222222222222222,
              "#7201a8"
             ],
             [
              0.3333333333333333,
              "#9c179e"
             ],
             [
              0.4444444444444444,
              "#bd3786"
             ],
             [
              0.5555555555555556,
              "#d8576b"
             ],
             [
              0.6666666666666666,
              "#ed7953"
             ],
             [
              0.7777777777777778,
              "#fb9f3a"
             ],
             [
              0.8888888888888888,
              "#fdca26"
             ],
             [
              1,
              "#f0f921"
             ]
            ],
            "type": "histogram2dcontour"
           }
          ],
          "mesh3d": [
           {
            "colorbar": {
             "outlinewidth": 0,
             "ticks": ""
            },
            "type": "mesh3d"
           }
          ],
          "parcoords": [
           {
            "line": {
             "colorbar": {
              "outlinewidth": 0,
              "ticks": ""
             }
            },
            "type": "parcoords"
           }
          ],
          "pie": [
           {
            "automargin": true,
            "type": "pie"
           }
          ],
          "scatter": [
           {
            "fillpattern": {
             "fillmode": "overlay",
             "size": 10,
             "solidity": 0.2
            },
            "type": "scatter"
           }
          ],
          "scatter3d": [
           {
            "line": {
             "colorbar": {
              "outlinewidth": 0,
              "ticks": ""
             }
            },
            "marker": {
             "colorbar": {
              "outlinewidth": 0,
              "ticks": ""
             }
            },
            "type": "scatter3d"
           }
          ],
          "scattercarpet": [
           {
            "marker": {
             "colorbar": {
              "outlinewidth": 0,
              "ticks": ""
             }
            },
            "type": "scattercarpet"
           }
          ],
          "scattergeo": [
           {
            "marker": {
             "colorbar": {
              "outlinewidth": 0,
              "ticks": ""
             }
            },
            "type": "scattergeo"
           }
          ],
          "scattergl": [
           {
            "marker": {
             "colorbar": {
              "outlinewidth": 0,
              "ticks": ""
             }
            },
            "type": "scattergl"
           }
          ],
          "scattermap": [
           {
            "marker": {
             "colorbar": {
              "outlinewidth": 0,
              "ticks": ""
             }
            },
            "type": "scattermap"
           }
          ],
          "scattermapbox": [
           {
            "marker": {
             "colorbar": {
              "outlinewidth": 0,
              "ticks": ""
             }
            },
            "type": "scattermapbox"
           }
          ],
          "scatterpolar": [
           {
            "marker": {
             "colorbar": {
              "outlinewidth": 0,
              "ticks": ""
             }
            },
            "type": "scatterpolar"
           }
          ],
          "scatterpolargl": [
           {
            "marker": {
             "colorbar": {
              "outlinewidth": 0,
              "ticks": ""
             }
            },
            "type": "scatterpolargl"
           }
          ],
          "scatterternary": [
           {
            "marker": {
             "colorbar": {
              "outlinewidth": 0,
              "ticks": ""
             }
            },
            "type": "scatterternary"
           }
          ],
          "surface": [
           {
            "colorbar": {
             "outlinewidth": 0,
             "ticks": ""
            },
            "colorscale": [
             [
              0,
              "#0d0887"
             ],
             [
              0.1111111111111111,
              "#46039f"
             ],
             [
              0.2222222222222222,
              "#7201a8"
             ],
             [
              0.3333333333333333,
              "#9c179e"
             ],
             [
              0.4444444444444444,
              "#bd3786"
             ],
             [
              0.5555555555555556,
              "#d8576b"
             ],
             [
              0.6666666666666666,
              "#ed7953"
             ],
             [
              0.7777777777777778,
              "#fb9f3a"
             ],
             [
              0.8888888888888888,
              "#fdca26"
             ],
             [
              1,
              "#f0f921"
             ]
            ],
            "type": "surface"
           }
          ],
          "table": [
           {
            "cells": {
             "fill": {
              "color": "#EBF0F8"
             },
             "line": {
              "color": "white"
             }
            },
            "header": {
             "fill": {
              "color": "#C8D4E3"
             },
             "line": {
              "color": "white"
             }
            },
            "type": "table"
           }
          ]
         },
         "layout": {
          "annotationdefaults": {
           "arrowcolor": "#2a3f5f",
           "arrowhead": 0,
           "arrowwidth": 1
          },
          "autotypenumbers": "strict",
          "coloraxis": {
           "colorbar": {
            "outlinewidth": 0,
            "ticks": ""
           }
          },
          "colorscale": {
           "diverging": [
            [
             0,
             "#8e0152"
            ],
            [
             0.1,
             "#c51b7d"
            ],
            [
             0.2,
             "#de77ae"
            ],
            [
             0.3,
             "#f1b6da"
            ],
            [
             0.4,
             "#fde0ef"
            ],
            [
             0.5,
             "#f7f7f7"
            ],
            [
             0.6,
             "#e6f5d0"
            ],
            [
             0.7,
             "#b8e186"
            ],
            [
             0.8,
             "#7fbc41"
            ],
            [
             0.9,
             "#4d9221"
            ],
            [
             1,
             "#276419"
            ]
           ],
           "sequential": [
            [
             0,
             "#0d0887"
            ],
            [
             0.1111111111111111,
             "#46039f"
            ],
            [
             0.2222222222222222,
             "#7201a8"
            ],
            [
             0.3333333333333333,
             "#9c179e"
            ],
            [
             0.4444444444444444,
             "#bd3786"
            ],
            [
             0.5555555555555556,
             "#d8576b"
            ],
            [
             0.6666666666666666,
             "#ed7953"
            ],
            [
             0.7777777777777778,
             "#fb9f3a"
            ],
            [
             0.8888888888888888,
             "#fdca26"
            ],
            [
             1,
             "#f0f921"
            ]
           ],
           "sequentialminus": [
            [
             0,
             "#0d0887"
            ],
            [
             0.1111111111111111,
             "#46039f"
            ],
            [
             0.2222222222222222,
             "#7201a8"
            ],
            [
             0.3333333333333333,
             "#9c179e"
            ],
            [
             0.4444444444444444,
             "#bd3786"
            ],
            [
             0.5555555555555556,
             "#d8576b"
            ],
            [
             0.6666666666666666,
             "#ed7953"
            ],
            [
             0.7777777777777778,
             "#fb9f3a"
            ],
            [
             0.8888888888888888,
             "#fdca26"
            ],
            [
             1,
             "#f0f921"
            ]
           ]
          },
          "colorway": [
           "#636efa",
           "#EF553B",
           "#00cc96",
           "#ab63fa",
           "#FFA15A",
           "#19d3f3",
           "#FF6692",
           "#B6E880",
           "#FF97FF",
           "#FECB52"
          ],
          "font": {
           "color": "#2a3f5f"
          },
          "geo": {
           "bgcolor": "white",
           "lakecolor": "white",
           "landcolor": "#E5ECF6",
           "showlakes": true,
           "showland": true,
           "subunitcolor": "white"
          },
          "hoverlabel": {
           "align": "left"
          },
          "hovermode": "closest",
          "mapbox": {
           "style": "light"
          },
          "paper_bgcolor": "white",
          "plot_bgcolor": "#E5ECF6",
          "polar": {
           "angularaxis": {
            "gridcolor": "white",
            "linecolor": "white",
            "ticks": ""
           },
           "bgcolor": "#E5ECF6",
           "radialaxis": {
            "gridcolor": "white",
            "linecolor": "white",
            "ticks": ""
           }
          },
          "scene": {
           "xaxis": {
            "backgroundcolor": "#E5ECF6",
            "gridcolor": "white",
            "gridwidth": 2,
            "linecolor": "white",
            "showbackground": true,
            "ticks": "",
            "zerolinecolor": "white"
           },
           "yaxis": {
            "backgroundcolor": "#E5ECF6",
            "gridcolor": "white",
            "gridwidth": 2,
            "linecolor": "white",
            "showbackground": true,
            "ticks": "",
            "zerolinecolor": "white"
           },
           "zaxis": {
            "backgroundcolor": "#E5ECF6",
            "gridcolor": "white",
            "gridwidth": 2,
            "linecolor": "white",
            "showbackground": true,
            "ticks": "",
            "zerolinecolor": "white"
           }
          },
          "shapedefaults": {
           "line": {
            "color": "#2a3f5f"
           }
          },
          "ternary": {
           "aaxis": {
            "gridcolor": "white",
            "linecolor": "white",
            "ticks": ""
           },
           "baxis": {
            "gridcolor": "white",
            "linecolor": "white",
            "ticks": ""
           },
           "bgcolor": "#E5ECF6",
           "caxis": {
            "gridcolor": "white",
            "linecolor": "white",
            "ticks": ""
           }
          },
          "title": {
           "x": 0.05
          },
          "xaxis": {
           "automargin": true,
           "gridcolor": "white",
           "linecolor": "white",
           "ticks": "",
           "title": {
            "standoff": 15
           },
           "zerolinecolor": "white",
           "zerolinewidth": 2
          },
          "yaxis": {
           "automargin": true,
           "gridcolor": "white",
           "linecolor": "white",
           "ticks": "",
           "title": {
            "standoff": 15
           },
           "zerolinecolor": "white",
           "zerolinewidth": 2
          }
         }
        },
        "width": 900,
        "xaxis": {
         "anchor": "y",
         "domain": [
          0,
          0.45
         ]
        },
        "xaxis2": {
         "anchor": "y2",
         "domain": [
          0.55,
          1
         ]
        },
        "yaxis": {
         "anchor": "x",
         "domain": [
          0,
          1
         ]
        },
        "yaxis2": {
         "anchor": "x2",
         "domain": [
          0,
          1
         ]
        }
       }
      }
     },
     "metadata": {},
     "output_type": "display_data"
    }
   ],
   "source": [
    "import plotly.express as px\n",
    "import pandas as pd\n",
    "\n",
    "from plotly.subplots import make_subplots\n",
    "import plotly.graph_objects as go\n",
    "\n",
    "\n",
    "hue = \"arc_latent_volume\"\n",
    "xplot = \"arc_encoder_blocks\"\n",
    "yplot = \"test_Accuracy\"\n",
    "\n",
    "extra_info = [\n",
    "    \"arc_num_params\",\n",
    "    \"arc_features\",\n",
    "    \"arc_encoder_blocks\",\n",
    "    \"arc_latent_volume\",\n",
    "    \"arc_skip\",\n",
    "]\n",
    "\n",
    "df0 = df.query(\"arc_skip == 0\")\n",
    "df1 = df.query(\"arc_skip == 1\")\n",
    "\n",
    "fig0 = px.scatter(\n",
    "    df0, x=xplot, y=yplot, color=hue, title=\"No skip\", hover_data=extra_info\n",
    ")\n",
    "fig1 = px.scatter(df1, x=xplot, y=yplot, color=hue, title=\"Skip\", hover_data=extra_info)\n",
    "\n",
    "fig0.update_layout(showlegend=False)  # Oculta la leyenda en el primer gráfico\n",
    "\n",
    "fig = make_subplots(rows=1, cols=2, subplot_titles=[\"arc_skip == 0\", \"arc_skip == 1\"])\n",
    "\n",
    "for trace in fig0.data:\n",
    "    fig.add_trace(trace, row=1, col=1)\n",
    "\n",
    "for trace in fig1.data:\n",
    "    fig.add_trace(trace, row=1, col=2)\n",
    "\n",
    "fig.update_layout(width=900, height=500, legend_title=\"Num Params\", showlegend=True)\n",
    "\n",
    "fig.show()"
   ]
  },
  {
   "cell_type": "code",
   "execution_count": 4,
   "metadata": {},
   "outputs": [
    {
     "data": {
      "text/html": [
       "<div>\n",
       "<style scoped>\n",
       "    .dataframe tbody tr th:only-of-type {\n",
       "        vertical-align: middle;\n",
       "    }\n",
       "\n",
       "    .dataframe tbody tr th {\n",
       "        vertical-align: top;\n",
       "    }\n",
       "\n",
       "    .dataframe thead th {\n",
       "        text-align: right;\n",
       "    }\n",
       "</style>\n",
       "<table border=\"1\" class=\"dataframe\">\n",
       "  <thead>\n",
       "    <tr style=\"text-align: right;\">\n",
       "      <th></th>\n",
       "      <th>run_name</th>\n",
       "      <th>arc_features</th>\n",
       "      <th>arc_encoder_blocks</th>\n",
       "      <th>arc_num_params</th>\n",
       "      <th>arc_latent_volume</th>\n",
       "      <th>arc_num_conv</th>\n",
       "      <th>arc_skip</th>\n",
       "      <th>train_loss</th>\n",
       "      <th>valid_loss</th>\n",
       "      <th>test_loss</th>\n",
       "      <th>valid_F1</th>\n",
       "      <th>train_F1</th>\n",
       "      <th>test_F1</th>\n",
       "      <th>train_Accuracy</th>\n",
       "      <th>valid_Accuracy</th>\n",
       "      <th>test_Accuracy</th>\n",
       "      <th>train_Accuracy_seq</th>\n",
       "      <th>valid_Accuracy_seq</th>\n",
       "      <th>test_Accuracy_seq</th>\n",
       "    </tr>\n",
       "  </thead>\n",
       "  <tbody>\n",
       "    <tr>\n",
       "      <th>0</th>\n",
       "      <td>pseudop_nc_2_n4_3_n8_1_skip1</td>\n",
       "      <td>[4, 4, 4, 4, 8]</td>\n",
       "      <td>4</td>\n",
       "      <td>1541</td>\n",
       "      <td>64.0</td>\n",
       "      <td>2</td>\n",
       "      <td>1</td>\n",
       "      <td>0.085496</td>\n",
       "      <td>0.147072</td>\n",
       "      <td>0.113398</td>\n",
       "      <td>0.754134</td>\n",
       "      <td>0.880091</td>\n",
       "      <td>0.825332</td>\n",
       "      <td>0.863383</td>\n",
       "      <td>0.746415</td>\n",
       "      <td>0.803067</td>\n",
       "      <td>0.0</td>\n",
       "      <td>0.0</td>\n",
       "      <td>0.0</td>\n",
       "    </tr>\n",
       "    <tr>\n",
       "      <th>1</th>\n",
       "      <td>pseudop_nc_2_n4_3_n8_1_skip0</td>\n",
       "      <td>[4, 4, 4, 4, 8]</td>\n",
       "      <td>4</td>\n",
       "      <td>1349</td>\n",
       "      <td>64.0</td>\n",
       "      <td>2</td>\n",
       "      <td>0</td>\n",
       "      <td>0.111417</td>\n",
       "      <td>0.141640</td>\n",
       "      <td>0.127828</td>\n",
       "      <td>0.733566</td>\n",
       "      <td>0.836417</td>\n",
       "      <td>0.802643</td>\n",
       "      <td>0.807260</td>\n",
       "      <td>0.719466</td>\n",
       "      <td>0.769157</td>\n",
       "      <td>0.0</td>\n",
       "      <td>0.0</td>\n",
       "      <td>0.0</td>\n",
       "    </tr>\n",
       "    <tr>\n",
       "      <th>2</th>\n",
       "      <td>pseudop_nc_2_n4_2_n8_1_skip1</td>\n",
       "      <td>[4, 4, 4, 8]</td>\n",
       "      <td>3</td>\n",
       "      <td>1253</td>\n",
       "      <td>128.0</td>\n",
       "      <td>2</td>\n",
       "      <td>1</td>\n",
       "      <td>0.096678</td>\n",
       "      <td>0.144384</td>\n",
       "      <td>0.127436</td>\n",
       "      <td>0.751854</td>\n",
       "      <td>0.870896</td>\n",
       "      <td>0.815810</td>\n",
       "      <td>0.848840</td>\n",
       "      <td>0.732590</td>\n",
       "      <td>0.783749</td>\n",
       "      <td>0.0</td>\n",
       "      <td>0.0</td>\n",
       "      <td>0.0</td>\n",
       "    </tr>\n",
       "    <tr>\n",
       "      <th>3</th>\n",
       "      <td>pseudop_nc_2_n4_2_n8_1_skip0</td>\n",
       "      <td>[4, 4, 4, 8]</td>\n",
       "      <td>3</td>\n",
       "      <td>1109</td>\n",
       "      <td>128.0</td>\n",
       "      <td>2</td>\n",
       "      <td>0</td>\n",
       "      <td>0.125475</td>\n",
       "      <td>0.166314</td>\n",
       "      <td>0.135850</td>\n",
       "      <td>0.682603</td>\n",
       "      <td>0.801452</td>\n",
       "      <td>0.777750</td>\n",
       "      <td>0.770064</td>\n",
       "      <td>0.665017</td>\n",
       "      <td>0.742325</td>\n",
       "      <td>0.0</td>\n",
       "      <td>0.0</td>\n",
       "      <td>0.0</td>\n",
       "    </tr>\n",
       "    <tr>\n",
       "      <th>4</th>\n",
       "      <td>pseudop_nc_2_n4_1_n8_1_skip1</td>\n",
       "      <td>[4, 4, 8]</td>\n",
       "      <td>2</td>\n",
       "      <td>965</td>\n",
       "      <td>256.0</td>\n",
       "      <td>2</td>\n",
       "      <td>1</td>\n",
       "      <td>0.101631</td>\n",
       "      <td>0.158398</td>\n",
       "      <td>0.144170</td>\n",
       "      <td>0.717515</td>\n",
       "      <td>0.854521</td>\n",
       "      <td>0.767065</td>\n",
       "      <td>0.832279</td>\n",
       "      <td>0.701187</td>\n",
       "      <td>0.735241</td>\n",
       "      <td>0.0</td>\n",
       "      <td>0.0</td>\n",
       "      <td>0.0</td>\n",
       "    </tr>\n",
       "    <tr>\n",
       "      <th>5</th>\n",
       "      <td>pseudop_nc_2_n4_1_n8_1_skip0</td>\n",
       "      <td>[4, 4, 8]</td>\n",
       "      <td>2</td>\n",
       "      <td>869</td>\n",
       "      <td>256.0</td>\n",
       "      <td>2</td>\n",
       "      <td>0</td>\n",
       "      <td>0.120821</td>\n",
       "      <td>0.167547</td>\n",
       "      <td>0.154563</td>\n",
       "      <td>0.698948</td>\n",
       "      <td>0.820674</td>\n",
       "      <td>0.750911</td>\n",
       "      <td>0.788516</td>\n",
       "      <td>0.675622</td>\n",
       "      <td>0.701540</td>\n",
       "      <td>0.0</td>\n",
       "      <td>0.0</td>\n",
       "      <td>0.0</td>\n",
       "    </tr>\n",
       "    <tr>\n",
       "      <th>6</th>\n",
       "      <td>pseudop_nc_2_n4_0_n8_1_skip1</td>\n",
       "      <td>[4, 8]</td>\n",
       "      <td>1</td>\n",
       "      <td>677</td>\n",
       "      <td>512.0</td>\n",
       "      <td>2</td>\n",
       "      <td>1</td>\n",
       "      <td>0.113579</td>\n",
       "      <td>0.159512</td>\n",
       "      <td>0.142412</td>\n",
       "      <td>0.721491</td>\n",
       "      <td>0.836262</td>\n",
       "      <td>0.780040</td>\n",
       "      <td>0.808372</td>\n",
       "      <td>0.695145</td>\n",
       "      <td>0.743324</td>\n",
       "      <td>0.0</td>\n",
       "      <td>0.0</td>\n",
       "      <td>0.0</td>\n",
       "    </tr>\n",
       "    <tr>\n",
       "      <th>7</th>\n",
       "      <td>pseudop_nc_2_n4_0_n8_1_skip0</td>\n",
       "      <td>[4, 8]</td>\n",
       "      <td>1</td>\n",
       "      <td>629</td>\n",
       "      <td>512.0</td>\n",
       "      <td>2</td>\n",
       "      <td>0</td>\n",
       "      <td>0.118822</td>\n",
       "      <td>0.156760</td>\n",
       "      <td>0.150625</td>\n",
       "      <td>0.729092</td>\n",
       "      <td>0.830046</td>\n",
       "      <td>0.771085</td>\n",
       "      <td>0.799140</td>\n",
       "      <td>0.708670</td>\n",
       "      <td>0.726403</td>\n",
       "      <td>0.0</td>\n",
       "      <td>0.0</td>\n",
       "      <td>0.0</td>\n",
       "    </tr>\n",
       "    <tr>\n",
       "      <th>8</th>\n",
       "      <td>pseudop_nc_2_n4_3_n8_0_skip1</td>\n",
       "      <td>[4, 4, 4, 4]</td>\n",
       "      <td>3</td>\n",
       "      <td>989</td>\n",
       "      <td>64.0</td>\n",
       "      <td>2</td>\n",
       "      <td>1</td>\n",
       "      <td>0.098352</td>\n",
       "      <td>0.146095</td>\n",
       "      <td>0.129906</td>\n",
       "      <td>0.744471</td>\n",
       "      <td>0.859497</td>\n",
       "      <td>0.798789</td>\n",
       "      <td>0.837009</td>\n",
       "      <td>0.729025</td>\n",
       "      <td>0.766946</td>\n",
       "      <td>0.0</td>\n",
       "      <td>0.0</td>\n",
       "      <td>0.0</td>\n",
       "    </tr>\n",
       "    <tr>\n",
       "      <th>9</th>\n",
       "      <td>pseudop_nc_2_n4_3_n8_0_skip0</td>\n",
       "      <td>[4, 4, 4, 4]</td>\n",
       "      <td>3</td>\n",
       "      <td>845</td>\n",
       "      <td>64.0</td>\n",
       "      <td>2</td>\n",
       "      <td>0</td>\n",
       "      <td>0.142128</td>\n",
       "      <td>0.171519</td>\n",
       "      <td>0.167095</td>\n",
       "      <td>0.658456</td>\n",
       "      <td>0.776799</td>\n",
       "      <td>0.717684</td>\n",
       "      <td>0.733616</td>\n",
       "      <td>0.625057</td>\n",
       "      <td>0.660349</td>\n",
       "      <td>0.0</td>\n",
       "      <td>0.0</td>\n",
       "      <td>0.0</td>\n",
       "    </tr>\n",
       "    <tr>\n",
       "      <th>10</th>\n",
       "      <td>pseudop_nc_2_n4_2_n8_0_skip1</td>\n",
       "      <td>[4, 4, 4]</td>\n",
       "      <td>2</td>\n",
       "      <td>701</td>\n",
       "      <td>128.0</td>\n",
       "      <td>2</td>\n",
       "      <td>1</td>\n",
       "      <td>0.103084</td>\n",
       "      <td>0.148946</td>\n",
       "      <td>0.131570</td>\n",
       "      <td>0.740159</td>\n",
       "      <td>0.853005</td>\n",
       "      <td>0.784498</td>\n",
       "      <td>0.829153</td>\n",
       "      <td>0.726477</td>\n",
       "      <td>0.759311</td>\n",
       "      <td>0.0</td>\n",
       "      <td>0.0</td>\n",
       "      <td>0.0</td>\n",
       "    </tr>\n",
       "    <tr>\n",
       "      <th>11</th>\n",
       "      <td>pseudop_nc_2_n4_2_n8_0_skip0</td>\n",
       "      <td>[4, 4, 4]</td>\n",
       "      <td>2</td>\n",
       "      <td>605</td>\n",
       "      <td>128.0</td>\n",
       "      <td>2</td>\n",
       "      <td>0</td>\n",
       "      <td>0.133628</td>\n",
       "      <td>0.169431</td>\n",
       "      <td>0.165996</td>\n",
       "      <td>0.693663</td>\n",
       "      <td>0.797455</td>\n",
       "      <td>0.722758</td>\n",
       "      <td>0.761347</td>\n",
       "      <td>0.670608</td>\n",
       "      <td>0.678572</td>\n",
       "      <td>0.0</td>\n",
       "      <td>0.0</td>\n",
       "      <td>0.0</td>\n",
       "    </tr>\n",
       "    <tr>\n",
       "      <th>12</th>\n",
       "      <td>pseudop_nc_2_n4_1_n8_0_skip1</td>\n",
       "      <td>[4, 4]</td>\n",
       "      <td>1</td>\n",
       "      <td>413</td>\n",
       "      <td>256.0</td>\n",
       "      <td>2</td>\n",
       "      <td>1</td>\n",
       "      <td>0.124643</td>\n",
       "      <td>0.161182</td>\n",
       "      <td>0.148875</td>\n",
       "      <td>0.714961</td>\n",
       "      <td>0.820313</td>\n",
       "      <td>0.757323</td>\n",
       "      <td>0.787518</td>\n",
       "      <td>0.691374</td>\n",
       "      <td>0.717742</td>\n",
       "      <td>0.0</td>\n",
       "      <td>0.0</td>\n",
       "      <td>0.0</td>\n",
       "    </tr>\n",
       "    <tr>\n",
       "      <th>13</th>\n",
       "      <td>pseudop_nc_2_n4_1_n8_0_skip0</td>\n",
       "      <td>[4, 4]</td>\n",
       "      <td>1</td>\n",
       "      <td>365</td>\n",
       "      <td>256.0</td>\n",
       "      <td>2</td>\n",
       "      <td>0</td>\n",
       "      <td>0.141296</td>\n",
       "      <td>0.165677</td>\n",
       "      <td>0.160083</td>\n",
       "      <td>0.696880</td>\n",
       "      <td>0.788949</td>\n",
       "      <td>0.737609</td>\n",
       "      <td>0.752223</td>\n",
       "      <td>0.672757</td>\n",
       "      <td>0.696670</td>\n",
       "      <td>0.0</td>\n",
       "      <td>0.0</td>\n",
       "      <td>0.0</td>\n",
       "    </tr>\n",
       "    <tr>\n",
       "      <th>14</th>\n",
       "      <td>pseudop_nc_2_n4_0_n8_0_skip1</td>\n",
       "      <td>[4]</td>\n",
       "      <td>0</td>\n",
       "      <td>125</td>\n",
       "      <td>512.0</td>\n",
       "      <td>2</td>\n",
       "      <td>1</td>\n",
       "      <td>0.157223</td>\n",
       "      <td>0.170766</td>\n",
       "      <td>0.170921</td>\n",
       "      <td>0.673847</td>\n",
       "      <td>0.757239</td>\n",
       "      <td>0.688289</td>\n",
       "      <td>0.716411</td>\n",
       "      <td>0.660512</td>\n",
       "      <td>0.652342</td>\n",
       "      <td>0.0</td>\n",
       "      <td>0.0</td>\n",
       "      <td>0.0</td>\n",
       "    </tr>\n",
       "    <tr>\n",
       "      <th>15</th>\n",
       "      <td>pseudop_nc_2_n4_0_n8_0_skip0</td>\n",
       "      <td>[4]</td>\n",
       "      <td>0</td>\n",
       "      <td>125</td>\n",
       "      <td>512.0</td>\n",
       "      <td>2</td>\n",
       "      <td>0</td>\n",
       "      <td>0.157223</td>\n",
       "      <td>0.170766</td>\n",
       "      <td>0.170921</td>\n",
       "      <td>0.673847</td>\n",
       "      <td>0.757239</td>\n",
       "      <td>0.688289</td>\n",
       "      <td>0.716411</td>\n",
       "      <td>0.660512</td>\n",
       "      <td>0.652342</td>\n",
       "      <td>0.0</td>\n",
       "      <td>0.0</td>\n",
       "      <td>0.0</td>\n",
       "    </tr>\n",
       "    <tr>\n",
       "      <th>16</th>\n",
       "      <td>pseudop_nc_1_n4_3_n8_1_skip1</td>\n",
       "      <td>[4, 4, 4, 4, 8]</td>\n",
       "      <td>4</td>\n",
       "      <td>845</td>\n",
       "      <td>64.0</td>\n",
       "      <td>1</td>\n",
       "      <td>1</td>\n",
       "      <td>0.116522</td>\n",
       "      <td>0.149622</td>\n",
       "      <td>0.134189</td>\n",
       "      <td>0.735280</td>\n",
       "      <td>0.858051</td>\n",
       "      <td>0.815254</td>\n",
       "      <td>0.830700</td>\n",
       "      <td>0.710988</td>\n",
       "      <td>0.784961</td>\n",
       "      <td>0.0</td>\n",
       "      <td>0.0</td>\n",
       "      <td>0.0</td>\n",
       "    </tr>\n",
       "    <tr>\n",
       "      <th>17</th>\n",
       "      <td>pseudop_nc_1_n4_3_n8_1_skip0</td>\n",
       "      <td>[4, 4, 4, 4, 8]</td>\n",
       "      <td>4</td>\n",
       "      <td>653</td>\n",
       "      <td>64.0</td>\n",
       "      <td>1</td>\n",
       "      <td>0</td>\n",
       "      <td>0.150788</td>\n",
       "      <td>0.166054</td>\n",
       "      <td>0.146705</td>\n",
       "      <td>0.698553</td>\n",
       "      <td>0.789803</td>\n",
       "      <td>0.796662</td>\n",
       "      <td>0.733567</td>\n",
       "      <td>0.646391</td>\n",
       "      <td>0.742921</td>\n",
       "      <td>0.0</td>\n",
       "      <td>0.0</td>\n",
       "      <td>0.0</td>\n",
       "    </tr>\n",
       "    <tr>\n",
       "      <th>18</th>\n",
       "      <td>pseudop_nc_1_n4_2_n8_1_skip1</td>\n",
       "      <td>[4, 4, 4, 8]</td>\n",
       "      <td>3</td>\n",
       "      <td>677</td>\n",
       "      <td>128.0</td>\n",
       "      <td>1</td>\n",
       "      <td>1</td>\n",
       "      <td>0.102875</td>\n",
       "      <td>0.152303</td>\n",
       "      <td>0.153623</td>\n",
       "      <td>0.726870</td>\n",
       "      <td>0.852884</td>\n",
       "      <td>0.750085</td>\n",
       "      <td>0.831132</td>\n",
       "      <td>0.723353</td>\n",
       "      <td>0.727767</td>\n",
       "      <td>0.0</td>\n",
       "      <td>0.0</td>\n",
       "      <td>0.0</td>\n",
       "    </tr>\n",
       "    <tr>\n",
       "      <th>19</th>\n",
       "      <td>pseudop_nc_1_n4_2_n8_1_skip0</td>\n",
       "      <td>[4, 4, 4, 8]</td>\n",
       "      <td>3</td>\n",
       "      <td>533</td>\n",
       "      <td>128.0</td>\n",
       "      <td>1</td>\n",
       "      <td>0</td>\n",
       "      <td>0.145620</td>\n",
       "      <td>0.178843</td>\n",
       "      <td>0.166309</td>\n",
       "      <td>0.660654</td>\n",
       "      <td>0.771605</td>\n",
       "      <td>0.734240</td>\n",
       "      <td>0.718893</td>\n",
       "      <td>0.610554</td>\n",
       "      <td>0.665815</td>\n",
       "      <td>0.0</td>\n",
       "      <td>0.0</td>\n",
       "      <td>0.0</td>\n",
       "    </tr>\n",
       "    <tr>\n",
       "      <th>20</th>\n",
       "      <td>pseudop_nc_1_n4_1_n8_1_skip1</td>\n",
       "      <td>[4, 4, 8]</td>\n",
       "      <td>2</td>\n",
       "      <td>509</td>\n",
       "      <td>256.0</td>\n",
       "      <td>1</td>\n",
       "      <td>1</td>\n",
       "      <td>0.114749</td>\n",
       "      <td>0.157533</td>\n",
       "      <td>0.142253</td>\n",
       "      <td>0.712365</td>\n",
       "      <td>0.831804</td>\n",
       "      <td>0.772222</td>\n",
       "      <td>0.804677</td>\n",
       "      <td>0.697494</td>\n",
       "      <td>0.737661</td>\n",
       "      <td>0.0</td>\n",
       "      <td>0.0</td>\n",
       "      <td>0.0</td>\n",
       "    </tr>\n",
       "    <tr>\n",
       "      <th>21</th>\n",
       "      <td>pseudop_nc_1_n4_1_n8_1_skip0</td>\n",
       "      <td>[4, 4, 8]</td>\n",
       "      <td>2</td>\n",
       "      <td>413</td>\n",
       "      <td>256.0</td>\n",
       "      <td>1</td>\n",
       "      <td>0</td>\n",
       "      <td>0.135491</td>\n",
       "      <td>0.164502</td>\n",
       "      <td>0.150335</td>\n",
       "      <td>0.708726</td>\n",
       "      <td>0.792028</td>\n",
       "      <td>0.749402</td>\n",
       "      <td>0.754674</td>\n",
       "      <td>0.679560</td>\n",
       "      <td>0.717272</td>\n",
       "      <td>0.0</td>\n",
       "      <td>0.0</td>\n",
       "      <td>0.0</td>\n",
       "    </tr>\n",
       "    <tr>\n",
       "      <th>22</th>\n",
       "      <td>pseudop_nc_1_n4_0_n8_1_skip1</td>\n",
       "      <td>[4, 8]</td>\n",
       "      <td>1</td>\n",
       "      <td>341</td>\n",
       "      <td>512.0</td>\n",
       "      <td>1</td>\n",
       "      <td>1</td>\n",
       "      <td>0.133015</td>\n",
       "      <td>0.173571</td>\n",
       "      <td>0.166273</td>\n",
       "      <td>0.697189</td>\n",
       "      <td>0.801518</td>\n",
       "      <td>0.691266</td>\n",
       "      <td>0.769445</td>\n",
       "      <td>0.675286</td>\n",
       "      <td>0.657866</td>\n",
       "      <td>0.0</td>\n",
       "      <td>0.0</td>\n",
       "      <td>0.0</td>\n",
       "    </tr>\n",
       "    <tr>\n",
       "      <th>23</th>\n",
       "      <td>pseudop_nc_1_n4_0_n8_1_skip0</td>\n",
       "      <td>[4, 8]</td>\n",
       "      <td>1</td>\n",
       "      <td>293</td>\n",
       "      <td>512.0</td>\n",
       "      <td>1</td>\n",
       "      <td>0</td>\n",
       "      <td>0.137333</td>\n",
       "      <td>0.171898</td>\n",
       "      <td>0.156034</td>\n",
       "      <td>0.688503</td>\n",
       "      <td>0.796744</td>\n",
       "      <td>0.739439</td>\n",
       "      <td>0.759915</td>\n",
       "      <td>0.658918</td>\n",
       "      <td>0.699155</td>\n",
       "      <td>0.0</td>\n",
       "      <td>0.0</td>\n",
       "      <td>0.0</td>\n",
       "    </tr>\n",
       "    <tr>\n",
       "      <th>24</th>\n",
       "      <td>pseudop_nc_1_n4_3_n8_0_skip1</td>\n",
       "      <td>[4, 4, 4, 4]</td>\n",
       "      <td>3</td>\n",
       "      <td>569</td>\n",
       "      <td>64.0</td>\n",
       "      <td>1</td>\n",
       "      <td>1</td>\n",
       "      <td>0.107322</td>\n",
       "      <td>0.147089</td>\n",
       "      <td>0.132060</td>\n",
       "      <td>0.736898</td>\n",
       "      <td>0.844295</td>\n",
       "      <td>0.788571</td>\n",
       "      <td>0.818408</td>\n",
       "      <td>0.720364</td>\n",
       "      <td>0.760743</td>\n",
       "      <td>0.0</td>\n",
       "      <td>0.0</td>\n",
       "      <td>0.0</td>\n",
       "    </tr>\n",
       "    <tr>\n",
       "      <th>25</th>\n",
       "      <td>pseudop_nc_1_n4_3_n8_0_skip0</td>\n",
       "      <td>[4, 4, 4, 4]</td>\n",
       "      <td>3</td>\n",
       "      <td>425</td>\n",
       "      <td>64.0</td>\n",
       "      <td>1</td>\n",
       "      <td>0</td>\n",
       "      <td>0.153328</td>\n",
       "      <td>0.181610</td>\n",
       "      <td>0.169531</td>\n",
       "      <td>0.675735</td>\n",
       "      <td>0.757163</td>\n",
       "      <td>0.696069</td>\n",
       "      <td>0.708216</td>\n",
       "      <td>0.617316</td>\n",
       "      <td>0.652507</td>\n",
       "      <td>0.0</td>\n",
       "      <td>0.0</td>\n",
       "      <td>0.0</td>\n",
       "    </tr>\n",
       "    <tr>\n",
       "      <th>26</th>\n",
       "      <td>pseudop_nc_1_n4_2_n8_0_skip1</td>\n",
       "      <td>[4, 4, 4]</td>\n",
       "      <td>2</td>\n",
       "      <td>401</td>\n",
       "      <td>128.0</td>\n",
       "      <td>1</td>\n",
       "      <td>1</td>\n",
       "      <td>0.120653</td>\n",
       "      <td>0.151841</td>\n",
       "      <td>0.148079</td>\n",
       "      <td>0.725537</td>\n",
       "      <td>0.821548</td>\n",
       "      <td>0.764497</td>\n",
       "      <td>0.792769</td>\n",
       "      <td>0.709482</td>\n",
       "      <td>0.730517</td>\n",
       "      <td>0.0</td>\n",
       "      <td>0.0</td>\n",
       "      <td>0.0</td>\n",
       "    </tr>\n",
       "    <tr>\n",
       "      <th>27</th>\n",
       "      <td>pseudop_nc_1_n4_2_n8_0_skip0</td>\n",
       "      <td>[4, 4, 4]</td>\n",
       "      <td>2</td>\n",
       "      <td>305</td>\n",
       "      <td>128.0</td>\n",
       "      <td>1</td>\n",
       "      <td>0</td>\n",
       "      <td>0.137094</td>\n",
       "      <td>0.168491</td>\n",
       "      <td>0.148730</td>\n",
       "      <td>0.688796</td>\n",
       "      <td>0.786304</td>\n",
       "      <td>0.753893</td>\n",
       "      <td>0.749901</td>\n",
       "      <td>0.669144</td>\n",
       "      <td>0.718907</td>\n",
       "      <td>0.0</td>\n",
       "      <td>0.0</td>\n",
       "      <td>0.0</td>\n",
       "    </tr>\n",
       "    <tr>\n",
       "      <th>28</th>\n",
       "      <td>pseudop_nc_1_n4_1_n8_0_skip1</td>\n",
       "      <td>[4, 4]</td>\n",
       "      <td>1</td>\n",
       "      <td>233</td>\n",
       "      <td>256.0</td>\n",
       "      <td>1</td>\n",
       "      <td>1</td>\n",
       "      <td>0.142329</td>\n",
       "      <td>0.164061</td>\n",
       "      <td>0.154109</td>\n",
       "      <td>0.713623</td>\n",
       "      <td>0.799411</td>\n",
       "      <td>0.764523</td>\n",
       "      <td>0.759053</td>\n",
       "      <td>0.675993</td>\n",
       "      <td>0.723476</td>\n",
       "      <td>0.0</td>\n",
       "      <td>0.0</td>\n",
       "      <td>0.0</td>\n",
       "    </tr>\n",
       "    <tr>\n",
       "      <th>29</th>\n",
       "      <td>pseudop_nc_1_n4_1_n8_0_skip0</td>\n",
       "      <td>[4, 4]</td>\n",
       "      <td>1</td>\n",
       "      <td>185</td>\n",
       "      <td>256.0</td>\n",
       "      <td>1</td>\n",
       "      <td>0</td>\n",
       "      <td>0.147457</td>\n",
       "      <td>0.169682</td>\n",
       "      <td>0.154445</td>\n",
       "      <td>0.703734</td>\n",
       "      <td>0.780267</td>\n",
       "      <td>0.750339</td>\n",
       "      <td>0.735585</td>\n",
       "      <td>0.665581</td>\n",
       "      <td>0.711190</td>\n",
       "      <td>0.0</td>\n",
       "      <td>0.0</td>\n",
       "      <td>0.0</td>\n",
       "    </tr>\n",
       "    <tr>\n",
       "      <th>30</th>\n",
       "      <td>pseudop_nc_1_n4_0_n8_0_skip1</td>\n",
       "      <td>[4]</td>\n",
       "      <td>0</td>\n",
       "      <td>65</td>\n",
       "      <td>512.0</td>\n",
       "      <td>1</td>\n",
       "      <td>1</td>\n",
       "      <td>0.169559</td>\n",
       "      <td>0.175586</td>\n",
       "      <td>0.175899</td>\n",
       "      <td>0.662685</td>\n",
       "      <td>0.737261</td>\n",
       "      <td>0.700356</td>\n",
       "      <td>0.682347</td>\n",
       "      <td>0.630577</td>\n",
       "      <td>0.656264</td>\n",
       "      <td>0.0</td>\n",
       "      <td>0.0</td>\n",
       "      <td>0.0</td>\n",
       "    </tr>\n",
       "    <tr>\n",
       "      <th>31</th>\n",
       "      <td>pseudop_nc_1_n4_0_n8_0_skip0</td>\n",
       "      <td>[4]</td>\n",
       "      <td>0</td>\n",
       "      <td>65</td>\n",
       "      <td>512.0</td>\n",
       "      <td>1</td>\n",
       "      <td>0</td>\n",
       "      <td>0.169559</td>\n",
       "      <td>0.175586</td>\n",
       "      <td>0.175899</td>\n",
       "      <td>0.662685</td>\n",
       "      <td>0.737261</td>\n",
       "      <td>0.700356</td>\n",
       "      <td>0.682347</td>\n",
       "      <td>0.630577</td>\n",
       "      <td>0.656264</td>\n",
       "      <td>0.0</td>\n",
       "      <td>0.0</td>\n",
       "      <td>0.0</td>\n",
       "    </tr>\n",
       "  </tbody>\n",
       "</table>\n",
       "</div>"
      ],
      "text/plain": [
       "                        run_name     arc_features  arc_encoder_blocks  \\\n",
       "0   pseudop_nc_2_n4_3_n8_1_skip1  [4, 4, 4, 4, 8]                   4   \n",
       "1   pseudop_nc_2_n4_3_n8_1_skip0  [4, 4, 4, 4, 8]                   4   \n",
       "2   pseudop_nc_2_n4_2_n8_1_skip1     [4, 4, 4, 8]                   3   \n",
       "3   pseudop_nc_2_n4_2_n8_1_skip0     [4, 4, 4, 8]                   3   \n",
       "4   pseudop_nc_2_n4_1_n8_1_skip1        [4, 4, 8]                   2   \n",
       "5   pseudop_nc_2_n4_1_n8_1_skip0        [4, 4, 8]                   2   \n",
       "6   pseudop_nc_2_n4_0_n8_1_skip1           [4, 8]                   1   \n",
       "7   pseudop_nc_2_n4_0_n8_1_skip0           [4, 8]                   1   \n",
       "8   pseudop_nc_2_n4_3_n8_0_skip1     [4, 4, 4, 4]                   3   \n",
       "9   pseudop_nc_2_n4_3_n8_0_skip0     [4, 4, 4, 4]                   3   \n",
       "10  pseudop_nc_2_n4_2_n8_0_skip1        [4, 4, 4]                   2   \n",
       "11  pseudop_nc_2_n4_2_n8_0_skip0        [4, 4, 4]                   2   \n",
       "12  pseudop_nc_2_n4_1_n8_0_skip1           [4, 4]                   1   \n",
       "13  pseudop_nc_2_n4_1_n8_0_skip0           [4, 4]                   1   \n",
       "14  pseudop_nc_2_n4_0_n8_0_skip1              [4]                   0   \n",
       "15  pseudop_nc_2_n4_0_n8_0_skip0              [4]                   0   \n",
       "16  pseudop_nc_1_n4_3_n8_1_skip1  [4, 4, 4, 4, 8]                   4   \n",
       "17  pseudop_nc_1_n4_3_n8_1_skip0  [4, 4, 4, 4, 8]                   4   \n",
       "18  pseudop_nc_1_n4_2_n8_1_skip1     [4, 4, 4, 8]                   3   \n",
       "19  pseudop_nc_1_n4_2_n8_1_skip0     [4, 4, 4, 8]                   3   \n",
       "20  pseudop_nc_1_n4_1_n8_1_skip1        [4, 4, 8]                   2   \n",
       "21  pseudop_nc_1_n4_1_n8_1_skip0        [4, 4, 8]                   2   \n",
       "22  pseudop_nc_1_n4_0_n8_1_skip1           [4, 8]                   1   \n",
       "23  pseudop_nc_1_n4_0_n8_1_skip0           [4, 8]                   1   \n",
       "24  pseudop_nc_1_n4_3_n8_0_skip1     [4, 4, 4, 4]                   3   \n",
       "25  pseudop_nc_1_n4_3_n8_0_skip0     [4, 4, 4, 4]                   3   \n",
       "26  pseudop_nc_1_n4_2_n8_0_skip1        [4, 4, 4]                   2   \n",
       "27  pseudop_nc_1_n4_2_n8_0_skip0        [4, 4, 4]                   2   \n",
       "28  pseudop_nc_1_n4_1_n8_0_skip1           [4, 4]                   1   \n",
       "29  pseudop_nc_1_n4_1_n8_0_skip0           [4, 4]                   1   \n",
       "30  pseudop_nc_1_n4_0_n8_0_skip1              [4]                   0   \n",
       "31  pseudop_nc_1_n4_0_n8_0_skip0              [4]                   0   \n",
       "\n",
       "    arc_num_params  arc_latent_volume  arc_num_conv  arc_skip  train_loss  \\\n",
       "0             1541               64.0             2         1    0.085496   \n",
       "1             1349               64.0             2         0    0.111417   \n",
       "2             1253              128.0             2         1    0.096678   \n",
       "3             1109              128.0             2         0    0.125475   \n",
       "4              965              256.0             2         1    0.101631   \n",
       "5              869              256.0             2         0    0.120821   \n",
       "6              677              512.0             2         1    0.113579   \n",
       "7              629              512.0             2         0    0.118822   \n",
       "8              989               64.0             2         1    0.098352   \n",
       "9              845               64.0             2         0    0.142128   \n",
       "10             701              128.0             2         1    0.103084   \n",
       "11             605              128.0             2         0    0.133628   \n",
       "12             413              256.0             2         1    0.124643   \n",
       "13             365              256.0             2         0    0.141296   \n",
       "14             125              512.0             2         1    0.157223   \n",
       "15             125              512.0             2         0    0.157223   \n",
       "16             845               64.0             1         1    0.116522   \n",
       "17             653               64.0             1         0    0.150788   \n",
       "18             677              128.0             1         1    0.102875   \n",
       "19             533              128.0             1         0    0.145620   \n",
       "20             509              256.0             1         1    0.114749   \n",
       "21             413              256.0             1         0    0.135491   \n",
       "22             341              512.0             1         1    0.133015   \n",
       "23             293              512.0             1         0    0.137333   \n",
       "24             569               64.0             1         1    0.107322   \n",
       "25             425               64.0             1         0    0.153328   \n",
       "26             401              128.0             1         1    0.120653   \n",
       "27             305              128.0             1         0    0.137094   \n",
       "28             233              256.0             1         1    0.142329   \n",
       "29             185              256.0             1         0    0.147457   \n",
       "30              65              512.0             1         1    0.169559   \n",
       "31              65              512.0             1         0    0.169559   \n",
       "\n",
       "    valid_loss  test_loss  valid_F1  train_F1   test_F1  train_Accuracy  \\\n",
       "0     0.147072   0.113398  0.754134  0.880091  0.825332        0.863383   \n",
       "1     0.141640   0.127828  0.733566  0.836417  0.802643        0.807260   \n",
       "2     0.144384   0.127436  0.751854  0.870896  0.815810        0.848840   \n",
       "3     0.166314   0.135850  0.682603  0.801452  0.777750        0.770064   \n",
       "4     0.158398   0.144170  0.717515  0.854521  0.767065        0.832279   \n",
       "5     0.167547   0.154563  0.698948  0.820674  0.750911        0.788516   \n",
       "6     0.159512   0.142412  0.721491  0.836262  0.780040        0.808372   \n",
       "7     0.156760   0.150625  0.729092  0.830046  0.771085        0.799140   \n",
       "8     0.146095   0.129906  0.744471  0.859497  0.798789        0.837009   \n",
       "9     0.171519   0.167095  0.658456  0.776799  0.717684        0.733616   \n",
       "10    0.148946   0.131570  0.740159  0.853005  0.784498        0.829153   \n",
       "11    0.169431   0.165996  0.693663  0.797455  0.722758        0.761347   \n",
       "12    0.161182   0.148875  0.714961  0.820313  0.757323        0.787518   \n",
       "13    0.165677   0.160083  0.696880  0.788949  0.737609        0.752223   \n",
       "14    0.170766   0.170921  0.673847  0.757239  0.688289        0.716411   \n",
       "15    0.170766   0.170921  0.673847  0.757239  0.688289        0.716411   \n",
       "16    0.149622   0.134189  0.735280  0.858051  0.815254        0.830700   \n",
       "17    0.166054   0.146705  0.698553  0.789803  0.796662        0.733567   \n",
       "18    0.152303   0.153623  0.726870  0.852884  0.750085        0.831132   \n",
       "19    0.178843   0.166309  0.660654  0.771605  0.734240        0.718893   \n",
       "20    0.157533   0.142253  0.712365  0.831804  0.772222        0.804677   \n",
       "21    0.164502   0.150335  0.708726  0.792028  0.749402        0.754674   \n",
       "22    0.173571   0.166273  0.697189  0.801518  0.691266        0.769445   \n",
       "23    0.171898   0.156034  0.688503  0.796744  0.739439        0.759915   \n",
       "24    0.147089   0.132060  0.736898  0.844295  0.788571        0.818408   \n",
       "25    0.181610   0.169531  0.675735  0.757163  0.696069        0.708216   \n",
       "26    0.151841   0.148079  0.725537  0.821548  0.764497        0.792769   \n",
       "27    0.168491   0.148730  0.688796  0.786304  0.753893        0.749901   \n",
       "28    0.164061   0.154109  0.713623  0.799411  0.764523        0.759053   \n",
       "29    0.169682   0.154445  0.703734  0.780267  0.750339        0.735585   \n",
       "30    0.175586   0.175899  0.662685  0.737261  0.700356        0.682347   \n",
       "31    0.175586   0.175899  0.662685  0.737261  0.700356        0.682347   \n",
       "\n",
       "    valid_Accuracy  test_Accuracy  train_Accuracy_seq  valid_Accuracy_seq  \\\n",
       "0         0.746415       0.803067                 0.0                 0.0   \n",
       "1         0.719466       0.769157                 0.0                 0.0   \n",
       "2         0.732590       0.783749                 0.0                 0.0   \n",
       "3         0.665017       0.742325                 0.0                 0.0   \n",
       "4         0.701187       0.735241                 0.0                 0.0   \n",
       "5         0.675622       0.701540                 0.0                 0.0   \n",
       "6         0.695145       0.743324                 0.0                 0.0   \n",
       "7         0.708670       0.726403                 0.0                 0.0   \n",
       "8         0.729025       0.766946                 0.0                 0.0   \n",
       "9         0.625057       0.660349                 0.0                 0.0   \n",
       "10        0.726477       0.759311                 0.0                 0.0   \n",
       "11        0.670608       0.678572                 0.0                 0.0   \n",
       "12        0.691374       0.717742                 0.0                 0.0   \n",
       "13        0.672757       0.696670                 0.0                 0.0   \n",
       "14        0.660512       0.652342                 0.0                 0.0   \n",
       "15        0.660512       0.652342                 0.0                 0.0   \n",
       "16        0.710988       0.784961                 0.0                 0.0   \n",
       "17        0.646391       0.742921                 0.0                 0.0   \n",
       "18        0.723353       0.727767                 0.0                 0.0   \n",
       "19        0.610554       0.665815                 0.0                 0.0   \n",
       "20        0.697494       0.737661                 0.0                 0.0   \n",
       "21        0.679560       0.717272                 0.0                 0.0   \n",
       "22        0.675286       0.657866                 0.0                 0.0   \n",
       "23        0.658918       0.699155                 0.0                 0.0   \n",
       "24        0.720364       0.760743                 0.0                 0.0   \n",
       "25        0.617316       0.652507                 0.0                 0.0   \n",
       "26        0.709482       0.730517                 0.0                 0.0   \n",
       "27        0.669144       0.718907                 0.0                 0.0   \n",
       "28        0.675993       0.723476                 0.0                 0.0   \n",
       "29        0.665581       0.711190                 0.0                 0.0   \n",
       "30        0.630577       0.656264                 0.0                 0.0   \n",
       "31        0.630577       0.656264                 0.0                 0.0   \n",
       "\n",
       "    test_Accuracy_seq  \n",
       "0                 0.0  \n",
       "1                 0.0  \n",
       "2                 0.0  \n",
       "3                 0.0  \n",
       "4                 0.0  \n",
       "5                 0.0  \n",
       "6                 0.0  \n",
       "7                 0.0  \n",
       "8                 0.0  \n",
       "9                 0.0  \n",
       "10                0.0  \n",
       "11                0.0  \n",
       "12                0.0  \n",
       "13                0.0  \n",
       "14                0.0  \n",
       "15                0.0  \n",
       "16                0.0  \n",
       "17                0.0  \n",
       "18                0.0  \n",
       "19                0.0  \n",
       "20                0.0  \n",
       "21                0.0  \n",
       "22                0.0  \n",
       "23                0.0  \n",
       "24                0.0  \n",
       "25                0.0  \n",
       "26                0.0  \n",
       "27                0.0  \n",
       "28                0.0  \n",
       "29                0.0  \n",
       "30                0.0  \n",
       "31                0.0  "
      ]
     },
     "execution_count": 4,
     "metadata": {},
     "output_type": "execute_result"
    }
   ],
   "source": [
    "df"
   ]
  },
  {
   "cell_type": "code",
   "execution_count": 14,
   "metadata": {},
   "outputs": [
    {
     "data": {
      "text/plain": [
       "Text(0.5, 1.0, '')"
      ]
     },
     "execution_count": 14,
     "metadata": {},
     "output_type": "execute_result"
    },
    {
     "data": {
      "image/png": "[encoded data removed]",
      "text/plain": [
       "<Figure size 640x480 with 1 Axes>"
      ]
     },
     "metadata": {},
     "output_type": "display_data"
    }
   ],
   "source": [
    "import plotly.express as px\n",
    "import pandas as pd\n",
    "\n",
    "from plotly.subplots import make_subplots\n",
    "import plotly.graph_objects as go\n",
    "\n",
    "\n",
    "hue = \"arc_latent_volume\"\n",
    "xplot = \"arc_encoder_blocks\"\n",
    "yplot = \"test_Accuracy\"\n",
    "\n",
    "extra_info = [\n",
    "    \"arc_num_params\",\n",
    "    \"arc_features\",\n",
    "    \"arc_encoder_blocks\",\n",
    "    \"arc_latent_volume\",\n",
    "    \"arc_skip\",\n",
    "]\n",
    "\n",
    "f = sns.boxplot(df, x='arc_features', y = 'test_Accuracy', hue='arc_skip')\n",
    "f.grid()\n",
    "f.set_title('')"
   ]
  },
  {
   "cell_type": "code",
   "execution_count": 7,
   "metadata": {},
   "outputs": [
    {
     "data": {
      "image/png": "[encoded data removed]",
      "text/plain": [
       "<Figure size 1200x600 with 2 Axes>"
      ]
     },
     "metadata": {},
     "output_type": "display_data"
    }
   ],
   "source": [
    "import matplotlib.pyplot as plt\n",
    "import seaborn as sns\n",
    "\n",
    "fig, ax = plt.subplots(1, 2, figsize=(12, 6))\n",
    "\n",
    "xplot = \"arc_latent_volume\"\n",
    "yplot = \"test_Accuracy\"\n",
    "# hue = \"arc_latent_volume\"\n",
    "# size = \"arc_num_conv\"\n",
    "size = None\n",
    "hue = \"arc_features\"\n",
    "style = None\n",
    "extra_info = [\n",
    "    \"test_file\",\n",
    "    \"arc_num_params\",\n",
    "    \"arc_features\",\n",
    "    \"arc_encoder_blocks\",\n",
    "    \"arc_latent_volume\", \n",
    "    \"arc_skip\",\n",
    "]\n",
    "\n",
    "df0 = df.query(\"arc_skip == 0\")\n",
    "df1 = df.query(\"arc_skip == 1\")\n",
    "\n",
    "sns.scatterplot(\n",
    "    data=df0, x=xplot, y=yplot, hue=hue, style=style, ax=ax[0], size=size, legend=False\n",
    ")\n",
    "sns.scatterplot(data=df1, x=xplot, y=yplot, hue=hue, style=style, size=size, ax=ax[1])\n",
    "\n",
    "for a in ax:\n",
    "    a.grid()\n",
    "    a.set_xlabel(a.get_xlabel(), fontsize=14)\n",
    "    a.set_ylabel(a.get_ylabel(), fontsize=14)\n",
    "    a.tick_params(axis=\"both\", which=\"major\", labelsize=12)\n",
    "\n",
    "ax[1].legend(\n",
    "    bbox_to_anchor=(1.01, 1),\n",
    "    loc=2,\n",
    "    borderaxespad=0.0,\n",
    "    fontsize=12,\n",
    "    title_fontsize=14,\n",
    ")\n",
    "fig.suptitle(\"Test Accuracy vs # Params\", fontsize=16)\n",
    "ax[0].set_title(\"No skip\", fontsize=14)\n",
    "ax[1].set_title(\"Skip\", fontsize=14)\n",
    "\n",
    "fig.tight_layout()\n",
    "plt.show()"
   ]
  },
  {
   "cell_type": "code",
   "execution_count": 8,
   "metadata": {},
   "outputs": [
    {
     "data": {
      "text/html": [
       "<div>\n",
       "<style scoped>\n",
       "    .dataframe tbody tr th:only-of-type {\n",
       "        vertical-align: middle;\n",
       "    }\n",
       "\n",
       "    .dataframe tbody tr th {\n",
       "        vertical-align: top;\n",
       "    }\n",
       "\n",
       "    .dataframe thead th {\n",
       "        text-align: right;\n",
       "    }\n",
       "</style>\n",
       "<table border=\"1\" class=\"dataframe\">\n",
       "  <thead>\n",
       "    <tr style=\"text-align: right;\">\n",
       "      <th></th>\n",
       "      <th>run_name</th>\n",
       "      <th>arc_features</th>\n",
       "      <th>arc_encoder_blocks</th>\n",
       "      <th>arc_num_params</th>\n",
       "      <th>arc_latent_volume</th>\n",
       "      <th>arc_num_conv</th>\n",
       "      <th>arc_skip</th>\n",
       "      <th>train_loss</th>\n",
       "      <th>valid_loss</th>\n",
       "      <th>test_loss</th>\n",
       "      <th>valid_F1</th>\n",
       "      <th>train_F1</th>\n",
       "      <th>test_F1</th>\n",
       "      <th>train_Accuracy</th>\n",
       "      <th>valid_Accuracy</th>\n",
       "      <th>test_Accuracy</th>\n",
       "      <th>train_Accuracy_seq</th>\n",
       "      <th>valid_Accuracy_seq</th>\n",
       "      <th>test_Accuracy_seq</th>\n",
       "    </tr>\n",
       "  </thead>\n",
       "  <tbody>\n",
       "  </tbody>\n",
       "</table>\n",
       "</div>"
      ],
      "text/plain": [
       "Empty DataFrame\n",
       "Columns: [run_name, arc_features, arc_encoder_blocks, arc_num_params, arc_latent_volume, arc_num_conv, arc_skip, train_loss, valid_loss, test_loss, valid_F1, train_F1, test_F1, train_Accuracy, valid_Accuracy, test_Accuracy, train_Accuracy_seq, valid_Accuracy_seq, test_Accuracy_seq]\n",
       "Index: []"
      ]
     },
     "execution_count": 8,
     "metadata": {},
     "output_type": "execute_result"
    }
   ],
   "source": [
    "df.query(\"arc_latent_volume == 1024.0\")"
   ]
  },
  {
   "cell_type": "code",
   "execution_count": 9,
   "metadata": {},
   "outputs": [
    {
     "data": {
      "text/plain": [
       "Index(['run_name', 'arc_features', 'arc_encoder_blocks', 'arc_num_params',\n",
       "       'arc_latent_volume', 'arc_num_conv', 'arc_skip', 'train_loss',\n",
       "       'valid_loss', 'test_loss', 'valid_F1', 'train_F1', 'test_F1',\n",
       "       'train_Accuracy', 'valid_Accuracy', 'test_Accuracy',\n",
       "       'train_Accuracy_seq', 'valid_Accuracy_seq', 'test_Accuracy_seq'],\n",
       "      dtype='object')"
      ]
     },
     "execution_count": 9,
     "metadata": {},
     "output_type": "execute_result"
    }
   ],
   "source": [
    "df.columns"
   ]
  },
  {
   "cell_type": "code",
   "execution_count": 10,
   "metadata": {},
   "outputs": [
    {
     "name": "stderr",
     "output_type": "stream",
     "text": [
      "/tmp/ipykernel_306672/848854718.py:34: UserWarning:\n",
      "\n",
      "No artists with labels found to put in legend.  Note that artists whose label start with an underscore are ignored when legend() is called with no argument.\n",
      "\n"
     ]
    },
    {
     "data": {
      "image/png": "[encoded data removed]",
      "text/plain": [
       "<Figure size 1200x600 with 2 Axes>"
      ]
     },
     "metadata": {},
     "output_type": "display_data"
    }
   ],
   "source": [
    "import matplotlib.pyplot as plt\n",
    "import seaborn as sns\n",
    "\n",
    "fig, ax = plt.subplots(1, 2, figsize=(12, 6), sharey=True)\n",
    "\n",
    "yplot = \"arc_features\"\n",
    "xplot = \"test_Accuracy\"\n",
    "# hue = \"arc_latent_volume\"\n",
    "# size = \"arc_num_conv\"\n",
    "size = None\n",
    "hue = None\n",
    "style = None\n",
    "extra_info = [\n",
    "    \"test_file\",\n",
    "    \"arc_num_params\",\n",
    "    \"arc_features\",\n",
    "    \"arc_encoder_blocks\",\n",
    "    \"arc_latent_volume\", \n",
    "    \"arc_skip\",\n",
    "]\n",
    "\n",
    "df0 = df.query(\"arc_skip == 0\")\n",
    "df1 = df.query(\"arc_skip == 1\")\n",
    "\n",
    "sns.boxplot(data=df0, x=xplot, y=yplot, hue=hue, ax=ax[0], legend=False)\n",
    "sns.boxplot(data=df1, x=xplot, y=yplot, hue=hue, ax=ax[1])\n",
    "\n",
    "for a in ax:\n",
    "    a.grid()\n",
    "    a.set_xlabel(a.get_xlabel(), fontsize=14)\n",
    "    a.set_ylabel(a.get_ylabel(), fontsize=14)\n",
    "    a.tick_params(axis=\"both\", which=\"major\", labelsize=12)\n",
    "\n",
    "ax[1].legend(\n",
    "    bbox_to_anchor=(1.01, 1),\n",
    "    loc=2,\n",
    "    borderaxespad=0.0,\n",
    "    fontsize=12,\n",
    "    title_fontsize=14,\n",
    ")\n",
    "fig.suptitle(\"Test Accuracy vs Channels\", fontsize=16)\n",
    "ax[0].set_title(\"No skip\", fontsize=14)\n",
    "ax[1].set_title(\"Skip\", fontsize=14)\n",
    "\n",
    "fig.tight_layout()\n",
    "plt.show()"
   ]
  },
  {
   "cell_type": "code",
   "execution_count": 11,
   "metadata": {},
   "outputs": [
    {
     "name": "stderr",
     "output_type": "stream",
     "text": [
      "/tmp/ipykernel_306672/2238669742.py:37: UserWarning:\n",
      "\n",
      "set_ticklabels() should only be used with a fixed number of ticks, i.e. after set_ticks() or using a FixedLocator.\n",
      "\n",
      "/tmp/ipykernel_306672/2238669742.py:37: UserWarning:\n",
      "\n",
      "set_ticklabels() should only be used with a fixed number of ticks, i.e. after set_ticks() or using a FixedLocator.\n",
      "\n"
     ]
    },
    {
     "data": {
      "image/png": "[encoded data removed]",
      "text/plain": [
       "<Figure size 1200x600 with 2 Axes>"
      ]
     },
     "metadata": {},
     "output_type": "display_data"
    }
   ],
   "source": [
    "import matplotlib.pyplot as plt\n",
    "import seaborn as sns\n",
    "\n",
    "fig, ax = plt.subplots(1, 2, figsize=(12, 6), sharey=True)\n",
    "\n",
    "xplot = \"arc_num_params\"\n",
    "yplot = \"test_Accuracy\"\n",
    "hue = \"arc_latent_volume\"\n",
    "extra_info = [\n",
    "    \"test_file\",\n",
    "    \"arc_num_params\",\n",
    "    \"arc_features\",\n",
    "    \"arc_encoder_blocks\",\n",
    "    \"arc_latent_volume\",\n",
    "    \"arc_num_conv\",\n",
    "    \"arc_skip\",\n",
    "]\n",
    "\n",
    "df0 = df.query(\"arc_skip == 0 and arc_num_params < 30000\")\n",
    "df1 = df.query(\"arc_skip == 1 and arc_num_params < 30000\")\n",
    "\n",
    "sns.scatterplot(\n",
    "    data=df0.sort_values(by=\"test_Accuracy\", ascending=False),\n",
    "    x=xplot,\n",
    "    y=yplot,\n",
    "    hue=hue,\n",
    "    ax=ax[0],\n",
    "    legend=False,\n",
    ")\n",
    "sns.scatterplot(data=df1, x=xplot, y=yplot, hue=hue, ax=ax[1])\n",
    "\n",
    "for a in ax:\n",
    "    a.grid()\n",
    "    a.set_xlabel(a.get_xlabel(), fontsize=14)\n",
    "    a.set_ylabel(a.get_ylabel(), fontsize=14)\n",
    "    a.tick_params(axis=\"both\", which=\"major\", labelsize=12)\n",
    "    a.set_xticklabels(a.get_xticklabels(), rotation=45)\n",
    "\n",
    "ax[1].legend(\n",
    "    bbox_to_anchor=(1.01, 1),\n",
    "    loc=2,\n",
    "    borderaxespad=0.0,\n",
    "    fontsize=12,\n",
    "    title_fontsize=14,\n",
    ")\n",
    "fig.suptitle(\"Features vs Test Accuracy\", fontsize=16)\n",
    "ax[0].set_title(\"No skip\", fontsize=14)\n",
    "ax[1].set_title(\"Skip\", fontsize=14)\n",
    "\n",
    "fig.tight_layout()\n",
    "plt.show()"
   ]
  },
  {
   "cell_type": "code",
   "execution_count": 12,
   "metadata": {},
   "outputs": [
    {
     "name": "stderr",
     "output_type": "stream",
     "text": [
      "/tmp/ipykernel_306672/3437632385.py:36: UserWarning:\n",
      "\n",
      "set_ticklabels() should only be used with a fixed number of ticks, i.e. after set_ticks() or using a FixedLocator.\n",
      "\n",
      "/tmp/ipykernel_306672/3437632385.py:36: UserWarning:\n",
      "\n",
      "set_ticklabels() should only be used with a fixed number of ticks, i.e. after set_ticks() or using a FixedLocator.\n",
      "\n",
      "/tmp/ipykernel_306672/3437632385.py:38: UserWarning:\n",
      "\n",
      "No artists with labels found to put in legend.  Note that artists whose label start with an underscore are ignored when legend() is called with no argument.\n",
      "\n"
     ]
    },
    {
     "data": {
      "image/png": "[encoded data removed]",
      "text/plain": [
       "<Figure size 1600x600 with 2 Axes>"
      ]
     },
     "metadata": {},
     "output_type": "display_data"
    }
   ],
   "source": [
    "import matplotlib.pyplot as plt\n",
    "import seaborn as sns\n",
    "\n",
    "fig, ax = plt.subplots(1, 2, figsize=(16, 6), sharey=True)\n",
    "\n",
    "xplot = \"arc_latent_volume\"\n",
    "yplot = \"test_Accuracy\"\n",
    "hue = None\n",
    "extra_info = [\n",
    "    \"test_file\",\n",
    "    \"arc_num_params\",\n",
    "    \"arc_features\",\n",
    "    \"arc_encoder_blocks\",\n",
    "    \"arc_latent_volume\",\n",
    "    \"arc_skip\",\n",
    "]\n",
    "\n",
    "df0 = df.query(\"arc_skip == 0\")\n",
    "df1 = df.query(\"arc_skip == 1\")\n",
    "\n",
    "sns.boxplot(\n",
    "    data=df0.sort_values(by=\"test_Accuracy\"),\n",
    "    x=xplot,\n",
    "    y=yplot,\n",
    "    hue=hue,\n",
    "    ax=ax[0],\n",
    "    legend=False,\n",
    ")\n",
    "sns.boxplot(data=df1, x=xplot, y=yplot, hue=hue, ax=ax[1])\n",
    "\n",
    "for a in ax:\n",
    "    a.grid()\n",
    "    a.set_xlabel(a.get_xlabel(), fontsize=14)\n",
    "    a.set_ylabel(a.get_ylabel(), fontsize=14)\n",
    "    a.tick_params(axis=\"both\", which=\"major\", labelsize=12)\n",
    "    a.set_xticklabels(a.get_xticklabels(), rotation=90)\n",
    "\n",
    "ax[1].legend(\n",
    "    bbox_to_anchor=(1.01, 1),\n",
    "    loc=2,\n",
    "    borderaxespad=0.0,\n",
    "    fontsize=12,\n",
    "    title_fontsize=14,\n",
    ")\n",
    "fig.suptitle(\"Test Accuracy vs Latent dim\", fontsize=16)\n",
    "ax[0].set_title(\"No skip\", fontsize=14)\n",
    "ax[1].set_title(\"Skip\", fontsize=14)\n",
    "\n",
    "fig.tight_layout()\n",
    "plt.show()"
   ]
  },
  {
   "cell_type": "code",
   "execution_count": null,
   "metadata": {},
   "outputs": [],
   "source": []
  },
  {
   "cell_type": "code",
   "execution_count": null,
   "metadata": {},
   "outputs": [],
   "source": []
  }
 ],
 "metadata": {
  "kernelspec": {
   "display_name": "Experiments",
   "language": "python",
   "name": "python3"
  },
  "language_info": {
   "codemirror_mode": {
    "name": "ipython",
    "version": 3
   },
   "file_extension": ".py",
   "mimetype": "text/x-python",
   "name": "python",
   "nbconvert_exporter": "python",
   "pygments_lexer": "ipython3",
   "version": "3.10.16"
  }
 },
 "nbformat": 4,
 "nbformat_minor": 2
}
