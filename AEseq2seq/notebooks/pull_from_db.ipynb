{
 "cells": [
  {
   "cell_type": "code",
   "execution_count": 1,
   "metadata": {},
   "outputs": [
    {
     "name": "stdout",
     "output_type": "stream",
     "text": [
      "ID: 16, Nombre: paper_based_unet_features_raw, Estado: active\n",
      "ID: 15, Nombre: paper_based_unet_features_x4_x8, Estado: active\n",
      "ID: 14, Nombre: paper_based_unet_fam_split, Estado: active\n",
      "ID: 13, Nombre: paper_based_unet_nc2_features, Estado: active\n",
      "ID: 12, Nombre: paper_based_unet_nc1_features, Estado: active\n",
      "ID: 11, Nombre: paper_based_unet-4-8-8-8-8, Estado: active\n",
      "ID: 10, Nombre: test_unet_refactored, Estado: active\n",
      "ID: 9, Nombre: plain_loss_fn, Estado: active\n",
      "ID: 8, Nombre: test_loss_fcn, Estado: active\n",
      "ID: 7, Nombre: plain_kfold_100e, Estado: active\n",
      "ID: 4, Nombre: test, Estado: active\n",
      "ID: 3, Nombre: seq2seq_plain_latent32, Estado: active\n",
      "ID: 2, Nombre: seq2seq, Estado: active\n",
      "ID: 1, Nombre: seq2seq_plain, Estado: active\n",
      "ID: 0, Nombre: Default, Estado: active\n"
     ]
    }
   ],
   "source": [
    "import pandas as pd\n",
    "import os\n",
    "from mlflow.tracking import MlflowClient\n",
    "\n",
    "\n",
    "from utils import get_params_and_metrics\n",
    "from utils import METRICS, HYPERPARAMETERS, ARCHITECTURE, DATASETS, OTHERS\n",
    "\n",
    "# Conectar al backend store\n",
    "client = MlflowClient(\n",
    "    tracking_uri=\"sqlite:////home/guillermo/Documents/SINC/Research/RNA/AEseq2seq/mlruns.db\"\n",
    ")\n",
    "experiments = client.search_experiments()\n",
    "for exp in experiments:\n",
    "    print(f\"ID: {exp.experiment_id}, Nombre: {exp.name}, Estado: {exp.lifecycle_stage}\")"
   ]
  },
  {
   "cell_type": "code",
   "execution_count": 2,
   "metadata": {},
   "outputs": [
    {
     "name": "stdout",
     "output_type": "stream",
     "text": [
      "Nombre: paper_based_unet_features_raw, ID: 16, Estado: active\n",
      "arc_embedding_dim: ['4']\n",
      "arc_features: ['[4, 8, 16, 32, 64]']\n",
      "arc_encoder_blocks: ['4']\n",
      "arc_num_params: ['37940']\n",
      "arc_initial_volume: ['512']\n",
      "arc_latent_volume: ['512.0']\n",
      "arc_num_conv: ['2']\n",
      "arc_pool_mode: ['max']\n",
      "arc_up_mode: ['upsample']\n",
      "arc_addition: ['cat']\n",
      "arc_skip: ['0']\n"
     ]
    }
   ],
   "source": [
    "n = 0\n",
    "name = experiments[n].name\n",
    "id = experiments[n].experiment_id\n",
    "\n",
    "print(f\"Nombre: {name}, ID: {id}, Estado: {experiments[n].lifecycle_stage}\")\n",
    "\n",
    "df_arc = get_params_and_metrics(client, id, ARCHITECTURE)\n",
    "for col in ARCHITECTURE:\n",
    "    print(f\"{col}: {df_arc[col].unique()}\")"
   ]
  },
  {
   "cell_type": "code",
   "execution_count": 4,
   "metadata": {},
   "outputs": [
    {
     "name": "stdout",
     "output_type": "stream",
     "text": [
      "df shape: (1, 20)\n"
     ]
    }
   ],
   "source": [
    "# METRICS, HYPERPARAMETERS, ARCHITECTURE, DATASETS, OTHERS\n",
    "arc = [\n",
    "    \"arc_num_params\",\n",
    "    \"arc_features\",\n",
    "    \"arc_encoder_blocks\",\n",
    "    \"arc_latent_volume\",\n",
    "    \"arc_skip\",\n",
    "    \"arc_num_conv\",\n",
    "]\n",
    "\n",
    "df_metrics = get_params_and_metrics(client, id, [\"test_file\"] + arc + METRICS)\n",
    "print(f\"df shape: {df_metrics.shape}\")\n",
    "# df_metrics.sample(6)"
   ]
  },
  {
   "cell_type": "code",
   "execution_count": 5,
   "metadata": {},
   "outputs": [],
   "source": [
    "EXPERIMENT_PATH = os.path.join(\"Unet_selection\", name)\n",
    "os.makedirs(EXPERIMENT_PATH, exist_ok=True)\n",
    "df_metrics.to_csv(os.path.join(EXPERIMENT_PATH, \"metrics.csv\"), index=False)"
   ]
  },
  {
   "cell_type": "code",
   "execution_count": null,
   "metadata": {},
   "outputs": [],
   "source": []
  }
 ],
 "metadata": {
  "kernelspec": {
   "display_name": "EDA",
   "language": "python",
   "name": "python3"
  },
  "language_info": {
   "codemirror_mode": {
    "name": "ipython",
    "version": 3
   },
   "file_extension": ".py",
   "mimetype": "text/x-python",
   "name": "python",
   "nbconvert_exporter": "python",
   "pygments_lexer": "ipython3",
   "version": "3.11.9"
  }
 },
 "nbformat": 4,
 "nbformat_minor": 2
}
