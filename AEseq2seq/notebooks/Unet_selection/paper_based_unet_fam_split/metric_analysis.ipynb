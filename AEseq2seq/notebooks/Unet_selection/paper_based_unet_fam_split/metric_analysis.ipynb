{
 "cells": [
  {
   "cell_type": "code",
   "execution_count": 33,
   "metadata": {},
   "outputs": [],
   "source": [
    "import pandas as pd\n",
    "import matplotlib.pyplot as plt\n",
    "import seaborn as sns"
   ]
  },
  {
   "cell_type": "code",
   "execution_count": 34,
   "metadata": {},
   "outputs": [],
   "source": [
    "df = pd.read_csv(\"metrics.csv\")"
   ]
  },
  {
   "cell_type": "code",
   "execution_count": 35,
   "metadata": {},
   "outputs": [
    {
     "data": {
      "text/html": [
       "<div>\n",
       "<style scoped>\n",
       "    .dataframe tbody tr th:only-of-type {\n",
       "        vertical-align: middle;\n",
       "    }\n",
       "\n",
       "    .dataframe tbody tr th {\n",
       "        vertical-align: top;\n",
       "    }\n",
       "\n",
       "    .dataframe thead th {\n",
       "        text-align: right;\n",
       "    }\n",
       "</style>\n",
       "<table border=\"1\" class=\"dataframe\">\n",
       "  <thead>\n",
       "    <tr style=\"text-align: right;\">\n",
       "      <th></th>\n",
       "      <th>run_name</th>\n",
       "      <th>test_file</th>\n",
       "      <th>arc_features</th>\n",
       "      <th>arc_num_params</th>\n",
       "      <th>arc_latent_volume</th>\n",
       "      <th>arc_skip</th>\n",
       "      <th>train_loss</th>\n",
       "      <th>valid_loss</th>\n",
       "      <th>test_loss</th>\n",
       "      <th>valid_F1</th>\n",
       "      <th>train_F1</th>\n",
       "      <th>test_F1</th>\n",
       "      <th>train_Accuracy</th>\n",
       "      <th>valid_Accuracy</th>\n",
       "      <th>test_Accuracy</th>\n",
       "      <th>train_Accuracy_seq</th>\n",
       "      <th>valid_Accuracy_seq</th>\n",
       "      <th>test_Accuracy_seq</th>\n",
       "    </tr>\n",
       "  </thead>\n",
       "  <tbody>\n",
       "    <tr>\n",
       "      <th>0</th>\n",
       "      <td>paper_based_f_3X4_2X8_srp_pool-max-up-upsample...</td>\n",
       "      <td>test_srp.csv</td>\n",
       "      <td>[4, 4, 4, 8, 8]</td>\n",
       "      <td>1988</td>\n",
       "      <td>64.0</td>\n",
       "      <td>0</td>\n",
       "      <td>0.148743</td>\n",
       "      <td>0.148549</td>\n",
       "      <td>0.139230</td>\n",
       "      <td>0.708045</td>\n",
       "      <td>0.709738</td>\n",
       "      <td>0.737851</td>\n",
       "      <td>0.794364</td>\n",
       "      <td>0.793393</td>\n",
       "      <td>0.814544</td>\n",
       "      <td>0.000000</td>\n",
       "      <td>0.000000</td>\n",
       "      <td>0.000000</td>\n",
       "    </tr>\n",
       "    <tr>\n",
       "      <th>1</th>\n",
       "      <td>paper_based_f_3X4_2X8_tRNA_pool-max-up-upsampl...</td>\n",
       "      <td>test_tRNA.csv</td>\n",
       "      <td>[4, 4, 4, 8, 8]</td>\n",
       "      <td>1988</td>\n",
       "      <td>64.0</td>\n",
       "      <td>0</td>\n",
       "      <td>0.158841</td>\n",
       "      <td>0.156596</td>\n",
       "      <td>0.115062</td>\n",
       "      <td>0.693652</td>\n",
       "      <td>0.689128</td>\n",
       "      <td>0.780354</td>\n",
       "      <td>0.781756</td>\n",
       "      <td>0.784267</td>\n",
       "      <td>0.849365</td>\n",
       "      <td>0.000000</td>\n",
       "      <td>0.000000</td>\n",
       "      <td>0.000000</td>\n",
       "    </tr>\n",
       "    <tr>\n",
       "      <th>2</th>\n",
       "      <td>paper_based_f_3x4_8_16_tRNA_pool-max-up-upsamp...</td>\n",
       "      <td>test_tRNA.csv</td>\n",
       "      <td>[4, 4, 4, 8, 16]</td>\n",
       "      <td>2996</td>\n",
       "      <td>128.0</td>\n",
       "      <td>0</td>\n",
       "      <td>0.154155</td>\n",
       "      <td>0.152710</td>\n",
       "      <td>0.115421</td>\n",
       "      <td>0.713752</td>\n",
       "      <td>0.712943</td>\n",
       "      <td>0.781537</td>\n",
       "      <td>0.786942</td>\n",
       "      <td>0.789485</td>\n",
       "      <td>0.849261</td>\n",
       "      <td>0.000000</td>\n",
       "      <td>0.000000</td>\n",
       "      <td>0.000000</td>\n",
       "    </tr>\n",
       "    <tr>\n",
       "      <th>3</th>\n",
       "      <td>paper_based_f_3x4_8_16_srp_pool-max-up-upsampl...</td>\n",
       "      <td>test_srp.csv</td>\n",
       "      <td>[4, 4, 4, 8, 16]</td>\n",
       "      <td>2996</td>\n",
       "      <td>128.0</td>\n",
       "      <td>0</td>\n",
       "      <td>0.144226</td>\n",
       "      <td>0.143301</td>\n",
       "      <td>0.137812</td>\n",
       "      <td>0.732139</td>\n",
       "      <td>0.735884</td>\n",
       "      <td>0.739084</td>\n",
       "      <td>0.799124</td>\n",
       "      <td>0.800622</td>\n",
       "      <td>0.815737</td>\n",
       "      <td>0.000000</td>\n",
       "      <td>0.000000</td>\n",
       "      <td>0.000000</td>\n",
       "    </tr>\n",
       "    <tr>\n",
       "      <th>4</th>\n",
       "      <td>paper_based_f_4_2x8_2x16_srp_pool-max-up-upsam...</td>\n",
       "      <td>test_srp.csv</td>\n",
       "      <td>[4, 8, 8, 16, 16]</td>\n",
       "      <td>7844</td>\n",
       "      <td>128.0</td>\n",
       "      <td>1</td>\n",
       "      <td>0.000634</td>\n",
       "      <td>0.000072</td>\n",
       "      <td>0.000106</td>\n",
       "      <td>0.999995</td>\n",
       "      <td>0.999996</td>\n",
       "      <td>0.999968</td>\n",
       "      <td>0.999996</td>\n",
       "      <td>0.999995</td>\n",
       "      <td>0.999968</td>\n",
       "      <td>0.998630</td>\n",
       "      <td>0.997283</td>\n",
       "      <td>0.983871</td>\n",
       "    </tr>\n",
       "    <tr>\n",
       "      <th>5</th>\n",
       "      <td>paper_based_f_4_2x8_2x16_srp_pool-max-up-upsam...</td>\n",
       "      <td>test_srp.csv</td>\n",
       "      <td>[4, 8, 8, 16, 16]</td>\n",
       "      <td>6644</td>\n",
       "      <td>128.0</td>\n",
       "      <td>0</td>\n",
       "      <td>0.130863</td>\n",
       "      <td>0.131397</td>\n",
       "      <td>0.144751</td>\n",
       "      <td>0.775835</td>\n",
       "      <td>0.777102</td>\n",
       "      <td>0.744662</td>\n",
       "      <td>0.817084</td>\n",
       "      <td>0.815477</td>\n",
       "      <td>0.807393</td>\n",
       "      <td>0.000000</td>\n",
       "      <td>0.000000</td>\n",
       "      <td>0.000000</td>\n",
       "    </tr>\n",
       "    <tr>\n",
       "      <th>6</th>\n",
       "      <td>paper_based_f_4_2x8_2x16_tRNA_pool-max-up-upsa...</td>\n",
       "      <td>test_tRNA.csv</td>\n",
       "      <td>[4, 8, 8, 16, 16]</td>\n",
       "      <td>6644</td>\n",
       "      <td>128.0</td>\n",
       "      <td>0</td>\n",
       "      <td>0.138989</td>\n",
       "      <td>0.139070</td>\n",
       "      <td>0.114340</td>\n",
       "      <td>0.765528</td>\n",
       "      <td>0.771288</td>\n",
       "      <td>0.785373</td>\n",
       "      <td>0.809526</td>\n",
       "      <td>0.810163</td>\n",
       "      <td>0.848256</td>\n",
       "      <td>0.000000</td>\n",
       "      <td>0.000000</td>\n",
       "      <td>0.000000</td>\n",
       "    </tr>\n",
       "    <tr>\n",
       "      <th>7</th>\n",
       "      <td>paper_based_f_4_2x8_2x16_tRNA_pool-max-up-upsa...</td>\n",
       "      <td>test_tRNA.csv</td>\n",
       "      <td>[4, 8, 8, 16, 16]</td>\n",
       "      <td>7844</td>\n",
       "      <td>128.0</td>\n",
       "      <td>1</td>\n",
       "      <td>0.000399</td>\n",
       "      <td>0.000043</td>\n",
       "      <td>0.000042</td>\n",
       "      <td>0.999995</td>\n",
       "      <td>0.999997</td>\n",
       "      <td>1.000000</td>\n",
       "      <td>0.999997</td>\n",
       "      <td>0.999995</td>\n",
       "      <td>1.000000</td>\n",
       "      <td>0.999292</td>\n",
       "      <td>0.997191</td>\n",
       "      <td>1.000000</td>\n",
       "    </tr>\n",
       "    <tr>\n",
       "      <th>8</th>\n",
       "      <td>paper_based_f_4_4x8_tRNA_pool-max-up-upsample-...</td>\n",
       "      <td>test_tRNA.csv</td>\n",
       "      <td>[4, 8, 8, 8, 8]</td>\n",
       "      <td>3860</td>\n",
       "      <td>64.0</td>\n",
       "      <td>1</td>\n",
       "      <td>0.000672</td>\n",
       "      <td>0.000163</td>\n",
       "      <td>0.000133</td>\n",
       "      <td>0.999995</td>\n",
       "      <td>0.999996</td>\n",
       "      <td>1.000000</td>\n",
       "      <td>0.999996</td>\n",
       "      <td>0.999995</td>\n",
       "      <td>1.000000</td>\n",
       "      <td>0.997875</td>\n",
       "      <td>0.997191</td>\n",
       "      <td>1.000000</td>\n",
       "    </tr>\n",
       "    <tr>\n",
       "      <th>9</th>\n",
       "      <td>paper_based_f_4_4x8_tRNA_pool-max-up-upsample-...</td>\n",
       "      <td>test_tRNA.csv</td>\n",
       "      <td>[4, 8, 8, 8, 8]</td>\n",
       "      <td>3236</td>\n",
       "      <td>64.0</td>\n",
       "      <td>0</td>\n",
       "      <td>0.146163</td>\n",
       "      <td>0.145347</td>\n",
       "      <td>0.118500</td>\n",
       "      <td>0.749074</td>\n",
       "      <td>0.745535</td>\n",
       "      <td>0.782738</td>\n",
       "      <td>0.796389</td>\n",
       "      <td>0.798559</td>\n",
       "      <td>0.845571</td>\n",
       "      <td>0.000000</td>\n",
       "      <td>0.000000</td>\n",
       "      <td>0.000000</td>\n",
       "    </tr>\n",
       "    <tr>\n",
       "      <th>10</th>\n",
       "      <td>paper_based_f_4_4x8_srp_pool-max-up-upsample-s...</td>\n",
       "      <td>test_srp.csv</td>\n",
       "      <td>[4, 8, 8, 8, 8]</td>\n",
       "      <td>3236</td>\n",
       "      <td>64.0</td>\n",
       "      <td>0</td>\n",
       "      <td>0.136005</td>\n",
       "      <td>0.134907</td>\n",
       "      <td>0.142323</td>\n",
       "      <td>0.769661</td>\n",
       "      <td>0.766659</td>\n",
       "      <td>0.743902</td>\n",
       "      <td>0.810782</td>\n",
       "      <td>0.812309</td>\n",
       "      <td>0.807759</td>\n",
       "      <td>0.000000</td>\n",
       "      <td>0.000000</td>\n",
       "      <td>0.000000</td>\n",
       "    </tr>\n",
       "    <tr>\n",
       "      <th>11</th>\n",
       "      <td>paper_based_f_4_4x8_srp_pool-max-up-upsample-s...</td>\n",
       "      <td>test_srp.csv</td>\n",
       "      <td>[4, 8, 8, 8, 8]</td>\n",
       "      <td>3860</td>\n",
       "      <td>64.0</td>\n",
       "      <td>1</td>\n",
       "      <td>0.000640</td>\n",
       "      <td>0.000166</td>\n",
       "      <td>0.000306</td>\n",
       "      <td>0.999995</td>\n",
       "      <td>0.999988</td>\n",
       "      <td>0.999925</td>\n",
       "      <td>0.999988</td>\n",
       "      <td>0.999995</td>\n",
       "      <td>0.999925</td>\n",
       "      <td>0.993836</td>\n",
       "      <td>0.997283</td>\n",
       "      <td>0.963710</td>\n",
       "    </tr>\n",
       "    <tr>\n",
       "      <th>12</th>\n",
       "      <td>paper_based_f_only_4_srp_pool-max-up-upsample-...</td>\n",
       "      <td>test_srp.csv</td>\n",
       "      <td>[4, 4, 4, 4, 4]</td>\n",
       "      <td>1292</td>\n",
       "      <td>32.0</td>\n",
       "      <td>1</td>\n",
       "      <td>0.000989</td>\n",
       "      <td>0.000122</td>\n",
       "      <td>0.000129</td>\n",
       "      <td>0.999979</td>\n",
       "      <td>0.999997</td>\n",
       "      <td>0.999980</td>\n",
       "      <td>0.999997</td>\n",
       "      <td>0.999979</td>\n",
       "      <td>0.999980</td>\n",
       "      <td>0.998630</td>\n",
       "      <td>0.989130</td>\n",
       "      <td>0.989919</td>\n",
       "    </tr>\n",
       "    <tr>\n",
       "      <th>13</th>\n",
       "      <td>paper_based_f_only_4_srp_pool-max-up-upsample-...</td>\n",
       "      <td>test_srp.csv</td>\n",
       "      <td>[4, 4, 4, 4, 4]</td>\n",
       "      <td>1100</td>\n",
       "      <td>32.0</td>\n",
       "      <td>0</td>\n",
       "      <td>0.146437</td>\n",
       "      <td>0.145850</td>\n",
       "      <td>0.140409</td>\n",
       "      <td>0.717766</td>\n",
       "      <td>0.717572</td>\n",
       "      <td>0.736683</td>\n",
       "      <td>0.796078</td>\n",
       "      <td>0.796121</td>\n",
       "      <td>0.814827</td>\n",
       "      <td>0.000000</td>\n",
       "      <td>0.000000</td>\n",
       "      <td>0.000000</td>\n",
       "    </tr>\n",
       "    <tr>\n",
       "      <th>14</th>\n",
       "      <td>paper_based_f_only_4_tRNA_pool-max-up-upsample...</td>\n",
       "      <td>test_tRNA.csv</td>\n",
       "      <td>[4, 4, 4, 4, 4]</td>\n",
       "      <td>1100</td>\n",
       "      <td>32.0</td>\n",
       "      <td>0</td>\n",
       "      <td>0.158780</td>\n",
       "      <td>0.156929</td>\n",
       "      <td>0.116208</td>\n",
       "      <td>0.688807</td>\n",
       "      <td>0.688143</td>\n",
       "      <td>0.780329</td>\n",
       "      <td>0.781928</td>\n",
       "      <td>0.783746</td>\n",
       "      <td>0.849463</td>\n",
       "      <td>0.000000</td>\n",
       "      <td>0.000000</td>\n",
       "      <td>0.000000</td>\n",
       "    </tr>\n",
       "    <tr>\n",
       "      <th>15</th>\n",
       "      <td>paper_based_f_only_4_tRNA_pool-max-up-upsample...</td>\n",
       "      <td>test_tRNA.csv</td>\n",
       "      <td>[4, 4, 4, 4, 4]</td>\n",
       "      <td>1292</td>\n",
       "      <td>32.0</td>\n",
       "      <td>1</td>\n",
       "      <td>0.000780</td>\n",
       "      <td>0.000200</td>\n",
       "      <td>0.000104</td>\n",
       "      <td>0.999978</td>\n",
       "      <td>0.999981</td>\n",
       "      <td>1.000000</td>\n",
       "      <td>0.999981</td>\n",
       "      <td>0.999978</td>\n",
       "      <td>1.000000</td>\n",
       "      <td>0.990085</td>\n",
       "      <td>0.988764</td>\n",
       "      <td>1.000000</td>\n",
       "    </tr>\n",
       "    <tr>\n",
       "      <th>16</th>\n",
       "      <td>paper_based_tRNA_pool-max-up-upsample-skip1-ad...</td>\n",
       "      <td>test_tRNA.csv</td>\n",
       "      <td>[4, 8, 16, 32, 64]</td>\n",
       "      <td>42020</td>\n",
       "      <td>512.0</td>\n",
       "      <td>1</td>\n",
       "      <td>0.000815</td>\n",
       "      <td>0.000162</td>\n",
       "      <td>0.000084</td>\n",
       "      <td>1.000000</td>\n",
       "      <td>0.999997</td>\n",
       "      <td>1.000000</td>\n",
       "      <td>0.999997</td>\n",
       "      <td>1.000000</td>\n",
       "      <td>1.000000</td>\n",
       "      <td>0.998584</td>\n",
       "      <td>1.000000</td>\n",
       "      <td>1.000000</td>\n",
       "    </tr>\n",
       "    <tr>\n",
       "      <th>17</th>\n",
       "      <td>paper_based_tRNA_pool-max-up-upsample-skip0-ad...</td>\n",
       "      <td>test_tRNA.csv</td>\n",
       "      <td>[4, 8, 16, 32, 64]</td>\n",
       "      <td>37940</td>\n",
       "      <td>512.0</td>\n",
       "      <td>0</td>\n",
       "      <td>0.128353</td>\n",
       "      <td>0.127385</td>\n",
       "      <td>0.117376</td>\n",
       "      <td>0.800767</td>\n",
       "      <td>0.804157</td>\n",
       "      <td>0.792001</td>\n",
       "      <td>0.827472</td>\n",
       "      <td>0.827917</td>\n",
       "      <td>0.846122</td>\n",
       "      <td>0.000000</td>\n",
       "      <td>0.000000</td>\n",
       "      <td>0.000000</td>\n",
       "    </tr>\n",
       "    <tr>\n",
       "      <th>18</th>\n",
       "      <td>paper_based_srp_pool-max-up-upsample-skip0-add...</td>\n",
       "      <td>test_srp.csv</td>\n",
       "      <td>[4, 8, 16, 32, 64]</td>\n",
       "      <td>37940</td>\n",
       "      <td>512.0</td>\n",
       "      <td>0</td>\n",
       "      <td>0.123441</td>\n",
       "      <td>0.122503</td>\n",
       "      <td>0.146141</td>\n",
       "      <td>0.797539</td>\n",
       "      <td>0.794345</td>\n",
       "      <td>0.740421</td>\n",
       "      <td>0.829067</td>\n",
       "      <td>0.830641</td>\n",
       "      <td>0.810149</td>\n",
       "      <td>0.000000</td>\n",
       "      <td>0.000000</td>\n",
       "      <td>0.000000</td>\n",
       "    </tr>\n",
       "    <tr>\n",
       "      <th>19</th>\n",
       "      <td>paper_based_srp_pool-max-up-upsample-skip1-add...</td>\n",
       "      <td>test_srp.csv</td>\n",
       "      <td>[4, 8, 16, 32, 64]</td>\n",
       "      <td>42020</td>\n",
       "      <td>512.0</td>\n",
       "      <td>1</td>\n",
       "      <td>0.000843</td>\n",
       "      <td>0.000080</td>\n",
       "      <td>0.000094</td>\n",
       "      <td>1.000000</td>\n",
       "      <td>1.000000</td>\n",
       "      <td>0.999992</td>\n",
       "      <td>1.000000</td>\n",
       "      <td>1.000000</td>\n",
       "      <td>0.999992</td>\n",
       "      <td>1.000000</td>\n",
       "      <td>1.000000</td>\n",
       "      <td>0.997984</td>\n",
       "    </tr>\n",
       "  </tbody>\n",
       "</table>\n",
       "</div>"
      ],
      "text/plain": [
       "                                             run_name      test_file  \\\n",
       "0   paper_based_f_3X4_2X8_srp_pool-max-up-upsample...   test_srp.csv   \n",
       "1   paper_based_f_3X4_2X8_tRNA_pool-max-up-upsampl...  test_tRNA.csv   \n",
       "2   paper_based_f_3x4_8_16_tRNA_pool-max-up-upsamp...  test_tRNA.csv   \n",
       "3   paper_based_f_3x4_8_16_srp_pool-max-up-upsampl...   test_srp.csv   \n",
       "4   paper_based_f_4_2x8_2x16_srp_pool-max-up-upsam...   test_srp.csv   \n",
       "5   paper_based_f_4_2x8_2x16_srp_pool-max-up-upsam...   test_srp.csv   \n",
       "6   paper_based_f_4_2x8_2x16_tRNA_pool-max-up-upsa...  test_tRNA.csv   \n",
       "7   paper_based_f_4_2x8_2x16_tRNA_pool-max-up-upsa...  test_tRNA.csv   \n",
       "8   paper_based_f_4_4x8_tRNA_pool-max-up-upsample-...  test_tRNA.csv   \n",
       "9   paper_based_f_4_4x8_tRNA_pool-max-up-upsample-...  test_tRNA.csv   \n",
       "10  paper_based_f_4_4x8_srp_pool-max-up-upsample-s...   test_srp.csv   \n",
       "11  paper_based_f_4_4x8_srp_pool-max-up-upsample-s...   test_srp.csv   \n",
       "12  paper_based_f_only_4_srp_pool-max-up-upsample-...   test_srp.csv   \n",
       "13  paper_based_f_only_4_srp_pool-max-up-upsample-...   test_srp.csv   \n",
       "14  paper_based_f_only_4_tRNA_pool-max-up-upsample...  test_tRNA.csv   \n",
       "15  paper_based_f_only_4_tRNA_pool-max-up-upsample...  test_tRNA.csv   \n",
       "16  paper_based_tRNA_pool-max-up-upsample-skip1-ad...  test_tRNA.csv   \n",
       "17  paper_based_tRNA_pool-max-up-upsample-skip0-ad...  test_tRNA.csv   \n",
       "18  paper_based_srp_pool-max-up-upsample-skip0-add...   test_srp.csv   \n",
       "19  paper_based_srp_pool-max-up-upsample-skip1-add...   test_srp.csv   \n",
       "\n",
       "          arc_features  arc_num_params  arc_latent_volume  arc_skip  \\\n",
       "0      [4, 4, 4, 8, 8]            1988               64.0         0   \n",
       "1      [4, 4, 4, 8, 8]            1988               64.0         0   \n",
       "2     [4, 4, 4, 8, 16]            2996              128.0         0   \n",
       "3     [4, 4, 4, 8, 16]            2996              128.0         0   \n",
       "4    [4, 8, 8, 16, 16]            7844              128.0         1   \n",
       "5    [4, 8, 8, 16, 16]            6644              128.0         0   \n",
       "6    [4, 8, 8, 16, 16]            6644              128.0         0   \n",
       "7    [4, 8, 8, 16, 16]            7844              128.0         1   \n",
       "8      [4, 8, 8, 8, 8]            3860               64.0         1   \n",
       "9      [4, 8, 8, 8, 8]            3236               64.0         0   \n",
       "10     [4, 8, 8, 8, 8]            3236               64.0         0   \n",
       "11     [4, 8, 8, 8, 8]            3860               64.0         1   \n",
       "12     [4, 4, 4, 4, 4]            1292               32.0         1   \n",
       "13     [4, 4, 4, 4, 4]            1100               32.0         0   \n",
       "14     [4, 4, 4, 4, 4]            1100               32.0         0   \n",
       "15     [4, 4, 4, 4, 4]            1292               32.0         1   \n",
       "16  [4, 8, 16, 32, 64]           42020              512.0         1   \n",
       "17  [4, 8, 16, 32, 64]           37940              512.0         0   \n",
       "18  [4, 8, 16, 32, 64]           37940              512.0         0   \n",
       "19  [4, 8, 16, 32, 64]           42020              512.0         1   \n",
       "\n",
       "    train_loss  valid_loss  test_loss  valid_F1  train_F1   test_F1  \\\n",
       "0     0.148743    0.148549   0.139230  0.708045  0.709738  0.737851   \n",
       "1     0.158841    0.156596   0.115062  0.693652  0.689128  0.780354   \n",
       "2     0.154155    0.152710   0.115421  0.713752  0.712943  0.781537   \n",
       "3     0.144226    0.143301   0.137812  0.732139  0.735884  0.739084   \n",
       "4     0.000634    0.000072   0.000106  0.999995  0.999996  0.999968   \n",
       "5     0.130863    0.131397   0.144751  0.775835  0.777102  0.744662   \n",
       "6     0.138989    0.139070   0.114340  0.765528  0.771288  0.785373   \n",
       "7     0.000399    0.000043   0.000042  0.999995  0.999997  1.000000   \n",
       "8     0.000672    0.000163   0.000133  0.999995  0.999996  1.000000   \n",
       "9     0.146163    0.145347   0.118500  0.749074  0.745535  0.782738   \n",
       "10    0.136005    0.134907   0.142323  0.769661  0.766659  0.743902   \n",
       "11    0.000640    0.000166   0.000306  0.999995  0.999988  0.999925   \n",
       "12    0.000989    0.000122   0.000129  0.999979  0.999997  0.999980   \n",
       "13    0.146437    0.145850   0.140409  0.717766  0.717572  0.736683   \n",
       "14    0.158780    0.156929   0.116208  0.688807  0.688143  0.780329   \n",
       "15    0.000780    0.000200   0.000104  0.999978  0.999981  1.000000   \n",
       "16    0.000815    0.000162   0.000084  1.000000  0.999997  1.000000   \n",
       "17    0.128353    0.127385   0.117376  0.800767  0.804157  0.792001   \n",
       "18    0.123441    0.122503   0.146141  0.797539  0.794345  0.740421   \n",
       "19    0.000843    0.000080   0.000094  1.000000  1.000000  0.999992   \n",
       "\n",
       "    train_Accuracy  valid_Accuracy  test_Accuracy  train_Accuracy_seq  \\\n",
       "0         0.794364        0.793393       0.814544            0.000000   \n",
       "1         0.781756        0.784267       0.849365            0.000000   \n",
       "2         0.786942        0.789485       0.849261            0.000000   \n",
       "3         0.799124        0.800622       0.815737            0.000000   \n",
       "4         0.999996        0.999995       0.999968            0.998630   \n",
       "5         0.817084        0.815477       0.807393            0.000000   \n",
       "6         0.809526        0.810163       0.848256            0.000000   \n",
       "7         0.999997        0.999995       1.000000            0.999292   \n",
       "8         0.999996        0.999995       1.000000            0.997875   \n",
       "9         0.796389        0.798559       0.845571            0.000000   \n",
       "10        0.810782        0.812309       0.807759            0.000000   \n",
       "11        0.999988        0.999995       0.999925            0.993836   \n",
       "12        0.999997        0.999979       0.999980            0.998630   \n",
       "13        0.796078        0.796121       0.814827            0.000000   \n",
       "14        0.781928        0.783746       0.849463            0.000000   \n",
       "15        0.999981        0.999978       1.000000            0.990085   \n",
       "16        0.999997        1.000000       1.000000            0.998584   \n",
       "17        0.827472        0.827917       0.846122            0.000000   \n",
       "18        0.829067        0.830641       0.810149            0.000000   \n",
       "19        1.000000        1.000000       0.999992            1.000000   \n",
       "\n",
       "    valid_Accuracy_seq  test_Accuracy_seq  \n",
       "0             0.000000           0.000000  \n",
       "1             0.000000           0.000000  \n",
       "2             0.000000           0.000000  \n",
       "3             0.000000           0.000000  \n",
       "4             0.997283           0.983871  \n",
       "5             0.000000           0.000000  \n",
       "6             0.000000           0.000000  \n",
       "7             0.997191           1.000000  \n",
       "8             0.997191           1.000000  \n",
       "9             0.000000           0.000000  \n",
       "10            0.000000           0.000000  \n",
       "11            0.997283           0.963710  \n",
       "12            0.989130           0.989919  \n",
       "13            0.000000           0.000000  \n",
       "14            0.000000           0.000000  \n",
       "15            0.988764           1.000000  \n",
       "16            1.000000           1.000000  \n",
       "17            0.000000           0.000000  \n",
       "18            0.000000           0.000000  \n",
       "19            1.000000           0.997984  "
      ]
     },
     "execution_count": 35,
     "metadata": {},
     "output_type": "execute_result"
    }
   ],
   "source": [
    "df"
   ]
  },
  {
   "cell_type": "code",
   "execution_count": 46,
   "metadata": {},
   "outputs": [
    {
     "data": {
      "application/vnd.plotly.v1+json": {
       "config": {
        "plotlyServerURL": "https://plot.ly"
       },
       "data": [
        {
         "customdata": [
          [
           "test_srp.csv",
           "[4, 4, 4, 8, 8]",
           0.7943640303938356,
           0.7933933423913043
          ],
          [
           "test_tRNA.csv",
           "[4, 4, 4, 8, 8]",
           0.7817562632790368,
           0.7842674683988764
          ],
          [
           "test_tRNA.csv",
           "[4, 4, 4, 8, 16]",
           0.7869420038066572,
           0.7894849455758427
          ],
          [
           "test_srp.csv",
           "[4, 4, 4, 8, 16]",
           0.7991237692636987,
           0.8006220278532609
          ],
          [
           "test_srp.csv",
           "[4, 8, 8, 16, 16]",
           0.8170844927226028,
           0.8154774541440217
          ],
          [
           "test_tRNA.csv",
           "[4, 8, 8, 16, 16]",
           0.8095260490439093,
           0.8101628335674157
          ],
          [
           "test_tRNA.csv",
           "[4, 8, 8, 8, 8]",
           0.7963894852160056,
           0.798559295997191
          ],
          [
           "test_srp.csv",
           "[4, 8, 8, 8, 8]",
           0.8107823202054795,
           0.8123089334239131
          ],
          [
           "test_srp.csv",
           "[4, 4, 4, 4, 4]",
           0.7960776969178082,
           0.7961213485054348
          ],
          [
           "test_tRNA.csv",
           "[4, 4, 4, 4, 4]",
           0.7819277841713881,
           0.7837462693117978
          ],
          [
           "test_tRNA.csv",
           "[4, 8, 16, 32, 64]",
           0.8274721140226629,
           0.8279165203651685
          ],
          [
           "test_srp.csv",
           "[4, 8, 16, 32, 64]",
           0.8290667808219178,
           0.8306407099184783
          ]
         ],
         "hovertemplate": "arc_latent_volume=%{x}<br>test_Accuracy=%{y}<br>test_file=%{customdata[0]}<br>arc_features=%{customdata[1]}<br>train_Accuracy=%{customdata[2]}<br>valid_Accuracy=%{customdata[3]}<br>arc_num_params=%{marker.color}<extra></extra>",
         "legendgroup": "",
         "marker": {
          "color": [
           1988,
           1988,
           2996,
           2996,
           6644,
           6644,
           3236,
           3236,
           1100,
           1100,
           37940,
           37940
          ],
          "coloraxis": "coloraxis",
          "symbol": "circle"
         },
         "mode": "markers",
         "name": "",
         "orientation": "v",
         "showlegend": false,
         "type": "scatter",
         "x": [
          64,
          64,
          128,
          128,
          128,
          128,
          64,
          64,
          32,
          32,
          512,
          512
         ],
         "xaxis": "x",
         "y": [
          0.814543693296371,
          0.849365234375,
          0.8492606026785714,
          0.8157368321572581,
          0.8073927356350806,
          0.8482561383928572,
          0.8455705915178572,
          0.8077589465725806,
          0.8148272114415323,
          0.849462890625,
          0.8461216517857143,
          0.810149162046371
         ],
         "yaxis": "y"
        },
        {
         "customdata": [
          [
           "test_srp.csv",
           "[4, 8, 8, 16, 16]",
           0.999995986729452,
           0.9999946925951086
          ],
          [
           "test_tRNA.csv",
           "[4, 8, 8, 16, 16]",
           0.9999972335339944,
           0.9999945136938202
          ],
          [
           "test_tRNA.csv",
           "[4, 8, 8, 8, 8]",
           0.9999958503009916,
           0.9999945136938202
          ],
          [
           "test_srp.csv",
           "[4, 8, 8, 8, 8]",
           0.999987960188356,
           0.9999946925951086
          ],
          [
           "test_srp.csv",
           "[4, 4, 4, 4, 4]",
           0.9999973244863014,
           0.9999787703804348
          ],
          [
           "test_tRNA.csv",
           "[4, 4, 4, 4, 4]",
           0.9999806347379604,
           0.9999780547752808
          ],
          [
           "test_tRNA.csv",
           "[4, 8, 16, 32, 64]",
           0.9999972335339944,
           1
          ],
          [
           "test_srp.csv",
           "[4, 8, 16, 32, 64]",
           1,
           1
          ]
         ],
         "hovertemplate": "arc_latent_volume=%{x}<br>test_Accuracy=%{y}<br>test_file=%{customdata[0]}<br>arc_features=%{customdata[1]}<br>train_Accuracy=%{customdata[2]}<br>valid_Accuracy=%{customdata[3]}<br>arc_num_params=%{marker.color}<extra></extra>",
         "legendgroup": "",
         "marker": {
          "color": [
           7844,
           7844,
           3860,
           3860,
           1292,
           1292,
           42020,
           42020
          ],
          "coloraxis": "coloraxis",
          "symbol": "circle"
         },
         "mode": "markers",
         "name": "",
         "orientation": "v",
         "showlegend": false,
         "type": "scatter",
         "x": [
          128,
          128,
          64,
          64,
          32,
          32,
          512,
          512
         ],
         "xaxis": "x2",
         "y": [
          0.999968497983871,
          1,
          1,
          0.9999251827116936,
          0.9999803112399194,
          1,
          1,
          0.9999921244959676
         ],
         "yaxis": "y2"
        }
       ],
       "layout": {
        "annotations": [
         {
          "font": {
           "size": 16
          },
          "showarrow": false,
          "text": "arc_skip == 0",
          "x": 0.225,
          "xanchor": "center",
          "xref": "paper",
          "y": 1,
          "yanchor": "bottom",
          "yref": "paper"
         },
         {
          "font": {
           "size": 16
          },
          "showarrow": false,
          "text": "arc_skip == 1",
          "x": 0.775,
          "xanchor": "center",
          "xref": "paper",
          "y": 1,
          "yanchor": "bottom",
          "yref": "paper"
         }
        ],
        "height": 500,
        "legend": {
         "title": {
          "text": "Num Params"
         }
        },
        "showlegend": true,
        "template": {
         "data": {
          "bar": [
           {
            "error_x": {
             "color": "#2a3f5f"
            },
            "error_y": {
             "color": "#2a3f5f"
            },
            "marker": {
             "line": {
              "color": "#E5ECF6",
              "width": 0.5
             },
             "pattern": {
              "fillmode": "overlay",
              "size": 10,
              "solidity": 0.2
             }
            },
            "type": "bar"
           }
          ],
          "barpolar": [
           {
            "marker": {
             "line": {
              "color": "#E5ECF6",
              "width": 0.5
             },
             "pattern": {
              "fillmode": "overlay",
              "size": 10,
              "solidity": 0.2
             }
            },
            "type": "barpolar"
           }
          ],
          "carpet": [
           {
            "aaxis": {
             "endlinecolor": "#2a3f5f",
             "gridcolor": "white",
             "linecolor": "white",
             "minorgridcolor": "white",
             "startlinecolor": "#2a3f5f"
            },
            "baxis": {
             "endlinecolor": "#2a3f5f",
             "gridcolor": "white",
             "linecolor": "white",
             "minorgridcolor": "white",
             "startlinecolor": "#2a3f5f"
            },
            "type": "carpet"
           }
          ],
          "choropleth": [
           {
            "colorbar": {
             "outlinewidth": 0,
             "ticks": ""
            },
            "type": "choropleth"
           }
          ],
          "contour": [
           {
            "colorbar": {
             "outlinewidth": 0,
             "ticks": ""
            },
            "colorscale": [
             [
              0,
              "#0d0887"
             ],
             [
              0.1111111111111111,
              "#46039f"
             ],
             [
              0.2222222222222222,
              "#7201a8"
             ],
             [
              0.3333333333333333,
              "#9c179e"
             ],
             [
              0.4444444444444444,
              "#bd3786"
             ],
             [
              0.5555555555555556,
              "#d8576b"
             ],
             [
              0.6666666666666666,
              "#ed7953"
             ],
             [
              0.7777777777777778,
              "#fb9f3a"
             ],
             [
              0.8888888888888888,
              "#fdca26"
             ],
             [
              1,
              "#f0f921"
             ]
            ],
            "type": "contour"
           }
          ],
          "contourcarpet": [
           {
            "colorbar": {
             "outlinewidth": 0,
             "ticks": ""
            },
            "type": "contourcarpet"
           }
          ],
          "heatmap": [
           {
            "colorbar": {
             "outlinewidth": 0,
             "ticks": ""
            },
            "colorscale": [
             [
              0,
              "#0d0887"
             ],
             [
              0.1111111111111111,
              "#46039f"
             ],
             [
              0.2222222222222222,
              "#7201a8"
             ],
             [
              0.3333333333333333,
              "#9c179e"
             ],
             [
              0.4444444444444444,
              "#bd3786"
             ],
             [
              0.5555555555555556,
              "#d8576b"
             ],
             [
              0.6666666666666666,
              "#ed7953"
             ],
             [
              0.7777777777777778,
              "#fb9f3a"
             ],
             [
              0.8888888888888888,
              "#fdca26"
             ],
             [
              1,
              "#f0f921"
             ]
            ],
            "type": "heatmap"
           }
          ],
          "heatmapgl": [
           {
            "colorbar": {
             "outlinewidth": 0,
             "ticks": ""
            },
            "colorscale": [
             [
              0,
              "#0d0887"
             ],
             [
              0.1111111111111111,
              "#46039f"
             ],
             [
              0.2222222222222222,
              "#7201a8"
             ],
             [
              0.3333333333333333,
              "#9c179e"
             ],
             [
              0.4444444444444444,
              "#bd3786"
             ],
             [
              0.5555555555555556,
              "#d8576b"
             ],
             [
              0.6666666666666666,
              "#ed7953"
             ],
             [
              0.7777777777777778,
              "#fb9f3a"
             ],
             [
              0.8888888888888888,
              "#fdca26"
             ],
             [
              1,
              "#f0f921"
             ]
            ],
            "type": "heatmapgl"
           }
          ],
          "histogram": [
           {
            "marker": {
             "pattern": {
              "fillmode": "overlay",
              "size": 10,
              "solidity": 0.2
             }
            },
            "type": "histogram"
           }
          ],
          "histogram2d": [
           {
            "colorbar": {
             "outlinewidth": 0,
             "ticks": ""
            },
            "colorscale": [
             [
              0,
              "#0d0887"
             ],
             [
              0.1111111111111111,
              "#46039f"
             ],
             [
              0.2222222222222222,
              "#7201a8"
             ],
             [
              0.3333333333333333,
              "#9c179e"
             ],
             [
              0.4444444444444444,
              "#bd3786"
             ],
             [
              0.5555555555555556,
              "#d8576b"
             ],
             [
              0.6666666666666666,
              "#ed7953"
             ],
             [
              0.7777777777777778,
              "#fb9f3a"
             ],
             [
              0.8888888888888888,
              "#fdca26"
             ],
             [
              1,
              "#f0f921"
             ]
            ],
            "type": "histogram2d"
           }
          ],
          "histogram2dcontour": [
           {
            "colorbar": {
             "outlinewidth": 0,
             "ticks": ""
            },
            "colorscale": [
             [
              0,
              "#0d0887"
             ],
             [
              0.1111111111111111,
              "#46039f"
             ],
             [
              0.2222222222222222,
              "#7201a8"
             ],
             [
              0.3333333333333333,
              "#9c179e"
             ],
             [
              0.4444444444444444,
              "#bd3786"
             ],
             [
              0.5555555555555556,
              "#d8576b"
             ],
             [
              0.6666666666666666,
              "#ed7953"
             ],
             [
              0.7777777777777778,
              "#fb9f3a"
             ],
             [
              0.8888888888888888,
              "#fdca26"
             ],
             [
              1,
              "#f0f921"
             ]
            ],
            "type": "histogram2dcontour"
           }
          ],
          "mesh3d": [
           {
            "colorbar": {
             "outlinewidth": 0,
             "ticks": ""
            },
            "type": "mesh3d"
           }
          ],
          "parcoords": [
           {
            "line": {
             "colorbar": {
              "outlinewidth": 0,
              "ticks": ""
             }
            },
            "type": "parcoords"
           }
          ],
          "pie": [
           {
            "automargin": true,
            "type": "pie"
           }
          ],
          "scatter": [
           {
            "fillpattern": {
             "fillmode": "overlay",
             "size": 10,
             "solidity": 0.2
            },
            "type": "scatter"
           }
          ],
          "scatter3d": [
           {
            "line": {
             "colorbar": {
              "outlinewidth": 0,
              "ticks": ""
             }
            },
            "marker": {
             "colorbar": {
              "outlinewidth": 0,
              "ticks": ""
             }
            },
            "type": "scatter3d"
           }
          ],
          "scattercarpet": [
           {
            "marker": {
             "colorbar": {
              "outlinewidth": 0,
              "ticks": ""
             }
            },
            "type": "scattercarpet"
           }
          ],
          "scattergeo": [
           {
            "marker": {
             "colorbar": {
              "outlinewidth": 0,
              "ticks": ""
             }
            },
            "type": "scattergeo"
           }
          ],
          "scattergl": [
           {
            "marker": {
             "colorbar": {
              "outlinewidth": 0,
              "ticks": ""
             }
            },
            "type": "scattergl"
           }
          ],
          "scattermapbox": [
           {
            "marker": {
             "colorbar": {
              "outlinewidth": 0,
              "ticks": ""
             }
            },
            "type": "scattermapbox"
           }
          ],
          "scatterpolar": [
           {
            "marker": {
             "colorbar": {
              "outlinewidth": 0,
              "ticks": ""
             }
            },
            "type": "scatterpolar"
           }
          ],
          "scatterpolargl": [
           {
            "marker": {
             "colorbar": {
              "outlinewidth": 0,
              "ticks": ""
             }
            },
            "type": "scatterpolargl"
           }
          ],
          "scatterternary": [
           {
            "marker": {
             "colorbar": {
              "outlinewidth": 0,
              "ticks": ""
             }
            },
            "type": "scatterternary"
           }
          ],
          "surface": [
           {
            "colorbar": {
             "outlinewidth": 0,
             "ticks": ""
            },
            "colorscale": [
             [
              0,
              "#0d0887"
             ],
             [
              0.1111111111111111,
              "#46039f"
             ],
             [
              0.2222222222222222,
              "#7201a8"
             ],
             [
              0.3333333333333333,
              "#9c179e"
             ],
             [
              0.4444444444444444,
              "#bd3786"
             ],
             [
              0.5555555555555556,
              "#d8576b"
             ],
             [
              0.6666666666666666,
              "#ed7953"
             ],
             [
              0.7777777777777778,
              "#fb9f3a"
             ],
             [
              0.8888888888888888,
              "#fdca26"
             ],
             [
              1,
              "#f0f921"
             ]
            ],
            "type": "surface"
           }
          ],
          "table": [
           {
            "cells": {
             "fill": {
              "color": "#EBF0F8"
             },
             "line": {
              "color": "white"
             }
            },
            "header": {
             "fill": {
              "color": "#C8D4E3"
             },
             "line": {
              "color": "white"
             }
            },
            "type": "table"
           }
          ]
         },
         "layout": {
          "annotationdefaults": {
           "arrowcolor": "#2a3f5f",
           "arrowhead": 0,
           "arrowwidth": 1
          },
          "autotypenumbers": "strict",
          "coloraxis": {
           "colorbar": {
            "outlinewidth": 0,
            "ticks": ""
           }
          },
          "colorscale": {
           "diverging": [
            [
             0,
             "#8e0152"
            ],
            [
             0.1,
             "#c51b7d"
            ],
            [
             0.2,
             "#de77ae"
            ],
            [
             0.3,
             "#f1b6da"
            ],
            [
             0.4,
             "#fde0ef"
            ],
            [
             0.5,
             "#f7f7f7"
            ],
            [
             0.6,
             "#e6f5d0"
            ],
            [
             0.7,
             "#b8e186"
            ],
            [
             0.8,
             "#7fbc41"
            ],
            [
             0.9,
             "#4d9221"
            ],
            [
             1,
             "#276419"
            ]
           ],
           "sequential": [
            [
             0,
             "#0d0887"
            ],
            [
             0.1111111111111111,
             "#46039f"
            ],
            [
             0.2222222222222222,
             "#7201a8"
            ],
            [
             0.3333333333333333,
             "#9c179e"
            ],
            [
             0.4444444444444444,
             "#bd3786"
            ],
            [
             0.5555555555555556,
             "#d8576b"
            ],
            [
             0.6666666666666666,
             "#ed7953"
            ],
            [
             0.7777777777777778,
             "#fb9f3a"
            ],
            [
             0.8888888888888888,
             "#fdca26"
            ],
            [
             1,
             "#f0f921"
            ]
           ],
           "sequentialminus": [
            [
             0,
             "#0d0887"
            ],
            [
             0.1111111111111111,
             "#46039f"
            ],
            [
             0.2222222222222222,
             "#7201a8"
            ],
            [
             0.3333333333333333,
             "#9c179e"
            ],
            [
             0.4444444444444444,
             "#bd3786"
            ],
            [
             0.5555555555555556,
             "#d8576b"
            ],
            [
             0.6666666666666666,
             "#ed7953"
            ],
            [
             0.7777777777777778,
             "#fb9f3a"
            ],
            [
             0.8888888888888888,
             "#fdca26"
            ],
            [
             1,
             "#f0f921"
            ]
           ]
          },
          "colorway": [
           "#636efa",
           "#EF553B",
           "#00cc96",
           "#ab63fa",
           "#FFA15A",
           "#19d3f3",
           "#FF6692",
           "#B6E880",
           "#FF97FF",
           "#FECB52"
          ],
          "font": {
           "color": "#2a3f5f"
          },
          "geo": {
           "bgcolor": "white",
           "lakecolor": "white",
           "landcolor": "#E5ECF6",
           "showlakes": true,
           "showland": true,
           "subunitcolor": "white"
          },
          "hoverlabel": {
           "align": "left"
          },
          "hovermode": "closest",
          "mapbox": {
           "style": "light"
          },
          "paper_bgcolor": "white",
          "plot_bgcolor": "#E5ECF6",
          "polar": {
           "angularaxis": {
            "gridcolor": "white",
            "linecolor": "white",
            "ticks": ""
           },
           "bgcolor": "#E5ECF6",
           "radialaxis": {
            "gridcolor": "white",
            "linecolor": "white",
            "ticks": ""
           }
          },
          "scene": {
           "xaxis": {
            "backgroundcolor": "#E5ECF6",
            "gridcolor": "white",
            "gridwidth": 2,
            "linecolor": "white",
            "showbackground": true,
            "ticks": "",
            "zerolinecolor": "white"
           },
           "yaxis": {
            "backgroundcolor": "#E5ECF6",
            "gridcolor": "white",
            "gridwidth": 2,
            "linecolor": "white",
            "showbackground": true,
            "ticks": "",
            "zerolinecolor": "white"
           },
           "zaxis": {
            "backgroundcolor": "#E5ECF6",
            "gridcolor": "white",
            "gridwidth": 2,
            "linecolor": "white",
            "showbackground": true,
            "ticks": "",
            "zerolinecolor": "white"
           }
          },
          "shapedefaults": {
           "line": {
            "color": "#2a3f5f"
           }
          },
          "ternary": {
           "aaxis": {
            "gridcolor": "white",
            "linecolor": "white",
            "ticks": ""
           },
           "baxis": {
            "gridcolor": "white",
            "linecolor": "white",
            "ticks": ""
           },
           "bgcolor": "#E5ECF6",
           "caxis": {
            "gridcolor": "white",
            "linecolor": "white",
            "ticks": ""
           }
          },
          "title": {
           "x": 0.05
          },
          "xaxis": {
           "automargin": true,
           "gridcolor": "white",
           "linecolor": "white",
           "ticks": "",
           "title": {
            "standoff": 15
           },
           "zerolinecolor": "white",
           "zerolinewidth": 2
          },
          "yaxis": {
           "automargin": true,
           "gridcolor": "white",
           "linecolor": "white",
           "ticks": "",
           "title": {
            "standoff": 15
           },
           "zerolinecolor": "white",
           "zerolinewidth": 2
          }
         }
        },
        "width": 900,
        "xaxis": {
         "anchor": "y",
         "domain": [
          0,
          0.45
         ]
        },
        "xaxis2": {
         "anchor": "y2",
         "domain": [
          0.55,
          1
         ]
        },
        "yaxis": {
         "anchor": "x",
         "domain": [
          0,
          1
         ]
        },
        "yaxis2": {
         "anchor": "x2",
         "domain": [
          0,
          1
         ]
        }
       }
      }
     },
     "metadata": {},
     "output_type": "display_data"
    }
   ],
   "source": [
    "import plotly.express as px\n",
    "import pandas as pd\n",
    "\n",
    "hue = \"arc_num_params\"\n",
    "yplot = \"test_Accuracy\"\n",
    "xplot = \"arc_latent_volume\"\n",
    "\n",
    "extra_info = [\"test_file\", \"arc_features\", \"train_Accuracy\", \"valid_Accuracy\"]\n",
    "\n",
    "df0 = df.query(\"arc_skip == 0\")\n",
    "df1 = df.query(\"arc_skip == 1\")\n",
    "\n",
    "fig0 = px.scatter(\n",
    "    df0, x=xplot, y=yplot, color=hue, title=\"No skip\", hover_data=extra_info\n",
    ")\n",
    "fig1 = px.scatter(df1, x=xplot, y=yplot, color=hue, title=\"Skip\", hover_data=extra_info)\n",
    "\n",
    "fig0.update_layout(showlegend=False)  # Oculta la leyenda en el primer gráfico\n",
    "\n",
    "# Combinar ambos gráficos en subplots\n",
    "from plotly.subplots import make_subplots\n",
    "import plotly.graph_objects as go\n",
    "\n",
    "fig = make_subplots(rows=1, cols=2, subplot_titles=[\"arc_skip == 0\", \"arc_skip == 1\"])\n",
    "\n",
    "for trace in fig0.data:\n",
    "    fig.add_trace(trace, row=1, col=1)\n",
    "\n",
    "for trace in fig1.data:\n",
    "    fig.add_trace(trace, row=1, col=2)\n",
    "\n",
    "fig.update_layout(width=900, height=500, legend_title=\"Num Params\", showlegend=True)\n",
    "\n",
    "fig.show()"
   ]
  },
  {
   "cell_type": "code",
   "execution_count": 65,
   "metadata": {},
   "outputs": [
    {
     "data": {
      "image/png": "[encoded data removed]",
      "text/plain": [
       "<Figure size 1200x600 with 2 Axes>"
      ]
     },
     "metadata": {},
     "output_type": "display_data"
    }
   ],
   "source": [
    "import matplotlib.pyplot as plt\n",
    "import seaborn as sns\n",
    "\n",
    "fig, ax = plt.subplots(1, 2, figsize=(12, 6))\n",
    "hue = \"test_file\"\n",
    "yplot = \"test_Accuracy\"\n",
    "xplot = \"arc_num_params\"\n",
    "\n",
    "df0 = df.query(\"arc_skip == 0\")\n",
    "df1 = df.query(\"arc_skip == 1\")\n",
    "\n",
    "sns.scatterplot(data=df0, x=xplot, y=yplot, hue=hue, ax=ax[0], legend=False)\n",
    "sns.scatterplot(data=df1, x=xplot, y=yplot, hue=hue, ax=ax[1])\n",
    "\n",
    "for a in ax:\n",
    "    a.grid()\n",
    "    a.set_xlabel(a.get_xlabel(), fontsize=14)\n",
    "    a.set_ylabel(a.get_ylabel(), fontsize=14)\n",
    "    a.tick_params(axis=\"both\", which=\"major\", labelsize=12)\n",
    "\n",
    "ax[1].legend(\n",
    "    title=\"Dataset\",\n",
    "    bbox_to_anchor=(0.64, 0.2),\n",
    "    loc=2,\n",
    "    borderaxespad=0.0,\n",
    "    fontsize=12,\n",
    "    title_fontsize=14,\n",
    ")\n",
    "fig.suptitle(\"Test Accuracy vs # Params\", fontsize=16)\n",
    "ax[0].set_title(\"No skip\", fontsize=14)\n",
    "ax[1].set_title(\"Skip\", fontsize=14)\n",
    "\n",
    "fig.tight_layout()\n",
    "plt.show()"
   ]
  },
  {
   "cell_type": "code",
   "execution_count": null,
   "metadata": {},
   "outputs": [
    {
     "data": {
      "text/plain": [
       "Index(['run_name', 'train_file', 'arc_features', 'arc_num_params',\n",
       "       'arc_latent_volume', 'arc_skip', 'train_loss', 'valid_loss',\n",
       "       'test_loss', 'valid_F1', 'train_F1', 'test_F1', 'train_Accuracy',\n",
       "       'valid_Accuracy', 'test_Accuracy', 'train_Accuracy_seq',\n",
       "       'valid_Accuracy_seq', 'test_Accuracy_seq'],\n",
       "      dtype='object')"
      ]
     },
     "execution_count": 19,
     "metadata": {},
     "output_type": "execute_result"
    }
   ],
   "source": [
    "df.columns"
   ]
  },
  {
   "cell_type": "code",
   "execution_count": 59,
   "metadata": {},
   "outputs": [
    {
     "data": {
      "image/png": "[encoded data removed]",
      "text/plain": [
       "<Figure size 800x600 with 1 Axes>"
      ]
     },
     "metadata": {},
     "output_type": "display_data"
    }
   ],
   "source": [
    "import matplotlib.pyplot as plt\n",
    "import seaborn as sns\n",
    "\n",
    "hue = \"arc_features\"\n",
    "xplot = \"arc_latent_volume\"\n",
    "yplot = \"test_Accuracy\"\n",
    "fig, ax = plt.subplots(1, 1, figsize=(8, 6))\n",
    "\n",
    "sns.scatterplot(data=df0.sort_values(by=hue), x=xplot, y=yplot, hue=hue, ax=ax)\n",
    "\n",
    "ax.grid()\n",
    "ax.set_xlabel(a.get_xlabel(), fontsize=14)\n",
    "ax.set_ylabel(a.get_ylabel(), fontsize=14)\n",
    "ax.tick_params(axis=\"both\", which=\"major\", labelsize=12)\n",
    "\n",
    "fig.suptitle(\"Test Accuracy vs Latent Volume\", fontsize=14)\n",
    "ax.set_title(\"No skip\", fontsize=14)\n",
    "ax.legend(\n",
    "    title=\"Features\",\n",
    "    bbox_to_anchor=(1.01, 1),\n",
    ")\n",
    "fig.tight_layout()\n",
    "plt.show()"
   ]
  },
  {
   "cell_type": "code",
   "execution_count": 63,
   "metadata": {},
   "outputs": [
    {
     "data": {
      "image/png": "[encoded data removed]",
      "text/plain": [
       "<Figure size 800x600 with 1 Axes>"
      ]
     },
     "metadata": {},
     "output_type": "display_data"
    }
   ],
   "source": [
    "import matplotlib.pyplot as plt\n",
    "import seaborn as sns\n",
    "\n",
    "hue = \"arc_features\"\n",
    "xplot = \"arc_num_params\"\n",
    "yplot = \"test_Accuracy\"\n",
    "fig, ax = plt.subplots(1, 1, figsize=(8, 6))\n",
    "\n",
    "sns.scatterplot(data=df0.sort_values(by=hue), x=xplot, y=yplot, hue=hue, ax=ax)\n",
    "\n",
    "ax.grid()\n",
    "ax.set_xlabel(ax.get_xlabel(), fontsize=14)\n",
    "ax.set_ylabel(ax.get_ylabel(), fontsize=14)\n",
    "ax.tick_params(axis=\"both\", which=\"major\", labelsize=12)\n",
    "\n",
    "fig.suptitle(\"Test Accuracy vs num_params\", fontsize=14)\n",
    "ax.set_title(\"No skip\", fontsize=14)\n",
    "ax.legend(\n",
    "    title=\"Features\",\n",
    "    bbox_to_anchor=(1.01, 1),\n",
    ")\n",
    "fig.tight_layout()\n",
    "plt.show()"
   ]
  }
 ],
 "metadata": {
  "kernelspec": {
   "display_name": "EDA",
   "language": "python",
   "name": "python3"
  },
  "language_info": {
   "codemirror_mode": {
    "name": "ipython",
    "version": 3
   },
   "file_extension": ".py",
   "mimetype": "text/x-python",
   "name": "python",
   "nbconvert_exporter": "python",
   "pygments_lexer": "ipython3",
   "version": "3.11.9"
  }
 },
 "nbformat": 4,
 "nbformat_minor": 2
}
