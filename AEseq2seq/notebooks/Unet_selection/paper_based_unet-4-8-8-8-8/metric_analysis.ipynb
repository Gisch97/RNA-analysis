{
 "cells": [
  {
   "cell_type": "code",
   "execution_count": 1,
   "metadata": {},
   "outputs": [],
   "source": [
    "import pandas as pd\n",
    "import matplotlib.pyplot as plt\n",
    "import seaborn as sns"
   ]
  },
  {
   "cell_type": "code",
   "execution_count": 7,
   "metadata": {},
   "outputs": [
    {
     "name": "stdout",
     "output_type": "stream",
     "text": [
      "(24, 20)\n",
      "Index(['run_name', 'test_file', 'arc_num_params', 'arc_num_conv',\n",
      "       'arc_pool_mode', 'arc_up_mode', 'arc_addition', 'arc_skip',\n",
      "       'train_loss', 'valid_loss', 'test_loss', 'valid_F1', 'train_F1',\n",
      "       'test_F1', 'train_Accuracy', 'valid_Accuracy', 'test_Accuracy',\n",
      "       'train_Accuracy_seq', 'valid_Accuracy_seq', 'test_Accuracy_seq'],\n",
      "      dtype='object')\n"
     ]
    },
    {
     "data": {
      "text/html": [
       "<div>\n",
       "<style scoped>\n",
       "    .dataframe tbody tr th:only-of-type {\n",
       "        vertical-align: middle;\n",
       "    }\n",
       "\n",
       "    .dataframe tbody tr th {\n",
       "        vertical-align: top;\n",
       "    }\n",
       "\n",
       "    .dataframe thead th {\n",
       "        text-align: right;\n",
       "    }\n",
       "</style>\n",
       "<table border=\"1\" class=\"dataframe\">\n",
       "  <thead>\n",
       "    <tr style=\"text-align: right;\">\n",
       "      <th></th>\n",
       "      <th>run_name</th>\n",
       "      <th>test_file</th>\n",
       "      <th>arc_num_params</th>\n",
       "      <th>arc_num_conv</th>\n",
       "      <th>arc_pool_mode</th>\n",
       "      <th>arc_up_mode</th>\n",
       "      <th>arc_addition</th>\n",
       "      <th>arc_skip</th>\n",
       "      <th>train_loss</th>\n",
       "      <th>valid_loss</th>\n",
       "      <th>test_loss</th>\n",
       "      <th>valid_F1</th>\n",
       "      <th>train_F1</th>\n",
       "      <th>test_F1</th>\n",
       "      <th>train_Accuracy</th>\n",
       "      <th>valid_Accuracy</th>\n",
       "      <th>test_Accuracy</th>\n",
       "      <th>train_Accuracy_seq</th>\n",
       "      <th>valid_Accuracy_seq</th>\n",
       "      <th>test_Accuracy_seq</th>\n",
       "    </tr>\n",
       "  </thead>\n",
       "  <tbody>\n",
       "    <tr>\n",
       "      <th>12</th>\n",
       "      <td>unet-4-8-8-8-8-nc-1-pool-max-up-transpose-skip...</td>\n",
       "      <td>test_0.csv</td>\n",
       "      <td>2256</td>\n",
       "      <td>1</td>\n",
       "      <td>max</td>\n",
       "      <td>transpose</td>\n",
       "      <td>sum</td>\n",
       "      <td>1</td>\n",
       "      <td>0.009258</td>\n",
       "      <td>0.012899</td>\n",
       "      <td>0.009779</td>\n",
       "      <td>1.000000</td>\n",
       "      <td>1.000000</td>\n",
       "      <td>1.000000</td>\n",
       "      <td>1.000000</td>\n",
       "      <td>1.000000</td>\n",
       "      <td>1.000000</td>\n",
       "      <td>1.0</td>\n",
       "      <td>1.0</td>\n",
       "      <td>1.0</td>\n",
       "    </tr>\n",
       "    <tr>\n",
       "      <th>23</th>\n",
       "      <td>unet-4-8-8-8-8-pool-max-up-upsample-skip0</td>\n",
       "      <td>test_0.csv</td>\n",
       "      <td>3236</td>\n",
       "      <td>2</td>\n",
       "      <td>max</td>\n",
       "      <td>upsample</td>\n",
       "      <td>sum</td>\n",
       "      <td>0</td>\n",
       "      <td>0.140393</td>\n",
       "      <td>0.135116</td>\n",
       "      <td>0.142135</td>\n",
       "      <td>0.739949</td>\n",
       "      <td>0.733621</td>\n",
       "      <td>0.723747</td>\n",
       "      <td>0.802814</td>\n",
       "      <td>0.813188</td>\n",
       "      <td>0.802473</td>\n",
       "      <td>0.0</td>\n",
       "      <td>0.0</td>\n",
       "      <td>0.0</td>\n",
       "    </tr>\n",
       "  </tbody>\n",
       "</table>\n",
       "</div>"
      ],
      "text/plain": [
       "                                             run_name   test_file  \\\n",
       "12  unet-4-8-8-8-8-nc-1-pool-max-up-transpose-skip...  test_0.csv   \n",
       "23          unet-4-8-8-8-8-pool-max-up-upsample-skip0  test_0.csv   \n",
       "\n",
       "    arc_num_params  arc_num_conv arc_pool_mode arc_up_mode arc_addition  \\\n",
       "12            2256             1           max   transpose          sum   \n",
       "23            3236             2           max    upsample          sum   \n",
       "\n",
       "    arc_skip  train_loss  valid_loss  test_loss  valid_F1  train_F1   test_F1  \\\n",
       "12         1    0.009258    0.012899   0.009779  1.000000  1.000000  1.000000   \n",
       "23         0    0.140393    0.135116   0.142135  0.739949  0.733621  0.723747   \n",
       "\n",
       "    train_Accuracy  valid_Accuracy  test_Accuracy  train_Accuracy_seq  \\\n",
       "12        1.000000        1.000000       1.000000                 1.0   \n",
       "23        0.802814        0.813188       0.802473                 0.0   \n",
       "\n",
       "    valid_Accuracy_seq  test_Accuracy_seq  \n",
       "12                 1.0                1.0  \n",
       "23                 0.0                0.0  "
      ]
     },
     "execution_count": 7,
     "metadata": {},
     "output_type": "execute_result"
    }
   ],
   "source": [
    "df = pd.read_csv(\"metrics.csv\")\n",
    "print(df.shape)\n",
    "print(df.columns)\n",
    "df.sample(2)"
   ]
  },
  {
   "cell_type": "code",
   "execution_count": 26,
   "metadata": {},
   "outputs": [
    {
     "data": {
      "application/vnd.plotly.v1+json": {
       "config": {
        "plotlyServerURL": "https://plot.ly"
       },
       "data": [
        {
         "customdata": [
          [
           "test_0.csv",
           1,
           "avg",
           "transpose",
           "sum",
           0
          ],
          [
           "test_0.csv",
           1,
           "avg",
           "upsample",
           "sum",
           0
          ],
          [
           "test_0.csv",
           1,
           "max",
           "transpose",
           "sum",
           0
          ],
          [
           "test_0.csv",
           1,
           "max",
           "upsample",
           "sum",
           0
          ],
          [
           "test_0.csv",
           2,
           "avg",
           "transpose",
           "sum",
           0
          ],
          [
           "test_0.csv",
           2,
           "avg",
           "upsample",
           "sum",
           0
          ],
          [
           "test_0.csv",
           2,
           "max",
           "transpose",
           "sum",
           0
          ],
          [
           "test_0.csv",
           2,
           "max",
           "upsample",
           "sum",
           0
          ]
         ],
         "hovertemplate": "arc_num_params=%{x}<br>test_Accuracy=%{y}<br>test_file=%{customdata[0]}<br>arc_num_conv=%{marker.color}<br>arc_pool_mode=%{customdata[2]}<br>arc_up_mode=%{customdata[3]}<br>arc_addition=%{customdata[4]}<br>arc_skip=%{customdata[5]}<extra></extra>",
         "legendgroup": "",
         "marker": {
          "color": [
           1,
           1,
           1,
           1,
           2,
           2,
           2,
           2
          ],
          "coloraxis": "coloraxis",
          "symbol": "circle"
         },
         "mode": "markers",
         "name": "",
         "orientation": "v",
         "showlegend": false,
         "type": "scatter",
         "x": [
          2256,
          1604,
          2256,
          1604,
          3888,
          3236,
          3888,
          3236
         ],
         "xaxis": "x",
         "y": [
          0.8242271686422413,
          0.8059418776939655,
          0.8138722386853449,
          0.8008317618534483,
          0.8136365167025862,
          0.8092756600215517,
          0.8076508620689655,
          0.8024733970905172
         ],
         "yaxis": "y"
        },
        {
         "customdata": [
          [
           "test_0.csv",
           2,
           "avg",
           "transpose",
           "cat",
           1
          ],
          [
           "test_0.csv",
           2,
           "avg",
           "upsample",
           "cat",
           1
          ],
          [
           "test_0.csv",
           2,
           "max",
           "transpose",
           "cat",
           1
          ],
          [
           "test_0.csv",
           2,
           "max",
           "upsample",
           "cat",
           1
          ],
          [
           "test_0.csv",
           1,
           "avg",
           "transpose",
           "cat",
           1
          ],
          [
           "test_0.csv",
           1,
           "avg",
           "upsample",
           "cat",
           1
          ],
          [
           "test_0.csv",
           1,
           "max",
           "transpose",
           "cat",
           1
          ],
          [
           "test_0.csv",
           1,
           "max",
           "upsample",
           "cat",
           1
          ],
          [
           "test_0.csv",
           1,
           "avg",
           "transpose",
           "sum",
           1
          ],
          [
           "test_0.csv",
           1,
           "avg",
           "upsample",
           "sum",
           1
          ],
          [
           "test_0.csv",
           1,
           "max",
           "transpose",
           "sum",
           1
          ],
          [
           "test_0.csv",
           1,
           "max",
           "upsample",
           "sum",
           1
          ],
          [
           "test_0.csv",
           2,
           "avg",
           "transpose",
           "sum",
           1
          ],
          [
           "test_0.csv",
           2,
           "avg",
           "upsample",
           "sum",
           1
          ],
          [
           "test_0.csv",
           2,
           "max",
           "transpose",
           "sum",
           1
          ],
          [
           "test_0.csv",
           2,
           "max",
           "upsample",
           "sum",
           1
          ]
         ],
         "hovertemplate": "arc_num_params=%{x}<br>test_Accuracy=%{y}<br>test_file=%{customdata[0]}<br>arc_num_conv=%{marker.color}<br>arc_pool_mode=%{customdata[2]}<br>arc_up_mode=%{customdata[3]}<br>arc_addition=%{customdata[4]}<br>arc_skip=%{customdata[5]}<extra></extra>",
         "legendgroup": "",
         "marker": {
          "color": [
           2,
           2,
           2,
           2,
           1,
           1,
           1,
           1,
           1,
           1,
           1,
           1,
           2,
           2,
           2,
           2
          ],
          "coloraxis": "coloraxis",
          "symbol": "circle"
         },
         "mode": "markers",
         "name": "",
         "orientation": "v",
         "showlegend": false,
         "type": "scatter",
         "x": [
          4512,
          3860,
          4512,
          3860,
          2880,
          2228,
          2880,
          2228,
          2256,
          1808,
          2256,
          1808,
          3888,
          3440,
          3888,
          3440
         ],
         "xaxis": "x2",
         "y": [
          1,
          0.999932650862069,
          0.9998400457974138,
          0.9999242322198276,
          0.9993096713362069,
          1,
          1,
          1,
          1,
          0.9997642780172412,
          1,
          0.9997642780172412,
          1,
          0.9998400457974138,
          1,
          0.9998400457974138
         ],
         "yaxis": "y2"
        }
       ],
       "layout": {
        "annotations": [
         {
          "font": {
           "size": 16
          },
          "showarrow": false,
          "text": "arc_skip == 0",
          "x": 0.225,
          "xanchor": "center",
          "xref": "paper",
          "y": 1,
          "yanchor": "bottom",
          "yref": "paper"
         },
         {
          "font": {
           "size": 16
          },
          "showarrow": false,
          "text": "arc_skip == 1",
          "x": 0.775,
          "xanchor": "center",
          "xref": "paper",
          "y": 1,
          "yanchor": "bottom",
          "yref": "paper"
         }
        ],
        "height": 500,
        "legend": {
         "title": {
          "text": "Num Params"
         }
        },
        "showlegend": true,
        "template": {
         "data": {
          "bar": [
           {
            "error_x": {
             "color": "#2a3f5f"
            },
            "error_y": {
             "color": "#2a3f5f"
            },
            "marker": {
             "line": {
              "color": "#E5ECF6",
              "width": 0.5
             },
             "pattern": {
              "fillmode": "overlay",
              "size": 10,
              "solidity": 0.2
             }
            },
            "type": "bar"
           }
          ],
          "barpolar": [
           {
            "marker": {
             "line": {
              "color": "#E5ECF6",
              "width": 0.5
             },
             "pattern": {
              "fillmode": "overlay",
              "size": 10,
              "solidity": 0.2
             }
            },
            "type": "barpolar"
           }
          ],
          "carpet": [
           {
            "aaxis": {
             "endlinecolor": "#2a3f5f",
             "gridcolor": "white",
             "linecolor": "white",
             "minorgridcolor": "white",
             "startlinecolor": "#2a3f5f"
            },
            "baxis": {
             "endlinecolor": "#2a3f5f",
             "gridcolor": "white",
             "linecolor": "white",
             "minorgridcolor": "white",
             "startlinecolor": "#2a3f5f"
            },
            "type": "carpet"
           }
          ],
          "choropleth": [
           {
            "colorbar": {
             "outlinewidth": 0,
             "ticks": ""
            },
            "type": "choropleth"
           }
          ],
          "contour": [
           {
            "colorbar": {
             "outlinewidth": 0,
             "ticks": ""
            },
            "colorscale": [
             [
              0,
              "#0d0887"
             ],
             [
              0.1111111111111111,
              "#46039f"
             ],
             [
              0.2222222222222222,
              "#7201a8"
             ],
             [
              0.3333333333333333,
              "#9c179e"
             ],
             [
              0.4444444444444444,
              "#bd3786"
             ],
             [
              0.5555555555555556,
              "#d8576b"
             ],
             [
              0.6666666666666666,
              "#ed7953"
             ],
             [
              0.7777777777777778,
              "#fb9f3a"
             ],
             [
              0.8888888888888888,
              "#fdca26"
             ],
             [
              1,
              "#f0f921"
             ]
            ],
            "type": "contour"
           }
          ],
          "contourcarpet": [
           {
            "colorbar": {
             "outlinewidth": 0,
             "ticks": ""
            },
            "type": "contourcarpet"
           }
          ],
          "heatmap": [
           {
            "colorbar": {
             "outlinewidth": 0,
             "ticks": ""
            },
            "colorscale": [
             [
              0,
              "#0d0887"
             ],
             [
              0.1111111111111111,
              "#46039f"
             ],
             [
              0.2222222222222222,
              "#7201a8"
             ],
             [
              0.3333333333333333,
              "#9c179e"
             ],
             [
              0.4444444444444444,
              "#bd3786"
             ],
             [
              0.5555555555555556,
              "#d8576b"
             ],
             [
              0.6666666666666666,
              "#ed7953"
             ],
             [
              0.7777777777777778,
              "#fb9f3a"
             ],
             [
              0.8888888888888888,
              "#fdca26"
             ],
             [
              1,
              "#f0f921"
             ]
            ],
            "type": "heatmap"
           }
          ],
          "heatmapgl": [
           {
            "colorbar": {
             "outlinewidth": 0,
             "ticks": ""
            },
            "colorscale": [
             [
              0,
              "#0d0887"
             ],
             [
              0.1111111111111111,
              "#46039f"
             ],
             [
              0.2222222222222222,
              "#7201a8"
             ],
             [
              0.3333333333333333,
              "#9c179e"
             ],
             [
              0.4444444444444444,
              "#bd3786"
             ],
             [
              0.5555555555555556,
              "#d8576b"
             ],
             [
              0.6666666666666666,
              "#ed7953"
             ],
             [
              0.7777777777777778,
              "#fb9f3a"
             ],
             [
              0.8888888888888888,
              "#fdca26"
             ],
             [
              1,
              "#f0f921"
             ]
            ],
            "type": "heatmapgl"
           }
          ],
          "histogram": [
           {
            "marker": {
             "pattern": {
              "fillmode": "overlay",
              "size": 10,
              "solidity": 0.2
             }
            },
            "type": "histogram"
           }
          ],
          "histogram2d": [
           {
            "colorbar": {
             "outlinewidth": 0,
             "ticks": ""
            },
            "colorscale": [
             [
              0,
              "#0d0887"
             ],
             [
              0.1111111111111111,
              "#46039f"
             ],
             [
              0.2222222222222222,
              "#7201a8"
             ],
             [
              0.3333333333333333,
              "#9c179e"
             ],
             [
              0.4444444444444444,
              "#bd3786"
             ],
             [
              0.5555555555555556,
              "#d8576b"
             ],
             [
              0.6666666666666666,
              "#ed7953"
             ],
             [
              0.7777777777777778,
              "#fb9f3a"
             ],
             [
              0.8888888888888888,
              "#fdca26"
             ],
             [
              1,
              "#f0f921"
             ]
            ],
            "type": "histogram2d"
           }
          ],
          "histogram2dcontour": [
           {
            "colorbar": {
             "outlinewidth": 0,
             "ticks": ""
            },
            "colorscale": [
             [
              0,
              "#0d0887"
             ],
             [
              0.1111111111111111,
              "#46039f"
             ],
             [
              0.2222222222222222,
              "#7201a8"
             ],
             [
              0.3333333333333333,
              "#9c179e"
             ],
             [
              0.4444444444444444,
              "#bd3786"
             ],
             [
              0.5555555555555556,
              "#d8576b"
             ],
             [
              0.6666666666666666,
              "#ed7953"
             ],
             [
              0.7777777777777778,
              "#fb9f3a"
             ],
             [
              0.8888888888888888,
              "#fdca26"
             ],
             [
              1,
              "#f0f921"
             ]
            ],
            "type": "histogram2dcontour"
           }
          ],
          "mesh3d": [
           {
            "colorbar": {
             "outlinewidth": 0,
             "ticks": ""
            },
            "type": "mesh3d"
           }
          ],
          "parcoords": [
           {
            "line": {
             "colorbar": {
              "outlinewidth": 0,
              "ticks": ""
             }
            },
            "type": "parcoords"
           }
          ],
          "pie": [
           {
            "automargin": true,
            "type": "pie"
           }
          ],
          "scatter": [
           {
            "fillpattern": {
             "fillmode": "overlay",
             "size": 10,
             "solidity": 0.2
            },
            "type": "scatter"
           }
          ],
          "scatter3d": [
           {
            "line": {
             "colorbar": {
              "outlinewidth": 0,
              "ticks": ""
             }
            },
            "marker": {
             "colorbar": {
              "outlinewidth": 0,
              "ticks": ""
             }
            },
            "type": "scatter3d"
           }
          ],
          "scattercarpet": [
           {
            "marker": {
             "colorbar": {
              "outlinewidth": 0,
              "ticks": ""
             }
            },
            "type": "scattercarpet"
           }
          ],
          "scattergeo": [
           {
            "marker": {
             "colorbar": {
              "outlinewidth": 0,
              "ticks": ""
             }
            },
            "type": "scattergeo"
           }
          ],
          "scattergl": [
           {
            "marker": {
             "colorbar": {
              "outlinewidth": 0,
              "ticks": ""
             }
            },
            "type": "scattergl"
           }
          ],
          "scattermapbox": [
           {
            "marker": {
             "colorbar": {
              "outlinewidth": 0,
              "ticks": ""
             }
            },
            "type": "scattermapbox"
           }
          ],
          "scatterpolar": [
           {
            "marker": {
             "colorbar": {
              "outlinewidth": 0,
              "ticks": ""
             }
            },
            "type": "scatterpolar"
           }
          ],
          "scatterpolargl": [
           {
            "marker": {
             "colorbar": {
              "outlinewidth": 0,
              "ticks": ""
             }
            },
            "type": "scatterpolargl"
           }
          ],
          "scatterternary": [
           {
            "marker": {
             "colorbar": {
              "outlinewidth": 0,
              "ticks": ""
             }
            },
            "type": "scatterternary"
           }
          ],
          "surface": [
           {
            "colorbar": {
             "outlinewidth": 0,
             "ticks": ""
            },
            "colorscale": [
             [
              0,
              "#0d0887"
             ],
             [
              0.1111111111111111,
              "#46039f"
             ],
             [
              0.2222222222222222,
              "#7201a8"
             ],
             [
              0.3333333333333333,
              "#9c179e"
             ],
             [
              0.4444444444444444,
              "#bd3786"
             ],
             [
              0.5555555555555556,
              "#d8576b"
             ],
             [
              0.6666666666666666,
              "#ed7953"
             ],
             [
              0.7777777777777778,
              "#fb9f3a"
             ],
             [
              0.8888888888888888,
              "#fdca26"
             ],
             [
              1,
              "#f0f921"
             ]
            ],
            "type": "surface"
           }
          ],
          "table": [
           {
            "cells": {
             "fill": {
              "color": "#EBF0F8"
             },
             "line": {
              "color": "white"
             }
            },
            "header": {
             "fill": {
              "color": "#C8D4E3"
             },
             "line": {
              "color": "white"
             }
            },
            "type": "table"
           }
          ]
         },
         "layout": {
          "annotationdefaults": {
           "arrowcolor": "#2a3f5f",
           "arrowhead": 0,
           "arrowwidth": 1
          },
          "autotypenumbers": "strict",
          "coloraxis": {
           "colorbar": {
            "outlinewidth": 0,
            "ticks": ""
           }
          },
          "colorscale": {
           "diverging": [
            [
             0,
             "#8e0152"
            ],
            [
             0.1,
             "#c51b7d"
            ],
            [
             0.2,
             "#de77ae"
            ],
            [
             0.3,
             "#f1b6da"
            ],
            [
             0.4,
             "#fde0ef"
            ],
            [
             0.5,
             "#f7f7f7"
            ],
            [
             0.6,
             "#e6f5d0"
            ],
            [
             0.7,
             "#b8e186"
            ],
            [
             0.8,
             "#7fbc41"
            ],
            [
             0.9,
             "#4d9221"
            ],
            [
             1,
             "#276419"
            ]
           ],
           "sequential": [
            [
             0,
             "#0d0887"
            ],
            [
             0.1111111111111111,
             "#46039f"
            ],
            [
             0.2222222222222222,
             "#7201a8"
            ],
            [
             0.3333333333333333,
             "#9c179e"
            ],
            [
             0.4444444444444444,
             "#bd3786"
            ],
            [
             0.5555555555555556,
             "#d8576b"
            ],
            [
             0.6666666666666666,
             "#ed7953"
            ],
            [
             0.7777777777777778,
             "#fb9f3a"
            ],
            [
             0.8888888888888888,
             "#fdca26"
            ],
            [
             1,
             "#f0f921"
            ]
           ],
           "sequentialminus": [
            [
             0,
             "#0d0887"
            ],
            [
             0.1111111111111111,
             "#46039f"
            ],
            [
             0.2222222222222222,
             "#7201a8"
            ],
            [
             0.3333333333333333,
             "#9c179e"
            ],
            [
             0.4444444444444444,
             "#bd3786"
            ],
            [
             0.5555555555555556,
             "#d8576b"
            ],
            [
             0.6666666666666666,
             "#ed7953"
            ],
            [
             0.7777777777777778,
             "#fb9f3a"
            ],
            [
             0.8888888888888888,
             "#fdca26"
            ],
            [
             1,
             "#f0f921"
            ]
           ]
          },
          "colorway": [
           "#636efa",
           "#EF553B",
           "#00cc96",
           "#ab63fa",
           "#FFA15A",
           "#19d3f3",
           "#FF6692",
           "#B6E880",
           "#FF97FF",
           "#FECB52"
          ],
          "font": {
           "color": "#2a3f5f"
          },
          "geo": {
           "bgcolor": "white",
           "lakecolor": "white",
           "landcolor": "#E5ECF6",
           "showlakes": true,
           "showland": true,
           "subunitcolor": "white"
          },
          "hoverlabel": {
           "align": "left"
          },
          "hovermode": "closest",
          "mapbox": {
           "style": "light"
          },
          "paper_bgcolor": "white",
          "plot_bgcolor": "#E5ECF6",
          "polar": {
           "angularaxis": {
            "gridcolor": "white",
            "linecolor": "white",
            "ticks": ""
           },
           "bgcolor": "#E5ECF6",
           "radialaxis": {
            "gridcolor": "white",
            "linecolor": "white",
            "ticks": ""
           }
          },
          "scene": {
           "xaxis": {
            "backgroundcolor": "#E5ECF6",
            "gridcolor": "white",
            "gridwidth": 2,
            "linecolor": "white",
            "showbackground": true,
            "ticks": "",
            "zerolinecolor": "white"
           },
           "yaxis": {
            "backgroundcolor": "#E5ECF6",
            "gridcolor": "white",
            "gridwidth": 2,
            "linecolor": "white",
            "showbackground": true,
            "ticks": "",
            "zerolinecolor": "white"
           },
           "zaxis": {
            "backgroundcolor": "#E5ECF6",
            "gridcolor": "white",
            "gridwidth": 2,
            "linecolor": "white",
            "showbackground": true,
            "ticks": "",
            "zerolinecolor": "white"
           }
          },
          "shapedefaults": {
           "line": {
            "color": "#2a3f5f"
           }
          },
          "ternary": {
           "aaxis": {
            "gridcolor": "white",
            "linecolor": "white",
            "ticks": ""
           },
           "baxis": {
            "gridcolor": "white",
            "linecolor": "white",
            "ticks": ""
           },
           "bgcolor": "#E5ECF6",
           "caxis": {
            "gridcolor": "white",
            "linecolor": "white",
            "ticks": ""
           }
          },
          "title": {
           "x": 0.05
          },
          "xaxis": {
           "automargin": true,
           "gridcolor": "white",
           "linecolor": "white",
           "ticks": "",
           "title": {
            "standoff": 15
           },
           "zerolinecolor": "white",
           "zerolinewidth": 2
          },
          "yaxis": {
           "automargin": true,
           "gridcolor": "white",
           "linecolor": "white",
           "ticks": "",
           "title": {
            "standoff": 15
           },
           "zerolinecolor": "white",
           "zerolinewidth": 2
          }
         }
        },
        "width": 900,
        "xaxis": {
         "anchor": "y",
         "domain": [
          0,
          0.45
         ]
        },
        "xaxis2": {
         "anchor": "y2",
         "domain": [
          0.55,
          1
         ]
        },
        "yaxis": {
         "anchor": "x",
         "domain": [
          0,
          1
         ]
        },
        "yaxis2": {
         "anchor": "x2",
         "domain": [
          0,
          1
         ]
        }
       }
      }
     },
     "metadata": {},
     "output_type": "display_data"
    }
   ],
   "source": [
    "import plotly.express as px\n",
    "import pandas as pd\n",
    "\n",
    "from plotly.subplots import make_subplots\n",
    "import plotly.graph_objects as go\n",
    "\n",
    "\n",
    "hue = \"arc_num_conv\"\n",
    "xplot = \"arc_num_params\"\n",
    "yplot = \"test_Accuracy\"\n",
    "\n",
    "extra_info = [\n",
    "    \"test_file\",\n",
    "    \"arc_num_params\",\n",
    "    \"arc_num_conv\",\n",
    "    \"arc_pool_mode\",\n",
    "    \"arc_up_mode\",\n",
    "    \"arc_addition\",\n",
    "    \"arc_skip\",\n",
    "]\n",
    "\n",
    "df0 = df.query(\"arc_skip == 0\")\n",
    "df1 = df.query(\"arc_skip == 1\")\n",
    "\n",
    "fig0 = px.scatter(\n",
    "    df0, x=xplot, y=yplot, color=hue, title=\"No skip\", hover_data=extra_info\n",
    ")\n",
    "fig1 = px.scatter(df1, x=xplot, y=yplot, color=hue, title=\"Skip\", hover_data=extra_info)\n",
    "\n",
    "fig0.update_layout(showlegend=False)  # Oculta la leyenda en el primer gráfico\n",
    "\n",
    "fig = make_subplots(rows=1, cols=2, subplot_titles=[\"arc_skip == 0\", \"arc_skip == 1\"])\n",
    "\n",
    "for trace in fig0.data:\n",
    "    fig.add_trace(trace, row=1, col=1)\n",
    "\n",
    "for trace in fig1.data:\n",
    "    fig.add_trace(trace, row=1, col=2)\n",
    "\n",
    "fig.update_layout(width=900, height=500, legend_title=\"Num Params\", showlegend=True)\n",
    "\n",
    "fig.show()"
   ]
  },
  {
   "cell_type": "code",
   "execution_count": null,
   "metadata": {},
   "outputs": [
    {
     "data": {
      "image/png": "[encoded data removed]",
      "text/plain": [
       "<Figure size 1200x600 with 2 Axes>"
      ]
     },
     "metadata": {},
     "output_type": "display_data"
    }
   ],
   "source": [
    "import matplotlib.pyplot as plt\n",
    "import seaborn as sns\n",
    "\n",
    "fig, ax = plt.subplots(1, 2, figsize=(12, 6))\n",
    "\n",
    "hue = \"arc_up_mode\"\n",
    "xplot = \"arc_num_params\"\n",
    "yplot = \"test_Accuracy\"\n",
    "style = \"arc_pool_mode\"\n",
    "size = \"arc_num_conv\"\n",
    "\n",
    "extra_info = [\n",
    "    \"test_file\",\n",
    "    \"arc_num_params\",\n",
    "    \"arc_num_conv\",\n",
    "    \"arc_pool_mode\",\n",
    "    \"arc_up_mode\",\n",
    "    \"arc_addition\",\n",
    "    \"arc_skip\",\n",
    "]\n",
    "\n",
    "df0 = df.query(\"arc_skip == 0\")\n",
    "df1 = df.query(\"arc_skip == 1\")\n",
    " \n",
    "sns.scatterplot(\n",
    "    data=df0, x=xplot, y=yplot, hue=hue, style=style, ax=ax[0], size=size, legend=False\n",
    ")\n",
    "sns.scatterplot(data=df1, x=xplot, y=yplot, hue=hue, style=style, size=size, ax=ax[1])\n",
    "\n",
    "for a in ax:\n",
    "    a.grid()\n",
    "    a.set_xlabel(a.get_xlabel(), fontsize=14)\n",
    "    a.set_ylabel(a.get_ylabel(), fontsize=14)\n",
    "    a.tick_params(axis=\"both\", which=\"major\", labelsize=12)\n",
    "\n",
    "ax[1].legend(\n",
    "    bbox_to_anchor=(1.01, 1),\n",
    "    loc=2,\n",
    "    borderaxespad=0.0,\n",
    "    fontsize=12,\n",
    "    title_fontsize=14,\n",
    ")\n",
    "fig.suptitle(\"Test Accuracy vs # Params\", fontsize=16)\n",
    "ax[0].set_title(\"No skip\", fontsize=14)\n",
    "ax[1].set_title(\"Skip\", fontsize=14)\n",
    "\n",
    "fig.tight_layout()\n",
    "plt.show()"
   ]
  },
  {
   "cell_type": "code",
   "execution_count": null,
   "metadata": {},
   "outputs": [
    {
     "data": {
      "text/plain": [
       "Index(['run_name', 'train_file', 'arc_features', 'arc_num_params',\n",
       "       'arc_latent_volume', 'arc_skip', 'train_loss', 'valid_loss',\n",
       "       'test_loss', 'valid_F1', 'train_F1', 'test_F1', 'train_Accuracy',\n",
       "       'valid_Accuracy', 'test_Accuracy', 'train_Accuracy_seq',\n",
       "       'valid_Accuracy_seq', 'test_Accuracy_seq'],\n",
       "      dtype='object')"
      ]
     },
     "execution_count": 19,
     "metadata": {},
     "output_type": "execute_result"
    }
   ],
   "source": [
    "df.columns"
   ]
  },
  {
   "cell_type": "code",
   "execution_count": 59,
   "metadata": {},
   "outputs": [
    {
     "data": {
      "image/png": "[encoded data removed]",
      "text/plain": [
       "<Figure size 800x600 with 1 Axes>"
      ]
     },
     "metadata": {},
     "output_type": "display_data"
    }
   ],
   "source": [
    "import matplotlib.pyplot as plt\n",
    "import seaborn as sns\n",
    "\n",
    "hue = \"arc_features\"\n",
    "xplot = \"arc_latent_volume\"\n",
    "yplot = \"test_Accuracy\"\n",
    "fig, ax = plt.subplots(1, 1, figsize=(8, 6))\n",
    "\n",
    "sns.scatterplot(data=df0.sort_values(by=hue), x=xplot, y=yplot, hue=hue, ax=ax)\n",
    "\n",
    "ax.grid()\n",
    "ax.set_xlabel(a.get_xlabel(), fontsize=14)\n",
    "ax.set_ylabel(a.get_ylabel(), fontsize=14)\n",
    "ax.tick_params(axis=\"both\", which=\"major\", labelsize=12)\n",
    "\n",
    "fig.suptitle(\"Test Accuracy vs Latent Volume\", fontsize=14)\n",
    "ax.set_title(\"No skip\", fontsize=14)\n",
    "ax.legend(\n",
    "    title=\"Features\",\n",
    "    bbox_to_anchor=(1.01, 1),\n",
    ")\n",
    "fig.tight_layout()\n",
    "plt.show()"
   ]
  },
  {
   "cell_type": "code",
   "execution_count": 63,
   "metadata": {},
   "outputs": [
    {
     "data": {
      "image/png": "[encoded data removed]",
      "text/plain": [
       "<Figure size 800x600 with 1 Axes>"
      ]
     },
     "metadata": {},
     "output_type": "display_data"
    }
   ],
   "source": [
    "import matplotlib.pyplot as plt\n",
    "import seaborn as sns\n",
    "\n",
    "hue = \"arc_features\"\n",
    "xplot = \"arc_num_params\"\n",
    "yplot = \"test_Accuracy\"\n",
    "fig, ax = plt.subplots(1, 1, figsize=(8, 6))\n",
    "\n",
    "sns.scatterplot(data=df0.sort_values(by=hue), x=xplot, y=yplot, hue=hue, ax=ax)\n",
    "\n",
    "ax.grid()\n",
    "ax.set_xlabel(ax.get_xlabel(), fontsize=14)\n",
    "ax.set_ylabel(ax.get_ylabel(), fontsize=14)\n",
    "ax.tick_params(axis=\"both\", which=\"major\", labelsize=12)\n",
    "\n",
    "fig.suptitle(\"Test Accuracy vs num_params\", fontsize=14)\n",
    "ax.set_title(\"No skip\", fontsize=14)\n",
    "ax.legend(\n",
    "    title=\"Features\",\n",
    "    bbox_to_anchor=(1.01, 1),\n",
    ")\n",
    "fig.tight_layout()\n",
    "plt.show()"
   ]
  }
 ],
 "metadata": {
  "kernelspec": {
   "display_name": "EDA",
   "language": "python",
   "name": "python3"
  },
  "language_info": {
   "codemirror_mode": {
    "name": "ipython",
    "version": 3
   },
   "file_extension": ".py",
   "mimetype": "text/x-python",
   "name": "python",
   "nbconvert_exporter": "python",
   "pygments_lexer": "ipython3",
   "version": "3.11.9"
  }
 },
 "nbformat": 4,
 "nbformat_minor": 2
}
