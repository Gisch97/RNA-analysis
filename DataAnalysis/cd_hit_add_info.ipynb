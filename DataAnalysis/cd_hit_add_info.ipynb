{
 "cells": [
  {
   "cell_type": "code",
   "execution_count": 1,
   "id": "c7fc0db2",
   "metadata": {},
   "outputs": [],
   "source": [
    "import pandas as pd"
   ]
  },
  {
   "cell_type": "code",
   "execution_count": 3,
   "id": "a0eeaed5",
   "metadata": {},
   "outputs": [],
   "source": [
    "df = pd.read_csv('AEseq2seq/data/cdhit_split_raw.csv')\n",
    "arc = pd.read_csv('AEseq2seq/data/ArchiveII.csv')"
   ]
  },
  {
   "cell_type": "code",
   "execution_count": 9,
   "id": "d1d2caf6",
   "metadata": {},
   "outputs": [
    {
     "data": {
      "text/html": [
       "<div>\n",
       "<style scoped>\n",
       "    .dataframe tbody tr th:only-of-type {\n",
       "        vertical-align: middle;\n",
       "    }\n",
       "\n",
       "    .dataframe tbody tr th {\n",
       "        vertical-align: top;\n",
       "    }\n",
       "\n",
       "    .dataframe thead th {\n",
       "        text-align: right;\n",
       "    }\n",
       "</style>\n",
       "<table border=\"1\" class=\"dataframe\">\n",
       "  <thead>\n",
       "    <tr style=\"text-align: right;\">\n",
       "      <th></th>\n",
       "      <th>id</th>\n",
       "      <th>fold</th>\n",
       "      <th>partition</th>\n",
       "    </tr>\n",
       "  </thead>\n",
       "  <tbody>\n",
       "    <tr>\n",
       "      <th>0</th>\n",
       "      <td>16s_B.burgdorferi_domain4</td>\n",
       "      <td>0</td>\n",
       "      <td>test</td>\n",
       "    </tr>\n",
       "    <tr>\n",
       "      <th>1</th>\n",
       "      <td>RNaseP_T.roseum</td>\n",
       "      <td>0</td>\n",
       "      <td>test</td>\n",
       "    </tr>\n",
       "  </tbody>\n",
       "</table>\n",
       "</div>"
      ],
      "text/plain": [
       "                          id  fold partition\n",
       "0  16s_B.burgdorferi_domain4     0      test\n",
       "1            RNaseP_T.roseum     0      test"
      ]
     },
     "execution_count": 9,
     "metadata": {},
     "output_type": "execute_result"
    }
   ],
   "source": [
    "df.head(2)"
   ]
  },
  {
   "cell_type": "code",
   "execution_count": 10,
   "id": "9fcec600",
   "metadata": {},
   "outputs": [
    {
     "data": {
      "text/html": [
       "<div>\n",
       "<style scoped>\n",
       "    .dataframe tbody tr th:only-of-type {\n",
       "        vertical-align: middle;\n",
       "    }\n",
       "\n",
       "    .dataframe tbody tr th {\n",
       "        vertical-align: top;\n",
       "    }\n",
       "\n",
       "    .dataframe thead th {\n",
       "        text-align: right;\n",
       "    }\n",
       "</style>\n",
       "<table border=\"1\" class=\"dataframe\">\n",
       "  <thead>\n",
       "    <tr style=\"text-align: right;\">\n",
       "      <th></th>\n",
       "      <th>id</th>\n",
       "      <th>sequence</th>\n",
       "      <th>structure</th>\n",
       "      <th>base_pairs</th>\n",
       "      <th>len</th>\n",
       "    </tr>\n",
       "  </thead>\n",
       "  <tbody>\n",
       "    <tr>\n",
       "      <th>0</th>\n",
       "      <td>5s_Acholeplasma-laidlawii-1</td>\n",
       "      <td>UCUGGUGACGAUAGGUAAGAUGGUUCACCUGUUCCCAUCCCGAACA...</td>\n",
       "      <td>((((((((......((((((((....((((((.............)...</td>\n",
       "      <td>[[1, 111], [2, 110], [3, 109], [4, 108], [5, 1...</td>\n",
       "      <td>112</td>\n",
       "    </tr>\n",
       "    <tr>\n",
       "      <th>1</th>\n",
       "      <td>5s_Acidovorax-temperans-1</td>\n",
       "      <td>UGCCUGAUGACCAUAGCAAGUUGGUACCACUCCUUCCCAUCCCGAA...</td>\n",
       "      <td>.(((((((((.....((((((((.....((((((...............</td>\n",
       "      <td>[[2, 115], [3, 114], [4, 113], [5, 112], [6, 1...</td>\n",
       "      <td>115</td>\n",
       "    </tr>\n",
       "  </tbody>\n",
       "</table>\n",
       "</div>"
      ],
      "text/plain": [
       "                            id  \\\n",
       "0  5s_Acholeplasma-laidlawii-1   \n",
       "1    5s_Acidovorax-temperans-1   \n",
       "\n",
       "                                            sequence  \\\n",
       "0  UCUGGUGACGAUAGGUAAGAUGGUUCACCUGUUCCCAUCCCGAACA...   \n",
       "1  UGCCUGAUGACCAUAGCAAGUUGGUACCACUCCUUCCCAUCCCGAA...   \n",
       "\n",
       "                                           structure  \\\n",
       "0  ((((((((......((((((((....((((((.............)...   \n",
       "1  .(((((((((.....((((((((.....((((((...............   \n",
       "\n",
       "                                          base_pairs  len  \n",
       "0  [[1, 111], [2, 110], [3, 109], [4, 108], [5, 1...  112  \n",
       "1  [[2, 115], [3, 114], [4, 113], [5, 112], [6, 1...  115  "
      ]
     },
     "execution_count": 10,
     "metadata": {},
     "output_type": "execute_result"
    }
   ],
   "source": [
    "arc.head(2)"
   ]
  },
  {
   "cell_type": "code",
   "execution_count": null,
   "id": "ddf88700",
   "metadata": {},
   "outputs": [],
   "source": [
    "df_join = "
   ]
  }
 ],
 "metadata": {
  "kernelspec": {
   "display_name": "Experiments",
   "language": "python",
   "name": "python3"
  },
  "language_info": {
   "codemirror_mode": {
    "name": "ipython",
    "version": 3
   },
   "file_extension": ".py",
   "mimetype": "text/x-python",
   "name": "python",
   "nbconvert_exporter": "python",
   "pygments_lexer": "ipython3",
   "version": "3.10.16"
  }
 },
 "nbformat": 4,
 "nbformat_minor": 5
}
