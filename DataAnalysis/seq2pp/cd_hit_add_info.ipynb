{
 "cells": [
  {
   "cell_type": "code",
   "execution_count": 1,
   "id": "c7fc0db2",
   "metadata": {},
   "outputs": [],
   "source": [
    "import pandas as pd"
   ]
  },
  {
   "cell_type": "code",
   "execution_count": null,
   "id": "3bac073a",
   "metadata": {},
   "outputs": [],
   "source": []
  },
  {
   "cell_type": "code",
   "execution_count": 3,
   "id": "a0eeaed5",
   "metadata": {},
   "outputs": [],
   "source": [
    "df = pd.read_csv('../data/cdhit_split_raw.csv')\n",
    "arc = pd.read_csv('../data/ArchiveII_with_prob_and_motiv.csv')"
   ]
  },
  {
   "cell_type": "code",
   "execution_count": 12,
   "id": "ddf88700",
   "metadata": {},
   "outputs": [
    {
     "data": {
      "text/html": [
       "<div>\n",
       "<style scoped>\n",
       "    .dataframe tbody tr th:only-of-type {\n",
       "        vertical-align: middle;\n",
       "    }\n",
       "\n",
       "    .dataframe tbody tr th {\n",
       "        vertical-align: top;\n",
       "    }\n",
       "\n",
       "    .dataframe thead th {\n",
       "        text-align: right;\n",
       "    }\n",
       "</style>\n",
       "<table border=\"1\" class=\"dataframe\">\n",
       "  <thead>\n",
       "    <tr style=\"text-align: right;\">\n",
       "      <th></th>\n",
       "      <th>id</th>\n",
       "      <th>sequence</th>\n",
       "      <th>structure</th>\n",
       "      <th>base_pairs</th>\n",
       "      <th>len</th>\n",
       "      <th>motivos</th>\n",
       "      <th>fam</th>\n",
       "      <th>pseudo_probe</th>\n",
       "      <th>stem</th>\n",
       "      <th>fold</th>\n",
       "      <th>partition</th>\n",
       "    </tr>\n",
       "  </thead>\n",
       "  <tbody>\n",
       "    <tr>\n",
       "      <th>0</th>\n",
       "      <td>5s_Acholeplasma-laidlawii-1</td>\n",
       "      <td>UCUGGUGACGAUAGGUAAGAUGGUUCACCUGUUCCCAUCCCGAACA...</td>\n",
       "      <td>((((((((......((((((((....((((((.............)...</td>\n",
       "      <td>[[1, 111], [2, 110], [3, 109], [4, 108], [5, 1...</td>\n",
       "      <td>112</td>\n",
       "      <td>SSSSSSSSMMMMMMSSSSSSSSIIIISSSSSSHHHHHHHHHHHHHS...</td>\n",
       "      <td>5s</td>\n",
       "      <td>[1, 1, 1, 1, 1, 1, 1, 1, 0, 0, 0, 0, 0, 0, 1, ...</td>\n",
       "      <td>[1, 1, 1, 1, 1, 1, 1, 1, 0, 0, 0, 0, 0, 0, 1, ...</td>\n",
       "      <td>0</td>\n",
       "      <td>test</td>\n",
       "    </tr>\n",
       "    <tr>\n",
       "      <th>1</th>\n",
       "      <td>5s_Acholeplasma-laidlawii-1</td>\n",
       "      <td>UCUGGUGACGAUAGGUAAGAUGGUUCACCUGUUCCCAUCCCGAACA...</td>\n",
       "      <td>((((((((......((((((((....((((((.............)...</td>\n",
       "      <td>[[1, 111], [2, 110], [3, 109], [4, 108], [5, 1...</td>\n",
       "      <td>112</td>\n",
       "      <td>SSSSSSSSMMMMMMSSSSSSSSIIIISSSSSSHHHHHHHHHHHHHS...</td>\n",
       "      <td>5s</td>\n",
       "      <td>[1, 1, 1, 1, 1, 1, 1, 1, 0, 0, 0, 0, 0, 0, 1, ...</td>\n",
       "      <td>[1, 1, 1, 1, 1, 1, 1, 1, 0, 0, 0, 0, 0, 0, 1, ...</td>\n",
       "      <td>1</td>\n",
       "      <td>train</td>\n",
       "    </tr>\n",
       "  </tbody>\n",
       "</table>\n",
       "</div>"
      ],
      "text/plain": [
       "                            id  \\\n",
       "0  5s_Acholeplasma-laidlawii-1   \n",
       "1  5s_Acholeplasma-laidlawii-1   \n",
       "\n",
       "                                            sequence  \\\n",
       "0  UCUGGUGACGAUAGGUAAGAUGGUUCACCUGUUCCCAUCCCGAACA...   \n",
       "1  UCUGGUGACGAUAGGUAAGAUGGUUCACCUGUUCCCAUCCCGAACA...   \n",
       "\n",
       "                                           structure  \\\n",
       "0  ((((((((......((((((((....((((((.............)...   \n",
       "1  ((((((((......((((((((....((((((.............)...   \n",
       "\n",
       "                                          base_pairs  len  \\\n",
       "0  [[1, 111], [2, 110], [3, 109], [4, 108], [5, 1...  112   \n",
       "1  [[1, 111], [2, 110], [3, 109], [4, 108], [5, 1...  112   \n",
       "\n",
       "                                             motivos fam  \\\n",
       "0  SSSSSSSSMMMMMMSSSSSSSSIIIISSSSSSHHHHHHHHHHHHHS...  5s   \n",
       "1  SSSSSSSSMMMMMMSSSSSSSSIIIISSSSSSHHHHHHHHHHHHHS...  5s   \n",
       "\n",
       "                                        pseudo_probe  \\\n",
       "0  [1, 1, 1, 1, 1, 1, 1, 1, 0, 0, 0, 0, 0, 0, 1, ...   \n",
       "1  [1, 1, 1, 1, 1, 1, 1, 1, 0, 0, 0, 0, 0, 0, 1, ...   \n",
       "\n",
       "                                                stem  fold partition  \n",
       "0  [1, 1, 1, 1, 1, 1, 1, 1, 0, 0, 0, 0, 0, 0, 1, ...     0      test  \n",
       "1  [1, 1, 1, 1, 1, 1, 1, 1, 0, 0, 0, 0, 0, 0, 1, ...     1     train  "
      ]
     },
     "execution_count": 12,
     "metadata": {},
     "output_type": "execute_result"
    }
   ],
   "source": [
    "df_join= pd.merge(arc, df, how='left', on='id')\n",
    "df_join.head(2)"
   ]
  },
  {
   "cell_type": "code",
   "execution_count": 14,
   "id": "2465c50d",
   "metadata": {},
   "outputs": [
    {
     "name": "stderr",
     "output_type": "stream",
     "text": [
      "/tmp/ipykernel_4133101/1316938113.py:4: UserWarning: Boolean Series key will be reindexed to match DataFrame index.\n",
      "  dfs[f'{str(i)}'][df_join['partition'] == 'train'].to_csv(f'cd_hit_train_{str(i)}.csv', index=False)\n",
      "/tmp/ipykernel_4133101/1316938113.py:5: UserWarning: Boolean Series key will be reindexed to match DataFrame index.\n",
      "  dfs[f'{str(i)}'][df_join['partition'] == 'valid'].to_csv(f'cd_hit_valid_{str(i)}.csv', index=False)\n",
      "/tmp/ipykernel_4133101/1316938113.py:6: UserWarning: Boolean Series key will be reindexed to match DataFrame index.\n",
      "  dfs[f'{str(i)}'][df_join['partition'] == 'test'].to_csv(f'cd_hit_test_{str(i)}.csv'  , index=False)\n",
      "/tmp/ipykernel_4133101/1316938113.py:4: UserWarning: Boolean Series key will be reindexed to match DataFrame index.\n",
      "  dfs[f'{str(i)}'][df_join['partition'] == 'train'].to_csv(f'cd_hit_train_{str(i)}.csv', index=False)\n",
      "/tmp/ipykernel_4133101/1316938113.py:5: UserWarning: Boolean Series key will be reindexed to match DataFrame index.\n",
      "  dfs[f'{str(i)}'][df_join['partition'] == 'valid'].to_csv(f'cd_hit_valid_{str(i)}.csv', index=False)\n",
      "/tmp/ipykernel_4133101/1316938113.py:6: UserWarning: Boolean Series key will be reindexed to match DataFrame index.\n",
      "  dfs[f'{str(i)}'][df_join['partition'] == 'test'].to_csv(f'cd_hit_test_{str(i)}.csv'  , index=False)\n",
      "/tmp/ipykernel_4133101/1316938113.py:4: UserWarning: Boolean Series key will be reindexed to match DataFrame index.\n",
      "  dfs[f'{str(i)}'][df_join['partition'] == 'train'].to_csv(f'cd_hit_train_{str(i)}.csv', index=False)\n",
      "/tmp/ipykernel_4133101/1316938113.py:5: UserWarning: Boolean Series key will be reindexed to match DataFrame index.\n",
      "  dfs[f'{str(i)}'][df_join['partition'] == 'valid'].to_csv(f'cd_hit_valid_{str(i)}.csv', index=False)\n",
      "/tmp/ipykernel_4133101/1316938113.py:6: UserWarning: Boolean Series key will be reindexed to match DataFrame index.\n",
      "  dfs[f'{str(i)}'][df_join['partition'] == 'test'].to_csv(f'cd_hit_test_{str(i)}.csv'  , index=False)\n",
      "/tmp/ipykernel_4133101/1316938113.py:4: UserWarning: Boolean Series key will be reindexed to match DataFrame index.\n",
      "  dfs[f'{str(i)}'][df_join['partition'] == 'train'].to_csv(f'cd_hit_train_{str(i)}.csv', index=False)\n",
      "/tmp/ipykernel_4133101/1316938113.py:5: UserWarning: Boolean Series key will be reindexed to match DataFrame index.\n",
      "  dfs[f'{str(i)}'][df_join['partition'] == 'valid'].to_csv(f'cd_hit_valid_{str(i)}.csv', index=False)\n",
      "/tmp/ipykernel_4133101/1316938113.py:6: UserWarning: Boolean Series key will be reindexed to match DataFrame index.\n",
      "  dfs[f'{str(i)}'][df_join['partition'] == 'test'].to_csv(f'cd_hit_test_{str(i)}.csv'  , index=False)\n",
      "/tmp/ipykernel_4133101/1316938113.py:4: UserWarning: Boolean Series key will be reindexed to match DataFrame index.\n",
      "  dfs[f'{str(i)}'][df_join['partition'] == 'train'].to_csv(f'cd_hit_train_{str(i)}.csv', index=False)\n",
      "/tmp/ipykernel_4133101/1316938113.py:5: UserWarning: Boolean Series key will be reindexed to match DataFrame index.\n",
      "  dfs[f'{str(i)}'][df_join['partition'] == 'valid'].to_csv(f'cd_hit_valid_{str(i)}.csv', index=False)\n",
      "/tmp/ipykernel_4133101/1316938113.py:6: UserWarning: Boolean Series key will be reindexed to match DataFrame index.\n",
      "  dfs[f'{str(i)}'][df_join['partition'] == 'test'].to_csv(f'cd_hit_test_{str(i)}.csv'  , index=False)\n"
     ]
    }
   ],
   "source": [
    "dfs = {}\n",
    "for i in range(5):\n",
    "    dfs[f'{str(i)}'] = df_join[df_join['fold'] == i]\n",
    "    dfs[f'{str(i)}'][df_join['partition'] == 'train'].to_csv(f'cd_hit_train_{str(i)}.csv', index=False)\n",
    "    dfs[f'{str(i)}'][df_join['partition'] == 'valid'].to_csv(f'cd_hit_valid_{str(i)}.csv', index=False)\n",
    "    dfs[f'{str(i)}'][df_join['partition'] == 'test'].to_csv(f'cd_hit_test_{str(i)}.csv'  , index=False)"
   ]
  }
 ],
 "metadata": {
  "kernelspec": {
   "display_name": "Experiments",
   "language": "python",
   "name": "python3"
  },
  "language_info": {
   "codemirror_mode": {
    "name": "ipython",
    "version": 3
   },
   "file_extension": ".py",
   "mimetype": "text/x-python",
   "name": "python",
   "nbconvert_exporter": "python",
   "pygments_lexer": "ipython3",
   "version": "3.10.16"
  }
 },
 "nbformat": 4,
 "nbformat_minor": 5
}
