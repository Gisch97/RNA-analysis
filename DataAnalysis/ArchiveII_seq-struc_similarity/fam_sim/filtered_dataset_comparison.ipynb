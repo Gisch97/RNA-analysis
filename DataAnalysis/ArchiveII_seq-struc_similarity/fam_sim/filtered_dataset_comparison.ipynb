{
 "cells": [
  {
   "cell_type": "code",
   "execution_count": 1,
   "id": "b7679a6c",
   "metadata": {},
   "outputs": [],
   "source": [
    "import pandas as pd"
   ]
  },
  {
   "cell_type": "code",
   "execution_count": 2,
   "id": "64fb19fa",
   "metadata": {},
   "outputs": [],
   "source": [
    "DATA_PATH = (\n",
    "    \"/home/gkulemeyer/Documents/Repos/RNA-analysis/DataAnalysis/data/filtered_dataset/\"\n",
    ")"
   ]
  },
  {
   "cell_type": "code",
   "execution_count": 3,
   "id": "2ed54f30",
   "metadata": {},
   "outputs": [
    {
     "name": "stdout",
     "output_type": "stream",
     "text": [
      "ff:  2323  vistas:  0.9\n",
      "hc:  100 472  vistas:  4.2\n",
      "rdist:  100 472  vistas:  4.2\n",
      "samples:  100 472  vistas:  4.2\n",
      "hc:  200 792  vistas:  2.5\n",
      "rdist:  200 792  vistas:  2.5\n",
      "samples:  200 792  vistas:  2.5\n",
      "hc:  400 1432  vistas:  1.4\n",
      "rdist:  400 1432  vistas:  1.4\n",
      "samples:  400 1432  vistas:  1.4\n"
     ]
    }
   ],
   "source": [
    "ff = f\"fam-fold/\"\n",
    "df = pd.read_csv(DATA_PATH + ff + \"train_5s.csv\")\n",
    "print(\"ff: \", df.shape[0], \" vistas: \", round(2000 / df.shape[0], 1))\n",
    "for shape in [100, 200, 400]:\n",
    "    hc = f\"herarchical_cluster/dist_{shape}/\"\n",
    "    df = pd.read_csv(DATA_PATH + hc + \"train_5s.csv\")\n",
    "    print(\"hc: \", shape, df.shape[0], \" vistas: \", round(2000 / df.shape[0], 1))\n",
    "    rdist = f\"rnadist/dist_{shape}/\"\n",
    "    df = pd.read_csv(DATA_PATH + rdist + \"train_5s.csv\")\n",
    "    print(\"rdist: \", shape, df.shape[0], \" vistas: \", round(2000 / df.shape[0], 1))\n",
    "    samples = f\"rnadist/dist_{shape}/\"\n",
    "    df = pd.read_csv(DATA_PATH + samples + \"train_5s.csv\")\n",
    "    print(\"samples: \", shape, df.shape[0], \" vistas: \", round(2000 / df.shape[0], 1))"
   ]
  },
  {
   "cell_type": "code",
   "execution_count": 4,
   "id": "3729ca3f",
   "metadata": {},
   "outputs": [],
   "source": [
    "df = pd.read_csv(\n",
    "    \"/home/gkulemeyer/Documents/Repos/RNA-analysis/DataAnalysis/data/sources/ArchiveII_with_prob_and_motiv.csv\"\n",
    ")\n",
    "fams = df.fam.unique()"
   ]
  },
  {
   "cell_type": "code",
   "execution_count": 5,
   "id": "117a1c88",
   "metadata": {},
   "outputs": [
    {
     "name": "stdout",
     "output_type": "stream",
     "text": [
      "##########\n",
      "###5s###\n",
      "##########\n",
      "ff | shape:  2323 | vistas:  3.4\n",
      "samples  100 | shape:  472 | vistas:  16.9\n",
      "samples  200 | shape:  792 | vistas:  10.1\n",
      "samples  400 | shape:  1432 | vistas:  5.6\n",
      "##########\n",
      "###tmRNA###\n",
      "##########\n",
      "ff | shape:  3062 | vistas:  2.6\n",
      "samples  100 | shape:  472 | vistas:  16.9\n",
      "samples  200 | shape:  792 | vistas:  10.1\n",
      "samples  400 | shape:  1432 | vistas:  5.6\n",
      "##########\n",
      "###tRNA###\n",
      "##########\n",
      "ff | shape:  2977 | vistas:  2.7\n",
      "samples  100 | shape:  472 | vistas:  16.9\n",
      "samples  200 | shape:  792 | vistas:  10.1\n",
      "samples  400 | shape:  1432 | vistas:  5.6\n",
      "##########\n",
      "###srp###\n",
      "##########\n",
      "ff | shape:  2653 | vistas:  3.0\n",
      "samples  100 | shape:  472 | vistas:  16.9\n",
      "samples  200 | shape:  792 | vistas:  10.1\n",
      "samples  400 | shape:  1432 | vistas:  5.6\n",
      "##########\n",
      "###grp1###\n",
      "##########\n",
      "ff | shape:  3411 | vistas:  2.3\n",
      "samples  100 | shape:  492 | vistas:  16.3\n",
      "samples  200 | shape:  892 | vistas:  9.0\n",
      "samples  400 | shape:  1692 | vistas:  4.7\n",
      "##########\n",
      "###RNaseP###\n",
      "##########\n",
      "ff | shape:  3069 | vistas:  2.6\n",
      "samples  100 | shape:  472 | vistas:  16.9\n",
      "samples  200 | shape:  792 | vistas:  10.1\n",
      "samples  400 | shape:  1432 | vistas:  5.6\n",
      "##########\n",
      "###23s###\n",
      "##########\n",
      "ff | shape:  3464 | vistas:  2.3\n",
      "samples  100 | shape:  540 | vistas:  14.8\n",
      "samples  200 | shape:  940 | vistas:  8.5\n",
      "samples  400 | shape:  1740 | vistas:  4.6\n",
      "##########\n",
      "###telomerase###\n",
      "##########\n",
      "ff | shape:  3446 | vistas:  2.3\n",
      "samples  100 | shape:  524 | vistas:  15.3\n",
      "samples  200 | shape:  924 | vistas:  8.7\n",
      "samples  400 | shape:  1724 | vistas:  4.6\n",
      "##########\n",
      "###16s###\n",
      "##########\n",
      "ff | shape:  3419 | vistas:  2.3\n",
      "samples  100 | shape:  499 | vistas:  16.0\n",
      "samples  200 | shape:  899 | vistas:  8.9\n",
      "samples  400 | shape:  1699 | vistas:  4.7\n"
     ]
    }
   ],
   "source": [
    "for fam in fams:\n",
    "    print(10 * \"#\")\n",
    "    print(3 * \"#\" + fam + 3 * \"#\")\n",
    "    print(10 * \"#\")\n",
    "    ff = f\"fam-fold/\"\n",
    "    df = pd.read_csv(DATA_PATH + ff + f\"train_{fam}.csv\")\n",
    "    print(\"ff | shape: \", df.shape[0], \"| vistas: \", round(4 * 2000 / df.shape[0], 1))\n",
    "    for shape in [100, 200, 400]:\n",
    "        samples = f\"rnadist/dist_{shape}/\"\n",
    "        df = pd.read_csv(DATA_PATH + samples + f\"train_{fam}.csv\")\n",
    "        print(\n",
    "            \"samples \",\n",
    "            shape,\n",
    "            \"| shape: \",\n",
    "            df.shape[0],\n",
    "            \"| vistas: \",\n",
    "            round(4 * 2000 / df.shape[0], 1),\n",
    "        )"
   ]
  }
 ],
 "metadata": {
  "kernelspec": {
   "display_name": "Experiments",
   "language": "python",
   "name": "python3"
  },
  "language_info": {
   "codemirror_mode": {
    "name": "ipython",
    "version": 3
   },
   "file_extension": ".py",
   "mimetype": "text/x-python",
   "name": "python",
   "nbconvert_exporter": "python",
   "pygments_lexer": "ipython3",
   "version": "3.10.16"
  }
 },
 "nbformat": 4,
 "nbformat_minor": 5
}
