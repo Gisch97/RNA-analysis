{
 "cells": [
  {
   "cell_type": "code",
   "execution_count": 1,
   "metadata": {
    "colab": {
     "base_uri": "https://localhost:8080/"
    },
    "execution": {
     "iopub.execute_input": "2022-09-18T16:44:20.608704Z",
     "iopub.status.busy": "2022-09-18T16:44:20.608525Z",
     "iopub.status.idle": "2022-09-18T16:44:20.717435Z",
     "shell.execute_reply": "2022-09-18T16:44:20.716833Z",
     "shell.execute_reply.started": "2022-09-18T16:44:20.608675Z"
    },
    "id": "uD6m8d8WOMOl",
    "outputId": "e37a7cc3-0c4c-4c40-bc52-7c277ac0b585",
    "tags": []
   },
   "outputs": [
    {
     "name": "stdout",
     "output_type": "stream",
     "text": [
      "RNAdistance 2.3.0cuda\n"
     ]
    }
   ],
   "source": [
    "!RNAdistance --version\n",
    "#RNAdistance 2.3.0cuda"
   ]
  },
  {
   "cell_type": "code",
   "execution_count": 2,
   "metadata": {
    "execution": {
     "iopub.execute_input": "2022-09-18T16:44:20.718667Z",
     "iopub.status.busy": "2022-09-18T16:44:20.718480Z",
     "iopub.status.idle": "2022-09-18T16:44:20.962700Z",
     "shell.execute_reply": "2022-09-18T16:44:20.962287Z",
     "shell.execute_reply.started": "2022-09-18T16:44:20.718643Z"
    },
    "id": "yWhxkHDVOAmh",
    "tags": []
   },
   "outputs": [],
   "source": [
    "import os\n",
    "import subprocess\n",
    "import numpy as np\n",
    "import pandas as pd\n",
    "from tqdm import tqdm"
   ]
  },
  {
   "cell_type": "code",
   "execution_count": 3,
   "metadata": {
    "execution": {
     "iopub.execute_input": "2022-09-18T16:44:20.963538Z",
     "iopub.status.busy": "2022-09-18T16:44:20.963421Z",
     "iopub.status.idle": "2022-09-18T16:44:20.965772Z",
     "shell.execute_reply": "2022-09-18T16:44:20.965311Z",
     "shell.execute_reply.started": "2022-09-18T16:44:20.963525Z"
    },
    "id": "IDNO931sOUYt",
    "tags": []
   },
   "outputs": [],
   "source": [
    "DATA_PATH = \"./data/\""
   ]
  },
  {
   "cell_type": "code",
   "execution_count": 4,
   "metadata": {
    "colab": {
     "base_uri": "https://localhost:8080/",
     "height": 326
    },
    "execution": {
     "iopub.execute_input": "2022-09-18T16:44:20.966515Z",
     "iopub.status.busy": "2022-09-18T16:44:20.966399Z",
     "iopub.status.idle": "2022-09-18T16:44:21.006923Z",
     "shell.execute_reply": "2022-09-18T16:44:21.006556Z",
     "shell.execute_reply.started": "2022-09-18T16:44:20.966501Z"
    },
    "id": "yPwRRDGnOr-E",
    "outputId": "661d7c61-6b55-43e4-ecf6-f74d790c8d3a",
    "tags": []
   },
   "outputs": [
    {
     "data": {
      "text/html": [
       "<div>\n",
       "<style scoped>\n",
       "    .dataframe tbody tr th:only-of-type {\n",
       "        vertical-align: middle;\n",
       "    }\n",
       "\n",
       "    .dataframe tbody tr th {\n",
       "        vertical-align: top;\n",
       "    }\n",
       "\n",
       "    .dataframe thead th {\n",
       "        text-align: right;\n",
       "    }\n",
       "</style>\n",
       "<table border=\"1\" class=\"dataframe\">\n",
       "  <thead>\n",
       "    <tr style=\"text-align: right;\">\n",
       "      <th></th>\n",
       "      <th>Unnamed: 0</th>\n",
       "      <th>method</th>\n",
       "      <th>sequence</th>\n",
       "      <th>structure</th>\n",
       "      <th>motif</th>\n",
       "      <th>base_pairs</th>\n",
       "      <th>header</th>\n",
       "      <th>date</th>\n",
       "      <th>resolution</th>\n",
       "      <th>len</th>\n",
       "    </tr>\n",
       "    <tr>\n",
       "      <th>id</th>\n",
       "      <th></th>\n",
       "      <th></th>\n",
       "      <th></th>\n",
       "      <th></th>\n",
       "      <th></th>\n",
       "      <th></th>\n",
       "      <th></th>\n",
       "      <th></th>\n",
       "      <th></th>\n",
       "      <th></th>\n",
       "    </tr>\n",
       "  </thead>\n",
       "  <tbody>\n",
       "    <tr>\n",
       "      <th>5s_Acholeplasma-laidlawii-1</th>\n",
       "      <td>0</td>\n",
       "      <td>NaN</td>\n",
       "      <td>UCUGGUGACGAUAGGUAAGAUGGUUCACCUGUUCCCAUCCCGAACA...</td>\n",
       "      <td>((((((((......((((((((....((((((.............)...</td>\n",
       "      <td>NaN</td>\n",
       "      <td>[[1, 111], [2, 110], [3, 109], [4, 108], [5, 1...</td>\n",
       "      <td>NaN</td>\n",
       "      <td>NaN</td>\n",
       "      <td>NaN</td>\n",
       "      <td>112</td>\n",
       "    </tr>\n",
       "    <tr>\n",
       "      <th>5s_Acidovorax-temperans-1</th>\n",
       "      <td>1</td>\n",
       "      <td>NaN</td>\n",
       "      <td>UGCCUGAUGACCAUAGCAAGUUGGUACCACUCCUUCCCAUCCCGAA...</td>\n",
       "      <td>.(((((((((.....((((((((.....((((((...............</td>\n",
       "      <td>NaN</td>\n",
       "      <td>[[2, 115], [3, 114], [4, 113], [5, 112], [6, 1...</td>\n",
       "      <td>NaN</td>\n",
       "      <td>NaN</td>\n",
       "      <td>NaN</td>\n",
       "      <td>115</td>\n",
       "    </tr>\n",
       "    <tr>\n",
       "      <th>tmRNA_Stre.gord._TRW-29390_1-349</th>\n",
       "      <td>2</td>\n",
       "      <td>NaN</td>\n",
       "      <td>GGGGUCGUUACGGAUUCGACAGGCAUUAUGAGGCAUAUUUUGCGAC...</td>\n",
       "      <td>(((((((............((((((((....(((((((((..((((...</td>\n",
       "      <td>NaN</td>\n",
       "      <td>[[1, 345], [2, 344], [3, 343], [4, 342], [5, 3...</td>\n",
       "      <td>NaN</td>\n",
       "      <td>NaN</td>\n",
       "      <td>NaN</td>\n",
       "      <td>349</td>\n",
       "    </tr>\n",
       "  </tbody>\n",
       "</table>\n",
       "</div>"
      ],
      "text/plain": [
       "                                  Unnamed: 0  method  \\\n",
       "id                                                     \n",
       "5s_Acholeplasma-laidlawii-1                0     NaN   \n",
       "5s_Acidovorax-temperans-1                  1     NaN   \n",
       "tmRNA_Stre.gord._TRW-29390_1-349           2     NaN   \n",
       "\n",
       "                                                                           sequence  \\\n",
       "id                                                                                    \n",
       "5s_Acholeplasma-laidlawii-1       UCUGGUGACGAUAGGUAAGAUGGUUCACCUGUUCCCAUCCCGAACA...   \n",
       "5s_Acidovorax-temperans-1         UGCCUGAUGACCAUAGCAAGUUGGUACCACUCCUUCCCAUCCCGAA...   \n",
       "tmRNA_Stre.gord._TRW-29390_1-349  GGGGUCGUUACGGAUUCGACAGGCAUUAUGAGGCAUAUUUUGCGAC...   \n",
       "\n",
       "                                                                          structure  \\\n",
       "id                                                                                    \n",
       "5s_Acholeplasma-laidlawii-1       ((((((((......((((((((....((((((.............)...   \n",
       "5s_Acidovorax-temperans-1         .(((((((((.....((((((((.....((((((...............   \n",
       "tmRNA_Stre.gord._TRW-29390_1-349  (((((((............((((((((....(((((((((..((((...   \n",
       "\n",
       "                                  motif  \\\n",
       "id                                        \n",
       "5s_Acholeplasma-laidlawii-1         NaN   \n",
       "5s_Acidovorax-temperans-1           NaN   \n",
       "tmRNA_Stre.gord._TRW-29390_1-349    NaN   \n",
       "\n",
       "                                                                         base_pairs  \\\n",
       "id                                                                                    \n",
       "5s_Acholeplasma-laidlawii-1       [[1, 111], [2, 110], [3, 109], [4, 108], [5, 1...   \n",
       "5s_Acidovorax-temperans-1         [[2, 115], [3, 114], [4, 113], [5, 112], [6, 1...   \n",
       "tmRNA_Stre.gord._TRW-29390_1-349  [[1, 345], [2, 344], [3, 343], [4, 342], [5, 3...   \n",
       "\n",
       "                                  header  date  resolution  len  \n",
       "id                                                               \n",
       "5s_Acholeplasma-laidlawii-1          NaN   NaN         NaN  112  \n",
       "5s_Acidovorax-temperans-1            NaN   NaN         NaN  115  \n",
       "tmRNA_Stre.gord._TRW-29390_1-349     NaN   NaN         NaN  349  "
      ]
     },
     "metadata": {},
     "output_type": "display_data"
    },
    {
     "data": {
      "text/plain": [
       "(3975, 10)"
      ]
     },
     "metadata": {},
     "output_type": "display_data"
    }
   ],
   "source": [
    "raw_fn = \"archiveII_220808\"\n",
    "dref_all = pd.read_csv(DATA_PATH + raw_fn + \".csv\", index_col = 1)\n",
    "display(dref_all.head(3))\n",
    "display(dref_all.shape)"
   ]
  },
  {
   "cell_type": "code",
   "execution_count": 5,
   "metadata": {
    "execution": {
     "iopub.execute_input": "2022-09-18T16:44:21.007443Z",
     "iopub.status.busy": "2022-09-18T16:44:21.007337Z",
     "iopub.status.idle": "2022-09-19T10:52:49.557131Z",
     "shell.execute_reply": "2022-09-19T10:52:49.556746Z",
     "shell.execute_reply.started": "2022-09-18T16:44:21.007429Z"
    },
    "id": "YM1qkGJfBm5l",
    "tags": []
   },
   "outputs": [
    {
     "name": "stderr",
     "output_type": "stream",
     "text": [
      "100%|██████████| 3975/3975 [18:08:28<00:00, 16.43s/it]   \n"
     ]
    }
   ],
   "source": [
    "#dref = dref_all.head(10) # testing\n",
    "dref = dref_all\n",
    "\n",
    "Results = pd.DataFrame(np.zeros((len(dref.index),len(dref.index))))-1\n",
    "Results.index = dref.index\n",
    "Results.columns = dref.index\n",
    "for i,rowi in tqdm(dref.iterrows(),total=len(dref)):\n",
    "    for j,rowj in dref.iterrows():\n",
    "        if Results.loc[j,i] < 0:\n",
    "            echo_line = rowi.structure + \"\\n\" + rowj.structure\n",
    "            # RNAdistance cannot handle pseudoknots (treated as unpaired) https://pubmed.ncbi.nlm.nih.gov/36077037/\n",
    "            echo_line = echo_line.replace('<','.').replace('>','.').replace('{','.').replace('}','.')\n",
    "            oo = subprocess.check_output([\"RNAdistance\"], input=echo_line.encode('utf-8'))\n",
    "\n",
    "            if oo != b\"\":\n",
    "                max_len = len(rowi.structure) if len(rowi.structure)>len(rowj.structure) else len(rowj.structure) \n",
    "                Results.loc[i,j] = float(oo[2:])/max_len\n",
    "            else:\n",
    "                Results.loc[i,j] = np.nan\n",
    "                print(\"Warning: RNAdistance error with {} and {}\".format(i, j))\n",
    "        else:\n",
    "            Results.loc[i,j] = Results.loc[j,i]"
   ]
  },
  {
   "cell_type": "code",
   "execution_count": 8,
   "metadata": {
    "execution": {
     "iopub.execute_input": "2022-09-19T12:06:03.657210Z",
     "iopub.status.busy": "2022-09-19T12:06:03.657055Z",
     "iopub.status.idle": "2022-09-19T12:06:16.139120Z",
     "shell.execute_reply": "2022-09-19T12:06:16.138762Z",
     "shell.execute_reply.started": "2022-09-19T12:06:03.657194Z"
    },
    "tags": []
   },
   "outputs": [],
   "source": [
    "Results.to_csv(\"data/rnadist_f_all.csv\")"
   ]
  },
  {
   "cell_type": "code",
   "execution_count": 7,
   "metadata": {
    "execution": {
     "iopub.execute_input": "2022-09-19T12:05:31.808034Z",
     "iopub.status.busy": "2022-09-19T12:05:31.807895Z",
     "iopub.status.idle": "2022-09-19T12:05:32.084405Z",
     "shell.execute_reply": "2022-09-19T12:05:32.083992Z",
     "shell.execute_reply.started": "2022-09-19T12:05:31.808019Z"
    },
    "tags": []
   },
   "outputs": [],
   "source": [
    "Results.to_hdf(\"data/rnadist_f_all.h5\", key='rnadist', mode='w')"
   ]
  }
 ],
 "metadata": {
  "colab": {
   "collapsed_sections": [
    "6U0b9zfkdLQ1",
    "nfdY5m8HgSCb"
   ],
   "provenance": []
  },
  "kernelspec": {
   "display_name": "Python 3",
   "language": "python",
   "name": "python3"
  },
  "language_info": {
   "codemirror_mode": {
    "name": "ipython",
    "version": 3
   },
   "file_extension": ".py",
   "mimetype": "text/x-python",
   "name": "python",
   "nbconvert_exporter": "python",
   "pygments_lexer": "ipython3",
   "version": "3.7.3"
  }
 },
 "nbformat": 4,
 "nbformat_minor": 4
}
