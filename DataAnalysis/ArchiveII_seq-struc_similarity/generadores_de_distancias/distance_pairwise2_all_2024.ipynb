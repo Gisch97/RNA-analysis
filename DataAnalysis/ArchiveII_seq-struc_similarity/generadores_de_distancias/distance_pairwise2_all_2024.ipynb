{
 "cells": [
  {
   "cell_type": "code",
   "execution_count": null,
   "metadata": {
    "execution": {
     "iopub.execute_input": "2022-09-17T20:06:56.969328Z",
     "iopub.status.busy": "2022-09-17T20:06:56.968703Z",
     "iopub.status.idle": "2022-09-17T20:06:57.483146Z",
     "shell.execute_reply": "2022-09-17T20:06:57.482684Z",
     "shell.execute_reply.started": "2022-09-17T20:06:56.969253Z"
    },
    "id": "yWhxkHDVOAmh",
    "outputId": "8cc62071-1b23-4435-f245-41585a9682c0",
    "tags": []
   },
   "outputs": [
    {
     "name": "stderr",
     "output_type": "stream",
     "text": [
      "/home/dmilone/anaconda3/lib/python3.7/site-packages/Bio/pairwise2.py:283: BiopythonDeprecationWarning: Bio.pairwise2 has been deprecated, and we intend to remove it in a future release of Biopython. As an alternative, please consider using Bio.Align.PairwiseAligner as a replacement, and contact the Biopython developers if you still need the Bio.pairwise2 module.\n",
      "  BiopythonDeprecationWarning,\n",
      "/home/dmilone/anaconda3/lib/python3.7/site-packages/statsmodels/tools/_testing.py:19: FutureWarning: pandas.util.testing is deprecated. Use the functions in the public API at pandas.testing instead.\n",
      "  import pandas.util.testing as tm\n"
     ]
    }
   ],
   "source": [
    "import numpy as np\n",
    "import pandas as pd\n",
    "from tqdm import tqdm\n",
    "from Bio import pairwise2"
   ]
  },
  {
   "cell_type": "markdown",
   "metadata": {
    "id": "877kyNKYcbQe"
   },
   "source": [
    "# Data"
   ]
  },
  {
   "cell_type": "code",
   "execution_count": null,
   "metadata": {
    "execution": {
     "iopub.execute_input": "2022-09-17T20:06:58.045156Z",
     "iopub.status.busy": "2022-09-17T20:06:58.044811Z",
     "iopub.status.idle": "2022-09-17T20:06:58.237196Z",
     "shell.execute_reply": "2022-09-17T20:06:58.235957Z",
     "shell.execute_reply.started": "2022-09-17T20:06:58.045116Z"
    },
    "id": "IDNO931sOUYt",
    "tags": []
   },
   "outputs": [],
   "source": [
    "DATA_PATH = \"/DATA/lncRNA/data/\""
   ]
  },
  {
   "cell_type": "code",
   "execution_count": null,
   "metadata": {
    "colab": {
     "base_uri": "https://localhost:8080/",
     "height": 274
    },
    "execution": {
     "iopub.execute_input": "2022-09-17T20:06:58.946864Z",
     "iopub.status.busy": "2022-09-17T20:06:58.946498Z",
     "iopub.status.idle": "2022-09-17T20:06:59.539790Z",
     "shell.execute_reply": "2022-09-17T20:06:59.539410Z",
     "shell.execute_reply.started": "2022-09-17T20:06:58.946821Z"
    },
    "id": "yPwRRDGnOr-E",
    "outputId": "d79a1c22-e83c-41df-cdfc-ba6f420e2681",
    "tags": []
   },
   "outputs": [
    {
     "data": {
      "text/plain": [
       "(3975, 10)"
      ]
     },
     "metadata": {},
     "output_type": "display_data"
    }
   ],
   "source": [
    "raw_fn = \"archiveII_220808\"\n",
    "dref_all = pd.read_csv(DATA_PATH + raw_fn + \".csv\", index_col = \"id\")\n",
    "#display(dref_all.head(3))\n",
    "display(dref_all.shape)\n",
    "\n",
    "#todo sort by length <<\n",
    "#todo split in slices to run in serveral CPUs"
   ]
  },
  {
   "cell_type": "markdown",
   "metadata": {
    "id": "AlJMa9pmcnDZ"
   },
   "source": [
    "# Diccionario con sustituciones"
   ]
  },
  {
   "cell_type": "markdown",
   "metadata": {
    "id": "JMFyD0L3c1dh"
   },
   "source": [
    "Valores por default de BLAST (Emilio):\n",
    "\n",
    "- Match = 1\n",
    "- Mismatch = -2\n",
    "- GapOpen = -5\n",
    "- GapExtend = -2"
   ]
  },
  {
   "cell_type": "code",
   "execution_count": null,
   "metadata": {
    "execution": {
     "iopub.execute_input": "2022-09-17T20:07:03.930152Z",
     "iopub.status.busy": "2022-09-17T20:07:03.929477Z",
     "iopub.status.idle": "2022-09-17T20:07:03.943396Z",
     "shell.execute_reply": "2022-09-17T20:07:03.941986Z",
     "shell.execute_reply.started": "2022-09-17T20:07:03.930078Z"
    },
    "id": "lf-jBvY1Vm5d",
    "tags": []
   },
   "outputs": [],
   "source": [
    "Match = 1\n",
    "Mismatch = -2\n",
    "GapOpen=-5\n",
    "GapExtend=-2\n",
    "\n",
    "simbolos=[\"A\",\"C\",\"G\",\"U\"]\n",
    "\n",
    "match_dic = {}\n",
    "for simbolA in simbolos:\n",
    "    for simbolB in simbolos:\n",
    "        if simbolA==simbolB:\n",
    "            match_dic[(simbolA, simbolB)] = Match\n",
    "        else:\n",
    "            match_dic[(simbolA, simbolB)] = Mismatch"
   ]
  },
  {
   "cell_type": "markdown",
   "metadata": {
    "id": "6U0b9zfkdLQ1"
   },
   "source": [
    "# Bucles de comparacion\n",
    "Todos contra todos\n"
   ]
  },
  {
   "cell_type": "code",
   "execution_count": null,
   "metadata": {
    "id": "1Igr6GilpmDL",
    "outputId": "8d468e42-3418-4c84-b9e3-78526dc38a7e"
   },
   "outputs": [
    {
     "name": "stderr",
     "output_type": "stream",
     "text": [
      "100%|██████████| 3975/3975 [54:31:24<00:00, 49.38s/it]     \n"
     ]
    }
   ],
   "source": [
    "#dref = dref_all.head(10) # testing\n",
    "dref = dref_all\n",
    "\n",
    "sims = pd.DataFrame(np.zeros((len(dref.index),len(dref.index))))\n",
    "sims.index = dref.index\n",
    "sims.columns = dref.index\n",
    "for i, row in enumerate(tqdm(dref.index)):\n",
    "    row_seq = dref.loc[row].sequence\n",
    "    for j, col in enumerate(dref.index):\n",
    "        if i<j:\n",
    "            col_seq = dref.loc[col].sequence\n",
    "            alignm = pairwise2.align.localds(col_seq, row_seq, match_dic, GapOpen, GapExtend, one_alignment_only=True)[0]\n",
    "            max_len = max(len(alignm.seqB),len(alignm.seqA))\n",
    "            IDscore = sum(a==b for a,b in zip(alignm.seqA, alignm.seqB)) / max_len\n",
    "            sims.loc[row,col] = IDscore\n",
    "        elif i>j:\n",
    "            sims.loc[row,col] = sims.loc[col,row]\n",
    "        else:\n",
    "            sims.loc[row,col] = 1.0"
   ]
  },
  {
   "cell_type": "code",
   "execution_count": null,
   "metadata": {
    "id": "IFQEitc0pmDM"
   },
   "outputs": [],
   "source": [
    "#sims.to_csv(DATA_PATH + \"seqsim_f_all.csv\")\n",
    "sims.to_hdf(DATA_PATH + \"seqsim_f_all.h5\", key='rnadist', mode='w')"
   ]
  }
 ],
 "metadata": {
  "colab": {
   "provenance": []
  },
  "kernelspec": {
   "display_name": "base",
   "language": "python",
   "name": "base"
  },
  "language_info": {
   "codemirror_mode": {
    "name": "ipython",
    "version": 3
   },
   "file_extension": ".py",
   "mimetype": "text/x-python",
   "name": "python",
   "nbconvert_exporter": "python",
   "pygments_lexer": "ipython3",
   "version": "3.7.3"
  }
 },
 "nbformat": 4,
 "nbformat_minor": 0
}
